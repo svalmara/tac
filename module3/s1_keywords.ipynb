{
 "cells": [
  {
   "cell_type": "markdown",
   "metadata": {},
   "source": [
    "# Extraction de Keywords"
   ]
  },
  {
   "cell_type": "markdown",
   "metadata": {},
   "source": [
    "## Imports"
   ]
  },
  {
   "cell_type": "code",
   "execution_count": 1,
   "metadata": {},
   "outputs": [],
   "source": [
    "import os\n",
    "import yake"
   ]
  },
  {
   "cell_type": "markdown",
   "metadata": {},
   "source": [
    "## Extraire les mots clés d'un document avec Yake"
   ]
  },
  {
   "cell_type": "markdown",
   "metadata": {},
   "source": [
    "https://github.com/LIAAD/yake"
   ]
  },
  {
   "cell_type": "code",
   "execution_count": 2,
   "metadata": {
    "tags": []
   },
   "outputs": [
    {
     "data": {
      "text/plain": [
       "{'conseil communal', 'conseil général'}"
      ]
     },
     "execution_count": 2,
     "metadata": {},
     "output_type": "execute_result"
    }
   ],
   "source": [
    "# Création d'une liste de mots à ignorer\n",
    "ignored = set([\"conseil communal\", \"conseil général\"])\n",
    "ignored"
   ]
  },
  {
   "cell_type": "code",
   "execution_count": 3,
   "metadata": {},
   "outputs": [
    {
     "data": {
      "text/plain": [
       "<yake.yake.KeywordExtractor at 0x7f3a68708a00>"
      ]
     },
     "execution_count": 3,
     "metadata": {},
     "output_type": "execute_result"
    }
   ],
   "source": [
    "# Instantier l'extracteur de mots clés\n",
    "kw_extractor = yake.KeywordExtractor(lan=\"fr\", top=50)\n",
    "kw_extractor"
   ]
  },
  {
   "cell_type": "code",
   "execution_count": 4,
   "metadata": {},
   "outputs": [],
   "source": [
    "# Lister les Fichiers\n",
    "data_path = \"../data/txt/\"\n",
    "files = os.listdir(data_path)"
   ]
  },
  {
   "cell_type": "code",
   "execution_count": 5,
   "metadata": {},
   "outputs": [
    {
     "data": {
      "text/plain": [
       "2829"
      ]
     },
     "execution_count": 5,
     "metadata": {},
     "output_type": "execute_result"
    }
   ],
   "source": [
    "# Imprimer le nombre de fichiers identifiés\n",
    "len(files)"
   ]
  },
  {
   "cell_type": "code",
   "execution_count": 6,
   "metadata": {},
   "outputs": [
    {
     "data": {
      "text/plain": [
       "['Bxl_1882_Tome_I2_Part_12.txt',\n",
       " 'Bxl_1871_Tome_I1_Part_3.txt',\n",
       " 'Lkn_1891_Tome_I_Part_5.txt',\n",
       " 'Bxl_1854_Tome_I1_Part_1.txt',\n",
       " 'Bxl_1891_Tome_I1_Part_1.txt',\n",
       " 'Bxl_1972_Tome_I2_Part_7.txt',\n",
       " 'Bxl_1961_Tome_RptAn_Part_4.txt',\n",
       " 'Bxl_1935_Tome_II_Part_6.txt',\n",
       " 'Bxl_1889_Tome_I2_Part_3.txt',\n",
       " 'Bxl_1930_Tome_II2_Part_4.txt',\n",
       " 'Bxl_1861_Tome_II1_Part_5.txt',\n",
       " 'Bxl_1975_Tome_II2_Part_3.txt',\n",
       " 'Bxl_1976_Tome_RptAn_Part_3.txt',\n",
       " 'Bxl_1896_Tome_I2_1_Part_1.txt',\n",
       " 'Bxl_1963_Tome_RptAn_Part_5.txt',\n",
       " 'Bxl_1910_Tome_I1_Part_2.txt',\n",
       " 'Bxl_1856_Tome_II1_Part_3.txt',\n",
       " 'Bxl_1966_Tome_I2_Part_5.txt',\n",
       " 'Bxl_1869_Tome_II1_Part_2.txt',\n",
       " 'Bxl_1967_Tome_II2_Part_10.txt']"
      ]
     },
     "execution_count": 6,
     "metadata": {},
     "output_type": "execute_result"
    }
   ],
   "source": [
    "# Les dix premiers fichiers\n",
    "files[:20]"
   ]
  },
  {
   "cell_type": "code",
   "execution_count": 7,
   "metadata": {},
   "outputs": [
    {
     "data": {
      "text/plain": [
       "2677"
      ]
     },
     "execution_count": 7,
     "metadata": {},
     "output_type": "execute_result"
    }
   ],
   "source": [
    "# Enlever les fichiers qui ne commencent pas par Bxl_\n",
    "bxl_files = [f for f in files if f.startswith('Bxl_')]\n",
    "len(bxl_files)"
   ]
  },
  {
   "cell_type": "code",
   "execution_count": 8,
   "metadata": {},
   "outputs": [
    {
     "data": {
      "text/plain": [
       "'Bxl_1882_Tome_I2_Part_12.txt'"
      ]
     },
     "execution_count": 8,
     "metadata": {},
     "output_type": "execute_result"
    }
   ],
   "source": [
    "# Choisir un fichier\n",
    "this_file = bxl_files[0]\n",
    "this_file"
   ]
  },
  {
   "cell_type": "code",
   "execution_count": 9,
   "metadata": {},
   "outputs": [
    {
     "data": {
      "text/plain": [
       "\"Art. 74. — Subside à VAthénée royal : 82,000 francs.\\nCette somme représente la part incombant à ia Ville dans\\nle traitement des professeurs, ainsi que le montant des\\nmenues dépenses.\\nLe budget présenté par la Commission administrative\\nainsi que le compte justifiant l'emploi de ces fonds, sont\\nannuellement soumis à l'approbation du Conseil communal.\\nArt. 75. — loyer de locaux, entretien, contributions et assurance :\\n29,750 francs.\\nLoyer des locaux de la section professionnelle de 1 Athénée, rue d\""
      ]
     },
     "execution_count": 9,
     "metadata": {},
     "output_type": "execute_result"
    }
   ],
   "source": [
    "# Récupérer le texte du fichier\n",
    "text = open(os.path.join(data_path, this_file), 'r').read()\n",
    "text[:500]"
   ]
  },
  {
   "cell_type": "code",
   "execution_count": 10,
   "metadata": {},
   "outputs": [],
   "source": [
    "# Extraire les mots clés de ce texte\n",
    "keywords = kw_extractor.extract_keywords(text)"
   ]
  },
  {
   "cell_type": "code",
   "execution_count": 11,
   "metadata": {},
   "outputs": [
    {
     "data": {
      "text/plain": [
       "[('francs', 0.00027625653101697497),\n",
       " ('Art', 0.0003815335051750673),\n",
       " ('Ville', 0.0005295704763731488),\n",
       " ('Conseil communal', 0.0009179845375043574),\n",
       " ('rue', 0.0011919462376177826),\n",
       " ('Conseil', 0.0014790144795515324),\n",
       " ('Total', 0.0018393346024267042),\n",
       " ('Travaux', 0.0019357326420686063),\n",
       " ('Sommes Nombre Sommes', 0.002997889231734249),\n",
       " ('Frais', 0.0036048018999207377),\n",
       " ('somme', 0.0036480115930911123),\n",
       " ('budget', 0.00407431935064164),\n",
       " ('dépenses', 0.004078960320752048),\n",
       " ('Voir art', 0.004351002203096285),\n",
       " ('terrains', 0.004370945610803716),\n",
       " ('maison rue', 0.0045364837802462235),\n",
       " ('crédit', 0.004616666880728282),\n",
       " ('Collège', 0.004638201981984191),\n",
       " ('Ville rue', 0.004730509824491224),\n",
       " ('communal', 0.00474499758370958),\n",
       " ('quartier Léopold', 0.005148614780811769),\n",
       " ('quartier', 0.005357312779155798),\n",
       " ('Bruxelles', 0.005376508963018857),\n",
       " ('Subside', 0.005409798708278341),\n",
       " ('Société', 0.005499291585664313),\n",
       " ('dépense', 0.005665222667711177),\n",
       " ('Bulletin communal', 0.005700895814651092),\n",
       " ('produit', 0.005814897686253069),\n",
       " ('Construction', 0.006116795722073136),\n",
       " ('Sommes', 0.00616388165729188),\n",
       " ('Travaux publics', 0.007193456119418049),\n",
       " (\"Ville s'est\", 0.007457915414974818),\n",
       " ('septembre', 0.007527948870458569),\n",
       " ('Recettes', 0.007843317688599001),\n",
       " ('maison', 0.007950015399354166),\n",
       " ('maisons', 0.008561555045458333),\n",
       " ('dépenses ordinaires', 0.009116161377960135),\n",
       " ('Conseil général', 0.00970288070567859),\n",
       " ('parla Ville rue', 0.009910950591360174),\n",
       " ('Terrain', 0.009933967297281172),\n",
       " ('recette', 0.010039446641406723),\n",
       " ('Intérêts', 0.010093648054466454),\n",
       " ('OBLIGATIONS', 0.010172406683934166),\n",
       " ('partie', 0.010234848094520575),\n",
       " ('Nombre Sommes', 0.010355011341940654),\n",
       " ('terrains rue', 0.01038638730533173),\n",
       " ('ville de Bruxelles', 0.01087676459209714),\n",
       " ('Nombre', 0.010908136934749488),\n",
       " (\"d'un\", 0.01094775403105423),\n",
       " (\"d'une\", 0.010979249894478398)]"
      ]
     },
     "execution_count": 11,
     "metadata": {},
     "output_type": "execute_result"
    }
   ],
   "source": [
    "keywords"
   ]
  },
  {
   "cell_type": "code",
   "execution_count": 12,
   "metadata": {},
   "outputs": [
    {
     "data": {
      "text/plain": [
       "['Voir art',\n",
       " 'maison rue',\n",
       " 'Ville rue',\n",
       " 'quartier Léopold',\n",
       " 'Bulletin communal',\n",
       " 'Travaux publics',\n",
       " \"Ville s'est\",\n",
       " 'dépenses ordinaires',\n",
       " 'Nombre Sommes',\n",
       " 'terrains rue']"
      ]
     },
     "execution_count": 12,
     "metadata": {},
     "output_type": "execute_result"
    }
   ],
   "source": [
    "# Ne garder que les bigrammes\n",
    "kept = []\n",
    "for kw, score in keywords:\n",
    "    words = kw.split()\n",
    "    if len(words) == 2 and kw.lower() not in ignored:\n",
    "        kept.append(kw)\n",
    "kept"
   ]
  },
  {
   "cell_type": "markdown",
   "metadata": {},
   "source": [
    "## Faire la même opération sur tous les documents"
   ]
  },
  {
   "cell_type": "code",
   "execution_count": 13,
   "metadata": {},
   "outputs": [
    {
     "name": "stdout",
     "output_type": "stream",
     "text": [
      "Bxl_1847_Tome_I1_Part_1.txt mentions these keywords: marchés couverts, d'un marché, marché couvert, nouveau marché, marché dans, marché Saint-Jean, marché projeté, Conseil central, rue Royale, Société Philanthropique...\n",
      "Bxl_1847_Tome_I1_Part_2.txt mentions these keywords: Belgique communale, l'administration communale, Conseils communaux...\n",
      "Bxl_1847_Tome_I1_Part_3.txt mentions these keywords: rue Royale, bons communaux, d'un marché...\n",
      "Bxl_1847_Tome_I1_Part_4.txt mentions these keywords: rue Royale, Conseil provincial, rue Duquesnoy, quartier Léopold, l'instruction primaire, loi communale, qu'il faut...\n",
      "Bxl_1847_Tome_I1_Part_5.txt mentions these keywords: parce qu'il, qu'il faut, Bruxelles n'est...\n",
      "Bxl_1848_Tome_I1_Part_1.txt mentions these keywords: d'un conseil, ouvriers patentés, Conseil serait...\n",
      "Bxl_1848_Tome_I1_Part_2.txt mentions these keywords: Société civile, qu'il serait, travaux publics, hectolitres d'eau, mètre cube, basse ville...\n",
      "Bxl_1848_Tome_I1_Part_3.txt mentions these keywords: distribution d'eau, qu'il serait, l'échevin Fontainas, travaux publics, Conseil adopte, rue Royale...\n",
      "Bxl_1849_Tome_I1_Part_1.txt mentions these keywords: règlement organique, règlement général, grandes caves...\n",
      "Bxl_1849_Tome_I1_Part_2.txt mentions these keywords: voie publique, travaux publics, présent règlement, rue Royale, conseil central...\n"
     ]
    }
   ],
   "source": [
    "for f in sorted(bxl_files)[:10]:\n",
    "    text = open(os.path.join(data_path, f), 'r').read()\n",
    "    keywords = kw_extractor.extract_keywords(text)\n",
    "    kept = []\n",
    "    for kw, score in keywords:\n",
    "        words = kw.split()\n",
    "        if len(words) == 2 and kw.lower() not in ignored:\n",
    "            kept.append(kw)\n",
    "    print(f\"{f} mentions these keywords: {', '.join(kept)}...\")"
   ]
  },
  {
   "cell_type": "code",
   "execution_count": null,
   "metadata": {},
   "outputs": [],
   "source": []
  }
 ],
 "metadata": {
  "kernelspec": {
   "display_name": "Python 3 (ipykernel)",
   "language": "python",
   "name": "python3"
  },
  "language_info": {
   "codemirror_mode": {
    "name": "ipython",
    "version": 3
   },
   "file_extension": ".py",
   "mimetype": "text/x-python",
   "name": "python",
   "nbconvert_exporter": "python",
   "pygments_lexer": "ipython3",
   "version": "3.9.7"
  }
 },
 "nbformat": 4,
 "nbformat_minor": 4
}
