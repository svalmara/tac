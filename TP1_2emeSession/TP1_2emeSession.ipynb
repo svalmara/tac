{
 "cells": [
  {
   "cell_type": "markdown",
   "id": "f931c23f-3222-431a-ab2c-f7ce79265c2c",
   "metadata": {},
   "source": [
    "# TP1 : Web scraping et APIs"
   ]
  },
  {
   "cell_type": "markdown",
   "id": "e4d25dd3-d23f-4073-869d-51d842815fae",
   "metadata": {},
   "source": [
    "## Imports"
   ]
  },
  {
   "cell_type": "code",
   "execution_count": 2,
   "id": "0d502608-a08c-47ad-8239-88dac6d95be3",
   "metadata": {},
   "outputs": [],
   "source": [
    "from datetime import datetime as dt\n",
    "from SPARQLWrapper import SPARQLWrapper, JSON"
   ]
  },
  {
   "cell_type": "markdown",
   "id": "d08e4907-6446-4ce6-a3e8-c94538d8b25c",
   "metadata": {},
   "source": [
    "## Obtenir la liste des politiciens belges"
   ]
  },
  {
   "cell_type": "code",
   "execution_count": 3,
   "id": "b03e4761-174d-4287-b017-73ccff497835",
   "metadata": {},
   "outputs": [
    {
     "name": "stdout",
     "output_type": "stream",
     "text": [
      "\n",
      "27 Mayor of Brussels\n",
      "\n",
      "{'head': {'vars': ['person', 'personLabel', 'dateBirth', 'dateDeath']}, 'results': {'bindings': [{'person': {'type': 'uri', 'value': 'http://www.wikidata.org/entity/Q105605007'}, 'personLabel': {'xml:lang': 'en', 'type': 'literal', 'value': 'Henri Joseph Van Langhenhoven'}, 'dateBirth': {'datatype': 'http://www.w3.org/2001/XMLSchema#dateTime', 'type': 'literal', 'value': '1749-01-01T00:00:00Z'}}, {'person': {'type': 'uri', 'value': 'http://www.wikidata.org/entity/Q16661300'}, 'personLabel': {'xml:lang': 'en', 'type': 'literal', 'value': 'Louis Devos'}, 'dateBirth': {'datatype': 'http://www.w3.org/2001/XMLSchema#dateTime', 'type': 'literal', 'value': '1757-07-24T00:00:00Z'}, 'dateDeath': {'datatype': 'http://www.w3.org/2001/XMLSchema#dateTime', 'type': 'literal', 'value': '1830-12-30T00:00:00Z'}}, {'person': {'type': 'uri', 'value': 'http://www.wikidata.org/entity/Q2009106'}, 'personLabel': {'xml:lang': 'en', 'type': 'literal', 'value': 'Nicolas-Jean Rouppe'}, 'dateBirth': {'datatype': 'http://www.w3.org/2001/XMLSchema#dateTime', 'type': 'literal', 'value': '1768-04-17T00:00:00Z'}, 'dateDeath': {'datatype': 'http://www.w3.org/2001/XMLSchema#dateTime', 'type': 'literal', 'value': '1838-08-03T00:00:00Z'}}, {'person': {'type': 'uri', 'value': 'http://www.wikidata.org/entity/Q2619124'}, 'personLabel': {'xml:lang': 'en', 'type': 'literal', 'value': 'Louis de Wellens van ten Meulenberg'}, 'dateBirth': {'datatype': 'http://www.w3.org/2001/XMLSchema#dateTime', 'type': 'literal', 'value': '1772-08-06T00:00:00Z'}, 'dateDeath': {'datatype': 'http://www.w3.org/2001/XMLSchema#dateTime', 'type': 'literal', 'value': '1846-01-11T00:00:00Z'}}, {'person': {'type': 'uri', 'value': 'http://www.wikidata.org/entity/Q74747'}, 'personLabel': {'xml:lang': 'en', 'type': 'literal', 'value': \"Charles-Joseph, 4th Duke d'Ursel\"}, 'dateBirth': {'datatype': 'http://www.w3.org/2001/XMLSchema#dateTime', 'type': 'literal', 'value': '1777-08-09T00:00:00Z'}, 'dateDeath': {'datatype': 'http://www.w3.org/2001/XMLSchema#dateTime', 'type': 'literal', 'value': '1860-09-27T00:00:00Z'}}, {'person': {'type': 'uri', 'value': 'http://www.wikidata.org/entity/Q1032418'}, 'personLabel': {'xml:lang': 'en', 'type': 'literal', 'value': 'François-Jean Wyns de Raucourt'}, 'dateBirth': {'datatype': 'http://www.w3.org/2001/XMLSchema#dateTime', 'type': 'literal', 'value': '1779-11-06T00:00:00Z'}, 'dateDeath': {'datatype': 'http://www.w3.org/2001/XMLSchema#dateTime', 'type': 'literal', 'value': '1857-01-04T00:00:00Z'}}, {'person': {'type': 'uri', 'value': 'http://www.wikidata.org/entity/Q3185900'}, 'personLabel': {'xml:lang': 'en', 'type': 'literal', 'value': \"Joseph van der Linden d'Hooghvorst\"}, 'dateBirth': {'datatype': 'http://www.w3.org/2001/XMLSchema#dateTime', 'type': 'literal', 'value': '1782-06-24T00:00:00Z'}, 'dateDeath': {'datatype': 'http://www.w3.org/2001/XMLSchema#dateTime', 'type': 'literal', 'value': '1846-12-13T00:00:00Z'}}, {'person': {'type': 'uri', 'value': 'http://www.wikidata.org/entity/Q3120220'}, 'personLabel': {'xml:lang': 'en', 'type': 'literal', 'value': 'Guillaume Van Volxem'}, 'dateBirth': {'datatype': 'http://www.w3.org/2001/XMLSchema#dateTime', 'type': 'literal', 'value': '1791-02-13T00:00:00Z'}, 'dateDeath': {'datatype': 'http://www.w3.org/2001/XMLSchema#dateTime', 'type': 'literal', 'value': '1868-04-17T00:00:00Z'}}, {'person': {'type': 'uri', 'value': 'http://www.wikidata.org/entity/Q1066539'}, 'personLabel': {'xml:lang': 'en', 'type': 'literal', 'value': 'Charles de Brouckère'}, 'dateBirth': {'datatype': 'http://www.w3.org/2001/XMLSchema#dateTime', 'type': 'literal', 'value': '1796-01-18T00:00:00Z'}, 'dateDeath': {'datatype': 'http://www.w3.org/2001/XMLSchema#dateTime', 'type': 'literal', 'value': '1860-04-20T00:00:00Z'}}, {'person': {'type': 'uri', 'value': 'http://www.wikidata.org/entity/Q2744763'}, 'personLabel': {'xml:lang': 'en', 'type': 'literal', 'value': 'André-Napoléon Fontainas'}, 'dateBirth': {'datatype': 'http://www.w3.org/2001/XMLSchema#dateTime', 'type': 'literal', 'value': '1807-12-23T00:00:00Z'}, 'dateDeath': {'datatype': 'http://www.w3.org/2001/XMLSchema#dateTime', 'type': 'literal', 'value': '1863-07-19T00:00:00Z'}}, {'person': {'type': 'uri', 'value': 'http://www.wikidata.org/entity/Q3092630'}, 'personLabel': {'xml:lang': 'en', 'type': 'literal', 'value': 'Felix Vanderstraeten'}, 'dateBirth': {'datatype': 'http://www.w3.org/2001/XMLSchema#dateTime', 'type': 'literal', 'value': '1823-07-18T00:00:00Z'}, 'dateDeath': {'datatype': 'http://www.w3.org/2001/XMLSchema#dateTime', 'type': 'literal', 'value': '1884-06-29T00:00:00Z'}}, {'person': {'type': 'uri', 'value': 'http://www.wikidata.org/entity/Q462143'}, 'personLabel': {'xml:lang': 'en', 'type': 'literal', 'value': 'Jules Anspach'}, 'dateBirth': {'datatype': 'http://www.w3.org/2001/XMLSchema#dateTime', 'type': 'literal', 'value': '1829-07-20T00:00:00Z'}, 'dateDeath': {'datatype': 'http://www.w3.org/2001/XMLSchema#dateTime', 'type': 'literal', 'value': '1879-05-15T00:00:00Z'}}, {'person': {'type': 'uri', 'value': 'http://www.wikidata.org/entity/Q82897'}, 'personLabel': {'xml:lang': 'en', 'type': 'literal', 'value': 'Émile de Mot'}, 'dateBirth': {'datatype': 'http://www.w3.org/2001/XMLSchema#dateTime', 'type': 'literal', 'value': '1835-10-20T00:00:00Z'}, 'dateDeath': {'datatype': 'http://www.w3.org/2001/XMLSchema#dateTime', 'type': 'literal', 'value': '1909-11-23T00:00:00Z'}}, {'person': {'type': 'uri', 'value': 'http://www.wikidata.org/entity/Q716382'}, 'personLabel': {'xml:lang': 'en', 'type': 'literal', 'value': 'Charles Buls'}, 'dateBirth': {'datatype': 'http://www.w3.org/2001/XMLSchema#dateTime', 'type': 'literal', 'value': '1837-10-13T00:00:00Z'}, 'dateDeath': {'datatype': 'http://www.w3.org/2001/XMLSchema#dateTime', 'type': 'literal', 'value': '1914-07-13T00:00:00Z'}}, {'person': {'type': 'uri', 'value': 'http://www.wikidata.org/entity/Q2535128'}, 'personLabel': {'xml:lang': 'en', 'type': 'literal', 'value': 'Adolphe Max'}, 'dateBirth': {'datatype': 'http://www.w3.org/2001/XMLSchema#dateTime', 'type': 'literal', 'value': '1869-12-30T00:00:00Z'}, 'dateDeath': {'datatype': 'http://www.w3.org/2001/XMLSchema#dateTime', 'type': 'literal', 'value': '1939-11-06T00:00:00Z'}}, {'person': {'type': 'uri', 'value': 'http://www.wikidata.org/entity/Q14851983'}, 'personLabel': {'xml:lang': 'en', 'type': 'literal', 'value': 'Jules Coelst'}, 'dateBirth': {'datatype': 'http://www.w3.org/2001/XMLSchema#dateTime', 'type': 'literal', 'value': '1870-02-11T00:00:00Z'}, 'dateDeath': {'datatype': 'http://www.w3.org/2001/XMLSchema#dateTime', 'type': 'literal', 'value': '1946-05-27T00:00:00Z'}}, {'person': {'type': 'uri', 'value': 'http://www.wikidata.org/entity/Q2589184'}, 'personLabel': {'xml:lang': 'en', 'type': 'literal', 'value': 'Joseph Van De Meulebroeck'}, 'dateBirth': {'datatype': 'http://www.w3.org/2001/XMLSchema#dateTime', 'type': 'literal', 'value': '1876-11-17T00:00:00Z'}, 'dateDeath': {'datatype': 'http://www.w3.org/2001/XMLSchema#dateTime', 'type': 'literal', 'value': '1958-12-14T00:00:00Z'}}, {'person': {'type': 'uri', 'value': 'http://www.wikidata.org/entity/Q3172784'}, 'personLabel': {'xml:lang': 'en', 'type': 'literal', 'value': 'Jan Grauls'}, 'dateBirth': {'datatype': 'http://www.w3.org/2001/XMLSchema#dateTime', 'type': 'literal', 'value': '1887-04-19T00:00:00Z'}, 'dateDeath': {'datatype': 'http://www.w3.org/2001/XMLSchema#dateTime', 'type': 'literal', 'value': '1960-02-05T00:00:00Z'}}, {'person': {'type': 'uri', 'value': 'http://www.wikidata.org/entity/Q698180'}, 'personLabel': {'xml:lang': 'en', 'type': 'literal', 'value': 'Lucien Cooremans'}, 'dateBirth': {'datatype': 'http://www.w3.org/2001/XMLSchema#dateTime', 'type': 'literal', 'value': '1899-09-01T00:00:00Z'}, 'dateDeath': {'datatype': 'http://www.w3.org/2001/XMLSchema#dateTime', 'type': 'literal', 'value': '1985-02-22T00:00:00Z'}}, {'person': {'type': 'uri', 'value': 'http://www.wikidata.org/entity/Q2628250'}, 'personLabel': {'xml:lang': 'en', 'type': 'literal', 'value': 'Pierre Van Halteren'}, 'dateBirth': {'datatype': 'http://www.w3.org/2001/XMLSchema#dateTime', 'type': 'literal', 'value': '1911-02-24T00:00:00Z'}, 'dateDeath': {'datatype': 'http://www.w3.org/2001/XMLSchema#dateTime', 'type': 'literal', 'value': '2009-09-23T00:00:00Z'}}, {'person': {'type': 'uri', 'value': 'http://www.wikidata.org/entity/Q3134439'}, 'personLabel': {'xml:lang': 'en', 'type': 'literal', 'value': 'Hervé Brouhon'}, 'dateBirth': {'datatype': 'http://www.w3.org/2001/XMLSchema#dateTime', 'type': 'literal', 'value': '1924-06-18T00:00:00Z'}, 'dateDeath': {'datatype': 'http://www.w3.org/2001/XMLSchema#dateTime', 'type': 'literal', 'value': '1993-04-10T00:00:00Z'}}, {'person': {'type': 'uri', 'value': 'http://www.wikidata.org/entity/Q2507076'}, 'personLabel': {'xml:lang': 'en', 'type': 'literal', 'value': 'Michel Demaret'}, 'dateBirth': {'datatype': 'http://www.w3.org/2001/XMLSchema#dateTime', 'type': 'literal', 'value': '1940-01-18T00:00:00Z'}, 'dateDeath': {'datatype': 'http://www.w3.org/2001/XMLSchema#dateTime', 'type': 'literal', 'value': '2000-11-09T00:00:00Z'}}, {'person': {'type': 'uri', 'value': 'http://www.wikidata.org/entity/Q479383'}, 'personLabel': {'xml:lang': 'en', 'type': 'literal', 'value': 'François-Xavier de Donnea'}, 'dateBirth': {'datatype': 'http://www.w3.org/2001/XMLSchema#dateTime', 'type': 'literal', 'value': '1941-04-29T00:00:00Z'}}, {'person': {'type': 'uri', 'value': 'http://www.wikidata.org/entity/Q1309509'}, 'personLabel': {'xml:lang': 'en', 'type': 'literal', 'value': 'Freddy Thielemans'}, 'dateBirth': {'datatype': 'http://www.w3.org/2001/XMLSchema#dateTime', 'type': 'literal', 'value': '1944-09-11T00:00:00Z'}, 'dateDeath': {'datatype': 'http://www.w3.org/2001/XMLSchema#dateTime', 'type': 'literal', 'value': '2022-01-29T00:00:00Z'}}, {'person': {'type': 'uri', 'value': 'http://www.wikidata.org/entity/Q3293642'}, 'personLabel': {'xml:lang': 'en', 'type': 'literal', 'value': 'Marion Lemesre'}, 'dateBirth': {'datatype': 'http://www.w3.org/2001/XMLSchema#dateTime', 'type': 'literal', 'value': '1954-07-22T00:00:00Z'}}, {'person': {'type': 'uri', 'value': 'http://www.wikidata.org/entity/Q2118869'}, 'personLabel': {'xml:lang': 'en', 'type': 'literal', 'value': 'Yvan Mayeur'}, 'dateBirth': {'datatype': 'http://www.w3.org/2001/XMLSchema#dateTime', 'type': 'literal', 'value': '1960-01-24T00:00:00Z'}}, {'person': {'type': 'uri', 'value': 'http://www.wikidata.org/entity/Q3379592'}, 'personLabel': {'xml:lang': 'en', 'type': 'literal', 'value': 'Philippe Close'}, 'dateBirth': {'datatype': 'http://www.w3.org/2001/XMLSchema#dateTime', 'type': 'literal', 'value': '1971-03-18T00:00:00Z'}}]}}\n"
     ]
    }
   ],
   "source": [
    "endpoint = \"https://query.wikidata.org/bigdata/namespace/wdq/sparql\"\n",
    "sparql = SPARQLWrapper(endpoint)\n",
    "\n",
    "# P27 = Country of citizenship \n",
    "# Q31 = Belgium\n",
    "# P39 = Position held \n",
    "# Q33126365 = Mayor of Brussels\n",
    "# P569 = date of birth\n",
    "# P570 = date of death\n",
    "\n",
    "statement = \"\"\"\n",
    "SELECT DISTINCT ?person ?personLabel ?dateBirth ?dateDeath WHERE {\n",
    "    ?person wdt:P27 wd:Q31 .\n",
    "    ?person wdt:P39 wd:Q33126365 .\n",
    "    ?person wdt:P569 ?dateBirth .\n",
    "    OPTIONAL {?person wdt:P570 ?dateDeath .}\n",
    "    SERVICE wikibase:label { bd:serviceParam wikibase:language \"en\" . }\n",
    "}\n",
    "ORDER BY ?dateBirth\n",
    "\"\"\"\n",
    "\n",
    "sparql.setQuery(statement)\n",
    "sparql.setReturnFormat(JSON)\n",
    "results = sparql.query().convert()\n",
    "\n",
    "rows = results['results']['bindings']\n",
    "print(f\"\\n{len(rows)} Mayor of Brussels\\n\")\n",
    "print (results)"
   ]
  },
  {
   "cell_type": "markdown",
   "id": "76763856-8da9-41b2-9b2f-e1c21528761f",
   "metadata": {},
   "source": [
    "## Obtenir la liste des politiciens de la ville de Bruxelles avec leurs dates de naissances\n"
   ]
  },
  {
   "cell_type": "code",
   "execution_count": 6,
   "id": "7f6992d0-dfcd-4eef-85b8-ca0ddd63fc42",
   "metadata": {},
   "outputs": [
    {
     "name": "stdout",
     "output_type": "stream",
     "text": [
      "Henri Joseph Van Langhenhoven - 1749-01-01)\n",
      "Louis Devos - 1757-07-24)\n",
      "Nicolas-Jean Rouppe - 1768-04-17)\n",
      "Louis de Wellens van ten Meulenberg - 1772-08-06)\n",
      "Charles-Joseph, 4th Duke d'Ursel - 1777-08-09)\n",
      "François-Jean Wyns de Raucourt - 1779-11-06)\n",
      "Joseph van der Linden d'Hooghvorst - 1782-06-24)\n",
      "Guillaume Van Volxem - 1791-02-13)\n",
      "Charles de Brouckère - 1796-01-18)\n",
      "André-Napoléon Fontainas - 1807-12-23)\n",
      "Felix Vanderstraeten - 1823-07-18)\n",
      "Jules Anspach - 1829-07-20)\n",
      "Émile de Mot - 1835-10-20)\n",
      "Charles Buls - 1837-10-13)\n",
      "Adolphe Max - 1869-12-30)\n",
      "Jules Coelst - 1870-02-11)\n",
      "Joseph Van De Meulebroeck - 1876-11-17)\n",
      "Jan Grauls - 1887-04-19)\n",
      "Lucien Cooremans - 1899-09-01)\n",
      "Pierre Van Halteren - 1911-02-24)\n",
      "Hervé Brouhon - 1924-06-18)\n",
      "Michel Demaret - 1940-01-18)\n",
      "François-Xavier de Donnea - 1941-04-29)\n",
      "Freddy Thielemans - 1944-09-11)\n",
      "Marion Lemesre - 1954-07-22)\n",
      "Yvan Mayeur - 1960-01-24)\n",
      "Philippe Close - 1971-03-18)\n"
     ]
    }
   ],
   "source": [
    "statement = \"\"\"\n",
    "SELECT DISTINCT ?person ?personLabel ?dateBirth ?dateDeath WHERE {\n",
    "    ?person wdt:P27 wd:Q31 .\n",
    "    ?person wdt:P39 wd:Q33126365 .\n",
    "    ?person wdt:P569 ?dateBirth .\n",
    "    OPTIONAL {?person wdt:P570 ?dateDeath .}\n",
    "    SERVICE wikibase:label { bd:serviceParam wikibase:language \"en\" . }\n",
    "}\n",
    "ORDER BY ?dateBirth\n",
    "\"\"\"\n",
    "\n",
    "sparql.setQuery(statement)\n",
    "sparql.setReturnFormat(JSON)\n",
    "results = sparql.query().convert()\n",
    "\n",
    "date_format = \"%Y-%m-%dT%H:%M:%SZ\"\n",
    "\n",
    "for row in rows:\n",
    "    try:\n",
    "        dateBirth = dt.strptime(row['dateBirth']['value'], date_format)\n",
    "    except ValueError:\n",
    "        dateBirth = \"????\"\n",
    "    try:\n",
    "        personLabel = row['personLabel']['value']\n",
    "    except ValueError: # unknown\n",
    "        personLabel = \"????\"\n",
    "\n",
    "    print(f\"{row['personLabel']['value']} - {dateBirth.date()})\")"
   ]
  },
  {
   "cell_type": "markdown",
   "id": "7c8041c2-28e8-4fd9-a0b1-4fa750d4356f",
   "metadata": {},
   "source": [
    "## Interroger une API pour enrichir les données des bulletins communaux de la ville de Bruxelles"
   ]
  },
  {
   "cell_type": "markdown",
   "id": "23f557a5-ec86-4be1-a5da-c48e94ab280e",
   "metadata": {
    "tags": []
   },
   "source": [
    "# APIs: requêtes HTTP"
   ]
  },
  {
   "cell_type": "markdown",
   "id": "ffe3da04-9086-4409-8a4d-2248b0a12e21",
   "metadata": {},
   "source": [
    "## Imports"
   ]
  },
  {
   "cell_type": "code",
   "execution_count": 2,
   "id": "c6fdf5e5-3928-483b-91da-ac0a9de0fd06",
   "metadata": {},
   "outputs": [],
   "source": [
    "import json\n",
    "import requests"
   ]
  },
  {
   "cell_type": "markdown",
   "id": "0e25ca0a-ea07-4a8c-af56-34dac868661f",
   "metadata": {},
   "source": [
    "## Utiliser GeoDB Cities pour obtenir des détails de Bruxelles, y compris ces coordonnées, sa population et son altitude au-dessus du niveau de la mer (si disponible)."
   ]
  },
  {
   "cell_type": "markdown",
   "id": "8f582b29-82ea-4c5a-a630-7c0d65f75704",
   "metadata": {},
   "source": [
    "http://geodb-cities-api.wirefreethought.com"
   ]
  },
  {
   "cell_type": "code",
   "execution_count": 6,
   "id": "cfb2dfc4-be53-4ebc-9641-803c0e4d181d",
   "metadata": {},
   "outputs": [
    {
     "name": "stdout",
     "output_type": "stream",
     "text": [
      "{\"data\":{\"id\":7918,\"wikiDataId\":\"Q239\",\"type\":\"CITY\",\"city\":\"City of Brussels\",\"name\":\"City of Brussels\",\"country\":\"Belgium\",\"countryCode\":\"BE\",\"region\":\"Brussels-Capital Region\",\"regionCode\":\"BRU\",\"elevationMeters\":null,\"latitude\":50.85045,\"longitude\":4.34878,\"population\":185103,\"timezone\":\"Europe__Brussels\",\"distance\":null,\"deleted\":false,\"placeType\":\"CITY\"}}\n"
     ]
    }
   ],
   "source": [
    "# GeoDB Cities ne demande pas de paeiment et une tentative de cet API est offert\n",
    "\n",
    "url = \"https://wft-geo-db.p.rapidapi.com/v1/geo/cities/Q239\"\n",
    "\n",
    "#Code de Bruxelles se trouve sur https://www.wikidata.org/wiki/Q239\n",
    "\n",
    "headers = {\n",
    "\t\"X-RapidAPI-Key\": \"e91070c489msh147a45d61225d88p13437ejsn463e22266745\",\n",
    "\t\"X-RapidAPI-Host\": \"wft-geo-db.p.rapidapi.com\"\n",
    "}\n",
    "\n",
    "response = requests.request(\"GET\", url, headers=headers)\n",
    "\n",
    "print(response.text)"
   ]
  },
  {
   "cell_type": "code",
   "execution_count": null,
   "id": "b58d57b1-b6c0-466d-afca-90e07dd0c535",
   "metadata": {},
   "outputs": [],
   "source": []
  }
 ],
 "metadata": {
  "kernelspec": {
   "display_name": "Python 3 (ipykernel)",
   "language": "python",
   "name": "python3"
  },
  "language_info": {
   "codemirror_mode": {
    "name": "ipython",
    "version": 3
   },
   "file_extension": ".py",
   "mimetype": "text/x-python",
   "name": "python",
   "nbconvert_exporter": "python",
   "pygments_lexer": "ipython3",
   "version": "3.9.7"
  }
 },
 "nbformat": 4,
 "nbformat_minor": 5
}
