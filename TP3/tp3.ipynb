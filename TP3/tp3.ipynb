{
 "cells": [
  {
   "cell_type": "markdown",
   "metadata": {},
   "source": [
    "# TP3 : Clustering et word2vec - Sofia Valma-Rantisits"
   ]
  },
  {
   "cell_type": "markdown",
   "metadata": {},
   "source": [
    "## Imports"
   ]
  },
  {
   "cell_type": "code",
   "execution_count": 1,
   "metadata": {},
   "outputs": [],
   "source": [
    "import collections\n",
    "import os\n",
    "import string\n",
    "import sys\n",
    "\n",
    "import pandas as pd\n",
    "from nltk import word_tokenize\n",
    "from nltk.corpus import stopwords\n",
    "from pprint import pprint\n",
    "from sklearn.cluster import KMeans\n",
    "from sklearn.feature_extraction.text import TfidfVectorizer\n",
    "from sklearn.decomposition import PCA\n",
    "import numpy as np\n",
    "import matplotlib.pyplot as plt\n",
    "from scipy.spatial.distance import cosine"
   ]
  },
  {
   "cell_type": "code",
   "execution_count": 2,
   "metadata": {},
   "outputs": [
    {
     "name": "stderr",
     "output_type": "stream",
     "text": [
      "[nltk_data] Downloading package punkt to /root/nltk_data...\n",
      "[nltk_data]   Package punkt is already up-to-date!\n"
     ]
    },
    {
     "data": {
      "text/plain": [
       "True"
      ]
     },
     "execution_count": 2,
     "metadata": {},
     "output_type": "execute_result"
    }
   ],
   "source": [
    "import nltk\n",
    "\n",
    "nltk.download('punkt')"
   ]
  },
  {
   "cell_type": "code",
   "execution_count": 3,
   "metadata": {},
   "outputs": [],
   "source": [
    "data_path = \"../data/txt/\""
   ]
  },
  {
   "cell_type": "markdown",
   "metadata": {},
   "source": [
    "## Effectuer un clustering des bulletins de la décennie 1960 et adaptation du nombre de clusters désirés"
   ]
  },
  {
   "cell_type": "code",
   "execution_count": 36,
   "metadata": {},
   "outputs": [],
   "source": [
    "# Choisir la décennie 1960 et nombre de clusters\n",
    "DECADE = '1960'\n",
    "N_CLUSTERS = 3"
   ]
  },
  {
   "cell_type": "markdown",
   "metadata": {
    "tags": []
   },
   "source": [
    "## Charger tous les  fichiers de la décennie et en créer une liste de textes"
   ]
  },
  {
   "cell_type": "code",
   "execution_count": 5,
   "metadata": {},
   "outputs": [],
   "source": [
    "files = [f for f in sorted(os.listdir(data_path)) if f\"_{DECADE[:-1]}\" in f]"
   ]
  },
  {
   "cell_type": "code",
   "execution_count": 6,
   "metadata": {},
   "outputs": [
    {
     "data": {
      "text/plain": [
       "['Bxl_1960_Tome_II1_Part_1.txt',\n",
       " 'Bxl_1960_Tome_II1_Part_2.txt',\n",
       " 'Bxl_1960_Tome_II1_Part_3.txt',\n",
       " 'Bxl_1960_Tome_II1_Part_4.txt',\n",
       " 'Bxl_1960_Tome_II1_Part_5.txt',\n",
       " 'Bxl_1960_Tome_II1_Part_6.txt',\n",
       " 'Bxl_1960_Tome_II1_Part_7.txt',\n",
       " 'Bxl_1960_Tome_II1_Part_8.txt',\n",
       " 'Bxl_1960_Tome_II2_Part_1.txt',\n",
       " 'Bxl_1960_Tome_II2_Part_2.txt']"
      ]
     },
     "execution_count": 6,
     "metadata": {},
     "output_type": "execute_result"
    }
   ],
   "source": [
    "# Exemple de fichiers\n",
    "files[:10]"
   ]
  },
  {
   "cell_type": "code",
   "execution_count": 7,
   "metadata": {},
   "outputs": [],
   "source": [
    "texts = [open(data_path + f).read() for f in files]"
   ]
  },
  {
   "cell_type": "code",
   "execution_count": 8,
   "metadata": {},
   "outputs": [
    {
     "data": {
      "text/plain": [
       "'PUBLICATION\\n\\nPERIODIQUE\\n\\nVILLE DE BRUXELLES\\n\\nAnnée 1960\\n\\nBULLETIN\\nCOMMUNAL\\nTOME II \"\\n_u\\n\\nImpr. H . 6 M . S C H A U M A N S\\nSociété\\n\\nAnonyme\\n\\nParvis Saint-Gilles, 41\\nBruxelles\\n1960\\n\\n\\x0c\\x0cN\" 14\\n\\nCOMPTE\\n\\nR E N D U D E L A S E A N C E D U 1\"\\' A O U T\\n\\nVILLE\\n\\nDE\\n\\n1960\\n\\nBRUXELLES\\n\\nBULLETIN\\n\\nCOMMUNAL\\n\\n(Publication\\n\\npériodique)\\n\\nA n n é e 1960\\n\\nCONSEIL\\n\\nS é a n c e du\\n\\nPRESIDENCE\\n\\nCOMMUNAL\\n\\n1\\n\\ner\\n\\naoût\\n\\nDE M'"
      ]
     },
     "execution_count": 8,
     "metadata": {},
     "output_type": "execute_result"
    }
   ],
   "source": [
    "# Exemple de textes\n",
    "texts[0][:400]"
   ]
  },
  {
   "cell_type": "markdown",
   "metadata": {},
   "source": [
    "## Vectoriser les documents à l'aide de TF-IDF"
   ]
  },
  {
   "cell_type": "code",
   "execution_count": 13,
   "metadata": {},
   "outputs": [],
   "source": [
    "def process_text(text, stem=True):\n",
    "    \"\"\" Tokenize text and remove punctuation \"\"\"\n",
    "    text = text.translate(string.punctuation)\n",
    "    tokens = word_tokenize(text)\n",
    "    return tokens"
   ]
  },
  {
   "cell_type": "code",
   "execution_count": 14,
   "metadata": {},
   "outputs": [],
   "source": [
    "vectorizer = TfidfVectorizer(tokenizer=process_text,\n",
    "                                stop_words=stopwords.words('french'),\n",
    "                                max_df=0.5,\n",
    "                                min_df=0.1,\n",
    "                                lowercase=True)"
   ]
  },
  {
   "cell_type": "code",
   "execution_count": 15,
   "metadata": {},
   "outputs": [
    {
     "name": "stdout",
     "output_type": "stream",
     "text": [
      "CPU times: user 4min 55s, sys: 498 ms, total: 4min 55s\n",
      "Wall time: 4min 56s\n"
     ]
    }
   ],
   "source": [
    "%time tfidf_vectors = vectorizer.fit_transform(texts)"
   ]
  },
  {
   "cell_type": "code",
   "execution_count": 16,
   "metadata": {},
   "outputs": [
    {
     "data": {
      "text/plain": [
       "<420x6466 sparse matrix of type '<class 'numpy.float64'>'\n",
       "\twith 574279 stored elements in Compressed Sparse Row format>"
      ]
     },
     "execution_count": 16,
     "metadata": {},
     "output_type": "execute_result"
    }
   ],
   "source": [
    "tfidf_vectors"
   ]
  },
  {
   "cell_type": "code",
   "execution_count": 10,
   "metadata": {},
   "outputs": [],
   "source": [
    "locavectorizer = TfidfVectorizer(\n",
    "    tokenizer=preprocessing,\n",
    "    stop_words=stopwords.words('french'),\n",
    "    max_df=0.5,\n",
    "    min_df=0.1,\n",
    "    lowercase=True)"
   ]
  },
  {
   "cell_type": "markdown",
   "metadata": {},
   "source": [
    "### Imprimer le vecteur tf-IDF du premier document"
   ]
  },
  {
   "cell_type": "code",
   "execution_count": 17,
   "metadata": {},
   "outputs": [
    {
     "data": {
      "text/plain": [
       "+considérant    0.300647\n",
       "fer             0.228639\n",
       "curage          0.207466\n",
       "dma             0.153796\n",
       "art             0.147675\n",
       "                  ...   \n",
       "engagé          0.000000\n",
       "engager         0.000000\n",
       "engagements     0.000000\n",
       "engage          0.000000\n",
       "™               0.000000\n",
       "Length: 6466, dtype: float64"
      ]
     },
     "execution_count": 17,
     "metadata": {},
     "output_type": "execute_result"
    }
   ],
   "source": [
    "pd.Series(\n",
    "    tfidf_vectors[0].toarray()[0],\n",
    "    index=vectorizer.get_feature_names_out()\n",
    "    ).sort_values(ascending=False)"
   ]
  },
  {
   "cell_type": "markdown",
   "metadata": {},
   "source": [
    "## Comprendre les vecteurs et leurs \"distances\""
   ]
  },
  {
   "cell_type": "code",
   "execution_count": 18,
   "metadata": {},
   "outputs": [
    {
     "data": {
      "text/plain": [
       "0"
      ]
     },
     "execution_count": 18,
     "metadata": {},
     "output_type": "execute_result"
    }
   ],
   "source": [
    "cosine([1, 2, 3], [1, 2, 3])"
   ]
  },
  {
   "cell_type": "code",
   "execution_count": 19,
   "metadata": {},
   "outputs": [
    {
     "data": {
      "text/plain": [
       "0.02004211298777725"
      ]
     },
     "execution_count": 19,
     "metadata": {},
     "output_type": "execute_result"
    }
   ],
   "source": [
    "cosine([1, 2, 3], [1, 2, 2])"
   ]
  },
  {
   "cell_type": "code",
   "execution_count": 20,
   "metadata": {},
   "outputs": [
    {
     "data": {
      "text/plain": [
       "0.07417990022744858"
      ]
     },
     "execution_count": 20,
     "metadata": {},
     "output_type": "execute_result"
    }
   ],
   "source": [
    "cosine([1, 2, 3], [2, 2, 2])"
   ]
  },
  {
   "cell_type": "markdown",
   "metadata": {},
   "source": [
    "### Tests sur nos documents"
   ]
  },
  {
   "cell_type": "code",
   "execution_count": 21,
   "metadata": {},
   "outputs": [],
   "source": [
    "tfidf_array = tfidf_vectors.toarray()"
   ]
  },
  {
   "cell_type": "code",
   "execution_count": 22,
   "metadata": {},
   "outputs": [
    {
     "data": {
      "text/plain": [
       "array([0.        , 0.        , 0.02359086, ..., 0.01398357, 0.00888238,\n",
       "       0.        ])"
      ]
     },
     "execution_count": 22,
     "metadata": {},
     "output_type": "execute_result"
    }
   ],
   "source": [
    "# Vecteur du document 0\n",
    "tfidf_array[0]"
   ]
  },
  {
   "cell_type": "code",
   "execution_count": 23,
   "metadata": {},
   "outputs": [
    {
     "data": {
      "text/plain": [
       "array([0.        , 0.        , 0.00633553, ..., 0.01408279, 0.        ,\n",
       "       0.        ])"
      ]
     },
     "execution_count": 23,
     "metadata": {},
     "output_type": "execute_result"
    }
   ],
   "source": [
    "# Vecteur du document 1\n",
    "tfidf_array[1]"
   ]
  },
  {
   "cell_type": "code",
   "execution_count": 24,
   "metadata": {},
   "outputs": [
    {
     "data": {
      "text/plain": [
       "0.45731736240865606"
      ]
     },
     "execution_count": 24,
     "metadata": {},
     "output_type": "execute_result"
    }
   ],
   "source": [
    "cosine(tfidf_array[0], tfidf_array[1])"
   ]
  },
  {
   "cell_type": "markdown",
   "metadata": {},
   "source": [
    "## Appliquer un algorithme de clustering sur les vecteurs TF-IDF des documents"
   ]
  },
  {
   "cell_type": "markdown",
   "metadata": {},
   "source": [
    "Pour en savoir plus sur le KMeans clustering :\n",
    "- https://medium.com/dataseries/k-means-clustering-explained-visually-in-5-minutes-b900cc69d175"
   ]
  },
  {
   "cell_type": "code",
   "execution_count": 37,
   "metadata": {},
   "outputs": [],
   "source": [
    "N_CLUSTERS = 3"
   ]
  },
  {
   "cell_type": "code",
   "execution_count": 38,
   "metadata": {},
   "outputs": [],
   "source": [
    "km_model = KMeans(n_clusters=N_CLUSTERS)"
   ]
  },
  {
   "cell_type": "markdown",
   "metadata": {},
   "source": [
    "### Appliquer le clustering à l'aide de la fonction `fit_predict`"
   ]
  },
  {
   "cell_type": "code",
   "execution_count": 39,
   "metadata": {},
   "outputs": [],
   "source": [
    "clusters = km_model.fit_predict(tfidf_vectors)"
   ]
  },
  {
   "cell_type": "code",
   "execution_count": 40,
   "metadata": {},
   "outputs": [],
   "source": [
    "clustering = collections.defaultdict(list)\n",
    "\n",
    "for idx, label in enumerate(clusters):\n",
    "    clustering[label].append(files[idx])"
   ]
  },
  {
   "cell_type": "code",
   "execution_count": 41,
   "metadata": {},
   "outputs": [
    {
     "name": "stdout",
     "output_type": "stream",
     "text": [
      "{0: ['Bxl_1960_Tome_II2_Part_7.txt',\n",
      "     'Bxl_1960_Tome_II2_Part_8.txt',\n",
      "     'Bxl_1960_Tome_II2_Part_9.txt',\n",
      "     'Bxl_1960_Tome_I_Part_12.txt',\n",
      "     'Bxl_1960_Tome_I_Part_13.txt',\n",
      "     'Bxl_1961_Tome_II2_Part_7.txt',\n",
      "     'Bxl_1961_Tome_II2_Part_8.txt',\n",
      "     'Bxl_1961_Tome_I_Part_11.txt',\n",
      "     'Bxl_1961_Tome_I_Part_12.txt',\n",
      "     'Bxl_1962_Tome_II2_Part_8.txt',\n",
      "     'Bxl_1962_Tome_II2_Part_9.txt',\n",
      "     'Bxl_1962_Tome_I_Part_12.txt',\n",
      "     'Bxl_1962_Tome_I_Part_13.txt',\n",
      "     'Bxl_1963_Tome_II2_Part_11.txt',\n",
      "     'Bxl_1963_Tome_II2_Part_12.txt',\n",
      "     'Bxl_1963_Tome_I_Part_12.txt',\n",
      "     'Bxl_1963_Tome_I_Part_13.txt',\n",
      "     'Bxl_1964_Tome_II2_Part_10.txt',\n",
      "     'Bxl_1964_Tome_II2_Part_11.txt',\n",
      "     'Bxl_1964_Tome_I_Part_14.txt',\n",
      "     'Bxl_1965_Tome_II2_Part_13.txt',\n",
      "     'Bxl_1965_Tome_II2_Part_14.txt',\n",
      "     'Bxl_1965_Tome_I_Part_13.txt',\n",
      "     'Bxl_1965_Tome_I_Part_14.txt',\n",
      "     'Bxl_1966_Tome_I2_Part_10.txt',\n",
      "     'Bxl_1966_Tome_I2_Part_11.txt',\n",
      "     'Bxl_1966_Tome_II2_Part_13.txt',\n",
      "     'Bxl_1966_Tome_II2_Part_14.txt',\n",
      "     'Bxl_1967_Tome_I2_Part_10.txt',\n",
      "     'Bxl_1968_Tome_I2_Part_8.txt',\n",
      "     'Bxl_1968_Tome_I2_Part_9.txt',\n",
      "     'Bxl_1968_Tome_II1_Part_8.txt',\n",
      "     'Bxl_1968_Tome_II1_Part_9.txt',\n",
      "     'Bxl_1969_Tome_I2_Part_10.txt',\n",
      "     'Bxl_1969_Tome_I2_Part_9.txt',\n",
      "     'Bxl_1969_Tome_II2_Part_12.txt',\n",
      "     'Bxl_1969_Tome_II2_Part_13.txt'],\n",
      " 1: ['Bxl_1963_Tome_II1_Part_6.txt',\n",
      "     'Bxl_1963_Tome_II1_Part_8.txt',\n",
      "     'Bxl_1963_Tome_II1_Part_9.txt',\n",
      "     'Bxl_1963_Tome_II2_Part_10.txt',\n",
      "     'Bxl_1963_Tome_II2_Part_2.txt',\n",
      "     'Bxl_1963_Tome_II2_Part_3.txt',\n",
      "     'Bxl_1963_Tome_II2_Part_4.txt',\n",
      "     'Bxl_1963_Tome_II2_Part_5.txt',\n",
      "     'Bxl_1963_Tome_II2_Part_8.txt',\n",
      "     'Bxl_1964_Tome_II1_Part_4.txt',\n",
      "     'Bxl_1964_Tome_II1_Part_6.txt',\n",
      "     'Bxl_1964_Tome_II1_Part_8.txt',\n",
      "     'Bxl_1964_Tome_II1_Part_9.txt',\n",
      "     'Bxl_1964_Tome_II2_Part_1.txt',\n",
      "     'Bxl_1964_Tome_II2_Part_2.txt',\n",
      "     'Bxl_1964_Tome_II2_Part_3.txt',\n",
      "     'Bxl_1964_Tome_II2_Part_7.txt',\n",
      "     'Bxl_1964_Tome_II2_Part_9.txt',\n",
      "     'Bxl_1964_Tome_I_Part_11.txt',\n",
      "     'Bxl_1964_Tome_I_Part_12.txt',\n",
      "     'Bxl_1964_Tome_I_Part_9.txt',\n",
      "     'Bxl_1965_Tome_II1_Part_1.txt',\n",
      "     'Bxl_1965_Tome_II1_Part_2.txt',\n",
      "     'Bxl_1965_Tome_II1_Part_3.txt',\n",
      "     'Bxl_1965_Tome_II1_Part_5.txt',\n",
      "     'Bxl_1965_Tome_II1_Part_7.txt',\n",
      "     'Bxl_1965_Tome_II1_Part_9.txt',\n",
      "     'Bxl_1965_Tome_II2_Part_1.txt',\n",
      "     'Bxl_1965_Tome_II2_Part_10.txt',\n",
      "     'Bxl_1965_Tome_II2_Part_11.txt',\n",
      "     'Bxl_1965_Tome_II2_Part_12.txt',\n",
      "     'Bxl_1965_Tome_II2_Part_2.txt',\n",
      "     'Bxl_1965_Tome_II2_Part_3.txt',\n",
      "     'Bxl_1965_Tome_II2_Part_5.txt',\n",
      "     'Bxl_1965_Tome_II2_Part_6.txt',\n",
      "     'Bxl_1965_Tome_II2_Part_7.txt',\n",
      "     'Bxl_1965_Tome_II2_Part_8.txt',\n",
      "     'Bxl_1965_Tome_II2_Part_9.txt',\n",
      "     'Bxl_1965_Tome_I_Part_1.txt',\n",
      "     'Bxl_1965_Tome_I_Part_10.txt',\n",
      "     'Bxl_1965_Tome_I_Part_11.txt',\n",
      "     'Bxl_1965_Tome_I_Part_12.txt',\n",
      "     'Bxl_1965_Tome_I_Part_2.txt',\n",
      "     'Bxl_1965_Tome_I_Part_3.txt',\n",
      "     'Bxl_1965_Tome_I_Part_4.txt',\n",
      "     'Bxl_1965_Tome_I_Part_6.txt',\n",
      "     'Bxl_1965_Tome_I_Part_7.txt',\n",
      "     'Bxl_1965_Tome_I_Part_8.txt',\n",
      "     'Bxl_1965_Tome_I_Part_9.txt',\n",
      "     'Bxl_1965_Tome_RptAn_Part_4.txt',\n",
      "     'Bxl_1965_Tome_RptAn_Part_5.txt',\n",
      "     'Bxl_1965_Tome_RptAn_Part_6.txt',\n",
      "     'Bxl_1965_Tome_RptAn_Part_7.txt',\n",
      "     'Bxl_1966_Tome_I1_Part_1.txt',\n",
      "     'Bxl_1966_Tome_I1_Part_10.txt',\n",
      "     'Bxl_1966_Tome_I1_Part_2.txt',\n",
      "     'Bxl_1966_Tome_I1_Part_3.txt',\n",
      "     'Bxl_1966_Tome_I1_Part_4.txt',\n",
      "     'Bxl_1966_Tome_I1_Part_5.txt',\n",
      "     'Bxl_1966_Tome_I1_Part_6.txt',\n",
      "     'Bxl_1966_Tome_I1_Part_7.txt',\n",
      "     'Bxl_1966_Tome_I1_Part_8.txt',\n",
      "     'Bxl_1966_Tome_I1_Part_9.txt',\n",
      "     'Bxl_1966_Tome_I2_Part_1.txt',\n",
      "     'Bxl_1966_Tome_I2_Part_2.txt',\n",
      "     'Bxl_1966_Tome_I2_Part_3.txt',\n",
      "     'Bxl_1966_Tome_I2_Part_4.txt',\n",
      "     'Bxl_1966_Tome_I2_Part_5.txt',\n",
      "     'Bxl_1966_Tome_I2_Part_6.txt',\n",
      "     'Bxl_1966_Tome_I2_Part_7.txt',\n",
      "     'Bxl_1966_Tome_I2_Part_8.txt',\n",
      "     'Bxl_1966_Tome_I2_Part_9.txt',\n",
      "     'Bxl_1966_Tome_II1_Part_1.txt',\n",
      "     'Bxl_1966_Tome_II1_Part_10.txt',\n",
      "     'Bxl_1966_Tome_II1_Part_11.txt',\n",
      "     'Bxl_1966_Tome_II1_Part_2.txt',\n",
      "     'Bxl_1966_Tome_II1_Part_3.txt',\n",
      "     'Bxl_1966_Tome_II1_Part_4.txt',\n",
      "     'Bxl_1966_Tome_II1_Part_5.txt',\n",
      "     'Bxl_1966_Tome_II1_Part_6.txt',\n",
      "     'Bxl_1966_Tome_II1_Part_7.txt',\n",
      "     'Bxl_1966_Tome_II1_Part_8.txt',\n",
      "     'Bxl_1966_Tome_II1_Part_9.txt',\n",
      "     'Bxl_1966_Tome_II2_Part_1.txt',\n",
      "     'Bxl_1966_Tome_II2_Part_11.txt',\n",
      "     'Bxl_1966_Tome_II2_Part_12.txt',\n",
      "     'Bxl_1966_Tome_II2_Part_2.txt',\n",
      "     'Bxl_1966_Tome_II2_Part_3.txt',\n",
      "     'Bxl_1966_Tome_II2_Part_4.txt',\n",
      "     'Bxl_1966_Tome_II2_Part_5.txt',\n",
      "     'Bxl_1966_Tome_II2_Part_6.txt',\n",
      "     'Bxl_1966_Tome_II2_Part_7.txt',\n",
      "     'Bxl_1966_Tome_II2_Part_8.txt',\n",
      "     'Bxl_1966_Tome_II2_Part_9.txt',\n",
      "     'Bxl_1966_Tome_RptAn_Part_3.txt',\n",
      "     'Bxl_1966_Tome_RptAn_Part_4.txt',\n",
      "     'Bxl_1966_Tome_RptAn_Part_5.txt',\n",
      "     'Bxl_1966_Tome_RptAn_Part_6.txt',\n",
      "     'Bxl_1967_Tome_I1_Part_1.txt',\n",
      "     'Bxl_1967_Tome_I1_Part_10.txt',\n",
      "     'Bxl_1967_Tome_I1_Part_2.txt',\n",
      "     'Bxl_1967_Tome_I1_Part_3.txt',\n",
      "     'Bxl_1967_Tome_I1_Part_4.txt',\n",
      "     'Bxl_1967_Tome_I1_Part_5.txt',\n",
      "     'Bxl_1967_Tome_I1_Part_6.txt',\n",
      "     'Bxl_1967_Tome_I1_Part_7.txt',\n",
      "     'Bxl_1967_Tome_I1_Part_8.txt',\n",
      "     'Bxl_1967_Tome_I1_Part_9.txt',\n",
      "     'Bxl_1967_Tome_I2_Part_1.txt',\n",
      "     'Bxl_1967_Tome_I2_Part_2.txt',\n",
      "     'Bxl_1967_Tome_I2_Part_3.txt',\n",
      "     'Bxl_1967_Tome_I2_Part_4.txt',\n",
      "     'Bxl_1967_Tome_I2_Part_5.txt',\n",
      "     'Bxl_1967_Tome_I2_Part_6.txt',\n",
      "     'Bxl_1967_Tome_I2_Part_7.txt',\n",
      "     'Bxl_1967_Tome_I2_Part_8.txt',\n",
      "     'Bxl_1967_Tome_I2_Part_9.txt',\n",
      "     'Bxl_1967_Tome_II1_Part_1.txt',\n",
      "     'Bxl_1967_Tome_II1_Part_10.txt',\n",
      "     'Bxl_1967_Tome_II1_Part_2.txt',\n",
      "     'Bxl_1967_Tome_II1_Part_3.txt',\n",
      "     'Bxl_1967_Tome_II1_Part_5.txt',\n",
      "     'Bxl_1967_Tome_II1_Part_6.txt',\n",
      "     'Bxl_1967_Tome_II1_Part_7.txt',\n",
      "     'Bxl_1967_Tome_II1_Part_8.txt',\n",
      "     'Bxl_1967_Tome_II1_Part_9.txt',\n",
      "     'Bxl_1967_Tome_II2_Part_1.txt',\n",
      "     'Bxl_1967_Tome_II2_Part_10.txt',\n",
      "     'Bxl_1967_Tome_II2_Part_11.txt',\n",
      "     'Bxl_1967_Tome_II2_Part_2.txt',\n",
      "     'Bxl_1967_Tome_II2_Part_3.txt',\n",
      "     'Bxl_1967_Tome_II2_Part_4.txt',\n",
      "     'Bxl_1967_Tome_II2_Part_5.txt',\n",
      "     'Bxl_1967_Tome_II2_Part_6.txt',\n",
      "     'Bxl_1967_Tome_II2_Part_7.txt',\n",
      "     'Bxl_1967_Tome_II2_Part_8.txt',\n",
      "     'Bxl_1967_Tome_II2_Part_9.txt',\n",
      "     'Bxl_1968_Tome_I1_Part_1.txt',\n",
      "     'Bxl_1968_Tome_I1_Part_2.txt',\n",
      "     'Bxl_1968_Tome_I1_Part_3.txt',\n",
      "     'Bxl_1968_Tome_I1_Part_4.txt',\n",
      "     'Bxl_1968_Tome_I1_Part_5.txt',\n",
      "     'Bxl_1968_Tome_I1_Part_6.txt',\n",
      "     'Bxl_1968_Tome_I1_Part_7.txt',\n",
      "     'Bxl_1968_Tome_I1_Part_8.txt',\n",
      "     'Bxl_1968_Tome_I1_Part_9.txt',\n",
      "     'Bxl_1968_Tome_I2_Part_1.txt',\n",
      "     'Bxl_1968_Tome_I2_Part_2.txt',\n",
      "     'Bxl_1968_Tome_I2_Part_3.txt',\n",
      "     'Bxl_1968_Tome_I2_Part_4.txt',\n",
      "     'Bxl_1968_Tome_I2_Part_5.txt',\n",
      "     'Bxl_1968_Tome_I2_Part_6.txt',\n",
      "     'Bxl_1968_Tome_I2_Part_7.txt',\n",
      "     'Bxl_1968_Tome_II1_Part_1.txt',\n",
      "     'Bxl_1968_Tome_II1_Part_2.txt',\n",
      "     'Bxl_1968_Tome_II1_Part_3.txt',\n",
      "     'Bxl_1968_Tome_II1_Part_4.txt',\n",
      "     'Bxl_1968_Tome_II1_Part_5.txt',\n",
      "     'Bxl_1968_Tome_II1_Part_6.txt',\n",
      "     'Bxl_1968_Tome_II1_Part_7.txt',\n",
      "     'Bxl_1968_Tome_II2_Part_1.txt',\n",
      "     'Bxl_1968_Tome_II2_Part_10.txt',\n",
      "     'Bxl_1968_Tome_II2_Part_11.txt',\n",
      "     'Bxl_1968_Tome_II2_Part_12.txt',\n",
      "     'Bxl_1968_Tome_II2_Part_13.txt',\n",
      "     'Bxl_1968_Tome_II2_Part_2.txt',\n",
      "     'Bxl_1968_Tome_II2_Part_3.txt',\n",
      "     'Bxl_1968_Tome_II2_Part_4.txt',\n",
      "     'Bxl_1968_Tome_II2_Part_5.txt',\n",
      "     'Bxl_1968_Tome_II2_Part_6.txt',\n",
      "     'Bxl_1968_Tome_II2_Part_7.txt',\n",
      "     'Bxl_1968_Tome_II2_Part_8.txt',\n",
      "     'Bxl_1968_Tome_II2_Part_9.txt',\n",
      "     'Bxl_1969_Tome_I1_Part_1.txt',\n",
      "     'Bxl_1969_Tome_I1_Part_2.txt',\n",
      "     'Bxl_1969_Tome_I1_Part_3.txt',\n",
      "     'Bxl_1969_Tome_I1_Part_4.txt',\n",
      "     'Bxl_1969_Tome_I1_Part_5.txt',\n",
      "     'Bxl_1969_Tome_I1_Part_6.txt',\n",
      "     'Bxl_1969_Tome_I1_Part_7.txt',\n",
      "     'Bxl_1969_Tome_I1_Part_8.txt',\n",
      "     'Bxl_1969_Tome_I2_Part_1.txt',\n",
      "     'Bxl_1969_Tome_I2_Part_2.txt',\n",
      "     'Bxl_1969_Tome_I2_Part_3.txt',\n",
      "     'Bxl_1969_Tome_I2_Part_4.txt',\n",
      "     'Bxl_1969_Tome_I2_Part_5.txt',\n",
      "     'Bxl_1969_Tome_I2_Part_6.txt',\n",
      "     'Bxl_1969_Tome_I2_Part_7.txt',\n",
      "     'Bxl_1969_Tome_I2_Part_8.txt',\n",
      "     'Bxl_1969_Tome_II1_Part_1.txt',\n",
      "     'Bxl_1969_Tome_II1_Part_2.txt',\n",
      "     'Bxl_1969_Tome_II1_Part_3.txt',\n",
      "     'Bxl_1969_Tome_II1_Part_4.txt',\n",
      "     'Bxl_1969_Tome_II1_Part_5.txt',\n",
      "     'Bxl_1969_Tome_II1_Part_6.txt',\n",
      "     'Bxl_1969_Tome_II1_Part_7.txt',\n",
      "     'Bxl_1969_Tome_II1_Part_8.txt',\n",
      "     'Bxl_1969_Tome_II2_Part_1.txt',\n",
      "     'Bxl_1969_Tome_II2_Part_10.txt',\n",
      "     'Bxl_1969_Tome_II2_Part_11.txt',\n",
      "     'Bxl_1969_Tome_II2_Part_2.txt',\n",
      "     'Bxl_1969_Tome_II2_Part_3.txt',\n",
      "     'Bxl_1969_Tome_II2_Part_4.txt',\n",
      "     'Bxl_1969_Tome_II2_Part_5.txt',\n",
      "     'Bxl_1969_Tome_II2_Part_6.txt',\n",
      "     'Bxl_1969_Tome_II2_Part_7.txt',\n",
      "     'Bxl_1969_Tome_II2_Part_8.txt',\n",
      "     'Bxl_1969_Tome_II2_Part_9.txt',\n",
      "     'Bxl_1969_Tome_RptAn_Part_1.txt',\n",
      "     'Bxl_1969_Tome_RptAn_Part_4.txt',\n",
      "     'Bxl_1969_Tome_RptAn_Part_5.txt',\n",
      "     'Bxl_1969_Tome_RptAn_Part_6.txt',\n",
      "     'Bxl_1969_Tome_RptAn_Part_7.txt'],\n",
      " 2: ['Bxl_1960_Tome_II1_Part_1.txt',\n",
      "     'Bxl_1960_Tome_II1_Part_2.txt',\n",
      "     'Bxl_1960_Tome_II1_Part_3.txt',\n",
      "     'Bxl_1960_Tome_II1_Part_4.txt',\n",
      "     'Bxl_1960_Tome_II1_Part_5.txt',\n",
      "     'Bxl_1960_Tome_II1_Part_6.txt',\n",
      "     'Bxl_1960_Tome_II1_Part_7.txt',\n",
      "     'Bxl_1960_Tome_II1_Part_8.txt',\n",
      "     'Bxl_1960_Tome_II2_Part_1.txt',\n",
      "     'Bxl_1960_Tome_II2_Part_2.txt',\n",
      "     'Bxl_1960_Tome_II2_Part_3.txt',\n",
      "     'Bxl_1960_Tome_II2_Part_4.txt',\n",
      "     'Bxl_1960_Tome_II2_Part_5.txt',\n",
      "     'Bxl_1960_Tome_II2_Part_6.txt',\n",
      "     'Bxl_1960_Tome_I_Part_1.txt',\n",
      "     'Bxl_1960_Tome_I_Part_10.txt',\n",
      "     'Bxl_1960_Tome_I_Part_11.txt',\n",
      "     'Bxl_1960_Tome_I_Part_2.txt',\n",
      "     'Bxl_1960_Tome_I_Part_3.txt',\n",
      "     'Bxl_1960_Tome_I_Part_4.txt',\n",
      "     'Bxl_1960_Tome_I_Part_5.txt',\n",
      "     'Bxl_1960_Tome_I_Part_6.txt',\n",
      "     'Bxl_1960_Tome_I_Part_7.txt',\n",
      "     'Bxl_1960_Tome_I_Part_8.txt',\n",
      "     'Bxl_1960_Tome_I_Part_9.txt',\n",
      "     'Bxl_1960_Tome_RptAn_Part_1.txt',\n",
      "     'Bxl_1960_Tome_RptAn_Part_2.txt',\n",
      "     'Bxl_1960_Tome_RptAn_Part_3.txt',\n",
      "     'Bxl_1960_Tome_RptAn_Part_4.txt',\n",
      "     'Bxl_1960_Tome_RptAn_Part_5.txt',\n",
      "     'Bxl_1960_Tome_RptAn_Part_6.txt',\n",
      "     'Bxl_1960_Tome_RptAn_Part_7.txt',\n",
      "     'Bxl_1960_Tome_RptAn_Part_8.txt',\n",
      "     'Bxl_1960_Tome_RptAn_Part_9.txt',\n",
      "     'Bxl_1961_Tome_II1_Part_1.txt',\n",
      "     'Bxl_1961_Tome_II1_Part_2.txt',\n",
      "     'Bxl_1961_Tome_II1_Part_3.txt',\n",
      "     'Bxl_1961_Tome_II1_Part_4.txt',\n",
      "     'Bxl_1961_Tome_II1_Part_5.txt',\n",
      "     'Bxl_1961_Tome_II1_Part_6.txt',\n",
      "     'Bxl_1961_Tome_II1_Part_7.txt',\n",
      "     'Bxl_1961_Tome_II1_Part_8.txt',\n",
      "     'Bxl_1961_Tome_II2_Part_1.txt',\n",
      "     'Bxl_1961_Tome_II2_Part_2.txt',\n",
      "     'Bxl_1961_Tome_II2_Part_3.txt',\n",
      "     'Bxl_1961_Tome_II2_Part_4.txt',\n",
      "     'Bxl_1961_Tome_II2_Part_5.txt',\n",
      "     'Bxl_1961_Tome_II2_Part_6.txt',\n",
      "     'Bxl_1961_Tome_I_Part_1.txt',\n",
      "     'Bxl_1961_Tome_I_Part_10.txt',\n",
      "     'Bxl_1961_Tome_I_Part_2.txt',\n",
      "     'Bxl_1961_Tome_I_Part_3.txt',\n",
      "     'Bxl_1961_Tome_I_Part_4.txt',\n",
      "     'Bxl_1961_Tome_I_Part_5.txt',\n",
      "     'Bxl_1961_Tome_I_Part_6.txt',\n",
      "     'Bxl_1961_Tome_I_Part_7.txt',\n",
      "     'Bxl_1961_Tome_I_Part_8.txt',\n",
      "     'Bxl_1961_Tome_I_Part_9.txt',\n",
      "     'Bxl_1961_Tome_RptAn_Part_1.txt',\n",
      "     'Bxl_1961_Tome_RptAn_Part_4.txt',\n",
      "     'Bxl_1961_Tome_RptAn_Part_6.txt',\n",
      "     'Bxl_1961_Tome_RptAn_Part_7.txt',\n",
      "     'Bxl_1961_Tome_RptAn_Part_8.txt',\n",
      "     'Bxl_1962_Tome_II1_Part_1.txt',\n",
      "     'Bxl_1962_Tome_II1_Part_2.txt',\n",
      "     'Bxl_1962_Tome_II1_Part_3.txt',\n",
      "     'Bxl_1962_Tome_II1_Part_4.txt',\n",
      "     'Bxl_1962_Tome_II1_Part_5.txt',\n",
      "     'Bxl_1962_Tome_II1_Part_6.txt',\n",
      "     'Bxl_1962_Tome_II1_Part_7.txt',\n",
      "     'Bxl_1962_Tome_II1_Part_8.txt',\n",
      "     'Bxl_1962_Tome_II1_Part_9.txt',\n",
      "     'Bxl_1962_Tome_II2_Part_1.txt',\n",
      "     'Bxl_1962_Tome_II2_Part_2.txt',\n",
      "     'Bxl_1962_Tome_II2_Part_3.txt',\n",
      "     'Bxl_1962_Tome_II2_Part_4.txt',\n",
      "     'Bxl_1962_Tome_II2_Part_5.txt',\n",
      "     'Bxl_1962_Tome_II2_Part_6.txt',\n",
      "     'Bxl_1962_Tome_II2_Part_7.txt',\n",
      "     'Bxl_1962_Tome_I_Part_1.txt',\n",
      "     'Bxl_1962_Tome_I_Part_10.txt',\n",
      "     'Bxl_1962_Tome_I_Part_11.txt',\n",
      "     'Bxl_1962_Tome_I_Part_2.txt',\n",
      "     'Bxl_1962_Tome_I_Part_3.txt',\n",
      "     'Bxl_1962_Tome_I_Part_4.txt',\n",
      "     'Bxl_1962_Tome_I_Part_5.txt',\n",
      "     'Bxl_1962_Tome_I_Part_6.txt',\n",
      "     'Bxl_1962_Tome_I_Part_7.txt',\n",
      "     'Bxl_1962_Tome_I_Part_8.txt',\n",
      "     'Bxl_1962_Tome_I_Part_9.txt',\n",
      "     'Bxl_1962_Tome_RptAn_Part_1.txt',\n",
      "     'Bxl_1962_Tome_RptAn_Part_2.txt',\n",
      "     'Bxl_1962_Tome_RptAn_Part_3.txt',\n",
      "     'Bxl_1962_Tome_RptAn_Part_4.txt',\n",
      "     'Bxl_1962_Tome_RptAn_Part_5.txt',\n",
      "     'Bxl_1962_Tome_RptAn_Part_6.txt',\n",
      "     'Bxl_1962_Tome_RptAn_Part_7.txt',\n",
      "     'Bxl_1962_Tome_RptAn_Part_8.txt',\n",
      "     'Bxl_1963_Tome_II1_Part_1.txt',\n",
      "     'Bxl_1963_Tome_II1_Part_2.txt',\n",
      "     'Bxl_1963_Tome_II1_Part_3.txt',\n",
      "     'Bxl_1963_Tome_II1_Part_4.txt',\n",
      "     'Bxl_1963_Tome_II1_Part_5.txt',\n",
      "     'Bxl_1963_Tome_II1_Part_7.txt',\n",
      "     'Bxl_1963_Tome_II2_Part_1.txt',\n",
      "     'Bxl_1963_Tome_II2_Part_6.txt',\n",
      "     'Bxl_1963_Tome_II2_Part_7.txt',\n",
      "     'Bxl_1963_Tome_II2_Part_9.txt',\n",
      "     'Bxl_1963_Tome_I_Part_1.txt',\n",
      "     'Bxl_1963_Tome_I_Part_10.txt',\n",
      "     'Bxl_1963_Tome_I_Part_11.txt',\n",
      "     'Bxl_1963_Tome_I_Part_2.txt',\n",
      "     'Bxl_1963_Tome_I_Part_3.txt',\n",
      "     'Bxl_1963_Tome_I_Part_4.txt',\n",
      "     'Bxl_1963_Tome_I_Part_5.txt',\n",
      "     'Bxl_1963_Tome_I_Part_6.txt',\n",
      "     'Bxl_1963_Tome_I_Part_7.txt',\n",
      "     'Bxl_1963_Tome_I_Part_8.txt',\n",
      "     'Bxl_1963_Tome_I_Part_9.txt',\n",
      "     'Bxl_1963_Tome_RptAn_Part_1.txt',\n",
      "     'Bxl_1963_Tome_RptAn_Part_2.txt',\n",
      "     'Bxl_1963_Tome_RptAn_Part_3.txt',\n",
      "     'Bxl_1963_Tome_RptAn_Part_4.txt',\n",
      "     'Bxl_1963_Tome_RptAn_Part_5.txt',\n",
      "     'Bxl_1963_Tome_RptAn_Part_6.txt',\n",
      "     'Bxl_1963_Tome_RptAn_Part_7.txt',\n",
      "     'Bxl_1963_Tome_RptAn_Part_8.txt',\n",
      "     'Bxl_1964_Tome_II1_Part_1.txt',\n",
      "     'Bxl_1964_Tome_II1_Part_10.txt',\n",
      "     'Bxl_1964_Tome_II1_Part_11.txt',\n",
      "     'Bxl_1964_Tome_II1_Part_2.txt',\n",
      "     'Bxl_1964_Tome_II1_Part_3.txt',\n",
      "     'Bxl_1964_Tome_II1_Part_5.txt',\n",
      "     'Bxl_1964_Tome_II1_Part_7.txt',\n",
      "     'Bxl_1964_Tome_II2_Part_4.txt',\n",
      "     'Bxl_1964_Tome_II2_Part_5.txt',\n",
      "     'Bxl_1964_Tome_II2_Part_6.txt',\n",
      "     'Bxl_1964_Tome_II2_Part_8.txt',\n",
      "     'Bxl_1964_Tome_I_Part_1.txt',\n",
      "     'Bxl_1964_Tome_I_Part_10.txt',\n",
      "     'Bxl_1964_Tome_I_Part_13.txt',\n",
      "     'Bxl_1964_Tome_I_Part_2.txt',\n",
      "     'Bxl_1964_Tome_I_Part_3.txt',\n",
      "     'Bxl_1964_Tome_I_Part_4.txt',\n",
      "     'Bxl_1964_Tome_I_Part_5.txt',\n",
      "     'Bxl_1964_Tome_I_Part_6.txt',\n",
      "     'Bxl_1964_Tome_I_Part_7.txt',\n",
      "     'Bxl_1964_Tome_I_Part_8.txt',\n",
      "     'Bxl_1964_Tome_RptAn_Part_1.txt',\n",
      "     'Bxl_1964_Tome_RptAn_Part_2.txt',\n",
      "     'Bxl_1964_Tome_RptAn_Part_3.txt',\n",
      "     'Bxl_1964_Tome_RptAn_Part_4.txt',\n",
      "     'Bxl_1964_Tome_RptAn_Part_5.txt',\n",
      "     'Bxl_1964_Tome_RptAn_Part_6.txt',\n",
      "     'Bxl_1965_Tome_II1_Part_4.txt',\n",
      "     'Bxl_1965_Tome_II1_Part_6.txt',\n",
      "     'Bxl_1965_Tome_II1_Part_8.txt',\n",
      "     'Bxl_1965_Tome_II2_Part_4.txt',\n",
      "     'Bxl_1965_Tome_I_Part_5.txt',\n",
      "     'Bxl_1965_Tome_RptAn_Part_1.txt',\n",
      "     'Bxl_1965_Tome_RptAn_Part_2.txt',\n",
      "     'Bxl_1965_Tome_RptAn_Part_3.txt',\n",
      "     'Bxl_1966_Tome_II2_Part_10.txt',\n",
      "     'Bxl_1966_Tome_RptAn_Part_1.txt',\n",
      "     'Bxl_1966_Tome_RptAn_Part_2.txt',\n",
      "     'Bxl_1967_Tome_I1_Part_11.txt',\n",
      "     'Bxl_1967_Tome_II1_Part_4.txt',\n",
      "     'Bxl_1969_Tome_II2_Part_14.txt',\n",
      "     'Bxl_1969_Tome_RptAn_Part_2.txt',\n",
      "     'Bxl_1969_Tome_RptAn_Part_3.txt']}\n"
     ]
    }
   ],
   "source": [
    "pprint(dict(clustering))"
   ]
  },
  {
   "cell_type": "markdown",
   "metadata": {},
   "source": [
    "## Visualiser les clusters"
   ]
  },
  {
   "cell_type": "markdown",
   "metadata": {},
   "source": [
    "### Réduire les vecteurs à 2 dimensions à l'aide de l'algorithme PCA\n",
    "Cette étape est nécessaire afin de visualiser les documents dans un espace 2D\n",
    "\n",
    "https://fr.wikipedia.org/wiki/Analyse_en_composantes_principales"
   ]
  },
  {
   "cell_type": "code",
   "execution_count": 42,
   "metadata": {},
   "outputs": [],
   "source": [
    "pca = PCA(n_components=2)\n",
    "reduced_vectors = pca.fit_transform(tfidf_vectors.toarray())"
   ]
  },
  {
   "cell_type": "code",
   "execution_count": 43,
   "metadata": {},
   "outputs": [
    {
     "data": {
      "text/plain": [
       "array([[-0.38270937, -0.3028597 ],\n",
       "       [-0.4602153 , -0.3643889 ],\n",
       "       [-0.04160219,  0.07745661],\n",
       "       [-0.42760853, -0.33990925],\n",
       "       [-0.23794134, -0.10348365],\n",
       "       [-0.10847577, -0.04634467],\n",
       "       [-0.2629578 , -0.19855917],\n",
       "       [-0.30964831, -0.15192271],\n",
       "       [-0.08372712, -0.01569006],\n",
       "       [-0.09279243,  0.02180666]])"
      ]
     },
     "execution_count": 43,
     "metadata": {},
     "output_type": "execute_result"
    }
   ],
   "source": [
    "reduced_vectors[:10]"
   ]
  },
  {
   "cell_type": "markdown",
   "metadata": {},
   "source": [
    "### Générer le plot"
   ]
  },
  {
   "cell_type": "code",
   "execution_count": 44,
   "metadata": {},
   "outputs": [
    {
     "data": {
      "text/plain": [
       "<matplotlib.legend.Legend at 0x7ffad9197af0>"
      ]
     },
     "execution_count": 44,
     "metadata": {},
     "output_type": "execute_result"
    },
    {
     "data": {
      "image/png": "[encoded data removed]",
      "text/plain": [
       "<Figure size 720x720 with 1 Axes>"
      ]
     },
     "metadata": {
      "needs_background": "light"
     },
     "output_type": "display_data"
    }
   ],
   "source": [
    "x_axis = reduced_vectors[:, 0]\n",
    "y_axis = reduced_vectors[:, 1]\n",
    "\n",
    "plt.figure(figsize=(10,10))\n",
    "scatter = plt.scatter(x_axis, y_axis, s=100, c=clusters)\n",
    "\n",
    "# Ajouter les centroïdes\n",
    "centroids = pca.transform(km_model.cluster_centers_)\n",
    "plt.scatter(centroids[:, 0], centroids[:, 1],  marker = \"x\", s=100, linewidths = 2, color='black')\n",
    "\n",
    "# Ajouter la légende\n",
    "plt.legend(handles=scatter.legend_elements()[0], labels=set(clusters), title=\"Clusters\")"
   ]
  },
  {
   "cell_type": "markdown",
   "metadata": {},
   "source": [
    "### Le clustering ci-dessus regroupe les données en clusters les plus homogènes possibles ainsi que la technique k-means utilisé aide à regrouper itérativement les données autour de centres k (x). On peut dire que les résultats obtenus font sens car les trois couleurs sont assez séparés."
   ]
  },
  {
   "cell_type": "markdown",
   "metadata": {},
   "source": [
    "## Entraînement d'un modèle word2vec (word embeddings) sur le fichier sents.txt"
   ]
  },
  {
   "cell_type": "markdown",
   "metadata": {},
   "source": [
    "### Imports"
   ]
  },
  {
   "cell_type": "code",
   "execution_count": 1,
   "metadata": {},
   "outputs": [],
   "source": [
    "import sys\n",
    "\n",
    "from gensim.models.phrases import Phrases, Phraser\n",
    "from gensim.models import Word2Vec\n",
    "\n",
    "import nltk\n",
    "from nltk.tokenize import wordpunct_tokenize\n",
    "from unidecode import unidecode"
   ]
  },
  {
   "cell_type": "markdown",
   "metadata": {},
   "source": [
    "### Chargement et traitement des phrases du corpus"
   ]
  },
  {
   "cell_type": "markdown",
   "metadata": {},
   "source": [
    "### Création d'un objet qui *streame* les lignes d'un fichier pour économiser de la RAM"
   ]
  },
  {
   "cell_type": "code",
   "execution_count": 2,
   "metadata": {},
   "outputs": [],
   "source": [
    "class MySentences(object):\n",
    "    \"\"\"Tokenize and Lemmatize sentences\"\"\"\n",
    "    def __init__(self, filename):\n",
    "        self.filename = filename\n",
    "\n",
    "    def __iter__(self):\n",
    "        for line in open(self.filename, encoding='utf-8', errors=\"backslashreplace\"):\n",
    "            yield [unidecode(w.lower()) for w in wordpunct_tokenize(line)]"
   ]
  },
  {
   "cell_type": "code",
   "execution_count": 3,
   "metadata": {},
   "outputs": [],
   "source": [
    "infile = f\"../data/sents.txt\"\n",
    "sentences = MySentences(infile)\n",
    "\n",
    "sentences = [sentence for sentence in sentences]"
   ]
  },
  {
   "cell_type": "markdown",
   "metadata": {},
   "source": [
    "### Détection des bigrams\n",
    "\n",
    "Article intéressant sur le sujet : https://towardsdatascience.com/word2vec-for-phrases-learning-embeddings-for-more-than-one-word-727b6cf723cf"
   ]
  },
  {
   "cell_type": "code",
   "execution_count": 4,
   "metadata": {},
   "outputs": [],
   "source": [
    "bigram_phrases = Phrases(sentences)"
   ]
  },
  {
   "cell_type": "markdown",
   "metadata": {},
   "source": [
    "L'object `phrases` peut être vu comme un large dictionnaire d'expressions multi-mots associées à un score, le *PMI-like scoring*. Ce dictionnaire est construit par un apprentissage sur base d'exemples.\n",
    "Voir les références ci-dessous :\n",
    "- https://arxiv.org/abs/1310.4546\n",
    "- https://en.wikipedia.org/wiki/Pointwise_mutual_information"
   ]
  },
  {
   "cell_type": "code",
   "execution_count": 5,
   "metadata": {},
   "outputs": [
    {
     "data": {
      "text/plain": [
       "dict"
      ]
     },
     "execution_count": 5,
     "metadata": {},
     "output_type": "execute_result"
    }
   ],
   "source": [
    "type(bigram_phrases.vocab)"
   ]
  },
  {
   "cell_type": "markdown",
   "metadata": {},
   "source": [
    "Il contient de nombreuses clés qui sont autant de termes observés dans le corpus"
   ]
  },
  {
   "cell_type": "code",
   "execution_count": 6,
   "metadata": {},
   "outputs": [
    {
     "data": {
      "text/plain": [
       "815775"
      ]
     },
     "execution_count": 6,
     "metadata": {},
     "output_type": "execute_result"
    }
   ],
   "source": [
    "len(bigram_phrases.vocab.keys())"
   ]
  },
  {
   "cell_type": "markdown",
   "metadata": {},
   "source": [
    "Prenons une clé au hasard :"
   ]
  },
  {
   "cell_type": "code",
   "execution_count": 7,
   "metadata": {},
   "outputs": [
    {
     "name": "stdout",
     "output_type": "stream",
     "text": [
      "taxes_communale\n"
     ]
    }
   ],
   "source": [
    "key_ = list(bigram_phrases.vocab.keys())[144]\n",
    "print(key_)"
   ]
  },
  {
   "cell_type": "markdown",
   "metadata": {},
   "source": [
    "Le dictionnaire indique le score de cette coocurrence :"
   ]
  },
  {
   "cell_type": "code",
   "execution_count": 8,
   "metadata": {},
   "outputs": [
    {
     "data": {
      "text/plain": [
       "2"
      ]
     },
     "execution_count": 8,
     "metadata": {},
     "output_type": "execute_result"
    }
   ],
   "source": [
    "bigram_phrases.vocab[key_]"
   ]
  },
  {
   "cell_type": "markdown",
   "metadata": {},
   "source": [
    "Lorsque l'instance de `Phrases` a été entraînée, elle peut concaténer les bigrams dans les phrases lorsque c'est pertinent."
   ]
  },
  {
   "cell_type": "code",
   "execution_count": 9,
   "metadata": {},
   "outputs": [
    {
     "name": "stdout",
     "output_type": "stream",
     "text": [
      "CPU times: user 418 µs, sys: 0 ns, total: 418 µs\n",
      "Wall time: 431 µs\n"
     ]
    },
    {
     "data": {
      "text/plain": [
       "['maladie',\n",
       " ',',\n",
       " 'le',\n",
       " 'conseil',\n",
       " 'ajourne',\n",
       " 'l',\n",
       " \"'\",\n",
       " 'examen',\n",
       " 'de',\n",
       " 'la',\n",
       " 'reclamation',\n",
       " 'des',\n",
       " 'tailleurs',\n",
       " 'de',\n",
       " 'pierre',\n",
       " 'et',\n",
       " 'marchands',\n",
       " 'de',\n",
       " 'briques',\n",
       " ',',\n",
       " 'contre',\n",
       " 'quelques',\n",
       " 'articles',\n",
       " 'des',\n",
       " 'taxes_communales',\n",
       " ',',\n",
       " 'et',\n",
       " 'la',\n",
       " 'discussion',\n",
       " 'des',\n",
       " 'budgets',\n",
       " 'de',\n",
       " 'la']"
      ]
     },
     "execution_count": 9,
     "metadata": {},
     "output_type": "execute_result"
    }
   ],
   "source": [
    "%time bigram_phrases[sentences[78]]"
   ]
  },
  {
   "cell_type": "markdown",
   "metadata": {},
   "source": [
    "### Conversion des `Phrases` en objet `Phraser`\n",
    "\n",
    "`Phraser` est un alias pour `gensim.models.phrases.FrozenPhrases`, voir ici https://radimrehurek.com/gensim/models/phrases.html.\n",
    "\n",
    "Le `Phraser` est une version *light* du `Phrases`, plus optimale pour transformer les phrases en concaténant les bigrams."
   ]
  },
  {
   "cell_type": "code",
   "execution_count": 10,
   "metadata": {},
   "outputs": [],
   "source": [
    "bigram_phraser = Phraser(phrases_model=bigram_phrases)"
   ]
  },
  {
   "cell_type": "markdown",
   "metadata": {},
   "source": [
    "Le `Phraser` est un objet qui convertit certains unigrams d'une liste en bigrams lorsqu'ils ont été identifiés comme pertinents."
   ]
  },
  {
   "cell_type": "code",
   "execution_count": 11,
   "metadata": {},
   "outputs": [
    {
     "name": "stdout",
     "output_type": "stream",
     "text": [
      "CPU times: user 202 µs, sys: 6 µs, total: 208 µs\n",
      "Wall time: 218 µs\n"
     ]
    },
    {
     "data": {
      "text/plain": [
       "['maladie',\n",
       " ',',\n",
       " 'le',\n",
       " 'conseil',\n",
       " 'ajourne',\n",
       " 'l',\n",
       " \"'\",\n",
       " 'examen',\n",
       " 'de',\n",
       " 'la',\n",
       " 'reclamation',\n",
       " 'des',\n",
       " 'tailleurs',\n",
       " 'de',\n",
       " 'pierre',\n",
       " 'et',\n",
       " 'marchands',\n",
       " 'de',\n",
       " 'briques',\n",
       " ',',\n",
       " 'contre',\n",
       " 'quelques',\n",
       " 'articles',\n",
       " 'des',\n",
       " 'taxes_communales',\n",
       " ',',\n",
       " 'et',\n",
       " 'la',\n",
       " 'discussion',\n",
       " 'des',\n",
       " 'budgets',\n",
       " 'de',\n",
       " 'la']"
      ]
     },
     "execution_count": 11,
     "metadata": {},
     "output_type": "execute_result"
    }
   ],
   "source": [
    "%time bigram_phraser[sentences[78]]"
   ]
  },
  {
   "cell_type": "markdown",
   "metadata": {},
   "source": [
    "### Extraction des trigrams"
   ]
  },
  {
   "cell_type": "markdown",
   "metadata": {},
   "source": [
    "Nous répétons l'opération en envoyant cette fois la liste de bigrams afin d'extraire les trigrams."
   ]
  },
  {
   "cell_type": "code",
   "execution_count": 12,
   "metadata": {},
   "outputs": [],
   "source": [
    "trigram_phrases = Phrases(bigram_phraser[sentences])"
   ]
  },
  {
   "cell_type": "code",
   "execution_count": 13,
   "metadata": {},
   "outputs": [],
   "source": [
    "trigram_phraser = Phraser(phrases_model=trigram_phrases)"
   ]
  },
  {
   "cell_type": "markdown",
   "metadata": {},
   "source": [
    "### Création d'un corpus d'unigrams, bigrams, trigrams"
   ]
  },
  {
   "cell_type": "code",
   "execution_count": 14,
   "metadata": {},
   "outputs": [],
   "source": [
    "corpus = list(trigram_phraser[bigram_phraser[sentences]])"
   ]
  },
  {
   "cell_type": "code",
   "execution_count": 15,
   "metadata": {},
   "outputs": [
    {
     "name": "stdout",
     "output_type": "stream",
     "text": [
      "[['v', 'i', 'l', 'l', 'e', 'de'], ['bruxelles'], ['bulletin', 'ires', '8eanas'], ['dl', '!'], ['conseil'], ['communal'], ['annee'], ['1847', '.'], ['au'], ['ville', 'de', 'b', 'r', 'u', 'x', 'e', 'l', 'l', 'e', 's', '.'], ['bulletin'], ['conseil'], ['aes'], ['seances'], ['communal', '.'], ['annee'], ['1847', '.'], ['bruxelles', ','], ['imprimerie'], ['d', 'e', 'j', '.'], ['h', '.', 'b', 'r', 'i', 'a', 'r', 'd', ','], ['rite', 'n', 'e', 'u', 'v', 'e', ',', '3', '1', ',', 'faubourg', 'de', 'n', 'a', 'm', 'u', 'r', ','], ['1', '84', '8'], ['de', '!'], ['du', 'consei'], ['dibi'], ['e', '.', '-', 'communication'], ['conclusions', 'de', 'la', 'section', 'des'], ['du', 'nouvel_hospice', 'pour', 'les', 'av'], ['enraisonde', 'l', \"'\", 'absence', '&'], ['maladie', '.', 'le', 'conseil', 'ajourne'], ['leurs', 'de', 'pierre', 'el', 'marchai'], ['cles', 'des', 'taxes', 'communale', \"'\"], ['bieniaance', 'eldeseianv'], ['il', 'est', 'donne', 'communie', ';'], ['mandant', 'le', 'o', 'p', 'fa'], ['gnant', 'l', \"'\", 'envoi', 'de', 'leur', 'bn'], ['par', 'l', \"'\", 'etat', 'obligatoire', 'p'], ['secretariat', 'et', 'dtput', 'uf'], ['proposition', 'dan', '*', 'le', 'meme'], ['u', 'est_donne_lecture', 'd', \"'\", 't'], ['glissement', 'd', \"'\", 'un', 'marc', '!'], [\"'*\", 'royales', ',', 'rue', 'de', 'la', 'i', 'd', 'e', 'k'], [':'], [';'], ['i'], ['fai', 'phonnenr', 'de', 'to', '>>', '<<'], ['<<', 'terrains', 'reumsderb', '.\"'], ['^', 'par', 'une', 'combinaison', 'f'], ['sans', 'devoir', 'fe'], ['soit', 'dow'], ['ans', ','], ['un', 'marcs'], ['1'], ['s', 'u', 'r', 'l'], ['iraocs', '.'], ['^', 'w', 'metres', 'sur', '35', 'l', ';', 'n'], ['^', 'espourvica', '.', 'lem', 'ed', '<<'], ['l'], ['t'], ['a', 'r'], ['<<<<', 'lle5la', '<<'], ['compte'], ['des'], ['du', 'conseil'], ['de'], ['rendu'], ['seances'], ['communal'], ['bruxelles', '.'], ['seance', 'du', '9', 'janvier', '.'], ['(', 'presidence', 'de', 'm', '.', 'le', 'chevalier_w', 'y', 'n', 's', 'de', 'raucourt', ',', 'bourgmestre', '.)'], ['sommaire', '.'], ['--', 'communication', 'de', 'pieces', '.'], ['--', 'discussion', 'et', 'adoption', 'des'], ['conclusions', 'de', 'la', 'section', 'des_travaux_publics', 'relatives', 'a', 'l', \"'\", 'emplacement'], ['du', 'nouvel_hospice', 'pour', 'les', 'aveugles', 'indigents', '.'], ['en', 'raison', 'de', 'l', \"'\", 'absence', 'de', 'm', '.', 'l', \"'\", 'echevin_doucet', ',', 'pour', 'cause', 'de'], ['maladie', ',', 'le', 'conseil', 'ajourne', 'l', \"'\", 'examen', 'de', 'la', 'reclamation', 'des', 'tailleurs', 'de', 'pierre', 'et', 'marchands', 'de', 'briques', ',', 'contre', 'quelques', 'articles', 'des', 'taxes_communales', ',', 'et', 'la', 'discussion', 'des', 'budgets', 'de', 'la'], ['bienfaisance', 'et', 'des', 'enfants', '-', 'trouves', '.'], ['il', 'est', 'donne_communication', 'd', \"'\", 'une', 'lettre', 'demm', '.', 'donies', ',', 'commandant', 'le', 'corps', 'des', 'pompiers', ',', 'et', 'adolphe', 'bartels', ',', 'accompagnant', 'l', \"'\", 'envoi', 'de', 'leur', 'brochure', 'relative', 'a', 'un', 'plan', 'd', \"'\", 'assurance'], ['par', 'l', \"'\", 'etat', 'obligatoire', 'pour', 'tous', 'les', 'proprietaires', '.'], ['--', 'depot', 'au'], ['secretariat', 'et', 'depot', 'sur', 'le', 'bureau', 'pendant', 'la', 'discussion', 'de', 'la'], ['proposition', 'dans', 'le', 'meme', 'sens', 'faite', 'par', 'm', '.', 'le', 'conseiller', 'bartels', '.'], ['il', 'est_donne_lecture', 'd', \"'\", 'une', 'lettre', 'de', 'm', '.', 'bortier', ',', 'relative', 'a', 'l', \"'\", 'etablissement', 'd', \"'\", 'un', 'marche', 'dans', 'l', \"'\", 'ancien_local', 'des', 'messageries'], ['royales', ',', 'rue', 'de', 'la', 'madeleine', '.'], ['elle', 'est', 'ainsi_concue', ':'], ['<<', 'j', \"'\", 'ai', 'l', \"'\", 'honneur', 'de', 'vous', 'adresser', 'un', 'plan', 'de', 'marche_couvert', 'a', 'etablir'], ['sur', 'les', 'terrains', 'reunis', 'de', 'l', \"'\", 'hotel', 'des', 'messageries', ',', 'des', 'hospices', 'et', 'de', 'm', '.', 'partoes', '.'], ['par', 'une', 'combinaison_financiere', 'que_je_viens', 'vous_soumettre', ',', 'la', 'ville'], ['de', 'bruxelles', ',', 'sans', 'devoir', 'faire', 'la', 'moindre', 'avance', 'de', 'fonds', ',', 'soit', 'pour', 'acquisitions', 'de', 'terrains', ',', 'soit', 'pour', 'constructions', ',', 'deviendrait', ',', 'au_bout', 'de', 'vingt'], ['ans', ',', 'proprietaire', 'd', \"'\", 'un', 'marche', 'dont', 'le', 'produit', 'est', 'evalue', 'a', 'plus', 'de', 'soixante'], ['mille_francs', '.'], ['<<', 'avant', 'la', 'mise', 'en', 'possession', 'de', 'ce', 'vaste', 'terrain', 'ayant', 'un', 'developpement'], ['de', 'go', 'metres', 'sur', '33', ',', 'la', 'ville', 'pourrait', 'faire', 'construire', 'au', 'premier_etage', 'des'], ['salles', 'pour', 'l', \"'\", 'academie', 'des', 'beaux_-', 'arts', '.'], ['<<', '11', 'suffira', 'de', 'jeter', 'un', 'regard', 'sur', 'le', 'plan', 'et', 'd', \"'\", 'examiner', 'les', 'chiffres', 'qui'], ['figurent', 'dans', 'l', \"'\", 'expose', ',', 'pour', 'comprendre', 'tous', 'les', 'avantages', 'que', 'presente', 'a'], ['la', 'ville', 'de', 'bruxelles', 'la', 'realisation', 'de', 'ce', 'projet', '.']]\n"
     ]
    }
   ],
   "source": [
    "print(corpus[:100])"
   ]
  },
  {
   "cell_type": "markdown",
   "metadata": {},
   "source": [
    "## Entrainement d'un modèle Word2Vec sur ce corpus"
   ]
  },
  {
   "cell_type": "code",
   "execution_count": 16,
   "metadata": {},
   "outputs": [
    {
     "name": "stdout",
     "output_type": "stream",
     "text": [
      "CPU times: user 1min 46s, sys: 836 ms, total: 1min 46s\n",
      "Wall time: 53.8 s\n"
     ]
    }
   ],
   "source": [
    "%%time\n",
    "model = Word2Vec(\n",
    "    corpus, # On passe le corpus de ngrams que nous venons de créer\n",
    "    vector_size=32, # Le nombre de dimensions dans lesquelles le contexte des mots devra être réduit, aka. vector_size\n",
    "    window=3, # La taille du \"contexte\", ici 5 mots avant et après le mot observé\n",
    "    min_count=7, # On ignore les mots qui n'apparaissent pas au moins 5 fois dans le corpus\n",
    "    workers=4, # Permet de paralléliser l'entraînement du modèle en 4 threads\n",
    "    epochs=5 # Nombre d'itérations du réseau de neurones sur le jeu de données pour ajuster les paramètres avec la descende de gradient, aka. epochs.\n",
    ")"
   ]
  },
  {
   "cell_type": "markdown",
   "metadata": {},
   "source": [
    "#### Remarque\n",
    "\n",
    "Vous voyez ici que l'entrainement du modèle est parallélisé (sur 4 workers).\n",
    "\n",
    "Lors qu'on parallélise l'entrainement du modèle, 4 modèles \"séparés\" sont entrainés sur environ un quart des phrases.\n",
    "\n",
    "Ensuite, les résultats sont agrégés pour ne plus faire qu'un seul modèle.\n",
    "\n",
    "On ne peut prédire quel worker aura quelle phrase, car il y a des aléas lors de la parallélisation (p. ex. un worker qui serait plus lent, etc.).\n",
    "\n",
    "Du coup, les valeurs peuvent varier légèrement d'un entrainement à l'autre.\n",
    "\n",
    "Mais, globalement, les résultats restent cohérents."
   ]
  },
  {
   "cell_type": "markdown",
   "metadata": {},
   "source": [
    "### Sauver le modèle dans un fichier"
   ]
  },
  {
   "cell_type": "code",
   "execution_count": 17,
   "metadata": {},
   "outputs": [],
   "source": [
    "outfile = f\"../data/bulletins.model\"\n",
    "model.save(outfile)"
   ]
  },
  {
   "cell_type": "markdown",
   "metadata": {},
   "source": [
    "## Exploration du modèle en utilisant les deux fonctions `similarity` et `most_similar`"
   ]
  },
  {
   "cell_type": "markdown",
   "metadata": {},
   "source": [
    "### Charger le modèle en mémoire"
   ]
  },
  {
   "cell_type": "code",
   "execution_count": 18,
   "metadata": {},
   "outputs": [],
   "source": [
    "model = Word2Vec.load(\"../data/bulletins.model\")"
   ]
  },
  {
   "cell_type": "markdown",
   "metadata": {},
   "source": [
    "### Calculer la similarité entre deux termes avec `similarity`"
   ]
  },
  {
   "cell_type": "code",
   "execution_count": 19,
   "metadata": {},
   "outputs": [
    {
     "data": {
      "text/plain": [
       "0.46928596"
      ]
     },
     "execution_count": 19,
     "metadata": {},
     "output_type": "execute_result"
    }
   ],
   "source": [
    "model.wv.similarity(\"honneur\", \"vous_soumettre\")"
   ]
  },
  {
   "cell_type": "code",
   "execution_count": 20,
   "metadata": {},
   "outputs": [
    {
     "data": {
      "text/plain": [
       "0.03302257"
      ]
     },
     "execution_count": 20,
     "metadata": {},
     "output_type": "execute_result"
    }
   ],
   "source": [
    "model.wv.similarity(\"examiner\", \"terrains\")"
   ]
  },
  {
   "cell_type": "code",
   "execution_count": 21,
   "metadata": {},
   "outputs": [
    {
     "data": {
      "text/plain": [
       "0.29126015"
      ]
     },
     "execution_count": 21,
     "metadata": {},
     "output_type": "execute_result"
    }
   ],
   "source": [
    "model.wv.similarity(\"communal\", \"conseil\")"
   ]
  },
  {
   "cell_type": "markdown",
   "metadata": {},
   "source": [
    "### Chercher les mots les plus proches d'un terme donné avec `most-similar`"
   ]
  },
  {
   "cell_type": "code",
   "execution_count": 22,
   "metadata": {},
   "outputs": [
    {
     "data": {
      "text/plain": [
       "[('president', 0.774313747882843),\n",
       " ('gouverneur', 0.7577763795852661),\n",
       " ('ministre', 0.7185558676719666),\n",
       " ('secretaire', 0.710695207118988),\n",
       " ('rapporteur', 0.6651117205619812)]"
      ]
     },
     "execution_count": 22,
     "metadata": {},
     "output_type": "execute_result"
    }
   ],
   "source": [
    "model.wv.most_similar(\"bourgmestre\", topn=5)"
   ]
  },
  {
   "cell_type": "code",
   "execution_count": 23,
   "metadata": {},
   "outputs": [
    {
     "data": {
      "text/plain": [
       "[('insuffisante', 0.8437913656234741),\n",
       " ('injuste', 0.839614748954773),\n",
       " ('fondee', 0.8378679752349854),\n",
       " ('demandee', 0.8242636919021606),\n",
       " ('uniquement', 0.820106029510498)]"
      ]
     },
     "execution_count": 23,
     "metadata": {},
     "output_type": "execute_result"
    }
   ],
   "source": [
    "model.wv.most_similar(\"obligatoire\", topn=5)"
   ]
  },
  {
   "cell_type": "code",
   "execution_count": 24,
   "metadata": {},
   "outputs": [
    {
     "data": {
      "text/plain": [
       "[('propositions', 0.7007308602333069),\n",
       " ('rapports', 0.7006614804267883),\n",
       " ('partisans', 0.6966219544410706),\n",
       " ('dispositions', 0.6683779954910278),\n",
       " ('rapports_suivants', 0.6683240532875061)]"
      ]
     },
     "execution_count": 24,
     "metadata": {},
     "output_type": "execute_result"
    }
   ],
   "source": [
    "model.wv.most_similar(\"conclusions\", topn=5)"
   ]
  }
 ],
 "metadata": {
  "kernelspec": {
   "display_name": "Python 3 (ipykernel)",
   "language": "python",
   "name": "python3"
  },
  "language_info": {
   "codemirror_mode": {
    "name": "ipython",
    "version": 3
   },
   "file_extension": ".py",
   "mimetype": "text/x-python",
   "name": "python",
   "nbconvert_exporter": "python",
   "pygments_lexer": "ipython3",
   "version": "3.9.7"
  }
 },
 "nbformat": 4,
 "nbformat_minor": 4
}
