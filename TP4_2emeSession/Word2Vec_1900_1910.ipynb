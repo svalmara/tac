{
 "cells": [
  {
   "cell_type": "markdown",
   "id": "c4d4117b-2bb3-48c0-8575-e464c4cc9e1c",
   "metadata": {},
   "source": [
    " # Word Embeddings : le modèle Word2Vec de la décennie 1900 et 1910"
   ]
  },
  {
   "cell_type": "markdown",
   "id": "a96735cd-e03a-48fc-aba3-f031ab35c1f8",
   "metadata": {},
   "source": [
    "## Imports"
   ]
  },
  {
   "cell_type": "code",
   "execution_count": 1,
   "id": "4f2a3716-fb33-4ed5-ad54-e1780de76597",
   "metadata": {},
   "outputs": [],
   "source": [
    "import sys\n",
    "\n",
    "from gensim.models.phrases import Phrases, Phraser\n",
    "from gensim.models import Word2Vec\n",
    "\n",
    "import nltk\n",
    "from nltk.tokenize import wordpunct_tokenize\n",
    "from unidecode import unidecode"
   ]
  },
  {
   "cell_type": "markdown",
   "id": "ab407bde-9038-4964-93e1-a00fb04bce6e",
   "metadata": {},
   "source": [
    "# Word Embeddings : le modèle Word2Vec de la décennie 1910"
   ]
  },
  {
   "cell_type": "markdown",
   "id": "07893760-a86e-4393-a97b-c56763fa7589",
   "metadata": {},
   "source": [
    "## Chargement et traitement des phrases du corpus"
   ]
  },
  {
   "cell_type": "markdown",
   "id": "d0b5c4c3-e331-419d-98fa-8d768fefb5f8",
   "metadata": {},
   "source": [
    "### Création d'un objet qui *streame* les lignes d'un fichier pour économiser de la RAM"
   ]
  },
  {
   "cell_type": "code",
   "execution_count": 43,
   "id": "c9080762-9039-4686-9298-95b8c4d2c2b5",
   "metadata": {},
   "outputs": [],
   "source": [
    "class MySentences(object):\n",
    "    \"\"\"Tokenize and Lemmatize sentences\"\"\"\n",
    "    def __init__(self, filename):\n",
    "        self.filename = filename\n",
    "\n",
    "    def __iter__(self):\n",
    "        for line in open(self.filename, encoding='utf-8', errors=\"backslashreplace\"):\n",
    "            yield [unidecode(w.lower()) for w in wordpunct_tokenize(line)]"
   ]
  },
  {
   "cell_type": "code",
   "execution_count": 44,
   "id": "16ebdfaf-3baa-453d-a18e-74e33b558cf8",
   "metadata": {},
   "outputs": [],
   "source": [
    "infile = f\"../data/tmp_tp4/sents_1910_tp4.txt\"\n",
    "sentences = MySentences(infile)\n",
    "\n",
    "sentences = [sentence for sentence in sentences]"
   ]
  },
  {
   "cell_type": "markdown",
   "id": "a721faea-9fe7-41ef-a940-c6cf585310a8",
   "metadata": {},
   "source": [
    "### Détection des bigrams"
   ]
  },
  {
   "cell_type": "code",
   "execution_count": 45,
   "id": "50db6564-5266-4487-93dd-4ac975ca93e5",
   "metadata": {},
   "outputs": [],
   "source": [
    "bigram_phrases = Phrases(sentences)"
   ]
  },
  {
   "cell_type": "code",
   "execution_count": 46,
   "id": "f4e8a802-eb63-4d3f-ad7f-8dafecd79fec",
   "metadata": {},
   "outputs": [
    {
     "data": {
      "text/plain": [
       "dict"
      ]
     },
     "execution_count": 46,
     "metadata": {},
     "output_type": "execute_result"
    }
   ],
   "source": [
    "type(bigram_phrases.vocab)"
   ]
  },
  {
   "cell_type": "markdown",
   "id": "2795c8ec-35ef-4693-9ecb-b8fe6cd933ae",
   "metadata": {},
   "source": [
    "Il contient de nombreuses clés qui sont autant de termes observés dans le corpus"
   ]
  },
  {
   "cell_type": "code",
   "execution_count": 47,
   "id": "5ccd4bc0-15d3-4008-8746-15584a3c7980",
   "metadata": {},
   "outputs": [
    {
     "data": {
      "text/plain": [
       "464915"
      ]
     },
     "execution_count": 47,
     "metadata": {},
     "output_type": "execute_result"
    }
   ],
   "source": [
    "len(bigram_phrases.vocab.keys())"
   ]
  },
  {
   "cell_type": "markdown",
   "id": "28428dbf-9fe3-4060-9eab-98dabb43fe11",
   "metadata": {},
   "source": [
    "Prenons une clé au hasard :"
   ]
  },
  {
   "cell_type": "code",
   "execution_count": 48,
   "id": "e3309f81-ab13-4b1d-9284-95a9ad14ac7e",
   "metadata": {},
   "outputs": [
    {
     "name": "stdout",
     "output_type": "stream",
     "text": [
      "de_1901\n"
     ]
    }
   ],
   "source": [
    "key_ = list(bigram_phrases.vocab.keys())[144]\n",
    "print(key_)"
   ]
  },
  {
   "cell_type": "markdown",
   "id": "2b15c9d1-0ba4-4d7b-b6f0-6900b610fd30",
   "metadata": {},
   "source": [
    "Le dictionnaire indique le score de cette coocurrence :"
   ]
  },
  {
   "cell_type": "code",
   "execution_count": 49,
   "id": "7e8b70b6-01df-4148-85f9-50f8405f0dcb",
   "metadata": {},
   "outputs": [
    {
     "data": {
      "text/plain": [
       "9"
      ]
     },
     "execution_count": 49,
     "metadata": {},
     "output_type": "execute_result"
    }
   ],
   "source": [
    "bigram_phrases.vocab[key_]"
   ]
  },
  {
   "cell_type": "markdown",
   "id": "eedd755c-6e9c-4428-a958-5d9356856f77",
   "metadata": {},
   "source": [
    "Lorsque l'instance de `Phrases` a été entraînée, elle peut concaténer les bigrams dans les phrases lorsque c'est pertinent."
   ]
  },
  {
   "cell_type": "code",
   "execution_count": 50,
   "id": "d2d712f3-73cb-4152-9db0-6801d04cdbcf",
   "metadata": {},
   "outputs": [
    {
     "name": "stdout",
     "output_type": "stream",
     "text": [
      "CPU times: user 60 µs, sys: 7 µs, total: 67 µs\n",
      "Wall time: 72 µs\n"
     ]
    },
    {
     "data": {
      "text/plain": [
       "['liberes', 'de', '25', 'francs', '(', 'verts', ')']"
      ]
     },
     "execution_count": 50,
     "metadata": {},
     "output_type": "execute_result"
    }
   ],
   "source": [
    "%time bigram_phrases[sentences[78]]"
   ]
  },
  {
   "cell_type": "markdown",
   "id": "973e030b-0ad7-4be0-a949-313eaa74d4c6",
   "metadata": {},
   "source": [
    "### Conversion des `Phrases` en objet `Phraser`\n",
    "\n",
    "`Phraser` est un alias pour `gensim.models.phrases.FrozenPhrases`, voir ici https://radimrehurek.com/gensim/models/phrases.html.\n",
    "\n",
    "Le `Phraser` est une version *light* du `Phrases`, plus optimale pour transformer les phrases en concaténant les bigrams."
   ]
  },
  {
   "cell_type": "code",
   "execution_count": 51,
   "id": "92008b3f-16a2-4c96-a4ab-b6bc5733c076",
   "metadata": {},
   "outputs": [],
   "source": [
    "bigram_phraser = Phraser(phrases_model=bigram_phrases)"
   ]
  },
  {
   "cell_type": "markdown",
   "id": "32609293-b7fa-43ea-9fc0-9b004403c25d",
   "metadata": {},
   "source": [
    "Le `Phraser` est un objet qui convertit certains unigrams d'une liste en bigrams lorsqu'ils ont été identifiés comme pertinents."
   ]
  },
  {
   "cell_type": "code",
   "execution_count": 52,
   "id": "5f65f184-d831-4667-810f-bfb1c1719017",
   "metadata": {},
   "outputs": [
    {
     "name": "stdout",
     "output_type": "stream",
     "text": [
      "CPU times: user 0 ns, sys: 29 µs, total: 29 µs\n",
      "Wall time: 31.7 µs\n"
     ]
    },
    {
     "data": {
      "text/plain": [
       "['liberes', 'de', '25', 'francs', '(', 'verts', ')']"
      ]
     },
     "execution_count": 52,
     "metadata": {},
     "output_type": "execute_result"
    }
   ],
   "source": [
    "%time bigram_phraser[sentences[78]]"
   ]
  },
  {
   "cell_type": "markdown",
   "id": "3e3e8412-962f-47f2-89cf-d02833978219",
   "metadata": {},
   "source": [
    "### Extraction des trigrams"
   ]
  },
  {
   "cell_type": "markdown",
   "id": "73b5f7e7-7262-4e51-b4af-c416f48b1fdf",
   "metadata": {},
   "source": [
    "Nous répétons l'opération en envoyant cette fois la liste de bigrams afin d'extraire les trigrams."
   ]
  },
  {
   "cell_type": "code",
   "execution_count": 53,
   "id": "fc4f9c26-27e5-4105-8ec5-7b0cbd6133c1",
   "metadata": {},
   "outputs": [],
   "source": [
    "trigram_phrases = Phrases(bigram_phraser[sentences])"
   ]
  },
  {
   "cell_type": "code",
   "execution_count": 54,
   "id": "d3d64f74-1b2a-4bd9-a82d-da29347d1252",
   "metadata": {},
   "outputs": [],
   "source": [
    "trigram_phraser = Phraser(phrases_model=trigram_phrases)"
   ]
  },
  {
   "cell_type": "markdown",
   "id": "a840927f-e794-40a0-9ddb-657811013f80",
   "metadata": {},
   "source": [
    "### Création d'un corpus d'unigrams, bigrams, trigrams"
   ]
  },
  {
   "cell_type": "code",
   "execution_count": 55,
   "id": "572d9cfb-7d02-4bee-95fe-46f455814023",
   "metadata": {},
   "outputs": [],
   "source": [
    "corpus = list(trigram_phraser[bigram_phraser[sentences]])"
   ]
  },
  {
   "cell_type": "code",
   "execution_count": 56,
   "id": "f69daaa2-d847-40cd-afc7-0cdaf5f86b39",
   "metadata": {},
   "outputs": [
    {
     "name": "stdout",
     "output_type": "stream",
     "text": [
      "[['(', '31'], ['janvier'], ['1910', ')'], ['--'], ['100'], ['--'], ['ces', 'comptes', 'soldent', 'par', 'un', 'deficit', 'de', '.'], ['.'], ['.'], ['fr', '.'], ['alors', 'que', 'la', 'somme_prevue', 'au', 'bu', 'iget', 'de', 'la', 'ville'], ['n', \"'\", 'est', 'que', 'de'], ['difference', '.'], ['626', '.', '568', '90'], ['532', ',', '970', '37'], ['.'], ['fr', '.'], ['93', ',', '598', '53'], ['en_vue', 'de', 'permettre', 'de', 'liquider', 'le', 'montant', 'de', 'ce', 'deficit', ',', 'le'], ['college_vous_propose', ',', 'messieurs', ',', 'le', 'vote', 'd', \"'\", 'un_credit_supplementaire', 'defr', '.'], ['9', ';', '5', ',', '598', '-', 'o3', 'a', 'l', \"'\", 'art', '.'], ['131', 'des', 'depenses_ordinaires'], ['du', 'budget', 'de', '1901', ')', ':', '<<', 'subside_eventuel', 'a'], ['l', \"'\", 'administration'], ['des', 'hospices', 'et', 'secours', '>>.'], ['les', 'ressources_ordinaires', 'de', 'l', \"'\", 'exercice', 'couvriront', 'la', 'depense', '.'], ['la', 'section', 'des_finances', 'a', 'emis_un_avis_favorable', '.'], ['3'], ['credit_extraordinaire', '.'], ['--'], ['emprunt'], ['de'], ['1905', '.'], ['--'], ['echanger'], ['contre'], ['des'], ['27', 'decembre'], ['1909', '.'], ['exercice'], ['1909', '.'], ['obligations'], ['definitives'], ['restant', 'a'], ['titres_provisoires', ','], ['a', 'la', 'date', 'du'], ['en_conformite', 'de', 'l', \"'\", 'art', '.'], ['8', 'de', 'la', 'convention', 'du', '27', 'octobre', '1905', ','], ['la', 'ville', 's', \"'\", 'est', 'substituee', 'aux', 'porteurs', 'des', 'titres_provisoires', 'de'], ['l', \"'\", 'emprunt', 'de', '15j05', 'restant', 'en', 'circulation', 'a', 'la', 'date', 'du', '27', 'decembre_1909', '.'], ['le', 'nombre', 'de', 'ces', 'titres', 's', \"'\", 'elevanta', '2', ',', '639', 'se_decompose', 'comme'], ['il', 'suit_:'], ['1', 'deg'], ['a', 'echanger', ','], ['contre', 'des', 'obligations'], ['completement', 'liberes'], ['>>'], ['>>', '.'], ['liberes', 'de', '25', 'francs'], ['2', 'deg', 'sortis', 'remboursables'], ['pouvant_etre', 'echanges', ':'], ['(', 'blancs', ')'], ['(', 'roses', ')'], ['(', 'verts', ')'], ['.'], ['aux_tirages'], ['definitives'], ['.'], ['.'], [':'], ['.'], ['1', ',', '716', 'titres'], ['529', '>>'], ['383', '>>'], ['total', '.'], ['2', ',', '628', 'titres', '.'], ['et'], ['ne'], ['liberes', 'de', '25', 'francs', '(', 'verts', ')'], ['11'], ['ensemble', '.'], ['>>'], ['2', ',', '639', 'titres', '.'], ['les', '2', ',', '628', 'obligations_definitives', 'de', 'l', \"'\", 'emprunt', 'de', 'v', '05', 'a'], ['affecter', 'a', 'l', \"'\", 'echange', 'des', 'titres_provisoires', ',', 'ont_ete', 'remises', 'a', 'la'], ['ville', 'par', 'le', 'syndicat', 'contre', 'paiement', 'd', \"'\", 'une_somme', 'de'], ['fr', '.'], ['3', ':', '3', ',', '194', '-', '50', 'representant', 'le', 'versement', 'de', '75', 'francs', 'a', 'effectuer'], ['_'], ['loi', '--'], ['(', '31_janvier'], ['1910', ')'], ['depuis', 'le', '1', 'd', 'e', 'c', 'e', 'm', 'b', 'r', 'e', '1006', 's', 'u', 'r', '3', '9', '4', 't', 'i', 't', 'r', 'e', 's', 'liberes', 'de', '2', '5', 'f', 'r', 'a', 'n', 'c', 's', ','], ['p', 'l', 'u', 's', 'les', 'interets', 'de', 'r', 'e', 't', 'a', 'r', 'd', 'a', '4', 'p', '.'], ['c', '.', 'f', 'a', 'n', 'arretes', 'a', 'u', '27', 'd', 'e', 'c', 'e', 'm', 'bre', '1909', '.'], ['e', 'n', 'consequence', ',', 'l', 'e', 'college', 'v', 'o', 'u', 's', 'p', 'r', 'o', 'p', 'o', 's', 'e', ',', 'm', 'e', 's', 's', 'i', 'e', 'u', 'r', 's', ',', 'l', 'e', 'vote'], ['d', \"'\", 'u', 'n', 'credit', 'de', 'f', 'r', '.'], ['3', '3', ',', '1', '9', '4', '-', '5', '0', ',', 'a', 'prelever', 's', 'u', 'r', 'les', 'r', 'e', 's', 's', 'o', 'u', 'r', 'c', 'e', 's', 'e', 'x', 't', 'r', 'a', 'o', 'r', 'd', 'i', 'n', 'a', 'i', 'r', 'e', 's', 'de', 'l', \"'\", 'e', 'x', 'e', 'r', 'c', 'i', 'c', 'e', '1', '9', '0', '9', '.'], ['e', 'r'], ['l', 'a', 's', 'e', 'c', 't', 'i', 'o', 'n', 'des_finances', 'a', 'emis', 'u', 'n', 'avis', 'f', 'a', 'v', 'o', 'r', 'a', 'b', 'l', 'e', '.']]\n"
     ]
    }
   ],
   "source": [
    "print(corpus[:100])"
   ]
  },
  {
   "cell_type": "markdown",
   "id": "0c003d11-c4dd-4269-9907-ce1fd39de61a",
   "metadata": {},
   "source": [
    "## Entraînement d'un modèle Word2Vec sur ce corpus"
   ]
  },
  {
   "cell_type": "code",
   "execution_count": 57,
   "id": "4f91c469-38b6-49d2-b2fd-a954d6904ebe",
   "metadata": {},
   "outputs": [
    {
     "name": "stdout",
     "output_type": "stream",
     "text": [
      "CPU times: user 26.9 s, sys: 158 ms, total: 27 s\n",
      "Wall time: 15.5 s\n"
     ]
    }
   ],
   "source": [
    "%%time\n",
    "model = Word2Vec(\n",
    "    corpus, # On passe le corpus de ngrams que nous venons de créer\n",
    "    vector_size=32, # Le nombre de dimensions dans lesquelles le contexte des mots devra être réduit, aka. vector_size\n",
    "    window=5, # La taille du \"contexte\", ici 5 mots avant et après le mot observé\n",
    "    min_count=5, # On ignore les mots qui n'apparaissent pas au moins 5 fois dans le corpus\n",
    "    workers=4, # Permet de paralléliser l'entraînement du modèle en 4 threads\n",
    "    epochs=5 # Nombre d'itérations du réseau de neurones sur le jeu de données pour ajuster les paramètres avec la descende de gradient, aka. epochs.\n",
    ")"
   ]
  },
  {
   "cell_type": "markdown",
   "id": "a9ab7b16-c7a1-4ba7-9c10-97a29f947fe7",
   "metadata": {},
   "source": [
    "### Sauvegarder le modèle dans un fichier"
   ]
  },
  {
   "cell_type": "code",
   "execution_count": 58,
   "id": "fcc5f1b3-c21b-4eb2-ad6e-25ed4062c755",
   "metadata": {},
   "outputs": [],
   "source": [
    "outfile = f\"../data/bulletins_1910_tp4.model\"\n",
    "model.save(outfile)"
   ]
  },
  {
   "cell_type": "markdown",
   "id": "043189f0-298c-4f6b-9f17-bfe1470c18e7",
   "metadata": {},
   "source": [
    "## Explorer le modèle"
   ]
  },
  {
   "cell_type": "markdown",
   "id": "18d7c5cd-82c1-4d22-bc19-83b589b44dcd",
   "metadata": {},
   "source": [
    "### Charger le modèle en mémoire"
   ]
  },
  {
   "cell_type": "code",
   "execution_count": 59,
   "id": "59bfd22f-1aae-4fe9-b345-2142b9af14ac",
   "metadata": {},
   "outputs": [],
   "source": [
    "model = Word2Vec.load(\"../data/bulletins_1910_tp4.model\")"
   ]
  },
  {
   "cell_type": "markdown",
   "id": "2cfb2231-006f-4d64-8be7-2677fe12c9ef",
   "metadata": {},
   "source": [
    "### Imprimer le vecteur d'un terme"
   ]
  },
  {
   "cell_type": "code",
   "execution_count": 60,
   "id": "b2f65ded-5aaa-4e4f-ab79-f4e29180ff54",
   "metadata": {},
   "outputs": [
    {
     "data": {
      "text/plain": [
       "array([-1.1409361 ,  0.39057782,  0.44864193, -0.91632617,  3.1528392 ,\n",
       "       -2.4987197 , -0.660255  , -0.76340646,  0.3704395 , -0.2604994 ,\n",
       "        0.5134656 , -1.3344119 , -1.1363195 , -0.01562662, -2.2504041 ,\n",
       "        1.258942  , -0.1365764 , -1.6202219 , -3.1713548 ,  0.4084466 ,\n",
       "        1.0156811 ,  0.4022262 ,  0.6510475 , -2.3123777 ,  1.859781  ,\n",
       "       -1.3063929 , -3.2964182 ,  1.7346755 , -3.7652917 , -0.7917346 ,\n",
       "        1.0229253 , -1.1007062 ], dtype=float32)"
      ]
     },
     "execution_count": 60,
     "metadata": {},
     "output_type": "execute_result"
    }
   ],
   "source": [
    "model.wv[\"ecole\"]"
   ]
  },
  {
   "cell_type": "markdown",
   "id": "34f4172d-96a0-48c3-98aa-87ac6cd5ab40",
   "metadata": {
    "tags": []
   },
   "source": [
    "### Calculer la similarité entre deux termes"
   ]
  },
  {
   "cell_type": "code",
   "execution_count": 61,
   "id": "d6caeef6-0bf2-40b1-944a-fb337a9f215f",
   "metadata": {},
   "outputs": [
    {
     "data": {
      "text/plain": [
       "0.17750676"
      ]
     },
     "execution_count": 61,
     "metadata": {},
     "output_type": "execute_result"
    }
   ],
   "source": [
    "model.wv.similarity(\"ecole\", \"college\")"
   ]
  },
  {
   "cell_type": "code",
   "execution_count": 62,
   "id": "ded734e6-6279-4be9-a625-16dde508bd01",
   "metadata": {},
   "outputs": [
    {
     "data": {
      "text/plain": [
       "0.4094169"
      ]
     },
     "execution_count": 62,
     "metadata": {},
     "output_type": "execute_result"
    }
   ],
   "source": [
    "model.wv.similarity(\"ecole\", \"travaux\")"
   ]
  },
  {
   "cell_type": "code",
   "execution_count": 63,
   "id": "11c5565f-18f6-485f-b994-751131693494",
   "metadata": {},
   "outputs": [
    {
     "data": {
      "text/plain": [
       "0.66008663"
      ]
     },
     "execution_count": 63,
     "metadata": {},
     "output_type": "execute_result"
    }
   ],
   "source": [
    "model.wv.similarity(\"ecole\", \"construction\")"
   ]
  },
  {
   "cell_type": "code",
   "execution_count": 64,
   "id": "d8941699-6f68-4640-9ff8-c1e7cfb57c6b",
   "metadata": {},
   "outputs": [
    {
     "data": {
      "text/plain": [
       "0.6647371"
      ]
     },
     "execution_count": 64,
     "metadata": {},
     "output_type": "execute_result"
    }
   ],
   "source": [
    "model.wv.similarity(\"ecole\", \"enfants\")"
   ]
  },
  {
   "cell_type": "code",
   "execution_count": 65,
   "id": "8b4017d1-f0b5-4271-be68-19a560b15425",
   "metadata": {},
   "outputs": [
    {
     "data": {
      "text/plain": [
       "0.5932039"
      ]
     },
     "execution_count": 65,
     "metadata": {},
     "output_type": "execute_result"
    }
   ],
   "source": [
    "model.wv.similarity(\"ecole\", \"economie\")"
   ]
  },
  {
   "cell_type": "code",
   "execution_count": 66,
   "id": "16fb53b6-c273-4b89-8bf8-8b9653c4c6a5",
   "metadata": {},
   "outputs": [
    {
     "data": {
      "text/plain": [
       "0.15416613"
      ]
     },
     "execution_count": 66,
     "metadata": {},
     "output_type": "execute_result"
    }
   ],
   "source": [
    "model.wv.similarity(\"ecole\", \"bourgmestre\")"
   ]
  },
  {
   "cell_type": "markdown",
   "id": "f4dcf6b9-cadf-4383-9572-b0de2603b397",
   "metadata": {},
   "source": [
    "### Chercher les mots les plus proches d'un terme donné"
   ]
  },
  {
   "cell_type": "code",
   "execution_count": 67,
   "id": "c0c6c7d1-4f05-4d16-9c19-de8cf3bdc2e2",
   "metadata": {},
   "outputs": [
    {
     "data": {
      "text/plain": [
       "[('instruction', 0.78495854139328),\n",
       " ('association', 0.7664194107055664),\n",
       " ('enseignement', 0.7567496299743652),\n",
       " ('usage', 0.7551409006118774),\n",
       " ('extension', 0.7540187835693359),\n",
       " ('organisation', 0.7433465719223022),\n",
       " ('habitation', 0.7421678304672241),\n",
       " ('hopital', 0.7350879907608032),\n",
       " ('industrie', 0.7328788638114929),\n",
       " ('etablissement', 0.722536563873291)]"
      ]
     },
     "execution_count": 67,
     "metadata": {},
     "output_type": "execute_result"
    }
   ],
   "source": [
    "model.wv.most_similar(\"ecole\", topn=10)"
   ]
  },
  {
   "cell_type": "markdown",
   "id": "22bc2b54-325e-4777-ba3a-17039fd7c80f",
   "metadata": {},
   "source": [
    "### Faire des recherches complexes à travers l'espace vectoriel"
   ]
  },
  {
   "cell_type": "code",
   "execution_count": 68,
   "id": "553ca8a8-a287-44ee-99f9-0dc5f499347f",
   "metadata": {},
   "outputs": [
    {
     "name": "stdout",
     "output_type": "stream",
     "text": [
      "[('primes', 0.71915602684021), ('ordinaires', 0.7064698934555054), ('incendie', 0.6935310959815979), ('ameublement', 0.6762669682502747), ('education', 0.6470165848731995), ('adultes', 0.6413487792015076), ('electricite', 0.6357102990150452), ('institutrices', 0.6354878544807434), ('immondices', 0.6331477761268616), ('entretien', 0.6314980983734131)]\n"
     ]
    }
   ],
   "source": [
    "print(model.wv.most_similar(positive=['art', 'travaux'], negative=['bruxelles']))"
   ]
  },
  {
   "cell_type": "markdown",
   "id": "c5266b67-ba42-407b-bba6-2144e686ef4d",
   "metadata": {},
   "source": [
    "# Word Embeddings : le modèle Word2Vec de la décennie 1900"
   ]
  },
  {
   "cell_type": "markdown",
   "id": "5a47df74-0f98-4724-8a91-96f69993c574",
   "metadata": {},
   "source": [
    "## Chargement et traitement des phrases du corpus"
   ]
  },
  {
   "cell_type": "markdown",
   "id": "23dc0e99-9f57-471e-b353-6f5a27bd8190",
   "metadata": {},
   "source": [
    "### Création d'un objet qui *streame* les lignes d'un fichier pour économiser de la RAM"
   ]
  },
  {
   "cell_type": "code",
   "execution_count": 69,
   "id": "63720875-3a84-48e7-9fff-a247e549cf6d",
   "metadata": {},
   "outputs": [],
   "source": [
    "class MySentences(object):\n",
    "    \"\"\"Tokenize and Lemmatize sentences\"\"\"\n",
    "    def __init__(self, filename):\n",
    "        self.filename = filename\n",
    "\n",
    "    def __iter__(self):\n",
    "        for line in open(self.filename, encoding='utf-8', errors=\"backslashreplace\"):\n",
    "            yield [unidecode(w.lower()) for w in wordpunct_tokenize(line)]"
   ]
  },
  {
   "cell_type": "code",
   "execution_count": 72,
   "id": "75051949-43af-4bdb-838e-07c1092c20d2",
   "metadata": {},
   "outputs": [],
   "source": [
    "infile = f\"../data/tmp_tp4/sents_1900_tp4.txt\"\n",
    "sentences = MySentences(infile)\n",
    "\n",
    "sentences = [sentence for sentence in sentences]"
   ]
  },
  {
   "cell_type": "markdown",
   "id": "d3d4c6ea-732b-4047-877b-ddc6048cb4dd",
   "metadata": {},
   "source": [
    "### Détection des bigrams"
   ]
  },
  {
   "cell_type": "code",
   "execution_count": 73,
   "id": "59fb3cad-c933-40b0-aa66-4cbf46c73848",
   "metadata": {},
   "outputs": [],
   "source": [
    "bigram_phrases = Phrases(sentences)"
   ]
  },
  {
   "cell_type": "code",
   "execution_count": 74,
   "id": "b1a8d9a7-4a15-47fd-b886-0c3ca854a0c6",
   "metadata": {},
   "outputs": [
    {
     "data": {
      "text/plain": [
       "dict"
      ]
     },
     "execution_count": 74,
     "metadata": {},
     "output_type": "execute_result"
    }
   ],
   "source": [
    "type(bigram_phrases.vocab)"
   ]
  },
  {
   "cell_type": "markdown",
   "id": "e03ac565-2798-4762-8909-c984818faa35",
   "metadata": {},
   "source": [
    "Il contient de nombreuses clés qui sont autant de termes observés dans le corpus"
   ]
  },
  {
   "cell_type": "code",
   "execution_count": 75,
   "id": "b2d097d4-4410-4e0d-a906-4eabb7c04173",
   "metadata": {},
   "outputs": [
    {
     "data": {
      "text/plain": [
       "478855"
      ]
     },
     "execution_count": 75,
     "metadata": {},
     "output_type": "execute_result"
    }
   ],
   "source": [
    "len(bigram_phrases.vocab.keys())"
   ]
  },
  {
   "cell_type": "markdown",
   "id": "ee8265c0-4eec-4b76-8341-af6015f9fd09",
   "metadata": {},
   "source": [
    "Prenons une clé au hasard :"
   ]
  },
  {
   "cell_type": "code",
   "execution_count": 76,
   "id": "2a1a345d-4d5f-4561-945c-9104c9b9897f",
   "metadata": {},
   "outputs": [
    {
     "name": "stdout",
     "output_type": "stream",
     "text": [
      "950\n"
     ]
    }
   ],
   "source": [
    "key_ = list(bigram_phrases.vocab.keys())[144]\n",
    "print(key_)"
   ]
  },
  {
   "cell_type": "markdown",
   "id": "f98d576a-1a59-43f4-87ee-723a0068b648",
   "metadata": {},
   "source": [
    "Le dictionnaire indique le score de cette coocurrence :"
   ]
  },
  {
   "cell_type": "code",
   "execution_count": 77,
   "id": "6f2ec3b2-4b08-4036-ad33-e9603c2a5f12",
   "metadata": {},
   "outputs": [
    {
     "data": {
      "text/plain": [
       "328"
      ]
     },
     "execution_count": 77,
     "metadata": {},
     "output_type": "execute_result"
    }
   ],
   "source": [
    "bigram_phrases.vocab[key_]"
   ]
  },
  {
   "cell_type": "markdown",
   "id": "d24395af-6d06-445a-8b6b-bd95d0f43e67",
   "metadata": {},
   "source": [
    "Lorsque l'instance de `Phrases` a été entraînée, elle peut concaténer les bigrams dans les phrases lorsque c'est pertinent."
   ]
  },
  {
   "cell_type": "code",
   "execution_count": 78,
   "id": "21d77f1b-8ac2-49ef-9e39-1834f3f710f8",
   "metadata": {},
   "outputs": [
    {
     "name": "stdout",
     "output_type": "stream",
     "text": [
      "CPU times: user 82 µs, sys: 0 ns, total: 82 µs\n",
      "Wall time: 97.3 µs\n"
     ]
    },
    {
     "data": {
      "text/plain": [
       "['>>']"
      ]
     },
     "execution_count": 78,
     "metadata": {},
     "output_type": "execute_result"
    }
   ],
   "source": [
    "%time bigram_phrases[sentences[78]]"
   ]
  },
  {
   "cell_type": "markdown",
   "id": "63c40b36-fbc5-4820-951a-1f6a642f748c",
   "metadata": {},
   "source": [
    "### Conversion des `Phrases` en objet `Phraser`\n",
    "\n",
    "`Phraser` est un alias pour `gensim.models.phrases.FrozenPhrases`, voir ici https://radimrehurek.com/gensim/models/phrases.html.\n",
    "\n",
    "Le `Phraser` est une version *light* du `Phrases`, plus optimale pour transformer les phrases en concaténant les bigrams."
   ]
  },
  {
   "cell_type": "code",
   "execution_count": 79,
   "id": "55f49741-04eb-49f2-a187-3f2e092e034a",
   "metadata": {},
   "outputs": [],
   "source": [
    "bigram_phraser = Phraser(phrases_model=bigram_phrases)"
   ]
  },
  {
   "cell_type": "markdown",
   "id": "24387aca-0717-4c17-9a43-c31dc60157fb",
   "metadata": {},
   "source": [
    "Le `Phraser` est un objet qui convertit certains unigrams d'une liste en bigrams lorsqu'ils ont été identifiés comme pertinents."
   ]
  },
  {
   "cell_type": "code",
   "execution_count": 80,
   "id": "fdf7a77d-1cfc-42e9-ae46-497704c7dfba",
   "metadata": {},
   "outputs": [
    {
     "name": "stdout",
     "output_type": "stream",
     "text": [
      "CPU times: user 26 µs, sys: 1 µs, total: 27 µs\n",
      "Wall time: 33.6 µs\n"
     ]
    },
    {
     "data": {
      "text/plain": [
       "['>>']"
      ]
     },
     "execution_count": 80,
     "metadata": {},
     "output_type": "execute_result"
    }
   ],
   "source": [
    "%time bigram_phraser[sentences[78]]"
   ]
  },
  {
   "cell_type": "markdown",
   "id": "b31d4d0c-65b8-415c-ab33-1dd0484b369b",
   "metadata": {},
   "source": [
    "### Extraction des trigrams"
   ]
  },
  {
   "cell_type": "markdown",
   "id": "5a7415bf-0c23-4408-b6b5-45ad70870451",
   "metadata": {},
   "source": [
    "Nous répétons l'opération en envoyant cette fois la liste de bigrams afin d'extraire les trigrams."
   ]
  },
  {
   "cell_type": "code",
   "execution_count": 81,
   "id": "012b82ab-2e54-4004-ab12-bea7a1e4bff5",
   "metadata": {},
   "outputs": [],
   "source": [
    "trigram_phrases = Phrases(bigram_phraser[sentences])"
   ]
  },
  {
   "cell_type": "code",
   "execution_count": 82,
   "id": "456d6789-14c7-4f93-b00e-81133eb2d42d",
   "metadata": {},
   "outputs": [],
   "source": [
    "trigram_phraser = Phraser(phrases_model=trigram_phrases)"
   ]
  },
  {
   "cell_type": "markdown",
   "id": "3ca6a786-d422-4248-ade7-d8a111f4b9ea",
   "metadata": {},
   "source": [
    "### Création d'un corpus d'unigrams, bigrams, trigrams"
   ]
  },
  {
   "cell_type": "code",
   "execution_count": 83,
   "id": "717953c0-2c23-456a-b311-eea4689e7c2c",
   "metadata": {},
   "outputs": [],
   "source": [
    "corpus = list(trigram_phraser[bigram_phraser[sentences]])"
   ]
  },
  {
   "cell_type": "code",
   "execution_count": 84,
   "id": "9691240e-f033-4de1-8655-836202c3dc66",
   "metadata": {},
   "outputs": [
    {
     "name": "stdout",
     "output_type": "stream",
     "text": [
      "[['produit', 'du', 'droit', 'de', 'frequent'], ['publics'], ['142'], ['4869'], ['p', 'u', 'p', 'i', 't', 'r', 'e', 's', 'de', 'l', 'i', 'q', 'u', 'i', 'd', 'a', 't', 'i', 'o', 'n'], ['>>'], ['nombf'], ['des'], ['redevances'], ['nombre'], ['montant'], ['total'], ['de', 'porteurs'], ['de', 'depeches'], ['de'], ['delegues'], ['d', \"'\", 'agents'], ['de', 'change'], ['1868'], ['b', 'o', 'u', 'r', 's', 'e', 'at'], ['c', 'ai'], ['c', '\"'], ['montant'], ['sg'], ['a', 's'], ['d', \"'\", 'entrees'], ['?', 'n', 'm', 'o', 'y', 'e', 'n', 'n', 'e'], ['(', 'par', 'jour', ')'], ['d', 'e', 'sfonds'], ['nombre'], ['de'], ['banquiers'], ['annees'], ['bourse'], ['142'], ['5', ',', '600'], ['>>'], ['428'], ['128'], ['6', ',', '400'], ['>>'], ['>'], ['*'], ['4870'], ['445'], ['445'], ['7', ',', '250'], ['>>'], ['*'], ['>>'], ['>>'], ['4874'], ['4', '66'], ['466'], ['8', ',', '300'], ['>>'], ['>>'], ['s'], ['>>'], ['>>'], ['202'], ['40', ',', '400'], ['>>'], ['>'], ['>'], ['>>'], ['>>'], ['245'], ['55', ',', '350'], ['>*'], ['370'], ['74', ',', '950'], ['>>'], ['>'], ['>>'], ['4', '872'], ['>'], ['202'], ['>>'], ['4873'], ['>>'], ['486'], ['59'], ['4874'], ['61'], ['225'], ['84'], ['4875'], ['\"', '74'], ['223'], ['-', '81'], ['>'], ['378'], ['75', ',', '300'], ['>>'], ['>'], ['>>'], ['4876'], ['74'], ['209']]\n"
     ]
    }
   ],
   "source": [
    "print(corpus[:100])"
   ]
  },
  {
   "cell_type": "markdown",
   "id": "566d96ce-4a46-4b8d-b029-8a76b1ad0a07",
   "metadata": {
    "tags": []
   },
   "source": [
    "## Entrainement d'un modèle Word2Vec sur ce corpus"
   ]
  },
  {
   "cell_type": "code",
   "execution_count": 85,
   "id": "6465c490-4a95-4512-a8ad-1a7800ab126c",
   "metadata": {},
   "outputs": [
    {
     "name": "stdout",
     "output_type": "stream",
     "text": [
      "CPU times: user 28.6 s, sys: 244 ms, total: 28.8 s\n",
      "Wall time: 15.8 s\n"
     ]
    }
   ],
   "source": [
    "%%time\n",
    "model = Word2Vec(\n",
    "    corpus, # On passe le corpus de ngrams que nous venons de créer\n",
    "    vector_size=32, # Le nombre de dimensions dans lesquelles le contexte des mots devra être réduit, aka. vector_size\n",
    "    window=5, # La taille du \"contexte\", ici 5 mots avant et après le mot observé\n",
    "    min_count=5, # On ignore les mots qui n'apparaissent pas au moins 5 fois dans le corpus\n",
    "    workers=4, # Permet de paralléliser l'entraînement du modèle en 4 threads\n",
    "    epochs=5 # Nombre d'itérations du réseau de neurones sur le jeu de données pour ajuster les paramètres avec la descende de gradient, aka. epochs.\n",
    ")"
   ]
  },
  {
   "cell_type": "markdown",
   "id": "87ae69ab-5842-47ee-94ba-98d2402241cc",
   "metadata": {},
   "source": [
    "### Sauvegarder le modèle dans un fichier"
   ]
  },
  {
   "cell_type": "code",
   "execution_count": 87,
   "id": "c7c94631-427e-4ec0-90cb-4a0ac3ca6d33",
   "metadata": {},
   "outputs": [],
   "source": [
    "outfile = f\"../data/bulletins_1900_tp4.model\"\n",
    "model.save(outfile)"
   ]
  },
  {
   "cell_type": "markdown",
   "id": "19b312d6-0e8c-41c5-a85c-51bbb32deee3",
   "metadata": {},
   "source": [
    "## Explorer le modèle"
   ]
  },
  {
   "cell_type": "markdown",
   "id": "a4274014-78de-46b9-9cac-9c95d2a9ac3c",
   "metadata": {},
   "source": [
    "### Charger le modèle en mémoire"
   ]
  },
  {
   "cell_type": "code",
   "execution_count": 88,
   "id": "e11bcda0-c967-42ea-ac4c-51b4cb4db9c8",
   "metadata": {},
   "outputs": [],
   "source": [
    "model = Word2Vec.load(\"../data/bulletins_1900_tp4.model\")"
   ]
  },
  {
   "cell_type": "markdown",
   "id": "adaeb6c3-6740-4fde-b0f8-5f7d04049996",
   "metadata": {},
   "source": [
    "### Imprimer le vecteur d'un terme"
   ]
  },
  {
   "cell_type": "code",
   "execution_count": 90,
   "id": "ec77d67b-daf3-43b0-991c-11c2d0eee5b8",
   "metadata": {},
   "outputs": [
    {
     "data": {
      "text/plain": [
       "array([-0.34754843, -0.17173974,  0.27266422,  0.61391026,  2.7732704 ,\n",
       "        2.8321402 , -2.3571956 ,  1.80242   ,  0.6317885 ,  1.6909484 ,\n",
       "       -0.05845789, -0.29225597, -2.0383966 ,  0.96590143,  0.14322126,\n",
       "        0.45163924, -0.23044597,  0.37161425,  0.28837913, -1.0029634 ,\n",
       "        2.6814685 , -0.43584177,  2.321995  ,  1.301112  ,  2.892728  ,\n",
       "       -2.2201202 , -2.4498668 ,  0.5216067 , -1.768015  , -0.8668347 ,\n",
       "        1.7438655 , -3.4809396 ], dtype=float32)"
      ]
     },
     "execution_count": 90,
     "metadata": {},
     "output_type": "execute_result"
    }
   ],
   "source": [
    "model.wv[\"ecole\"]"
   ]
  },
  {
   "cell_type": "markdown",
   "id": "8b01c610-da05-49d9-bba8-2215ed937895",
   "metadata": {},
   "source": [
    "### Calculer la similarité entre deux termes"
   ]
  },
  {
   "cell_type": "code",
   "execution_count": 91,
   "id": "a2164218-da3c-493e-8dbe-cb4017088f72",
   "metadata": {},
   "outputs": [
    {
     "data": {
      "text/plain": [
       "0.17949401"
      ]
     },
     "execution_count": 91,
     "metadata": {},
     "output_type": "execute_result"
    }
   ],
   "source": [
    "model.wv.similarity(\"ecole\", \"college\")"
   ]
  },
  {
   "cell_type": "code",
   "execution_count": 92,
   "id": "2521862f-6916-4d2b-ad1c-f720ee5bdbee",
   "metadata": {},
   "outputs": [
    {
     "data": {
      "text/plain": [
       "0.36352074"
      ]
     },
     "execution_count": 92,
     "metadata": {},
     "output_type": "execute_result"
    }
   ],
   "source": [
    "model.wv.similarity(\"ecole\", \"travaux\")"
   ]
  },
  {
   "cell_type": "code",
   "execution_count": 93,
   "id": "6216c0d7-2268-43d9-97de-ee602f479b06",
   "metadata": {},
   "outputs": [
    {
     "data": {
      "text/plain": [
       "0.66064876"
      ]
     },
     "execution_count": 93,
     "metadata": {},
     "output_type": "execute_result"
    }
   ],
   "source": [
    "model.wv.similarity(\"ecole\", \"construction\")"
   ]
  },
  {
   "cell_type": "code",
   "execution_count": 94,
   "id": "b337ff35-b2f1-40a2-b6cc-2c79f32e0572",
   "metadata": {},
   "outputs": [
    {
     "data": {
      "text/plain": [
       "0.5728574"
      ]
     },
     "execution_count": 94,
     "metadata": {},
     "output_type": "execute_result"
    }
   ],
   "source": [
    "model.wv.similarity(\"ecole\", \"enfants\")"
   ]
  },
  {
   "cell_type": "code",
   "execution_count": 95,
   "id": "94b8b0ff-770e-4a8f-90e7-77ece8110bf3",
   "metadata": {},
   "outputs": [
    {
     "data": {
      "text/plain": [
       "0.60765934"
      ]
     },
     "execution_count": 95,
     "metadata": {},
     "output_type": "execute_result"
    }
   ],
   "source": [
    "model.wv.similarity(\"ecole\", \"economie\")"
   ]
  },
  {
   "cell_type": "code",
   "execution_count": 96,
   "id": "c352695e-7649-40d8-ac8f-0774b1a8a7f7",
   "metadata": {},
   "outputs": [
    {
     "data": {
      "text/plain": [
       "0.0902953"
      ]
     },
     "execution_count": 96,
     "metadata": {},
     "output_type": "execute_result"
    }
   ],
   "source": [
    "model.wv.similarity(\"ecole\", \"bourgmestre\")"
   ]
  },
  {
   "cell_type": "markdown",
   "id": "28608cce-4ab7-462f-a5f8-32d38dc67217",
   "metadata": {},
   "source": [
    "### Chercher les mots les plus proches d'un terme donné"
   ]
  },
  {
   "cell_type": "code",
   "execution_count": 97,
   "id": "3992861b-9c97-4d6c-9a29-34e6c6c840f9",
   "metadata": {},
   "outputs": [
    {
     "data": {
      "text/plain": [
       "[('usine', 0.8174176216125488),\n",
       " ('hopital', 0.8038303256034851),\n",
       " ('ecole_primaire', 0.778652012348175),\n",
       " ('enseignement', 0.7499747276306152),\n",
       " ('academie', 0.7465783357620239),\n",
       " ('installation', 0.7443757057189941),\n",
       " ('ecole_professionnelle', 0.7415958642959595),\n",
       " ('association', 0.738534152507782),\n",
       " ('hospice', 0.7264813184738159),\n",
       " ('achevement', 0.7249936461448669)]"
      ]
     },
     "execution_count": 97,
     "metadata": {},
     "output_type": "execute_result"
    }
   ],
   "source": [
    "model.wv.most_similar(\"ecole\", topn=10)"
   ]
  },
  {
   "cell_type": "markdown",
   "id": "bfc4b724-183f-4c60-95bd-a0b9d95a5128",
   "metadata": {},
   "source": [
    "### Faire des recherches complexes à travers l'espace vectoriel"
   ]
  },
  {
   "cell_type": "code",
   "execution_count": 98,
   "id": "da2845b7-bd7a-426d-a18e-a041d77f9f8b",
   "metadata": {},
   "outputs": [
    {
     "name": "stdout",
     "output_type": "stream",
     "text": [
      "[('abonnes', 0.6559460759162903), ('ressources_ordinaires', 0.6498435735702515), ('amortissement', 0.6362881660461426), ('incendie', 0.6327128410339355), ('ordinaires', 0.6271665096282959), ('ressources_extraordinaires', 0.6244856119155884), ('utilite_publique', 0.6229644417762756), ('exercice_1907', 0.6220771074295044), ('orgue', 0.6115286350250244), ('exercice_1908', 0.6092736721038818)]\n"
     ]
    }
   ],
   "source": [
    "print(model.wv.most_similar(positive=['art', 'travaux'], negative=['bruxelles']))"
   ]
  }
 ],
 "metadata": {
  "kernelspec": {
   "display_name": "Python 3 (ipykernel)",
   "language": "python",
   "name": "python3"
  },
  "language_info": {
   "codemirror_mode": {
    "name": "ipython",
    "version": 3
   },
   "file_extension": ".py",
   "mimetype": "text/x-python",
   "name": "python",
   "nbconvert_exporter": "python",
   "pygments_lexer": "ipython3",
   "version": "3.9.7"
  }
 },
 "nbformat": 4,
 "nbformat_minor": 5
}
