{
 "cells": [
  {
   "cell_type": "markdown",
   "id": "779d1e7e-f235-488e-998a-98d8f2e0b985",
   "metadata": {},
   "source": [
    "Interroger une API pour enrichir les données des bulletins communaux\n"
   ]
  },
  {
   "cell_type": "code",
   "execution_count": null,
   "id": "c06a1d93-a0db-4559-adc9-2fb2a495e7a0",
   "metadata": {},
   "outputs": [],
   "source": [
    "import json\n",
    "import requests"
   ]
  },
  {
   "cell_type": "markdown",
   "id": "ee58d906-baee-4eb2-86e1-e9948f5c30cb",
   "metadata": {},
   "source": [
    "Utiliser Referential API Documentation"
   ]
  },
  {
   "cell_type": "code",
   "execution_count": null,
   "id": "e176fcad-fe22-4eb3-a772-82b8b8cf5d6f",
   "metadata": {},
   "outputs": [],
   "source": [
    "https://rapidapi.com/referential/api/referential/"
   ]
  },
  {
   "cell_type": "code",
   "execution_count": null,
   "id": "3ab60dd0-af33-4f99-92bd-5436502443f7",
   "metadata": {},
   "outputs": [],
   "source": [
    "var axios = require(\"axios\").default;\n",
    "\n",
    "var options = {\n",
    "  method: 'GET',\n",
    "  url: 'https://referential.p.rapidapi.com/v1/city/DULUTH%7CUS-GA',\n",
    "  params: {lang: 'en', fields: 'iso_a2,state_code,state_hasc,timezone, timezone_offset'},\n",
    "  headers: {\n",
    "    'x-rapidapi-host': 'referential.p.rapidapi.com',\n",
    "    'x-rapidapi-key': 'e91070c489msh147a45d61225d88p13437ejsn463e22266745'\n",
    "  }\n",
    "};\n",
    "\n",
    "axios.request(options).then(function (response) {\n",
    "\tconsole.log(response.data);\n",
    "}).catch(function (error) {\n",
    "\tconsole.error(error);\n",
    "});"
   ]
  },
  {
   "cell_type": "code",
   "execution_count": null,
   "id": "7724b4f8-199f-4666-9888-e83f6b66c324",
   "metadata": {},
   "outputs": [],
   "source": []
  }
 ],
 "metadata": {
  "kernelspec": {
   "display_name": "Python 3 (ipykernel)",
   "language": "python",
   "name": "python3"
  },
  "language_info": {
   "codemirror_mode": {
    "name": "ipython",
    "version": 3
   },
   "file_extension": ".py",
   "mimetype": "text/x-python",
   "name": "python",
   "nbconvert_exporter": "python",
   "pygments_lexer": "ipython3",
   "version": "3.9.7"
  }
 },
 "nbformat": 4,
 "nbformat_minor": 5
}
