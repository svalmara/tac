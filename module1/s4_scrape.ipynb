{
 "cells": [
  {
   "cell_type": "markdown",
   "metadata": {},
   "source": [
    "# Scraping: récupération des PDFs des bulletins AVB"
   ]
  },
  {
   "cell_type": "markdown",
   "metadata": {},
   "source": [
    "## Imports"
   ]
  },
  {
   "cell_type": "code",
   "execution_count": 1,
   "metadata": {},
   "outputs": [],
   "source": [
    "import os\n",
    "import re\n",
    "import time\n",
    "import sys\n",
    "import requests"
   ]
  },
  {
   "cell_type": "markdown",
   "metadata": {},
   "source": [
    "## Créer un répertoire pour stocker tous les fichiers PDF"
   ]
  },
  {
   "cell_type": "code",
   "execution_count": 3,
   "metadata": {},
   "outputs": [],
   "source": [
    "pdf_path = '../data/pdf'\n",
    "# Créer le dossier s'il n'existe pas\n",
    "if not os.path.exists(pdf_path):\n",
    "    os.mkdir(pdf_path)"
   ]
  },
  {
   "cell_type": "markdown",
   "metadata": {},
   "source": [
    "## Récupérer les URLs des pdf de tous les bulletins communaux"
   ]
  },
  {
   "cell_type": "markdown",
   "metadata": {},
   "source": [
    "https://archives.bruxelles.be/bulletins/date"
   ]
  },
  {
   "cell_type": "code",
   "execution_count": 4,
   "metadata": {},
   "outputs": [
    {
     "name": "stdout",
     "output_type": "stream",
     "text": [
      "Status: 200\n",
      "Encoding: utf-8\n",
      "Text length: 822636\n",
      "2833 PDF files found\n"
     ]
    }
   ],
   "source": [
    "root_url = \"https://archives.bruxelles.be/bulletins/date\"\n",
    "resp = requests.get(root_url)\n",
    "print(f\"Status: {resp.status_code}\")\n",
    "print(f\"Encoding: {resp.encoding}\")\n",
    "html = resp.text\n",
    "print(f\"Text length: {len(html)}\")\n",
    "\n",
    "pattern = r\"https://archief.brussel.be/Colossus/BulletinsCommunaux/Bulletins/Documents/.*\\.pdf\"\n",
    "urls = re.findall(pattern, html)\n",
    "print(f\"{len(urls)} PDF files found\")"
   ]
  },
  {
   "cell_type": "code",
   "execution_count": 5,
   "metadata": {},
   "outputs": [
    {
     "name": "stdout",
     "output_type": "stream",
     "text": [
      "['https://archief.brussel.be/Colossus/BulletinsCommunaux/Bulletins/Documents/Bxl_1847_Tome_I1_Part_1.pdf', 'https://archief.brussel.be/Colossus/BulletinsCommunaux/Bulletins/Documents/Bxl_1847_Tome_I1_Part_2.pdf', 'https://archief.brussel.be/Colossus/BulletinsCommunaux/Bulletins/Documents/Bxl_1847_Tome_I1_Part_3.pdf', 'https://archief.brussel.be/Colossus/BulletinsCommunaux/Bulletins/Documents/Bxl_1847_Tome_I1_Part_4.pdf', 'https://archief.brussel.be/Colossus/BulletinsCommunaux/Bulletins/Documents/Bxl_1847_Tome_I1_Part_5.pdf', 'https://archief.brussel.be/Colossus/BulletinsCommunaux/Bulletins/Documents/Bxl_1848_Tome_I1_Part_1.pdf', 'https://archief.brussel.be/Colossus/BulletinsCommunaux/Bulletins/Documents/Bxl_1848_Tome_I1_Part_2.pdf', 'https://archief.brussel.be/Colossus/BulletinsCommunaux/Bulletins/Documents/Bxl_1848_Tome_I1_Part_3.pdf', 'https://archief.brussel.be/Colossus/BulletinsCommunaux/Bulletins/Documents/Bxl_1849_Tome_I1_Part_1.pdf', 'https://archief.brussel.be/Colossus/BulletinsCommunaux/Bulletins/Documents/Bxl_1849_Tome_I1_Part_2.pdf']\n"
     ]
    }
   ],
   "source": [
    "# Impression des 10 premières URLs\n",
    "print(urls[:10])"
   ]
  },
  {
   "cell_type": "markdown",
   "metadata": {},
   "source": [
    "## Télécharger tous les PDFs"
   ]
  },
  {
   "cell_type": "code",
   "execution_count": null,
   "metadata": {},
   "outputs": [
    {
     "name": "stdout",
     "output_type": "stream",
     "text": [
      "Downloading Bxl_1847_Tome_I1_Part_1.pdf...\n",
      "   done in 19.5 seconds\n",
      "Downloading Bxl_1847_Tome_I1_Part_2.pdf...\n",
      "   done in 20.1 seconds\n",
      "Downloading Bxl_1847_Tome_I1_Part_3.pdf...\n"
     ]
    }
   ],
   "source": [
    "start_offset = 0\n",
    "end_offset = len(urls)\n",
    "for url in urls[start_offset:end_offset]:\n",
    "    filename = url.split(\"/\")[-1]\n",
    "    if not os.path.exists(os.path.join(pdf_path, filename)):\n",
    "        print(f\"Downloading {filename}...\")\n",
    "        start_time = time.time()\n",
    "        response = requests.get(url)\n",
    "        print(f\"   done in {(time.time() - start_time):.1f} seconds\")\n",
    "        output_file = open(os.path.join(pdf_path, filename), \"wb\")\n",
    "        output_file.write(response.content)\n",
    "    else:\n",
    "        print(f\"{filename} already downloaded\")\n",
    "print(\"Done\")"
   ]
  },
  {
   "cell_type": "markdown",
   "metadata": {},
   "source": [
    "## Vérifier que tous les PDFs ont été téléchargés\n"
   ]
  },
  {
   "cell_type": "markdown",
   "metadata": {},
   "source": [
    "Si ce n'est pas le cas, vous pouvez relancer l'étape de téléchargement (elle ignorera les documents déjà téléchargés)"
   ]
  },
  {
   "cell_type": "code",
   "execution_count": null,
   "metadata": {},
   "outputs": [],
   "source": [
    "ok_count = 0\n",
    "for url in urls:\n",
    "    filename = url.split(\"/\")[-1]\n",
    "    downloads = os.listdir(pdf_path)\n",
    "    if filename not in downloads:\n",
    "        print(f\"{filename} is missing!\")\n",
    "    else:\n",
    "        ok_count += 1\n",
    "print(f\"{ok_count} PDFs found on {len(urls)}!\")"
   ]
  },
  {
   "cell_type": "markdown",
   "metadata": {},
   "source": [
    "## Pour en savoir plus"
   ]
  },
  {
   "cell_type": "markdown",
   "metadata": {},
   "source": [
    "- Le web scraping avec Python: https://realpython.com/beautiful-soup-web-scraper-python/\n",
    "- Tutoriel sur les expressions régulières: https://www.w3schools.com/python/python_regex.asp"
   ]
  }
 ],
 "metadata": {
  "kernelspec": {
   "display_name": "Python 3 (ipykernel)",
   "language": "python",
   "name": "python3"
  },
  "language_info": {
   "codemirror_mode": {
    "name": "ipython",
    "version": 3
   },
   "file_extension": ".py",
   "mimetype": "text/x-python",
   "name": "python",
   "nbconvert_exporter": "python",
   "pygments_lexer": "ipython3",
   "version": "3.9.7"
  }
 },
 "nbformat": 4,
 "nbformat_minor": 4
}
