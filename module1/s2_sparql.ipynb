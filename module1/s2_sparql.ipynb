{
 "cells": [
  {
   "cell_type": "markdown",
   "id": "a55bff12-589b-4c34-8b47-5dde87581e61",
   "metadata": {},
   "source": [
    "Imaginez une requête SPARQL qui puisse être utile pour les Archives de la\n",
    "Ville de Bruxelles"
   ]
  },
  {
   "cell_type": "code",
   "execution_count": null,
   "id": "54b79470-536c-41ee-a576-84203fd90f24",
   "metadata": {},
   "outputs": [],
   "source": []
  },
  {
   "cell_type": "code",
   "execution_count": null,
   "id": "f1db10b8-24a5-4630-aaea-2ca5e4d14d21",
   "metadata": {
    "tags": []
   },
   "outputs": [],
   "source": [
    "from datetime import datetime as dt\n",
    "from SPARQLWrapper import SPARQLWrapper, JSON"
   ]
  },
  {
   "cell_type": "markdown",
   "id": "c60f4044-d063-482e-b009-68b80e8820f5",
   "metadata": {},
   "source": [
    "Obtenir la liste des bourgmestres de la ville de Bruxelles"
   ]
  },
  {
   "cell_type": "code",
   "execution_count": 32,
   "id": "1d5f969a-a0de-4d56-910c-37495e13aab8",
   "metadata": {},
   "outputs": [
    {
     "ename": "SyntaxError",
     "evalue": "invalid syntax (2171689494.py, line 36)",
     "output_type": "error",
     "traceback": [
      "\u001b[0;36m  File \u001b[0;32m\"/tmp/ipykernel_214/2171689494.py\"\u001b[0;36m, line \u001b[0;32m36\u001b[0m\n\u001b[0;31m    print(f\"{row['personLabel']['value']} ({startDate})\")\u001b[0m\n\u001b[0m    ^\u001b[0m\n\u001b[0;31mSyntaxError\u001b[0m\u001b[0;31m:\u001b[0m invalid syntax\n"
     ]
    }
   ],
   "source": [
    "endpoint = \"https://query.wikidata.org/bigdata/namespace/wdq/sparql\"\n",
    "sparql = SPARQLWrapper(endpoint)\n",
    "\n",
    "statement = \"\"\"\n",
    "SELECT DISTINCT ?person ?personLabel ?startDate\n",
    "    WHERE {\n",
    "    ?person wdt:P27   wd:Q31 ;\n",
    "            \n",
    "    ?person    p:P106    ?statement .\n",
    "    ?statement pq:P560  ?startDate .\n",
    "    \n",
    "    SERVICE wikibase:label { bd:serviceParam wikibase:language \"en\" . }\n",
    "}\n",
    "\n",
    "ORDER BY ?startDate\n",
    "\"\"\"\n",
    "\n",
    "sparql.setQuery(statement)\n",
    "sparql.setReturnFormat(JSON)\n",
    "results = sparql.query().convert()\n",
    "rows = results['results']['bindings']\n",
    "\n",
    "for row in rows[:n]:\n",
    "        try:\n",
    "            birth_date = dt.strptime(row['dateBirth']['value'], date_format)\n",
    "            birth_year = birth_date.year\n",
    "        except ValueError:\n",
    "            birth_year = \"????\"\n",
    "        try:\n",
    "            death_date = dt.strptime(row['dateDeath']['value'], date_format)\n",
    "            death_year = death_date.year\n",
    "\n",
    "        print(f\"{row['personLabel']['value']} ({startDate})\")"
   ]
  },
  {
   "cell_type": "code",
   "execution_count": null,
   "id": "aa551734-8b54-4039-a7ef-f8a634623945",
   "metadata": {},
   "outputs": [],
   "source": []
  }
 ],
 "metadata": {
  "kernelspec": {
   "display_name": "Python 3 (ipykernel)",
   "language": "python",
   "name": "python3"
  },
  "language_info": {
   "codemirror_mode": {
    "name": "ipython",
    "version": 3
   },
   "file_extension": ".py",
   "mimetype": "text/x-python",
   "name": "python",
   "nbconvert_exporter": "python",
   "pygments_lexer": "ipython3",
   "version": "3.9.7"
  }
 },
 "nbformat": 4,
 "nbformat_minor": 5
}
