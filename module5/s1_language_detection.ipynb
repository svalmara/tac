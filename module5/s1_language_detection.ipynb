{
 "cells": [
  {
   "cell_type": "markdown",
   "metadata": {},
   "source": [
    "# La détection de langue"
   ]
  },
  {
   "cell_type": "markdown",
   "metadata": {},
   "source": [
    "Nous utilisons ici la librairie langid:\n",
    "    \n",
    "https://pypi.org/project/langid/"
   ]
  },
  {
   "cell_type": "markdown",
   "metadata": {},
   "source": [
    "## Imports"
   ]
  },
  {
   "cell_type": "code",
   "execution_count": 1,
   "metadata": {},
   "outputs": [],
   "source": [
    "import os\n",
    "from collections import defaultdict\n",
    "\n",
    "import langid\n",
    "import pycountry"
   ]
  },
  {
   "cell_type": "markdown",
   "metadata": {},
   "source": [
    "## Forcer l'algorithme à ne détecter que du Français et du Néerlandais"
   ]
  },
  {
   "cell_type": "code",
   "execution_count": 2,
   "metadata": {},
   "outputs": [],
   "source": [
    "langid.set_languages(['fr', 'nl'])"
   ]
  },
  {
   "cell_type": "markdown",
   "metadata": {},
   "source": [
    "## Lister tous les documents"
   ]
  },
  {
   "cell_type": "code",
   "execution_count": 3,
   "metadata": {},
   "outputs": [
    {
     "name": "stdout",
     "output_type": "stream",
     "text": [
      "2829 TXT files found\n"
     ]
    }
   ],
   "source": [
    "root = \"../data/txt/\"\n",
    "txts = os.listdir(root)\n",
    "print(f\"{len(txts)} TXT files found\")"
   ]
  },
  {
   "cell_type": "markdown",
   "metadata": {},
   "source": [
    "## Détecter la langue pour tous les documents"
   ]
  },
  {
   "cell_type": "markdown",
   "metadata": {},
   "source": [
    "Nous allons lire chaque fichier, détecter la langue, et incrémenter `lang_dict` lorsqu'une langue est détectée.\n",
    "\n",
    "**Important** : pour détecter les langues sur tous les documents, mettez `limit = None` ci-dessous."
   ]
  },
  {
   "cell_type": "code",
   "execution_count": 4,
   "metadata": {},
   "outputs": [],
   "source": [
    "limit = 500\n",
    "# limit = None"
   ]
  },
  {
   "cell_type": "code",
   "execution_count": 5,
   "metadata": {},
   "outputs": [],
   "source": [
    "lang_dict = defaultdict(int)\n",
    "txts = txts[:limit] if limit else texts"
   ]
  },
  {
   "cell_type": "code",
   "execution_count": 6,
   "metadata": {},
   "outputs": [
    {
     "name": "stdout",
     "output_type": "stream",
     "text": [
      "0 document(s) processed...\n",
      "50 document(s) processed...\n",
      "100 document(s) processed...\n",
      "150 document(s) processed...\n",
      "200 document(s) processed...\n",
      "250 document(s) processed...\n",
      "300 document(s) processed...\n",
      "350 document(s) processed...\n",
      "Bxl_1967_Tome_I1_Part_11.txt contains only 1 characters, treating as unknown\n",
      "400 document(s) processed...\n",
      "450 document(s) processed...\n",
      "Done\n"
     ]
    }
   ],
   "source": [
    "for i, txt in enumerate(sorted(txts)):\n",
    "    if txt.endswith(\"txt\"):\n",
    "        if i % 50 == 0:\n",
    "            print(f'{i} document(s) processed...')\n",
    "        text = open(os.path.join(root, txt)).read()\n",
    "        text_length = len(text)\n",
    "        if text_length > 20:\n",
    "            lang, conf = langid.classify(text)\n",
    "            lang_dict[lang] += 1\n",
    "        else:\n",
    "            print(f\"{txt} contains only {text_length} characters, treating as unknown\")\n",
    "            lang_dict['n/a'] += 1\n",
    "print(\"Done\")"
   ]
  },
  {
   "cell_type": "markdown",
   "metadata": {},
   "source": [
    "## Afficher le nombre de documents par langue"
   ]
  },
  {
   "cell_type": "code",
   "execution_count": null,
   "metadata": {},
   "outputs": [],
   "source": [
    "for lang_code, nb_docs in lang_dict.items():\n",
    "    language = pycountry.languages.get(alpha_2=lang_code)\n",
    "    try:\n",
    "        lang_name = language.name\n",
    "    except AttributeError:\n",
    "        lang_name = language\n",
    "    print(f\"{lang_name}\\t{nb_docs}\")"
   ]
  }
 ],
 "metadata": {
  "kernelspec": {
   "display_name": "Python 3 (ipykernel)",
   "language": "python",
   "name": "python3"
  },
  "language_info": {
   "codemirror_mode": {
    "name": "ipython",
    "version": 3
   },
   "file_extension": ".py",
   "mimetype": "text/x-python",
   "name": "python",
   "nbconvert_exporter": "python",
   "pygments_lexer": "ipython3",
   "version": "3.9.7"
  }
 },
 "nbformat": 4,
 "nbformat_minor": 4
}
