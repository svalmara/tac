{
 "cells": [
  {
   "cell_type": "markdown",
   "id": "3e505cd7-cc37-4ded-8c5b-e7e2576e2daa",
   "metadata": {},
   "source": [
    "# TP4 Fréquance de la thématique par décennie - Sofia Valma-Rantisits"
   ]
  },
  {
   "cell_type": "code",
   "execution_count": 2,
   "id": "75b62544-99d7-4feb-a623-e80ad0cfb49a",
   "metadata": {},
   "outputs": [],
   "source": [
    "import collections\n",
    "import os\n",
    "import string\n",
    "import sys"
   ]
  },
  {
   "cell_type": "code",
   "execution_count": 3,
   "id": "d0b03c76-cff5-41a1-b24b-d55274ee60bb",
   "metadata": {},
   "outputs": [
    {
     "name": "stderr",
     "output_type": "stream",
     "text": [
      "[nltk_data] Downloading package punkt to /root/nltk_data...\n",
      "[nltk_data]   Unzipping tokenizers/punkt.zip.\n"
     ]
    },
    {
     "data": {
      "text/plain": [
       "True"
      ]
     },
     "execution_count": 3,
     "metadata": {},
     "output_type": "execute_result"
    }
   ],
   "source": [
    "import nltk\n",
    "\n",
    "nltk.download('punkt')"
   ]
  },
  {
   "cell_type": "markdown",
   "id": "9e9b0ba5-df6c-41ab-9632-500dcca7dea7",
   "metadata": {
    "tags": []
   },
   "source": [
    "# Séparer les fichiers de chaque décennie"
   ]
  },
  {
   "cell_type": "markdown",
   "id": "4af6b736-29ed-4825-a5bb-e8f3a408e6cf",
   "metadata": {
    "tags": []
   },
   "source": [
    "## Charger tous les  fichiers de la décennie `1850` et créer un fichier de texts"
   ]
  },
  {
   "cell_type": "code",
   "execution_count": 31,
   "id": "1ad1f8f2-3ecc-4d41-95fc-aa096237876d",
   "metadata": {},
   "outputs": [
    {
     "data": {
      "text/plain": [
       "['Bxl_1854_Tome_I1_Part_1.txt',\n",
       " 'Bxl_1856_Tome_II1_Part_3.txt',\n",
       " 'Bxl_1857_Tome_I1_Part_5.txt',\n",
       " 'Bxl_1851_Tome_II1_Part_6.txt',\n",
       " 'Bxl_1851_Tome_II1_Part_7.txt',\n",
       " 'Bxl_1856_Tome_II1_Part_6.txt',\n",
       " 'Bxl_1851_Tome_II1_Part_1.txt',\n",
       " 'Bxl_1855_Tome_I1_Part_1.txt',\n",
       " 'Bxl_1850_Tome_I1_Part_4.txt',\n",
       " 'Bxl_1856_Tome_II1_Part_7.txt',\n",
       " 'Bxl_1859_Tome_II1_Part_2.txt',\n",
       " 'Bxl_1852_Tome_I1_Part_5.txt',\n",
       " 'Bxl_1850_Tome_I1_Part_1.txt',\n",
       " 'Bxl_1857_Tome_I1_Part_3.txt',\n",
       " 'Bxl_1857_Tome_II1_Part_2.txt',\n",
       " 'Bxl_1859_Tome_II1_Part_5.txt',\n",
       " 'Bxl_1855_Tome_I1_Part_3.txt',\n",
       " 'Bxl_1855_Tome_II1_Part_2.txt',\n",
       " 'Bxl_1854_Tome_II1_Part_4.txt',\n",
       " 'Bxl_1850_Tome_II1_Part_7.txt']"
      ]
     },
     "execution_count": 31,
     "metadata": {},
     "output_type": "execute_result"
    }
   ],
   "source": [
    "# Lister les fichiers de bulletins qui correspondent à Bruxelles\n",
    "data_path = '../data'\n",
    "txt_path = '../data/txt'\n",
    "txts = [f for f in os.listdir(txt_path) if os.path.isfile(os.path.join(txt_path, f)) if f.startswith('Bxl_185')]\n",
    "txts [:20]"
   ]
  },
  {
   "cell_type": "code",
   "execution_count": 32,
   "id": "ede5331e-73e0-400f-a90f-c17dde31367d",
   "metadata": {
    "tags": []
   },
   "outputs": [],
   "source": [
    "# Stocker le contenu de ces fichiers dans une liste\n",
    "content_list = []\n",
    "for txt in txts:\n",
    "    with open(os.path.join(txt_path, txt), 'r') as f:\n",
    "        content_list.append(f.read())"
   ]
  },
  {
   "cell_type": "code",
   "execution_count": 33,
   "id": "ceee0cae-4ef5-47d0-a797-668cd54f4bd0",
   "metadata": {},
   "outputs": [
    {
     "data": {
      "text/plain": [
       "97"
      ]
     },
     "execution_count": 33,
     "metadata": {},
     "output_type": "execute_result"
    }
   ],
   "source": [
    "# Compter le nombre d'éléments (=fichiers) dans la liste\n",
    "len(content_list)"
   ]
  },
  {
   "cell_type": "code",
   "execution_count": 34,
   "id": "53e4600f-995c-4b7e-8944-1f41b57cc750",
   "metadata": {},
   "outputs": [
    {
     "data": {
      "text/plain": [
       "'VILLE DE\\n\\nBULLETIN\\nANNÉE\\n\\nP R E M I E R\\n\\n1854.\\n\\nS E M E S T R E\\n\\n\\x0c\\x0c\\x0ch\\n\\ntombola\\nhospice;\\nentrées\\nh Lay,:\\nTixidenji\\nà la « I\\n\\nUsé\\n\\nlu\\n\\n\\x0cVILLE\\n\\nDE BRUXELLES.\\n\\nBULLETIN COMMUNAL\\nA N N E E\\n\\nNUMÉRO\\n\\n1884.\\n\\n'"
      ]
     },
     "execution_count": 34,
     "metadata": {},
     "output_type": "execute_result"
    }
   ],
   "source": [
    "# Imprimer les 200 premiers caractères du contenu du premier fichier\n",
    "content_list[0][:200]"
   ]
  },
  {
   "cell_type": "code",
   "execution_count": 36,
   "id": "e11cfb01-d585-466e-a6c4-8d5d1fff024b",
   "metadata": {},
   "outputs": [],
   "source": [
    "# Ecrire tout le contenu dans un fichier temporaire\n",
    "temp_path = '../data/tmp_tp4'\n",
    "if not os.path.exists(temp_path):\n",
    "    os.mkdir(temp_path)\n",
    "with open(os.path.join(temp_path, f'{\"1850s\"}.txt'), 'w') as f:\n",
    "    f.write(' '.join(content_list))"
   ]
  },
  {
   "cell_type": "code",
   "execution_count": 38,
   "id": "48e7b912-814e-4a5f-a348-40e1e807af0a",
   "metadata": {},
   "outputs": [
    {
     "data": {
      "text/plain": [
       "\"VILLE DE\\n\\nBULLETIN\\nANNÉE\\n\\nP R E M I E R\\n\\n1854.\\n\\nS E M E S T R E\\n\\n\\x0c\\x0c\\x0ch\\n\\ntombola\\nhospice;\\nentrées\\nh Lay,:\\nTixidenji\\nà la « I\\n\\nUsé\\n\\nlu\\n\\n\\x0cVILLE\\n\\nDE BRUXELLES.\\n\\nBULLETIN COMMUNAL\\nA N N E E\\n\\nNUMÉRO\\n\\n1884.\\n\\n1.\\n\\nMARDI\\n\\nSéance du 7 Janvier\\n\\n1 0\\n\\nJANVIER.\\n\\n1854.\\n\\nPrésidence de 3 1 . C H A U L E S D E B R O U C K E R E ,\\n\\nBourgmestre.\\n\\n— Communication de pièces adressées au Conseil. — Ouverture d'une\\ntombola au profit des pauvres. — Approbation d'actes de l'administration des\\nhospices. - Modification au rè\""
      ]
     },
     "execution_count": 38,
     "metadata": {},
     "output_type": "execute_result"
    }
   ],
   "source": [
    "# Imprimer le contenu du fichier et constater les \"déchets\"\n",
    "with open(os.path.join(temp_path, f'{\"1850s\"}.txt'), 'r') as f:\n",
    "    before = f.read()\n",
    "\n",
    "before[:500]"
   ]
  },
  {
   "cell_type": "markdown",
   "id": "1dffa04b-fa3d-4e31-8c8f-97c30d5368c3",
   "metadata": {
    "tags": []
   },
   "source": [
    "## Charger tous les  fichiers de la décennie `1860` et créer un fichier de texts"
   ]
  },
  {
   "cell_type": "code",
   "execution_count": 40,
   "id": "ecea291e-7f57-41cf-8bda-ec1c13d68a60",
   "metadata": {},
   "outputs": [
    {
     "data": {
      "text/plain": [
       "['Bxl_1861_Tome_II1_Part_5.txt',\n",
       " 'Bxl_1869_Tome_II1_Part_2.txt',\n",
       " 'Bxl_1866_Tome_II1_Part_1.txt',\n",
       " 'Bxl_1865_Tome_I1_Part_1.txt',\n",
       " 'Bxl_1869_Tome_I2_Part_3.txt',\n",
       " 'Bxl_1868_Tome_II1_Part_1.txt',\n",
       " 'Bxl_1867_Tome_II1_Part_1.txt',\n",
       " 'Bxl_1866_Tome_I1_Part_1.txt',\n",
       " 'Bxl_1860_Tome_II1_Part_2.txt',\n",
       " 'Bxl_1860_Tome_II1_Part_6.txt',\n",
       " 'Bxl_1860_Tome_I1_Part_1.txt',\n",
       " 'Bxl_1862_Tome_I1_Part_3.txt',\n",
       " 'Bxl_1862_Tome_I1_Part_4.txt',\n",
       " 'Bxl_1869_Tome_I1_Part_1.txt',\n",
       " 'Bxl_1868_Tome_I1_Part_2.txt',\n",
       " 'Bxl_1868_Tome_II1_Part_6.txt',\n",
       " 'Bxl_1869_Tome_I1_Part_4.txt',\n",
       " 'Bxl_1863_Tome_II1_Part_2.txt',\n",
       " 'Bxl_1866_Tome_I1_Part_4.txt',\n",
       " 'Bxl_1869_Tome_I1_Part_2.txt']"
      ]
     },
     "execution_count": 40,
     "metadata": {},
     "output_type": "execute_result"
    }
   ],
   "source": [
    "# Lister les fichiers de bulletins qui correspondent à Bruxelles\n",
    "data_path = '../data'\n",
    "txt_path = '../data/txt'\n",
    "txts2 = [f for f in os.listdir(txt_path) if os.path.isfile(os.path.join(txt_path, f)) if f.startswith('Bxl_186')]\n",
    "txts2 [:20]"
   ]
  },
  {
   "cell_type": "code",
   "execution_count": 41,
   "id": "4d856084-3b45-4a35-958f-68440edc6346",
   "metadata": {
    "tags": []
   },
   "outputs": [],
   "source": [
    "# Stocker le contenu de ces fichiers dans une liste\n",
    "content_list = []\n",
    "for txt in txts2:\n",
    "    with open(os.path.join(txt_path, txt), 'r') as f:\n",
    "        content_list.append(f.read())"
   ]
  },
  {
   "cell_type": "code",
   "execution_count": 42,
   "id": "b731f552-c5f9-4136-abc3-53f669da2ed1",
   "metadata": {},
   "outputs": [
    {
     "data": {
      "text/plain": [
       "94"
      ]
     },
     "execution_count": 42,
     "metadata": {},
     "output_type": "execute_result"
    }
   ],
   "source": [
    "# Compter le nombre d'éléments (=fichiers) dans la liste\n",
    "len(content_list)"
   ]
  },
  {
   "cell_type": "code",
   "execution_count": 44,
   "id": "55f646a7-faf6-4329-ab8e-6819d8d6659f",
   "metadata": {},
   "outputs": [
    {
     "data": {
      "text/plain": [
       "'—\\n\\nVILLE\\n\\n31)0\\n\\nDE\\n\\n—\\n\\nBRUXELLES.\\n\\nBULLETIN COMMUNAL.\\nANNÉE\\n\\nNUMÉRO 3 0 .\\n\\n1861.\\n\\nSAMEDI 14 DÉCEMBRE.\\n\\nCONSEIL COMMUNAL.\\nSéance du 14 décembre 1861.\\nP r é s i d e n c e de 3 1 . FONTAINAS,\\n\\nBourgmestr'"
      ]
     },
     "execution_count": 44,
     "metadata": {},
     "output_type": "execute_result"
    }
   ],
   "source": [
    "# Imprimer les 200 premiers caractères du contenu du premier fichier\n",
    "content_list[0][:200]"
   ]
  },
  {
   "cell_type": "code",
   "execution_count": 45,
   "id": "6f2b691b-74ec-427e-adf0-ae5b65026426",
   "metadata": {},
   "outputs": [],
   "source": [
    "# Ecrire tout le contenu dans un fichier temporaire\n",
    "temp_path = '../data/tmp_tp4'\n",
    "if not os.path.exists(temp_path):\n",
    "    os.mkdir(temp_path)\n",
    "with open(os.path.join(temp_path, f'{\"1860s\"}.txt'), 'w') as f:\n",
    "    f.write(' '.join(content_list))"
   ]
  },
  {
   "cell_type": "code",
   "execution_count": 46,
   "id": "17c75cc4-3291-4c05-838d-cdecb735c136",
   "metadata": {},
   "outputs": [
    {
     "data": {
      "text/plain": [
       "\"—\\n\\nVILLE\\n\\n31)0\\n\\nDE\\n\\n—\\n\\nBRUXELLES.\\n\\nBULLETIN COMMUNAL.\\nANNÉE\\n\\nNUMÉRO 3 0 .\\n\\n1861.\\n\\nSAMEDI 14 DÉCEMBRE.\\n\\nCONSEIL COMMUNAL.\\nSéance du 14 décembre 1861.\\nP r é s i d e n c e de 3 1 . FONTAINAS,\\n\\nBourgmestre.\\n\\nSOMMAIRE. — Décision relative au déplacement du marché aux légumes, établi au\\nPont-d'Or, et du marché aux fourrages. — Autorisation donnée au Collège de\\nfaire l'acquisition d'un terrain pour l'agrandissement du cimetière de la ville.\\n— Rapport fait par M . De Meure, au sujet de la fixation des p\""
      ]
     },
     "execution_count": 46,
     "metadata": {},
     "output_type": "execute_result"
    }
   ],
   "source": [
    "# Imprimer le contenu du fichier et constater les \"déchets\"\n",
    "with open(os.path.join(temp_path, f'{\"1860s\"}.txt'), 'r') as f:\n",
    "    before = f.read()\n",
    "\n",
    "before[:500]"
   ]
  },
  {
   "cell_type": "markdown",
   "id": "056e240a-7a36-4929-97fb-8d744c518190",
   "metadata": {
    "tags": []
   },
   "source": [
    "## Charger tous les  fichiers de la décennie `1870` et créer un fichier de texts"
   ]
  },
  {
   "cell_type": "code",
   "execution_count": 47,
   "id": "58cb680c-6008-4e5d-bba5-3ed8cb4336c2",
   "metadata": {},
   "outputs": [
    {
     "data": {
      "text/plain": [
       "['Bxl_1871_Tome_I1_Part_3.txt',\n",
       " 'Bxl_1877_Tome_II1_Part_6.txt',\n",
       " 'Bxl_1879_Tome_II1_Part_1.txt',\n",
       " 'Bxl_1871_Tome_II1_Part_1.txt',\n",
       " 'Bxl_1870_Tome_I1_Part_1.txt',\n",
       " 'Bxl_1876_Tome_I1_Part_1.txt',\n",
       " 'Bxl_1870_Tome_I1_Part_2.txt',\n",
       " 'Bxl_1878_Tome_II1_Part_1.txt',\n",
       " 'Bxl_1871_Tome_I1_Part_2.txt',\n",
       " 'Bxl_1878_Tome_II1_Part_3.txt',\n",
       " 'Bxl_1876_Tome_I1_Part_4.txt',\n",
       " 'Bxl_1879_Tome_II1_Part_9.txt',\n",
       " 'Bxl_1870_Tome_II1_Part_4.txt',\n",
       " 'Bxl_1872_Tome_II1_Part_3.txt',\n",
       " 'Bxl_1878_Tome_II1_Part_5.txt',\n",
       " 'Bxl_1871_Tome_I1_Part_1.txt',\n",
       " 'Bxl_1870_Tome_II1_Part_6.txt',\n",
       " 'Bxl_1871_Tome_II1_Part_6.txt',\n",
       " 'Bxl_1877_Tome_II1_Part_7.txt',\n",
       " 'Bxl_1876_Tome_II1_Part_5.txt']"
      ]
     },
     "execution_count": 47,
     "metadata": {},
     "output_type": "execute_result"
    }
   ],
   "source": [
    "# Lister les fichiers de bulletins qui correspondent à Bruxelles\n",
    "data_path = '../data'\n",
    "txt_path = '../data/txt'\n",
    "txts3 = [f for f in os.listdir(txt_path) if os.path.isfile(os.path.join(txt_path, f)) if f.startswith('Bxl_187')]\n",
    "txts3 [:20]"
   ]
  },
  {
   "cell_type": "code",
   "execution_count": 48,
   "id": "a822084e-b17a-4b24-978a-53afda5ace0f",
   "metadata": {
    "tags": []
   },
   "outputs": [],
   "source": [
    "# Stocker le contenu de ces fichiers dans une liste\n",
    "content_list = []\n",
    "for txt in txts3:\n",
    "    with open(os.path.join(txt_path, txt), 'r') as f:\n",
    "        content_list.append(f.read())"
   ]
  },
  {
   "cell_type": "code",
   "execution_count": 49,
   "id": "8057af79-6bf1-446e-9011-78fe4515c65f",
   "metadata": {},
   "outputs": [
    {
     "data": {
      "text/plain": [
       "95"
      ]
     },
     "execution_count": 49,
     "metadata": {},
     "output_type": "execute_result"
    }
   ],
   "source": [
    "# Compter le nombre d'éléments (=fichiers) dans la liste\n",
    "len(content_list)"
   ]
  },
  {
   "cell_type": "code",
   "execution_count": 50,
   "id": "62bb083f-9f76-412b-b1f0-1869d5ee2164",
   "metadata": {},
   "outputs": [
    {
     "data": {
      "text/plain": [
       "'—\\n\\nVILLE\\n\\nD E\\n\\nBULLETIN\\n\\n201 —\\n\\nB R U X E L L E S .\\n\\nCOMMUNAL.\\n\\nANNÉE\\n\\n1871.\\n\\nN U M É R O 4.\\n\\nLUNDI 17\\n\\nCONSEIL\\n\\nAVRIL.\\n\\nCOMMUNAL.\\n\\nCOMITÉ SECRET DU 6 MARS 1 8 7 1 .\\n\\nLe Conseil a nommé M . Emile Lhoe'"
      ]
     },
     "execution_count": 50,
     "metadata": {},
     "output_type": "execute_result"
    }
   ],
   "source": [
    "# Imprimer les 200 premiers caractères du contenu du premier fichier\n",
    "content_list[0][:200]"
   ]
  },
  {
   "cell_type": "code",
   "execution_count": 51,
   "id": "4fe9e9d2-617d-4bed-85f9-b981550c1abc",
   "metadata": {},
   "outputs": [],
   "source": [
    "# Ecrire tout le contenu dans un fichier temporaire\n",
    "temp_path = '../data/tmp_tp4'\n",
    "if not os.path.exists(temp_path):\n",
    "    os.mkdir(temp_path)\n",
    "with open(os.path.join(temp_path, f'{\"1870s\"}.txt'), 'w') as f:\n",
    "    f.write(' '.join(content_list))"
   ]
  },
  {
   "cell_type": "code",
   "execution_count": 52,
   "id": "0e7bcedf-11a2-4a92-bf7f-09ad4d4da5fe",
   "metadata": {},
   "outputs": [
    {
     "data": {
      "text/plain": [
       "\"—\\n\\nVILLE\\n\\nD E\\n\\nBULLETIN\\n\\n201 —\\n\\nB R U X E L L E S .\\n\\nCOMMUNAL.\\n\\nANNÉE\\n\\n1871.\\n\\nN U M É R O 4.\\n\\nLUNDI 17\\n\\nCONSEIL\\n\\nAVRIL.\\n\\nCOMMUNAL.\\n\\nCOMITÉ SECRET DU 6 MARS 1 8 7 1 .\\n\\nLe Conseil a nommé M . Emile Lhoest sténographe de la Ville.\\nIl a délégué M . l'Echevin Couteaux pour représenter la Ville auprès de\\nla Société royale de Zoologie.\\nIl a nommé administrateurs des Hospices et de la Bienfaisance :\\nM M . Charles Thiéfry et Jean de Bongé.\\nIl a adopté les modifications proposées au règlement organique du\""
      ]
     },
     "execution_count": 52,
     "metadata": {},
     "output_type": "execute_result"
    }
   ],
   "source": [
    "# Imprimer le contenu du fichier et constater les \"déchets\"\n",
    "with open(os.path.join(temp_path, f'{\"1870s\"}.txt'), 'r') as f:\n",
    "    before = f.read()\n",
    "\n",
    "before[:500]"
   ]
  },
  {
   "cell_type": "markdown",
   "id": "313173b4-08eb-46e1-b099-efdccf8d312e",
   "metadata": {
    "tags": []
   },
   "source": [
    "## Charger tous les  fichiers de la décennie `1880` et créer un fichier de texts"
   ]
  },
  {
   "cell_type": "code",
   "execution_count": 53,
   "id": "80410ee6-1693-4ac4-b562-ef50083309b6",
   "metadata": {},
   "outputs": [
    {
     "data": {
      "text/plain": [
       "['Bxl_1882_Tome_I2_Part_12.txt',\n",
       " 'Bxl_1889_Tome_I2_Part_3.txt',\n",
       " 'Bxl_1880_Tome_I1_Part_8.txt',\n",
       " 'Bxl_1881_Tome_I2_Part_9.txt',\n",
       " 'Bxl_1883_Tome_I1_Part_6.txt',\n",
       " 'Bxl_1885_Tome_I2_Part_4.txt',\n",
       " 'Bxl_1881_Tome_I2_Part_11.txt',\n",
       " 'Bxl_1885_Tome_I2_Part_12.txt',\n",
       " 'Bxl_1885_Tome_I1_Part_3.txt',\n",
       " 'Bxl_1887_Tome_I1_Part_6.txt',\n",
       " 'Bxl_1883_Tome_I2_Part_7.txt',\n",
       " 'Bxl_1886_Tome_I1_Part_6.txt',\n",
       " 'Bxl_1886_Tome_I2_Part_6.txt',\n",
       " 'Bxl_1886_Tome_I2_Part_1.txt',\n",
       " 'Bxl_1889_Tome_I1_Part_2.txt',\n",
       " 'Bxl_1882_Tome_I1_Part_1.txt',\n",
       " 'Bxl_1882_Tome_I2_Part_5.txt',\n",
       " 'Bxl_1889_Tome_I2_Part_4.txt',\n",
       " 'Bxl_1881_Tome_I1_Part_4.txt',\n",
       " 'Bxl_1881_Tome_I1_Part_8.txt']"
      ]
     },
     "execution_count": 53,
     "metadata": {},
     "output_type": "execute_result"
    }
   ],
   "source": [
    "# Lister les fichiers de bulletins qui correspondent à Bruxelles\n",
    "data_path = '../data'\n",
    "txt_path = '../data/txt'\n",
    "txts4 = [f for f in os.listdir(txt_path) if os.path.isfile(os.path.join(txt_path, f)) if f.startswith('Bxl_188')]\n",
    "txts4 [:20]"
   ]
  },
  {
   "cell_type": "code",
   "execution_count": 54,
   "id": "f05b035e-c697-4b7b-91df-556579d5f62b",
   "metadata": {
    "tags": []
   },
   "outputs": [],
   "source": [
    "# Stocker le contenu de ces fichiers dans une liste\n",
    "content_list = []\n",
    "for txt in txts4:\n",
    "    with open(os.path.join(txt_path, txt), 'r') as f:\n",
    "        content_list.append(f.read())"
   ]
  },
  {
   "cell_type": "code",
   "execution_count": 55,
   "id": "1acfe0d4-5b2c-47c2-ad60-5cd57729ff75",
   "metadata": {},
   "outputs": [
    {
     "data": {
      "text/plain": [
       "190"
      ]
     },
     "execution_count": 55,
     "metadata": {},
     "output_type": "execute_result"
    }
   ],
   "source": [
    "# Compter le nombre d'éléments (=fichiers) dans la liste\n",
    "len(content_list)"
   ]
  },
  {
   "cell_type": "code",
   "execution_count": 56,
   "id": "bb2d5e2e-125a-4808-8e6b-d994ac2c036e",
   "metadata": {},
   "outputs": [
    {
     "data": {
      "text/plain": [
       "'Art. 74. — Subside à VAthénée royal : 82,000 francs.\\nCette somme représente la part incombant à ia Ville dans\\nle traitement des professeurs, ainsi que le montant des\\nmenues dépenses.\\nLe budget présent'"
      ]
     },
     "execution_count": 56,
     "metadata": {},
     "output_type": "execute_result"
    }
   ],
   "source": [
    "# Imprimer les 200 premiers caractères du contenu du premier fichier\n",
    "content_list[0][:200]"
   ]
  },
  {
   "cell_type": "code",
   "execution_count": 57,
   "id": "6e8d4fce-603f-42ec-ba56-04d6a5f2c80c",
   "metadata": {},
   "outputs": [],
   "source": [
    "# Ecrire tout le contenu dans un fichier temporaire\n",
    "temp_path = '../data/tmp_tp4'\n",
    "if not os.path.exists(temp_path):\n",
    "    os.mkdir(temp_path)\n",
    "with open(os.path.join(temp_path, f'{\"1880s\"}.txt'), 'w') as f:\n",
    "    f.write(' '.join(content_list))"
   ]
  },
  {
   "cell_type": "code",
   "execution_count": 58,
   "id": "959407e0-1ae0-4625-ba3f-155a6d42b83d",
   "metadata": {},
   "outputs": [
    {
     "data": {
      "text/plain": [
       "\"Art. 74. — Subside à VAthénée royal : 82,000 francs.\\nCette somme représente la part incombant à ia Ville dans\\nle traitement des professeurs, ainsi que le montant des\\nmenues dépenses.\\nLe budget présenté par la Commission administrative\\nainsi que le compte justifiant l'emploi de ces fonds, sont\\nannuellement soumis à l'approbation du Conseil communal.\\nArt. 75. — loyer de locaux, entretien, contributions et assurance :\\n29,750 francs.\\nLoyer des locaux de la section professionnelle de 1 Athénée, rue d\""
      ]
     },
     "execution_count": 58,
     "metadata": {},
     "output_type": "execute_result"
    }
   ],
   "source": [
    "# Imprimer le contenu du fichier et constater les \"déchets\"\n",
    "with open(os.path.join(temp_path, f'{\"1880s\"}.txt'), 'r') as f:\n",
    "    before = f.read()\n",
    "\n",
    "before[:500]"
   ]
  },
  {
   "cell_type": "markdown",
   "id": "8fb2d9db-92aa-46a1-9450-2acb232007eb",
   "metadata": {
    "tags": []
   },
   "source": [
    "## Charger tous les  fichiers de la décennie `1890` et créer un fichier de texts"
   ]
  },
  {
   "cell_type": "code",
   "execution_count": 59,
   "id": "b902e590-3cab-4ceb-a6e9-88776b41bbd7",
   "metadata": {},
   "outputs": [
    {
     "data": {
      "text/plain": [
       "['Bxl_1891_Tome_I1_Part_1.txt',\n",
       " 'Bxl_1896_Tome_I2_1_Part_1.txt',\n",
       " 'Bxl_1899_Tome_I1_Part_3.txt',\n",
       " 'Bxl_1891_Tome_I1_Part_6.txt',\n",
       " 'Bxl_1890_Tome_I2_Part_4.txt',\n",
       " 'Bxl_1896_Tome_I1_2_Part_5.txt',\n",
       " 'Bxl_1891_Tome_I1_Part_5.txt',\n",
       " 'Bxl_1898_Tome_I1_Part_12.txt',\n",
       " 'Bxl_1891_Tome_I2_Part_4.txt',\n",
       " 'Bxl_1892_Tome_I2_Part_1.txt',\n",
       " 'Bxl_1895_Tome_I1_Part_1.txt',\n",
       " 'Bxl_1899_Tome_I2_Part_12.txt',\n",
       " 'Bxl_1896_Tome_I1_2_Part_6.txt',\n",
       " 'Bxl_1898_Tome_I1_Part_3.txt',\n",
       " 'Bxl_1892_Tome_I2_Part_8.txt',\n",
       " 'Bxl_1890_Tome_I1_Part_3.txt',\n",
       " 'Bxl_1892_Tome_I1_Part_6.txt',\n",
       " 'Bxl_1893_Tome_I1_Part_7.txt',\n",
       " 'Bxl_1894_Tome_I1_Part_4.txt',\n",
       " 'Bxl_1890_Tome_I1_Part_8.txt']"
      ]
     },
     "execution_count": 59,
     "metadata": {},
     "output_type": "execute_result"
    }
   ],
   "source": [
    "# Lister les fichiers de bulletins qui correspondent à Bruxelles\n",
    "data_path = '../data'\n",
    "txt_path = '../data/txt'\n",
    "txts5 = [f for f in os.listdir(txt_path) if os.path.isfile(os.path.join(txt_path, f)) if f.startswith('Bxl_189')]\n",
    "txts5 [:20]"
   ]
  },
  {
   "cell_type": "code",
   "execution_count": 60,
   "id": "05f96b36-fd09-4eea-83ad-70dace3b85ff",
   "metadata": {
    "tags": []
   },
   "outputs": [],
   "source": [
    "# Stocker le contenu de ces fichiers dans une liste\n",
    "content_list = []\n",
    "for txt in txts5:\n",
    "    with open(os.path.join(txt_path, txt), 'r') as f:\n",
    "        content_list.append(f.read())"
   ]
  },
  {
   "cell_type": "code",
   "execution_count": 61,
   "id": "84be45dc-cb85-4fda-beea-d53295d2943e",
   "metadata": {},
   "outputs": [
    {
     "data": {
      "text/plain": [
       "200"
      ]
     },
     "execution_count": 61,
     "metadata": {},
     "output_type": "execute_result"
    }
   ],
   "source": [
    "# Compter le nombre d'éléments (=fichiers) dans la liste\n",
    "len(content_list)"
   ]
  },
  {
   "cell_type": "code",
   "execution_count": 62,
   "id": "935e85fb-766d-4f2b-b5a1-75cc6b0cf5bf",
   "metadata": {},
   "outputs": [
    {
     "data": {
      "text/plain": [
       "'VILLE\\n\\nDE\\n\\nJLLETIN\\n\\nBRUXELLES.\\n\\nCOMMUNAL\\n\\nANNÉE\\n\\nPREMIERE\\n\\n1891.\\n\\nPARTIE.\\n\\nTOME I .\\n\\nCOMPTE\\n\\nRENDU\\n\\nDES\\n\\nSÉANCES.\\n\\nBRUXELLES,\\n1MPR1MEH1E D E V\\n\\nV E\\n\\nJULIEN\\n\\nBAE&TSOE, S U C .\\n\\n1891\\n\\nDE\\n\\nBOLS-WITTOUCK.'"
      ]
     },
     "execution_count": 62,
     "metadata": {},
     "output_type": "execute_result"
    }
   ],
   "source": [
    "# Imprimer les 200 premiers caractères du contenu du premier fichier\n",
    "content_list[0][:200]"
   ]
  },
  {
   "cell_type": "code",
   "execution_count": 63,
   "id": "cad11595-a296-4258-a431-5e9e3be86f9a",
   "metadata": {},
   "outputs": [],
   "source": [
    "# Ecrire tout le contenu dans un fichier temporaire\n",
    "temp_path = '../data/tmp_tp4'\n",
    "if not os.path.exists(temp_path):\n",
    "    os.mkdir(temp_path)\n",
    "with open(os.path.join(temp_path, f'{\"1890s\"}.txt'), 'w') as f:\n",
    "    f.write(' '.join(content_list))"
   ]
  },
  {
   "cell_type": "code",
   "execution_count": 64,
   "id": "1e6e5b7c-2823-4a35-a01c-c116aba4643d",
   "metadata": {},
   "outputs": [
    {
     "data": {
      "text/plain": [
       "'VILLE\\n\\nDE\\n\\nJLLETIN\\n\\nBRUXELLES.\\n\\nCOMMUNAL\\n\\nANNÉE\\n\\nPREMIERE\\n\\n1891.\\n\\nPARTIE.\\n\\nTOME I .\\n\\nCOMPTE\\n\\nRENDU\\n\\nDES\\n\\nSÉANCES.\\n\\nBRUXELLES,\\n1MPR1MEH1E D E V\\n\\nV E\\n\\nJULIEN\\n\\nBAE&TSOE, S U C .\\n\\n1891\\n\\nDE\\n\\nBOLS-WITTOUCK.\\n\\n\\x0c\\x0cN°\\n\\n1.\\n\\nCOMPTE R E N D U D E L A S É A N C E\\n\\nD U 1\" J A N V I E R\\n\\n4891.\\n\\nVILLE DE B R U X E L L E S .\\n\\nBULLETIN\\n\\nCOMMUNAL\\n\\nA N N É E\\n\\nCONSEIL\\n\\nCOMMUNAL.\\n\\nSéance du 1\\nPrésidence\\n\\n1891.\\n\\ne r\\n\\nJanvier 1 8 9 1 .\\n\\nde M . B U L S ,\\n\\nBourgmestre.\\n\\nSOMMAIEB :\\n\\n1.\\n2.\\n3.\\n4.\\n5.\\n\\nPrestation de serment des'"
      ]
     },
     "execution_count": 64,
     "metadata": {},
     "output_type": "execute_result"
    }
   ],
   "source": [
    "# Imprimer le contenu du fichier et constater les \"déchets\"\n",
    "with open(os.path.join(temp_path, f'{\"1890s\"}.txt'), 'r') as f:\n",
    "    before = f.read()\n",
    "\n",
    "before[:500]"
   ]
  },
  {
   "cell_type": "markdown",
   "id": "d841f9fe-39df-4d8b-9dce-e01c35f68cd6",
   "metadata": {
    "tags": []
   },
   "source": [
    "## Charger tous les  fichiers de la décennie `1900` et créer un fichier de texts"
   ]
  },
  {
   "cell_type": "code",
   "execution_count": 65,
   "id": "33557eb9-3e63-435f-be66-1e1ccc7c5818",
   "metadata": {},
   "outputs": [
    {
     "data": {
      "text/plain": [
       "['Bxl_1909_Tome_I2_1_Part_5.txt',\n",
       " 'Bxl_1903_Tome_I2_2_Part_2.txt',\n",
       " 'Bxl_1904_Tome_I2_Part_1.txt',\n",
       " 'Bxl_1900_Tome_I2_Part_8.txt',\n",
       " 'Bxl_1906_Tome_II1_Part_1.txt',\n",
       " 'Bxl_1903_Tome_I2_1_Part_9.txt',\n",
       " 'Bxl_1904_Tome_I2_Part_17.txt',\n",
       " 'Bxl_1904_Tome_I2_Part_2.txt',\n",
       " 'Bxl_1902_Tome_I2_2_Part_8.txt',\n",
       " 'Bxl_1900_Tome_I2_Part_3.txt',\n",
       " 'Bxl_1903_Tome_I1_Part_3.txt',\n",
       " 'Bxl_1902_Tome_I1_Part_6.txt',\n",
       " 'Bxl_1906_Tome_I1_Part_13.txt',\n",
       " 'Bxl_1902_Tome_I2_2_Part_5.txt',\n",
       " 'Bxl_1905_Tome_I2_Part_13.txt',\n",
       " 'Bxl_1908_Tome_I1_Part_1.txt',\n",
       " 'Bxl_1902_Tome_I1_Part_5.txt',\n",
       " 'Bxl_1907_Tome_II1_Part_1.txt',\n",
       " 'Bxl_1902_Tome_II1_Part_2.txt',\n",
       " 'Bxl_1909_Tome_I2_2_Part_3.txt']"
      ]
     },
     "execution_count": 65,
     "metadata": {},
     "output_type": "execute_result"
    }
   ],
   "source": [
    "# Lister les fichiers de bulletins qui correspondent à Bruxelles\n",
    "data_path = '../data'\n",
    "txt_path = '../data/txt'\n",
    "txts6 = [f for f in os.listdir(txt_path) if os.path.isfile(os.path.join(txt_path, f)) if f.startswith('Bxl_190')]\n",
    "txts6 [:20]"
   ]
  },
  {
   "cell_type": "code",
   "execution_count": 66,
   "id": "1194428d-1b55-45b2-bc3b-d9353658f2c6",
   "metadata": {
    "tags": []
   },
   "outputs": [],
   "source": [
    "# Stocker le contenu de ces fichiers dans une liste\n",
    "content_list = []\n",
    "for txt in txts6:\n",
    "    with open(os.path.join(txt_path, txt), 'r') as f:\n",
    "        content_list.append(f.read())"
   ]
  },
  {
   "cell_type": "code",
   "execution_count": 67,
   "id": "17d67b73-2549-4c3f-8c3d-6dda2429dce5",
   "metadata": {},
   "outputs": [
    {
     "data": {
      "text/plain": [
       "223"
      ]
     },
     "execution_count": 67,
     "metadata": {},
     "output_type": "execute_result"
    }
   ],
   "source": [
    "# Compter le nombre d'éléments (=fichiers) dans la liste\n",
    "len(content_list)"
   ]
  },
  {
   "cell_type": "code",
   "execution_count": 68,
   "id": "accca0a5-4de9-43e0-8c23-a1fc7ec4f4ff",
   "metadata": {},
   "outputs": [
    {
     "data": {
      "text/plain": [
       "\"Produit du droit de fréquent\\nPUBLICS\\n\\n142\\n\\n4869\\n\\nP u p i t r e s de l i q u i d a t i o n\\n\\n»\\n\\nNOMBF\\n\\ndes\\nredevances\\n\\nNombre\\n\\nMONTANT\\nTOTAL\\n\\nde porteurs\\nde dépêches\\n\\nde\\ndélégués\\n\\nd'agents\\nde change\\n\\n18\""
      ]
     },
     "execution_count": 68,
     "metadata": {},
     "output_type": "execute_result"
    }
   ],
   "source": [
    "# Imprimer les 200 premiers caractères du contenu du premier fichier\n",
    "content_list[0][:200]"
   ]
  },
  {
   "cell_type": "code",
   "execution_count": 69,
   "id": "bb0489de-462f-47d6-9dc6-0d2234b4cbdb",
   "metadata": {},
   "outputs": [],
   "source": [
    "# Ecrire tout le contenu dans un fichier temporaire\n",
    "temp_path = '../data/tmp_tp4'\n",
    "if not os.path.exists(temp_path):\n",
    "    os.mkdir(temp_path)\n",
    "with open(os.path.join(temp_path, f'{\"1900s\"}.txt'), 'w') as f:\n",
    "    f.write(' '.join(content_list))"
   ]
  },
  {
   "cell_type": "code",
   "execution_count": 70,
   "id": "b3b48c2c-1205-419b-a14d-c2c033f04d56",
   "metadata": {},
   "outputs": [
    {
     "data": {
      "text/plain": [
       "'Produit du droit de fréquent\\nPUBLICS\\n\\n142\\n\\n4869\\n\\nP u p i t r e s de l i q u i d a t i o n\\n\\n»\\n\\nNOMBF\\n\\ndes\\nredevances\\n\\nNombre\\n\\nMONTANT\\nTOTAL\\n\\nde porteurs\\nde dépêches\\n\\nde\\ndélégués\\n\\nd\\'agents\\nde change\\n\\n1868\\n\\nB O U R S E At\\n\\nC ai\\nC \"\\n\\nMONTANT\\n\\nsg\\na S\\n\\nd\\'entrées\\n?n m o y e n n e\\n(par jour)\\n\\nD E SFONDS\\n\\nNOMBRE\\nde\\nbanquiers\\n\\nANNÉES\\n\\nBOURSE\\n\\n142\\n\\n5,600\\n\\n»\\n\\n428\\n\\n128\\n\\n6,400\\n\\n»\\n\\n>\\n\\n*\\n\\n4870\\n\\n445\\n\\n445\\n\\n7,250\\n\\n»\\n\\n•\\n\\n»\\n\\n»\\n\\n4874\\n\\n4 66\\n\\n466\\n\\n8,300\\n\\n»\\n\\n»\\n\\nS\\n\\n»\\n\\n»\\n\\n202\\n\\n40,400\\n\\n»\\n\\n>\\n\\n>\\n\\n»\\n\\n»\\n\\n245\\n\\n55,350\\n\\n>•\\n\\n370\\n\\n'"
      ]
     },
     "execution_count": 70,
     "metadata": {},
     "output_type": "execute_result"
    }
   ],
   "source": [
    "# Imprimer le contenu du fichier et constater les \"déchets\"\n",
    "with open(os.path.join(temp_path, f'{\"1900s\"}.txt'), 'r') as f:\n",
    "    before = f.read()\n",
    "\n",
    "before[:500]"
   ]
  },
  {
   "cell_type": "markdown",
   "id": "c2fd8138-dc57-4ec2-818a-4c2816dd30a7",
   "metadata": {
    "tags": []
   },
   "source": [
    "## Charger tous les  fichiers de la décennie `1910` et créer un fichier de texts"
   ]
  },
  {
   "cell_type": "code",
   "execution_count": 71,
   "id": "9ed23a6f-ef97-442e-8989-85091167e790",
   "metadata": {},
   "outputs": [
    {
     "data": {
      "text/plain": [
       "['Bxl_1910_Tome_I1_Part_2.txt',\n",
       " 'Bxl_1911_Tome_I2_2_Part_9.txt',\n",
       " 'Bxl_1910_Tome_I1_Part_1.txt',\n",
       " 'Bxl_1911_Tome_I2_1_Part_5.txt',\n",
       " 'Bxl_1910_Tome_I2_1_Part_12.txt',\n",
       " 'Bxl_1919_Tome_I2_2_Part_5.txt',\n",
       " 'Bxl_1910_Tome_I2_1_Part_5.txt',\n",
       " 'Bxl_1911_Tome_I2_2_Part_11.txt',\n",
       " 'Bxl_1912_Tome_I2_1_Part_7.txt',\n",
       " 'Bxl_1913_Tome_I2_2_Part_1.txt',\n",
       " 'Bxl_1911_Tome_I2_1_Part_10.txt',\n",
       " 'Bxl_1915_Tome_II1_Part_3.txt',\n",
       " 'Bxl_1912_Tome_I1_2_Part_7.txt',\n",
       " 'Bxl_1913_Tome_I2_1_Part_7.txt',\n",
       " 'Bxl_1911_Tome_I1_Part_2.txt',\n",
       " 'Bxl_1910_Tome_I2_1_Part_4.txt',\n",
       " 'Bxl_1919_Tome_I2_2_Part_3.txt',\n",
       " 'Bxl_1913_Tome_I2_2_Part_7.txt',\n",
       " 'Bxl_1911_Tome_I1_Part_10.txt',\n",
       " 'Bxl_1912_Tome_I2_2_Part_5.txt']"
      ]
     },
     "execution_count": 71,
     "metadata": {},
     "output_type": "execute_result"
    }
   ],
   "source": [
    "# Lister les fichiers de bulletins qui correspondent à Bruxelles\n",
    "data_path = '../data'\n",
    "txt_path = '../data/txt'\n",
    "txts7 = [f for f in os.listdir(txt_path) if os.path.isfile(os.path.join(txt_path, f)) if f.startswith('Bxl_191')]\n",
    "txts7 [:20]"
   ]
  },
  {
   "cell_type": "code",
   "execution_count": 72,
   "id": "3af5ebcd-09ec-41ca-af81-a37681cc6990",
   "metadata": {
    "tags": []
   },
   "outputs": [],
   "source": [
    "# Stocker le contenu de ces fichiers dans une liste\n",
    "content_list = []\n",
    "for txt in txts7:\n",
    "    with open(os.path.join(txt_path, txt), 'r') as f:\n",
    "        content_list.append(f.read())"
   ]
  },
  {
   "cell_type": "code",
   "execution_count": 73,
   "id": "3422b956-c311-453f-b64f-326793ae4f3a",
   "metadata": {},
   "outputs": [
    {
     "data": {
      "text/plain": [
       "170"
      ]
     },
     "execution_count": 73,
     "metadata": {},
     "output_type": "execute_result"
    }
   ],
   "source": [
    "# Compter le nombre d'éléments (=fichiers) dans la liste\n",
    "len(content_list)"
   ]
  },
  {
   "cell_type": "code",
   "execution_count": 74,
   "id": "2f5bd9ff-6b16-4d92-9375-34046de17de3",
   "metadata": {},
   "outputs": [
    {
     "data": {
      "text/plain": [
       "\"(31\\n\\nJanvier\\n\\n1910)\\n\\n—\\n\\n100\\n\\n—\\n\\nCes comptes soldent par un déficit de. . . fr.\\nalors que la somme prévue au bu iget de la Ville\\nn'est que de\\nDifférence.\\n\\n626.568 90\\n532,970 37\\n\\n. fr.\\n\\n93,598 53\\n\\nEn vu\""
      ]
     },
     "execution_count": 74,
     "metadata": {},
     "output_type": "execute_result"
    }
   ],
   "source": [
    "# Imprimer les 200 premiers caractères du contenu du premier fichier\n",
    "content_list[0][:200]"
   ]
  },
  {
   "cell_type": "code",
   "execution_count": 75,
   "id": "6e6ac3fd-8dcc-486d-8623-585186a8af53",
   "metadata": {},
   "outputs": [],
   "source": [
    "# Ecrire tout le contenu dans un fichier temporaire\n",
    "temp_path = '../data/tmp_tp4'\n",
    "if not os.path.exists(temp_path):\n",
    "    os.mkdir(temp_path)\n",
    "with open(os.path.join(temp_path, f'{\"1910s\"}.txt'), 'w') as f:\n",
    "    f.write(' '.join(content_list))"
   ]
  },
  {
   "cell_type": "code",
   "execution_count": 76,
   "id": "5f496006-7601-4eae-8918-f3afd4267e87",
   "metadata": {},
   "outputs": [
    {
     "data": {
      "text/plain": [
       "\"(31\\n\\nJanvier\\n\\n1910)\\n\\n—\\n\\n100\\n\\n—\\n\\nCes comptes soldent par un déficit de. . . fr.\\nalors que la somme prévue au bu iget de la Ville\\nn'est que de\\nDifférence.\\n\\n626.568 90\\n532,970 37\\n\\n. fr.\\n\\n93,598 53\\n\\nEn vue de permettre de liquider le montant de ce déficit, le\\nCollège vous propose, Messieurs, le vote d'un crédit supplémentaire defr. 9;5,598-ô3 à l'art. 131 des dépenses ordinaires\\ndu budget de 1901) : « Subside éventuel à\\nl'Administration\\ndes hospices et secours ».\\n\\nLes ressources ordinaires de l'exer\""
      ]
     },
     "execution_count": 76,
     "metadata": {},
     "output_type": "execute_result"
    }
   ],
   "source": [
    "# Imprimer le contenu du fichier et constater les \"déchets\"\n",
    "with open(os.path.join(temp_path, f'{\"1910s\"}.txt'), 'r') as f:\n",
    "    before = f.read()\n",
    "\n",
    "before[:500]"
   ]
  },
  {
   "cell_type": "markdown",
   "id": "f009cdef-8bad-4d7a-b674-bee815691591",
   "metadata": {
    "tags": []
   },
   "source": [
    "## Charger tous les  fichiers de la décennie `1920` et créer un fichier de texts"
   ]
  },
  {
   "cell_type": "code",
   "execution_count": 77,
   "id": "70ab3693-fb1a-495f-8590-dee74320f9bf",
   "metadata": {},
   "outputs": [
    {
     "data": {
      "text/plain": [
       "['Bxl_1929_Tome_I_Part_9.txt',\n",
       " 'Bxl_1925_Tome_II1_1_Part_6.txt',\n",
       " 'Bxl_1920_Tome_I2_Part_4.txt',\n",
       " 'Bxl_1925_Tome_II1_1_Part_5.txt',\n",
       " 'Bxl_1926_Tome_I1_Part_2.txt',\n",
       " 'Bxl_1920_Tome_I2_Part_16.txt',\n",
       " 'Bxl_1925_Tome_II1_1_Part_7.txt',\n",
       " 'Bxl_1928_Tome_II1_Part_6.txt',\n",
       " 'Bxl_1926_Tome_II1_Part_10.txt',\n",
       " 'Bxl_1925_Tome_II1_2_Part_2.txt',\n",
       " 'Bxl_1928_Tome_II1_Part_12.txt',\n",
       " 'Bxl_1926_Tome_I2_Part_8.txt',\n",
       " 'Bxl_1927_Tome_I_Part_5.txt',\n",
       " 'Bxl_1929_Tome_I_Part_4.txt',\n",
       " 'Bxl_1924_Tome_I1_Part_7.txt',\n",
       " 'Bxl_1926_Tome_I2_Part_6.txt',\n",
       " 'Bxl_1923_Tome_I1_Part_5.txt',\n",
       " 'Bxl_1928_Tome_II1_Part_2.txt',\n",
       " 'Bxl_1929_Tome_II2_Part_2.txt',\n",
       " 'Bxl_1926_Tome_I1_Part_8.txt']"
      ]
     },
     "execution_count": 77,
     "metadata": {},
     "output_type": "execute_result"
    }
   ],
   "source": [
    "# Lister les fichiers de bulletins qui correspondent à Bruxelles\n",
    "data_path = '../data'\n",
    "txt_path = '../data/txt'\n",
    "txts8 = [f for f in os.listdir(txt_path) if os.path.isfile(os.path.join(txt_path, f)) if f.startswith('Bxl_192')]\n",
    "txts8 [:20]"
   ]
  },
  {
   "cell_type": "code",
   "execution_count": 72,
   "id": "cce2771b-ff7d-4291-9c44-5987e4685d85",
   "metadata": {
    "tags": []
   },
   "outputs": [],
   "source": [
    "# Stocker le contenu de ces fichiers dans une liste\n",
    "content_list = []\n",
    "for txt in txts:\n",
    "    with open(os.path.join(txt_path, txt), 'r') as f:\n",
    "        content_list.append(f.read())"
   ]
  },
  {
   "cell_type": "code",
   "execution_count": 73,
   "id": "aac10f4f-7b16-44b9-b28f-a67619348df2",
   "metadata": {},
   "outputs": [
    {
     "data": {
      "text/plain": [
       "170"
      ]
     },
     "execution_count": 73,
     "metadata": {},
     "output_type": "execute_result"
    }
   ],
   "source": [
    "# Compter le nombre d'éléments (=fichiers) dans la liste\n",
    "len(content_list)"
   ]
  },
  {
   "cell_type": "code",
   "execution_count": 74,
   "id": "805233f7-19a3-462d-aee3-64e2be0d8069",
   "metadata": {},
   "outputs": [
    {
     "data": {
      "text/plain": [
       "\"(31\\n\\nJanvier\\n\\n1910)\\n\\n—\\n\\n100\\n\\n—\\n\\nCes comptes soldent par un déficit de. . . fr.\\nalors que la somme prévue au bu iget de la Ville\\nn'est que de\\nDifférence.\\n\\n626.568 90\\n532,970 37\\n\\n. fr.\\n\\n93,598 53\\n\\nEn vu\""
      ]
     },
     "execution_count": 74,
     "metadata": {},
     "output_type": "execute_result"
    }
   ],
   "source": [
    "# Imprimer les 200 premiers caractères du contenu du premier fichier\n",
    "content_list[0][:200]"
   ]
  },
  {
   "cell_type": "code",
   "execution_count": 78,
   "id": "1d855600-349d-452a-a81a-a292499bd484",
   "metadata": {},
   "outputs": [],
   "source": [
    "# Ecrire tout le contenu dans un fichier temporaire\n",
    "temp_path = '../data/tmp_tp4'\n",
    "if not os.path.exists(temp_path):\n",
    "    os.mkdir(temp_path)\n",
    "with open(os.path.join(temp_path, f'{\"1920s\"}.txt'), 'w') as f:\n",
    "    f.write(' '.join(content_list))"
   ]
  },
  {
   "cell_type": "code",
   "execution_count": 79,
   "id": "c8edf093-b575-46f0-881b-315ef2227728",
   "metadata": {},
   "outputs": [
    {
     "data": {
      "text/plain": [
       "\"(31\\n\\nJanvier\\n\\n1910)\\n\\n—\\n\\n100\\n\\n—\\n\\nCes comptes soldent par un déficit de. . . fr.\\nalors que la somme prévue au bu iget de la Ville\\nn'est que de\\nDifférence.\\n\\n626.568 90\\n532,970 37\\n\\n. fr.\\n\\n93,598 53\\n\\nEn vue de permettre de liquider le montant de ce déficit, le\\nCollège vous propose, Messieurs, le vote d'un crédit supplémentaire defr. 9;5,598-ô3 à l'art. 131 des dépenses ordinaires\\ndu budget de 1901) : « Subside éventuel à\\nl'Administration\\ndes hospices et secours ».\\n\\nLes ressources ordinaires de l'exer\""
      ]
     },
     "execution_count": 79,
     "metadata": {},
     "output_type": "execute_result"
    }
   ],
   "source": [
    "# Imprimer le contenu du fichier et constater les \"déchets\"\n",
    "with open(os.path.join(temp_path, f'{\"1920s\"}.txt'), 'r') as f:\n",
    "    before = f.read()\n",
    "\n",
    "before[:500]"
   ]
  },
  {
   "cell_type": "markdown",
   "id": "f872eaf8-f2a3-41f4-accd-4c04245d997f",
   "metadata": {
    "tags": []
   },
   "source": [
    "## Charger tous les  fichiers de la décennie `1930` et créer un fichier de texts"
   ]
  },
  {
   "cell_type": "code",
   "execution_count": 86,
   "id": "0516d854-4cb8-4a7d-b7c9-b4927b2ebffe",
   "metadata": {},
   "outputs": [
    {
     "data": {
      "text/plain": [
       "['Bxl_1935_Tome_II_Part_6.txt',\n",
       " 'Bxl_1930_Tome_II2_Part_4.txt',\n",
       " 'Bxl_1930_Tome_I_Part_7.txt',\n",
       " 'Bxl_1935_Tome_II_Part_8.txt',\n",
       " 'Bxl_1931_Tome_I_Part_3.txt',\n",
       " 'Bxl_1935_Tome_I_Part_4.txt',\n",
       " 'Bxl_1932_Tome_II2_Part_9.txt',\n",
       " 'Bxl_1936_Tome_I2_Part_3.txt',\n",
       " 'Bxl_1936_Tome_I_Part_4.txt',\n",
       " 'Bxl_1937_Tome_II2_Part_2.txt',\n",
       " 'Bxl_1938_Tome_II_Part_6.txt',\n",
       " 'Bxl_1932_Tome_I_Part_5.txt',\n",
       " 'Bxl_1932_Tome_II2_Part_6.txt',\n",
       " 'Bxl_1938_Tome_II_Part_8.txt',\n",
       " 'Bxl_1932_Tome_I_Part_9.txt',\n",
       " 'Bxl_1932_Tome_II2_Part_7.txt',\n",
       " 'Bxl_1939_Tome_III_Part_4.txt',\n",
       " 'Bxl_1931_Tome_II2_Part_1.txt',\n",
       " 'Bxl_1937_Tome_I_Part_6.txt',\n",
       " 'Bxl_1932_Tome_II2_Part_8.txt']"
      ]
     },
     "execution_count": 86,
     "metadata": {},
     "output_type": "execute_result"
    }
   ],
   "source": [
    "# Lister les fichiers de bulletins qui correspondent à Bruxelles\n",
    "data_path = '../data'\n",
    "txt_path = '../data/txt'\n",
    "txts9 = [f for f in os.listdir(txt_path) if os.path.isfile(os.path.join(txt_path, f)) if f.startswith('Bxl_193')]\n",
    "txts9 [:20]"
   ]
  },
  {
   "cell_type": "code",
   "execution_count": 81,
   "id": "0d17295e-f3e5-4b54-a8c7-d47dc0d6182a",
   "metadata": {
    "tags": []
   },
   "outputs": [],
   "source": [
    "# Stocker le contenu de ces fichiers dans une liste\n",
    "content_list = []\n",
    "for txt in txts9:\n",
    "    with open(os.path.join(txt_path, txt), 'r') as f:\n",
    "        content_list.append(f.read())"
   ]
  },
  {
   "cell_type": "code",
   "execution_count": 82,
   "id": "09389265-ce38-4854-a14e-25e1b48694b0",
   "metadata": {},
   "outputs": [
    {
     "data": {
      "text/plain": [
       "206"
      ]
     },
     "execution_count": 82,
     "metadata": {},
     "output_type": "execute_result"
    }
   ],
   "source": [
    "# Compter le nombre d'éléments (=fichiers) dans la liste\n",
    "len(content_list)"
   ]
  },
  {
   "cell_type": "code",
   "execution_count": 83,
   "id": "684d756a-e168-4a77-ab78-ae32c9c942db",
   "metadata": {},
   "outputs": [
    {
     "data": {
      "text/plain": [
       "\"d'après\\n\\ndes feux par\\n\\nles postes arrivés\\n\\na\\n\\ncatégories\\n\\nd'étages,\\n\\nles premiers sur\\nliTAGES\\n\\nKl)\\n\\n<D\\n\\nin\\n\\nX\\n\\nS\\n\\no\\n\\nM\\n\\ned\\n\\nlieux.\\n\\n(D\\n\\n09\\n\\nPOSTES\\n\\nles\\n\\ngroupé,\\n\\na\\n\\nO\\n\\no\\n\\n(73\\n0Í\\nSW\\n\\n- I-H\\n\\nw\\nEH\\n\\nVoies\""
      ]
     },
     "execution_count": 83,
     "metadata": {},
     "output_type": "execute_result"
    }
   ],
   "source": [
    "# Imprimer les 200 premiers caractères du contenu du premier fichier\n",
    "content_list[0][:200]"
   ]
  },
  {
   "cell_type": "code",
   "execution_count": 84,
   "id": "66b461a4-dbec-47b9-bf67-2c64d5b5e755",
   "metadata": {},
   "outputs": [],
   "source": [
    "# Ecrire tout le contenu dans un fichier temporaire\n",
    "temp_path = '../data/tmp_tp4'\n",
    "if not os.path.exists(temp_path):\n",
    "    os.mkdir(temp_path)\n",
    "with open(os.path.join(temp_path, f'{\"1930s\"}.txt'), 'w') as f:\n",
    "    f.write(' '.join(content_list))"
   ]
  },
  {
   "cell_type": "code",
   "execution_count": 85,
   "id": "64f6b215-c4e5-43ba-801f-c70b4794d0c9",
   "metadata": {},
   "outputs": [
    {
     "data": {
      "text/plain": [
       "'d\\'après\\n\\ndes feux par\\n\\nles postes arrivés\\n\\na\\n\\ncatégories\\n\\nd\\'étages,\\n\\nles premiers sur\\nliTAGES\\n\\nKl)\\n\\n<D\\n\\nin\\n\\nX\\n\\nS\\n\\no\\n\\nM\\n\\ned\\n\\nlieux.\\n\\n(D\\n\\n09\\n\\nPOSTES\\n\\nles\\n\\ngroupé,\\n\\na\\n\\nO\\n\\no\\n\\n(73\\n0Í\\nSW\\n\\n- I-H\\n\\nw\\nEH\\n\\nVoies pul\\nang\\n\\nnumérique\\n\\noitu\\n\\nÉTAT\\n\\nX\\n\\nC\\n\\nO\\n\"-(.\\n\\n33\\n\\nH\\n\\nri\\n-—H\\n\\nEn\\n\\n36\\n\\n9 6\\n\\n»\\n\\n9\\n\\n13 28\\n\\n5 26\\n\\n»\\n\\n15\\n\\n25\\n\\n14\\n\\n» 6\\n\\n»\\n\\n9\\n\\n1\\n\\n156\\n\\n5* Division\\n\\n.\\n\\n.\\n\\n.\\n\\n.\\n\\n2 4 » 3\\n14\\n\\n3 » » 2 5 3\\n\\n4\\n\\n»\\n\\n»\\n\\n»\\n\\n2\\n\\n6\\'\\n\\nid.\\n\\n22\\n\\n3\\n\\n7\\n\\n#\\n\\nid\\n\\n49\\n\\n5 6 9\\n\\n1 6 1 5 1 1 »\\n\\na\\n\\nid\\n\\n14\\n\\n2 1 3\\n\\n» 4\\n\\nid\\n\\n»\\n\\n1\\n\\n»\\n\\n32\\n\\n9\\n\\n1 5\\n\\n»\\n\\n2\\n\\n1'"
      ]
     },
     "execution_count": 85,
     "metadata": {},
     "output_type": "execute_result"
    }
   ],
   "source": [
    "# Imprimer le contenu du fichier et constater les \"déchets\"\n",
    "with open(os.path.join(temp_path, f'{\"1930s\"}.txt'), 'r') as f:\n",
    "    before = f.read()\n",
    "\n",
    "before[:500]"
   ]
  },
  {
   "cell_type": "markdown",
   "id": "30fa2ff6-5669-444b-8433-442b276bc0e7",
   "metadata": {
    "tags": []
   },
   "source": [
    "## Charger tous les  fichiers de la décennie `1940` et créer un fichier de texts"
   ]
  },
  {
   "cell_type": "code",
   "execution_count": 87,
   "id": "026eb00c-5976-4377-b348-2409216ac9ab",
   "metadata": {},
   "outputs": [
    {
     "data": {
      "text/plain": [
       "['Bxl_1948_Tome_II_Part_9.txt',\n",
       " 'Bxl_1949_Tome_II_Part_12.txt',\n",
       " 'Bxl_1946_Tome_II_Part_12.txt',\n",
       " 'Bxl_1946_Tome_II_Part_7.txt',\n",
       " 'Bxl_1946_Tome_I_Part_1.txt',\n",
       " 'Bxl_1949_Tome_II_Part_5.txt',\n",
       " 'Bxl_1948_Tome_II_Part_3.txt',\n",
       " 'Bxl_1946_Tome_I_Part_7.txt',\n",
       " 'Bxl_1946_Tome_I_Part_3.txt',\n",
       " 'Bxl_1948_Tome_I_Part_9.txt',\n",
       " 'Bxl_1949_Tome_II_Part_13.txt',\n",
       " 'Bxl_1949_Tome_I_Part_5.txt',\n",
       " 'Bxl_1945_Tome_II2_Part_2.txt',\n",
       " 'Bxl_1949_Tome_II_Part_2.txt',\n",
       " 'Bxl_1949_Tome_I_Part_1.txt',\n",
       " 'Bxl_1947_Tome_II_Part_1.txt',\n",
       " 'Bxl_1945_Tome_II1_Part_1.txt',\n",
       " 'Bxl_1948_Tome_II_Part_6.txt',\n",
       " 'Bxl_1947_Tome_I_Part_4.txt',\n",
       " 'Bxl_1945_Tome_II1_Part_9.txt']"
      ]
     },
     "execution_count": 87,
     "metadata": {},
     "output_type": "execute_result"
    }
   ],
   "source": [
    "# Lister les fichiers de bulletins qui correspondent à Bruxelles\n",
    "data_path = '../data'\n",
    "txt_path = '../data/txt'\n",
    "txts10 = [f for f in os.listdir(txt_path) if os.path.isfile(os.path.join(txt_path, f)) if f.startswith('Bxl_194')]\n",
    "txts10 [:20]"
   ]
  },
  {
   "cell_type": "code",
   "execution_count": 88,
   "id": "6c244924-ae79-4cc0-9e26-515f841e8109",
   "metadata": {
    "tags": []
   },
   "outputs": [],
   "source": [
    "# Stocker le contenu de ces fichiers dans une liste\n",
    "content_list = []\n",
    "for txt in txts10:\n",
    "    with open(os.path.join(txt_path, txt), 'r') as f:\n",
    "        content_list.append(f.read())"
   ]
  },
  {
   "cell_type": "code",
   "execution_count": 89,
   "id": "8512916f-c8f9-4cbd-ada2-d5a525cf937d",
   "metadata": {},
   "outputs": [
    {
     "data": {
      "text/plain": [
       "102"
      ]
     },
     "execution_count": 89,
     "metadata": {},
     "output_type": "execute_result"
    }
   ],
   "source": [
    "# Compter le nombre d'éléments (=fichiers) dans la liste\n",
    "len(content_list)"
   ]
  },
  {
   "cell_type": "code",
   "execution_count": 90,
   "id": "87f4e5f1-dfa4-4476-9b35-3abe6d3f7823",
   "metadata": {},
   "outputs": [
    {
     "data": {
      "text/plain": [
       "\"—\\n\\n1527 —\\n\\n(22 novembre\\n\\n19$)\\n\\n1\\nSapeurs-Pompiers. — Convention avec la commune\\nWaterloo pour les secours en cas d'accidents\\nd'incendie.\\n\\nde\\net\\n\\n. M . le Bourgmestre propose, a u n o m d u C o l l è g\""
      ]
     },
     "execution_count": 90,
     "metadata": {},
     "output_type": "execute_result"
    }
   ],
   "source": [
    "# Imprimer les 200 premiers caractères du contenu du premier fichier\n",
    "content_list[0][:200]"
   ]
  },
  {
   "cell_type": "code",
   "execution_count": 91,
   "id": "812c9bca-653e-4d57-9df4-3d685b59890a",
   "metadata": {},
   "outputs": [],
   "source": [
    "# Ecrire tout le contenu dans un fichier temporaire\n",
    "temp_path = '../data/tmp_tp4'\n",
    "if not os.path.exists(temp_path):\n",
    "    os.mkdir(temp_path)\n",
    "with open(os.path.join(temp_path, f'{\"1940s\"}.txt'), 'w') as f:\n",
    "    f.write(' '.join(content_list))"
   ]
  },
  {
   "cell_type": "code",
   "execution_count": 92,
   "id": "685e6dee-eeb3-47b6-8687-e742573e25d7",
   "metadata": {},
   "outputs": [
    {
     "data": {
      "text/plain": [
       "\"—\\n\\n1527 —\\n\\n(22 novembre\\n\\n19$)\\n\\n1\\nSapeurs-Pompiers. — Convention avec la commune\\nWaterloo pour les secours en cas d'accidents\\nd'incendie.\\n\\nde\\net\\n\\n. M . le Bourgmestre propose, a u n o m d u C o l l è g e , d'approuver u n e c o n v e n t i o n à c o n c l u r e avec l a C o m m u n e de\\nW a t e r l o o p o u r l ' o r g a n i s a t i o n des secours e n cas d ' a c c i dent et d'incendie sur le territoire de cette d e r n i è r e c o m mune. (1)\\n— Il est p r o c é d é a u vote p a r appel n o m i\""
      ]
     },
     "execution_count": 92,
     "metadata": {},
     "output_type": "execute_result"
    }
   ],
   "source": [
    "# Imprimer le contenu du fichier et constater les \"déchets\"\n",
    "with open(os.path.join(temp_path, f'{\"1940s\"}.txt'), 'r') as f:\n",
    "    before = f.read()\n",
    "\n",
    "before[:500]"
   ]
  },
  {
   "cell_type": "markdown",
   "id": "c22190c6-8f9f-4f9b-8f7d-d8d5a280f277",
   "metadata": {
    "tags": []
   },
   "source": [
    "## Charger tous les  fichiers de la décennie `1950` et créer un fichier de texts"
   ]
  },
  {
   "cell_type": "code",
   "execution_count": 93,
   "id": "9db684dc-f7b0-408e-9b0d-c13c581d7980",
   "metadata": {},
   "outputs": [
    {
     "data": {
      "text/plain": [
       "['Bxl_1955_Tome_II1_Part_8.txt',\n",
       " 'Bxl_1950_Tome_II_Part_2.txt',\n",
       " 'Bxl_1955_Tome_II2_Part_7.txt',\n",
       " 'Bxl_1958_Tome_II_Part_12.txt',\n",
       " 'Bxl_1958_Tome_II_Part_15.txt',\n",
       " 'Bxl_1951_Tome_I_Part_5.txt',\n",
       " 'Bxl_1952_Tome_II_Part_6.txt',\n",
       " 'Bxl_1958_Tome_I_Part_7.txt',\n",
       " 'Bxl_1955_Tome_I_Part_8.txt',\n",
       " 'Bxl_1951_Tome_II_Part_13.txt',\n",
       " 'Bxl_1957_Tome_II2_Part_5.txt',\n",
       " 'Bxl_1955_Tome_II2_Part_3.txt',\n",
       " 'Bxl_1958_Tome_I_Part_6.txt',\n",
       " 'Bxl_1959_Tome_II1_Part_1.txt',\n",
       " 'Bxl_1956_Tome_I_Part_5.txt',\n",
       " 'Bxl_1951_Tome_II_Part_15.txt',\n",
       " 'Bxl_1951_Tome_II_Part_5.txt',\n",
       " 'Bxl_1956_Tome_II1_Part_11.txt',\n",
       " 'Bxl_1954_Tome_III_Part_7.txt',\n",
       " 'Bxl_1953_Tome_III_Part_8.txt']"
      ]
     },
     "execution_count": 93,
     "metadata": {},
     "output_type": "execute_result"
    }
   ],
   "source": [
    "# Lister les fichiers de bulletins qui correspondent à Bruxelles\n",
    "data_path = '../data'\n",
    "txt_path = '../data/txt'\n",
    "txts11 = [f for f in os.listdir(txt_path) if os.path.isfile(os.path.join(txt_path, f)) if f.startswith('Bxl_195')]\n",
    "txts11 [:20]"
   ]
  },
  {
   "cell_type": "code",
   "execution_count": 94,
   "id": "d1518d01-d38e-4942-bbf0-bf172e8c2236",
   "metadata": {
    "tags": []
   },
   "outputs": [],
   "source": [
    "# Stocker le contenu de ces fichiers dans une liste\n",
    "content_list = []\n",
    "for txt in txts11:\n",
    "    with open(os.path.join(txt_path, txt), 'r') as f:\n",
    "        content_list.append(f.read())"
   ]
  },
  {
   "cell_type": "code",
   "execution_count": 95,
   "id": "f7adfe45-db79-438a-a492-c9b28788762c",
   "metadata": {},
   "outputs": [
    {
     "data": {
      "text/plain": [
       "312"
      ]
     },
     "execution_count": 95,
     "metadata": {},
     "output_type": "execute_result"
    }
   ],
   "source": [
    "# Compter le nombre d'éléments (=fichiers) dans la liste\n",
    "len(content_list)"
   ]
  },
  {
   "cell_type": "code",
   "execution_count": 96,
   "id": "6c19118d-39ed-4527-8235-b209e54e10b7",
   "metadata": {},
   "outputs": [
    {
     "data": {
      "text/plain": [
       "'—\\n\\n691\\n\\n—\\n\\n(3\\n\\noctobre\\n\\n1955)\\n\\nReport : 153.887.574,77\\n\\nDirection —\\n\\nAdministration —\\n\\nTraitements\\nSalaires\\nEntretien\\nFrais généraux\\nAmortissements\\nIntérêts s u r e m p r u n t s\\n\\nMagasins g é n é r a'"
      ]
     },
     "execution_count": 96,
     "metadata": {},
     "output_type": "execute_result"
    }
   ],
   "source": [
    "# Imprimer les 200 premiers caractères du contenu du premier fichier\n",
    "content_list[0][:200]"
   ]
  },
  {
   "cell_type": "code",
   "execution_count": 97,
   "id": "5b7c8fe0-bacf-4f8c-bae1-a3090cb50093",
   "metadata": {},
   "outputs": [],
   "source": [
    "# Ecrire tout le contenu dans un fichier temporaire\n",
    "temp_path = '../data/tmp_tp4'\n",
    "if not os.path.exists(temp_path):\n",
    "    os.mkdir(temp_path)\n",
    "with open(os.path.join(temp_path, f'{\"1950s\"}.txt'), 'w') as f:\n",
    "    f.write(' '.join(content_list))"
   ]
  },
  {
   "cell_type": "code",
   "execution_count": 98,
   "id": "e802fd51-f4fd-4af0-93d2-015054685212",
   "metadata": {},
   "outputs": [
    {
     "data": {
      "text/plain": [
       "\"—\\n\\n691\\n\\n—\\n\\n(3\\n\\noctobre\\n\\n1955)\\n\\nReport : 153.887.574,77\\n\\nDirection —\\n\\nAdministration —\\n\\nTraitements\\nSalaires\\nEntretien\\nFrais généraux\\nAmortissements\\nIntérêts s u r e m p r u n t s\\n\\nMagasins g é n é r a u x .\\n2.213.316,—\\n2.807.067,82\\n324.499,24\\n1.289.179,78\\n\\n.\\n\\n.\\n\\n.\\n\\n431.446,67\\n25.314,58\\n\\n456.761,25\\n7.090.824,09\\n\\nD é p e n s e s hors exploitation.\\nP e n s i o n s c o m m u n a l e s et ouvrières d u S e r v i c e\\nT r a v a u x et f o u r n i t u r e s p o u r d'autres s e r v i c e s\\nInspection d \""
      ]
     },
     "execution_count": 98,
     "metadata": {},
     "output_type": "execute_result"
    }
   ],
   "source": [
    "# Imprimer le contenu du fichier et constater les \"déchets\"\n",
    "with open(os.path.join(temp_path, f'{\"1950s\"}.txt'), 'r') as f:\n",
    "    before = f.read()\n",
    "\n",
    "before[:500]"
   ]
  },
  {
   "cell_type": "markdown",
   "id": "4ef7330c-65ab-4505-bdcd-d2825243147a",
   "metadata": {
    "tags": []
   },
   "source": [
    "## Charger tous les  fichiers de la décennie `1960` et créer un fichier de texts"
   ]
  },
  {
   "cell_type": "code",
   "execution_count": 99,
   "id": "6428bb6a-9c8c-4b93-9700-d1d4a60f2c76",
   "metadata": {},
   "outputs": [
    {
     "data": {
      "text/plain": [
       "['Bxl_1961_Tome_RptAn_Part_4.txt',\n",
       " 'Bxl_1963_Tome_RptAn_Part_5.txt',\n",
       " 'Bxl_1966_Tome_I2_Part_5.txt',\n",
       " 'Bxl_1967_Tome_II2_Part_10.txt',\n",
       " 'Bxl_1965_Tome_I_Part_8.txt',\n",
       " 'Bxl_1966_Tome_II2_Part_11.txt',\n",
       " 'Bxl_1963_Tome_II1_Part_6.txt',\n",
       " 'Bxl_1967_Tome_I1_Part_7.txt',\n",
       " 'Bxl_1966_Tome_I2_Part_7.txt',\n",
       " 'Bxl_1961_Tome_I_Part_4.txt',\n",
       " 'Bxl_1965_Tome_II2_Part_10.txt',\n",
       " 'Bxl_1962_Tome_II2_Part_5.txt',\n",
       " 'Bxl_1968_Tome_II2_Part_8.txt',\n",
       " 'Bxl_1965_Tome_I_Part_4.txt',\n",
       " 'Bxl_1964_Tome_II2_Part_9.txt',\n",
       " 'Bxl_1965_Tome_II1_Part_2.txt',\n",
       " 'Bxl_1964_Tome_II2_Part_4.txt',\n",
       " 'Bxl_1969_Tome_I1_Part_7.txt',\n",
       " 'Bxl_1969_Tome_I1_Part_8.txt',\n",
       " 'Bxl_1969_Tome_I2_Part_3.txt']"
      ]
     },
     "execution_count": 99,
     "metadata": {},
     "output_type": "execute_result"
    }
   ],
   "source": [
    "# Lister les fichiers de bulletins qui correspondent à Bruxelles\n",
    "data_path = '../data'\n",
    "txt_path = '../data/txt'\n",
    "txts12 = [f for f in os.listdir(txt_path) if os.path.isfile(os.path.join(txt_path, f)) if f.startswith('Bxl_196')]\n",
    "txts12 [:20]"
   ]
  },
  {
   "cell_type": "code",
   "execution_count": 100,
   "id": "4c22ab68-158f-4993-8a51-b27a5d35e19e",
   "metadata": {
    "tags": []
   },
   "outputs": [],
   "source": [
    "# Stocker le contenu de ces fichiers dans une liste\n",
    "content_list = []\n",
    "for txt in txts12:\n",
    "    with open(os.path.join(txt_path, txt), 'r') as f:\n",
    "        content_list.append(f.read())"
   ]
  },
  {
   "cell_type": "code",
   "execution_count": 101,
   "id": "8fe910e5-7866-49ea-a151-7ce6debdce48",
   "metadata": {},
   "outputs": [
    {
     "data": {
      "text/plain": [
       "420"
      ]
     },
     "execution_count": 101,
     "metadata": {},
     "output_type": "execute_result"
    }
   ],
   "source": [
    "# Compter le nombre d'éléments (=fichiers) dans la liste\n",
    "len(content_list)"
   ]
  },
  {
   "cell_type": "code",
   "execution_count": 102,
   "id": "a39adac3-ec28-4e33-8bf3-7294439ab83e",
   "metadata": {},
   "outputs": [
    {
     "data": {
      "text/plain": [
       "\"—\\n\\n301\\n\\n—\\n\\n5. — S e r v i c e a d m i n i s t r a t i f\\n51. —\\n\\nADMINISTRATION.\\n\\nD u r a n t l'année 1960, i l a été procédé\\n1 3 . 3 9 9 pièces à l ' i n d i c a t e u r .\\n\\nà l'inscription de\\n\\ni l a ét\""
      ]
     },
     "execution_count": 102,
     "metadata": {},
     "output_type": "execute_result"
    }
   ],
   "source": [
    "# Imprimer les 200 premiers caractères du contenu du premier fichier\n",
    "content_list[0][:200]"
   ]
  },
  {
   "cell_type": "code",
   "execution_count": 103,
   "id": "4d9281a6-23e9-4859-bc3d-7d278be18732",
   "metadata": {},
   "outputs": [],
   "source": [
    "# Ecrire tout le contenu dans un fichier temporaire\n",
    "temp_path = '../data/tmp_tp4'\n",
    "if not os.path.exists(temp_path):\n",
    "    os.mkdir(temp_path)\n",
    "with open(os.path.join(temp_path, f'{\"1960s\"}.txt'), 'w') as f:\n",
    "    f.write(' '.join(content_list))"
   ]
  },
  {
   "cell_type": "code",
   "execution_count": 104,
   "id": "e4eea1da-51a8-4895-9e9c-9252044b6f93",
   "metadata": {},
   "outputs": [
    {
     "data": {
      "text/plain": [
       "\"—\\n\\n301\\n\\n—\\n\\n5. — S e r v i c e a d m i n i s t r a t i f\\n51. —\\n\\nADMINISTRATION.\\n\\nD u r a n t l'année 1960, i l a été procédé\\n1 3 . 3 9 9 pièces à l ' i n d i c a t e u r .\\n\\nà l'inscription de\\n\\ni l a été procédé à 3 3 adjudications publiques, 107 adjudications restreintes, ainsi q u ' à 531 demandes de prix.\\nD ' a u t r e part, i l a été émis 1.551 bons de commande au secteur privé et 197 bons de s e r v i c e .\\nIl a é t é o u v e r t 134 dossiers relatifs à des accidents intéressant le S e r v i \""
      ]
     },
     "execution_count": 104,
     "metadata": {},
     "output_type": "execute_result"
    }
   ],
   "source": [
    "# Imprimer le contenu du fichier et constater les \"déchets\"\n",
    "with open(os.path.join(temp_path, f'{\"1960s\"}.txt'), 'r') as f:\n",
    "    before = f.read()\n",
    "\n",
    "before[:500]"
   ]
  },
  {
   "cell_type": "markdown",
   "id": "e7ef0fa0-0efe-4a5b-9104-df7623cb8cfe",
   "metadata": {
    "tags": []
   },
   "source": [
    "## Charger tous les  fichiers de la décennie `1970` et créer un fichier de texts"
   ]
  },
  {
   "cell_type": "code",
   "execution_count": 105,
   "id": "cbf29cc6-be0e-438c-8806-2f873771d8df",
   "metadata": {},
   "outputs": [
    {
     "data": {
      "text/plain": [
       "['Bxl_1972_Tome_I2_Part_7.txt',\n",
       " 'Bxl_1975_Tome_II2_Part_3.txt',\n",
       " 'Bxl_1976_Tome_RptAn_Part_3.txt',\n",
       " 'Bxl_1970_Tome_II1_Part_10.txt',\n",
       " 'Bxl_1975_Tome_II2_Part_7.txt',\n",
       " 'Bxl_1971_Tome_I_Part_8.txt',\n",
       " 'Bxl_1978_Tome_I2_Part_9.txt',\n",
       " 'Bxl_1975_Tome_II2_Part_4.txt',\n",
       " 'Bxl_1973_Tome_II1_Part_3.txt',\n",
       " 'Bxl_1970_Tome_II2_Part_2.txt',\n",
       " 'Bxl_1976_Tome_II1_Part_1.txt',\n",
       " 'Bxl_1972_Tome_RptAn_Part_4.txt',\n",
       " 'Bxl_1972_Tome_I1_Part_9.txt',\n",
       " 'Bxl_1974_Tome_I_Part_9.txt',\n",
       " 'Bxl_1976_Tome_I1_Part_5.txt',\n",
       " 'Bxl_1977_Tome_II1_Part_7.txt',\n",
       " 'Bxl_1970_Tome_II2_Part_3.txt',\n",
       " 'Bxl_1970_Tome_RptAn_Part_1.txt',\n",
       " 'Bxl_1973_Tome_RptAn_Part_3.txt',\n",
       " 'Bxl_1974_Tome_II2_Part_7.txt']"
      ]
     },
     "execution_count": 105,
     "metadata": {},
     "output_type": "execute_result"
    }
   ],
   "source": [
    "# Lister les fichiers de bulletins qui correspondent à Bruxelles\n",
    "data_path = '../data'\n",
    "txt_path = '../data/txt'\n",
    "txts13 = [f for f in os.listdir(txt_path) if os.path.isfile(os.path.join(txt_path, f)) if f.startswith('Bxl_197')]\n",
    "txts13 [:20]"
   ]
  },
  {
   "cell_type": "code",
   "execution_count": 106,
   "id": "e857c648-d5be-469f-a9c6-9a9d87123aa0",
   "metadata": {
    "tags": []
   },
   "outputs": [],
   "source": [
    "# Stocker le contenu de ces fichiers dans une liste\n",
    "content_list = []\n",
    "for txt in txts13:\n",
    "    with open(os.path.join(txt_path, txt), 'r') as f:\n",
    "        content_list.append(f.read())"
   ]
  },
  {
   "cell_type": "code",
   "execution_count": 107,
   "id": "c570fb52-e496-4ecb-93a9-c10b2b18ee4e",
   "metadata": {},
   "outputs": [
    {
     "data": {
      "text/plain": [
       "370"
      ]
     },
     "execution_count": 107,
     "metadata": {},
     "output_type": "execute_result"
    }
   ],
   "source": [
    "# Compter le nombre d'éléments (=fichiers) dans la liste\n",
    "len(content_list)"
   ]
  },
  {
   "cell_type": "code",
   "execution_count": 108,
   "id": "acfaa316-a375-4f9e-980a-07409fae3635",
   "metadata": {},
   "outputs": [
    {
     "data": {
      "text/plain": [
       "'Evaluation\\ndu budget\\n\\n32.\\n\\n— Apports de ventes\\n\\n33.\\n\\n— Taxe fiscale\\n\\n34.\\n\\n— Droits de p o i n ç o n n a g e\\n\\nSommes\\nirrécouvrables\\n\\nDroits\\nconstatés\\n\\nRecouvrements\\neffectués\\n\\nDroits\\nréels\\n\\n—\\n\\n5.000.00'"
      ]
     },
     "execution_count": 108,
     "metadata": {},
     "output_type": "execute_result"
    }
   ],
   "source": [
    "# Imprimer les 200 premiers caractères du contenu du premier fichier\n",
    "content_list[0][:200]"
   ]
  },
  {
   "cell_type": "code",
   "execution_count": 109,
   "id": "dba4a0f3-23f4-42a8-9202-edc05a810628",
   "metadata": {},
   "outputs": [],
   "source": [
    "# Ecrire tout le contenu dans un fichier temporaire\n",
    "temp_path = '../data/tmp_tp4'\n",
    "if not os.path.exists(temp_path):\n",
    "    os.mkdir(temp_path)\n",
    "with open(os.path.join(temp_path, f'{\"1970s\"}.txt'), 'w') as f:\n",
    "    f.write(' '.join(content_list))"
   ]
  },
  {
   "cell_type": "code",
   "execution_count": 110,
   "id": "85e5e5cf-76e8-4938-9081-ffd2085b64af",
   "metadata": {},
   "outputs": [
    {
     "data": {
      "text/plain": [
       "'Evaluation\\ndu budget\\n\\n32.\\n\\n— Apports de ventes\\n\\n33.\\n\\n— Taxe fiscale\\n\\n34.\\n\\n— Droits de p o i n ç o n n a g e\\n\\nSommes\\nirrécouvrables\\n\\nDroits\\nconstatés\\n\\nRecouvrements\\neffectués\\n\\nDroits\\nréels\\n\\n—\\n\\n5.000.000\\n\\n5.000.000\\n\\n360.000\\n\\n387.538\\n\\n70.000\\n\\n76.299\\n\\n—\\n\\n76.299\\n\\n76.299\\n\\n5.430.000\\n\\n5.4(o.K37\\n\\n—\\n\\n5.463.837\\n\\n5.463.837\\n\\n5.000.000\\n\\nN i\\n\\n5.000.000\\n\\n387.538 1\\n\\n387.538\\n\\n0\\\\\\n\\nQ\\n\\nDépenses\\n\\nAllocations\\nbudgétaires\\n\\n32.\\n\\n—\\n\\nApports\\n\\n33.\\n\\n—\\n\\nT a x e\\n\\n34.\\n\\n—\\n\\nDroits\\n\\nde\\n\\nventes\\n\\n5 . 0 0 0 . 0 0 0\\n\\nfiscale\\nde\\n\\npoin'"
      ]
     },
     "execution_count": 110,
     "metadata": {},
     "output_type": "execute_result"
    }
   ],
   "source": [
    "# Imprimer le contenu du fichier et constater les \"déchets\"\n",
    "with open(os.path.join(temp_path, f'{\"1970s\"}.txt'), 'r') as f:\n",
    "    before = f.read()\n",
    "\n",
    "before[:500]"
   ]
  },
  {
   "cell_type": "code",
   "execution_count": 135,
   "id": "c21dbc49-67b2-4155-a876-568665123876",
   "metadata": {},
   "outputs": [
    {
     "name": "stdout",
     "output_type": "stream",
     "text": [
      "Number of occurrences of the word : 2\n"
     ]
    }
   ],
   "source": [
    "#get file object reference to the file\n",
    "file = open(\"1850s.txt\", \"r\")\n",
    "\n",
    "#read content of file to string\n",
    "data = file.read()\n",
    "\n",
    "#get number of occurrences of the substring in the string\n",
    "occurrences = data.count(\"ecole\")\n",
    "\n",
    "print('Number of occurrences of the word :', occurrences)"
   ]
  },
  {
   "cell_type": "code",
   "execution_count": 137,
   "id": "b331e7c2-1785-4b7c-8a76-59ec64e2f86d",
   "metadata": {},
   "outputs": [
    {
     "name": "stdout",
     "output_type": "stream",
     "text": [
      "Number of occurrences of the word : 3\n"
     ]
    }
   ],
   "source": [
    "#get file object reference to the file\n",
    "file = open(\"1860s.txt\", \"r\")\n",
    "\n",
    "#read content of file to string\n",
    "data = file.read()\n",
    "\n",
    "#get number of occurrences of the substring in the string\n",
    "occurrences = data.count(\"ecole\")\n",
    "\n",
    "print('Number of occurrences of the word :', occurrences)"
   ]
  },
  {
   "cell_type": "code",
   "execution_count": 138,
   "id": "2f1cf72d-f685-4e09-9789-76664bc07ba0",
   "metadata": {},
   "outputs": [
    {
     "name": "stdout",
     "output_type": "stream",
     "text": [
      "Number of occurrences of the word : 1\n"
     ]
    }
   ],
   "source": [
    "#get file object reference to the file\n",
    "file = open(\"1870s.txt\", \"r\")\n",
    "\n",
    "#read content of file to string\n",
    "data = file.read()\n",
    "\n",
    "#get number of occurrences of the substring in the string\n",
    "occurrences = data.count(\"ecole\")\n",
    "\n",
    "print('Number of occurrences of the word :', occurrences)"
   ]
  },
  {
   "cell_type": "code",
   "execution_count": 139,
   "id": "d7e53fd5-e3b5-4b87-9665-54fe507e7c2b",
   "metadata": {},
   "outputs": [
    {
     "name": "stdout",
     "output_type": "stream",
     "text": [
      "Number of occurrences of the word : 2\n"
     ]
    }
   ],
   "source": [
    "#get file object reference to the file\n",
    "file = open(\"1880s.txt\", \"r\")\n",
    "\n",
    "#read content of file to string\n",
    "data = file.read()\n",
    "\n",
    "#get number of occurrences of the substring in the string\n",
    "occurrences = data.count(\"ecole\")\n",
    "\n",
    "print('Number of occurrences of the word :', occurrences)"
   ]
  },
  {
   "cell_type": "code",
   "execution_count": 140,
   "id": "0b6a418d-58c9-4ad3-8988-37d55467bad3",
   "metadata": {},
   "outputs": [
    {
     "name": "stdout",
     "output_type": "stream",
     "text": [
      "Number of occurrences of the word : 4\n"
     ]
    }
   ],
   "source": [
    "#get file object reference to the file\n",
    "file = open(\"1890s.txt\", \"r\")\n",
    "\n",
    "#read content of file to string\n",
    "data = file.read()\n",
    "\n",
    "#get number of occurrences of the substring in the string\n",
    "occurrences = data.count(\"ecole\")\n",
    "\n",
    "print('Number of occurrences of the word :', occurrences)"
   ]
  },
  {
   "cell_type": "code",
   "execution_count": 141,
   "id": "b06bb344-43b2-4662-993b-a54e330dd2dd",
   "metadata": {},
   "outputs": [
    {
     "name": "stdout",
     "output_type": "stream",
     "text": [
      "Number of occurrences of the word : 4\n"
     ]
    }
   ],
   "source": [
    "#get file object reference to the file\n",
    "file = open(\"1900s.txt\", \"r\")\n",
    "\n",
    "#read content of file to string\n",
    "data = file.read()\n",
    "\n",
    "#get number of occurrences of the substring in the string\n",
    "occurrences = data.count(\"ecole\")\n",
    "\n",
    "print('Number of occurrences of the word :', occurrences)"
   ]
  },
  {
   "cell_type": "code",
   "execution_count": 142,
   "id": "ca852696-2e2f-4d44-b973-e87c594fab66",
   "metadata": {},
   "outputs": [
    {
     "name": "stdout",
     "output_type": "stream",
     "text": [
      "Number of occurrences of the word : 4\n"
     ]
    }
   ],
   "source": [
    "#get file object reference to the file\n",
    "file = open(\"1910s.txt\", \"r\")\n",
    "\n",
    "#read content of file to string\n",
    "data = file.read()\n",
    "\n",
    "#get number of occurrences of the substring in the string\n",
    "occurrences = data.count(\"ecole\")\n",
    "\n",
    "print('Number of occurrences of the word :', occurrences)"
   ]
  },
  {
   "cell_type": "code",
   "execution_count": 143,
   "id": "57bcc04e-efa1-4ea1-ad18-be058eb46b3d",
   "metadata": {},
   "outputs": [
    {
     "name": "stdout",
     "output_type": "stream",
     "text": [
      "Number of occurrences of the word : 4\n"
     ]
    }
   ],
   "source": [
    "#get file object reference to the file\n",
    "file = open(\"1920s.txt\", \"r\")\n",
    "\n",
    "#read content of file to string\n",
    "data = file.read()\n",
    "\n",
    "#get number of occurrences of the substring in the string\n",
    "occurrences = data.count(\"ecole\")\n",
    "\n",
    "print('Number of occurrences of the word :', occurrences)"
   ]
  },
  {
   "cell_type": "code",
   "execution_count": 144,
   "id": "444317a9-efa7-43aa-8aed-07baa7f0bc90",
   "metadata": {},
   "outputs": [
    {
     "name": "stdout",
     "output_type": "stream",
     "text": [
      "Number of occurrences of the word : 4\n"
     ]
    }
   ],
   "source": [
    "#get file object reference to the file\n",
    "file = open(\"1930s.txt\", \"r\")\n",
    "\n",
    "#read content of file to string\n",
    "data = file.read()\n",
    "\n",
    "#get number of occurrences of the substring in the string\n",
    "occurrences = data.count(\"ecole\")\n",
    "\n",
    "print('Number of occurrences of the word :', occurrences)"
   ]
  },
  {
   "cell_type": "code",
   "execution_count": 145,
   "id": "160ecdd9-9b08-4415-9175-55f5910b7a04",
   "metadata": {},
   "outputs": [
    {
     "name": "stdout",
     "output_type": "stream",
     "text": [
      "Number of occurrences of the word : 3\n"
     ]
    }
   ],
   "source": [
    "#get file object reference to the file\n",
    "file = open(\"1940s.txt\", \"r\")\n",
    "\n",
    "#read content of file to string\n",
    "data = file.read()\n",
    "\n",
    "#get number of occurrences of the substring in the string\n",
    "occurrences = data.count(\"ecole\")\n",
    "\n",
    "print('Number of occurrences of the word :', occurrences)"
   ]
  },
  {
   "cell_type": "code",
   "execution_count": 146,
   "id": "ae886d1a-4ea1-4170-9a3b-e264baad96b3",
   "metadata": {},
   "outputs": [
    {
     "name": "stdout",
     "output_type": "stream",
     "text": [
      "Number of occurrences of the word : 2\n"
     ]
    }
   ],
   "source": [
    "#get file object reference to the file\n",
    "file = open(\"1950s.txt\", \"r\")\n",
    "\n",
    "#read content of file to string\n",
    "data = file.read()\n",
    "\n",
    "#get number of occurrences of the substring in the string\n",
    "occurrences = data.count(\"ecole\")\n",
    "\n",
    "print('Number of occurrences of the word :', occurrences)"
   ]
  },
  {
   "cell_type": "code",
   "execution_count": 147,
   "id": "e3bc7123-2c9a-4a75-983a-a5e72e6ee799",
   "metadata": {},
   "outputs": [
    {
     "name": "stdout",
     "output_type": "stream",
     "text": [
      "Number of occurrences of the word : 5\n"
     ]
    }
   ],
   "source": [
    "#get file object reference to the file\n",
    "file = open(\"1960s.txt\", \"r\")\n",
    "\n",
    "#read content of file to string\n",
    "data = file.read()\n",
    "\n",
    "#get number of occurrences of the substring in the string\n",
    "occurrences = data.count(\"ecole\")\n",
    "\n",
    "print('Number of occurrences of the word :', occurrences)"
   ]
  },
  {
   "cell_type": "code",
   "execution_count": 148,
   "id": "295e3382-1fa4-43a0-89b0-102323404f5d",
   "metadata": {},
   "outputs": [
    {
     "name": "stdout",
     "output_type": "stream",
     "text": [
      "Number of occurrences of the word : 0\n"
     ]
    }
   ],
   "source": [
    "#get file object reference to the file\n",
    "file = open(\"1970s.txt\", \"r\")\n",
    "\n",
    "#read content of file to string\n",
    "data = file.read()\n",
    "\n",
    "#get number of occurrences of the substring in the string\n",
    "occurrences = data.count(\"ecole\")\n",
    "\n",
    "print('Number of occurrences of the word :', occurrences)"
   ]
  },
  {
   "cell_type": "code",
   "execution_count": 122,
   "id": "06f9fc4a-555c-480c-a542-e229c2501b61",
   "metadata": {},
   "outputs": [
    {
     "data": {
      "text/plain": [
       "[]"
      ]
     },
     "execution_count": 122,
     "metadata": {},
     "output_type": "execute_result"
    }
   ],
   "source": [
    "# Lister les fichiers de bulletins qui correspondent à Bruxelles\n",
    "data_path = '../data'\n",
    "txt_path = '../data/txt'\n",
    "txts14 = [f for f in os.listdir(txt_path) if os.path.isfile(os.path.join(txt_path, f)) if f.startswith('Bxl_198')]\n",
    "txts14 [:20]"
   ]
  },
  {
   "cell_type": "code",
   "execution_count": 72,
   "id": "0aad8044-2009-417f-ad3f-a795ca91bd4c",
   "metadata": {
    "tags": []
   },
   "outputs": [],
   "source": [
    "# Stocker le contenu de ces fichiers dans une liste\n",
    "content_list = []\n",
    "for txt in txts7:\n",
    "    with open(os.path.join(txt_path, txt), 'r') as f:\n",
    "        content_list.append(f.read())"
   ]
  },
  {
   "cell_type": "code",
   "execution_count": 73,
   "id": "0ae459b7-73ce-420e-9058-244a3818d4b2",
   "metadata": {},
   "outputs": [
    {
     "data": {
      "text/plain": [
       "170"
      ]
     },
     "execution_count": 73,
     "metadata": {},
     "output_type": "execute_result"
    }
   ],
   "source": [
    "# Compter le nombre d'éléments (=fichiers) dans la liste\n",
    "len(content_list)"
   ]
  },
  {
   "cell_type": "code",
   "execution_count": 74,
   "id": "357fce01-fc80-464f-ac53-318c52852e10",
   "metadata": {},
   "outputs": [
    {
     "data": {
      "text/plain": [
       "\"(31\\n\\nJanvier\\n\\n1910)\\n\\n—\\n\\n100\\n\\n—\\n\\nCes comptes soldent par un déficit de. . . fr.\\nalors que la somme prévue au bu iget de la Ville\\nn'est que de\\nDifférence.\\n\\n626.568 90\\n532,970 37\\n\\n. fr.\\n\\n93,598 53\\n\\nEn vu\""
      ]
     },
     "execution_count": 74,
     "metadata": {},
     "output_type": "execute_result"
    }
   ],
   "source": [
    "# Imprimer les 200 premiers caractères du contenu du premier fichier\n",
    "content_list[0][:200]"
   ]
  },
  {
   "cell_type": "code",
   "execution_count": 75,
   "id": "659eba1d-7d52-48e3-9ec9-a62aefc60786",
   "metadata": {},
   "outputs": [],
   "source": [
    "# Ecrire tout le contenu dans un fichier temporaire\n",
    "temp_path = '../data/tmp_tp4'\n",
    "if not os.path.exists(temp_path):\n",
    "    os.mkdir(temp_path)\n",
    "with open(os.path.join(temp_path, f'{\"1910s\"}.txt'), 'w') as f:\n",
    "    f.write(' '.join(content_list))"
   ]
  },
  {
   "cell_type": "code",
   "execution_count": 76,
   "id": "6bf03f85-9439-47f4-ba59-f88a1885983d",
   "metadata": {},
   "outputs": [
    {
     "data": {
      "text/plain": [
       "\"(31\\n\\nJanvier\\n\\n1910)\\n\\n—\\n\\n100\\n\\n—\\n\\nCes comptes soldent par un déficit de. . . fr.\\nalors que la somme prévue au bu iget de la Ville\\nn'est que de\\nDifférence.\\n\\n626.568 90\\n532,970 37\\n\\n. fr.\\n\\n93,598 53\\n\\nEn vue de permettre de liquider le montant de ce déficit, le\\nCollège vous propose, Messieurs, le vote d'un crédit supplémentaire defr. 9;5,598-ô3 à l'art. 131 des dépenses ordinaires\\ndu budget de 1901) : « Subside éventuel à\\nl'Administration\\ndes hospices et secours ».\\n\\nLes ressources ordinaires de l'exer\""
      ]
     },
     "execution_count": 76,
     "metadata": {},
     "output_type": "execute_result"
    }
   ],
   "source": [
    "# Imprimer le contenu du fichier et constater les \"déchets\"\n",
    "with open(os.path.join(temp_path, f'{\"1910s\"}.txt'), 'r') as f:\n",
    "    before = f.read()\n",
    "\n",
    "before[:500]"
   ]
  },
  {
   "cell_type": "code",
   "execution_count": null,
   "id": "5b979d94-7270-4bca-96ed-68c928de7719",
   "metadata": {},
   "outputs": [],
   "source": []
  }
 ],
 "metadata": {
  "kernelspec": {
   "display_name": "Python 3 (ipykernel)",
   "language": "python",
   "name": "python3"
  },
  "language_info": {
   "codemirror_mode": {
    "name": "ipython",
    "version": 3
   },
   "file_extension": ".py",
   "mimetype": "text/x-python",
   "name": "python",
   "nbconvert_exporter": "python",
   "pygments_lexer": "ipython3",
   "version": "3.9.7"
  }
 },
 "nbformat": 4,
 "nbformat_minor": 5
}
