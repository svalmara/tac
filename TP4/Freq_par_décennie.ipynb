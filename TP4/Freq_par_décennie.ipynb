{
 "cells": [
  {
   "cell_type": "markdown",
   "id": "3e505cd7-cc37-4ded-8c5b-e7e2576e2daa",
   "metadata": {},
   "source": [
    "# TP4 Fréquence de la thématique par décennie - Sofia Valma-Rantisits"
   ]
  },
  {
   "cell_type": "code",
   "execution_count": 2,
   "id": "75b62544-99d7-4feb-a623-e80ad0cfb49a",
   "metadata": {},
   "outputs": [],
   "source": [
    "import collections\n",
    "import os\n",
    "import string\n",
    "import sys"
   ]
  },
  {
   "cell_type": "code",
   "execution_count": 2,
   "id": "d0b03c76-cff5-41a1-b24b-d55274ee60bb",
   "metadata": {},
   "outputs": [
    {
     "name": "stderr",
     "output_type": "stream",
     "text": [
      "[nltk_data] Downloading package punkt to /root/nltk_data...\n",
      "[nltk_data]   Package punkt is already up-to-date!\n"
     ]
    },
    {
     "data": {
      "text/plain": [
       "True"
      ]
     },
     "execution_count": 2,
     "metadata": {},
     "output_type": "execute_result"
    }
   ],
   "source": [
    "import nltk\n",
    "\n",
    "nltk.download('punkt')"
   ]
  },
  {
   "cell_type": "markdown",
   "id": "9e9b0ba5-df6c-41ab-9632-500dcca7dea7",
   "metadata": {
    "tags": []
   },
   "source": [
    "# Séparer les fichiers de chaque décennie"
   ]
  },
  {
   "cell_type": "markdown",
   "id": "4af6b736-29ed-4825-a5bb-e8f3a408e6cf",
   "metadata": {
    "tags": []
   },
   "source": [
    "## Charger tous les  fichiers de la décennie `1850` et créer un fichier de texts"
   ]
  },
  {
   "cell_type": "code",
   "execution_count": 31,
   "id": "1ad1f8f2-3ecc-4d41-95fc-aa096237876d",
   "metadata": {},
   "outputs": [
    {
     "data": {
      "text/plain": [
       "['Bxl_1854_Tome_I1_Part_1.txt',\n",
       " 'Bxl_1856_Tome_II1_Part_3.txt',\n",
       " 'Bxl_1857_Tome_I1_Part_5.txt',\n",
       " 'Bxl_1851_Tome_II1_Part_6.txt',\n",
       " 'Bxl_1851_Tome_II1_Part_7.txt',\n",
       " 'Bxl_1856_Tome_II1_Part_6.txt',\n",
       " 'Bxl_1851_Tome_II1_Part_1.txt',\n",
       " 'Bxl_1855_Tome_I1_Part_1.txt',\n",
       " 'Bxl_1850_Tome_I1_Part_4.txt',\n",
       " 'Bxl_1856_Tome_II1_Part_7.txt',\n",
       " 'Bxl_1859_Tome_II1_Part_2.txt',\n",
       " 'Bxl_1852_Tome_I1_Part_5.txt',\n",
       " 'Bxl_1850_Tome_I1_Part_1.txt',\n",
       " 'Bxl_1857_Tome_I1_Part_3.txt',\n",
       " 'Bxl_1857_Tome_II1_Part_2.txt',\n",
       " 'Bxl_1859_Tome_II1_Part_5.txt',\n",
       " 'Bxl_1855_Tome_I1_Part_3.txt',\n",
       " 'Bxl_1855_Tome_II1_Part_2.txt',\n",
       " 'Bxl_1854_Tome_II1_Part_4.txt',\n",
       " 'Bxl_1850_Tome_II1_Part_7.txt']"
      ]
     },
     "execution_count": 31,
     "metadata": {},
     "output_type": "execute_result"
    }
   ],
   "source": [
    "# Lister les fichiers de bulletins qui correspondent à Bruxelles\n",
    "data_path = '../data'\n",
    "txt_path = '../data/txt'\n",
    "txts = [f for f in os.listdir(txt_path) if os.path.isfile(os.path.join(txt_path, f)) if f.startswith('Bxl_185')]\n",
    "txts [:20]"
   ]
  },
  {
   "cell_type": "code",
   "execution_count": 32,
   "id": "ede5331e-73e0-400f-a90f-c17dde31367d",
   "metadata": {
    "tags": []
   },
   "outputs": [],
   "source": [
    "# Stocker le contenu de ces fichiers dans une liste\n",
    "content_list = []\n",
    "for txt in txts:\n",
    "    with open(os.path.join(txt_path, txt), 'r') as f:\n",
    "        content_list.append(f.read())"
   ]
  },
  {
   "cell_type": "code",
   "execution_count": 33,
   "id": "ceee0cae-4ef5-47d0-a797-668cd54f4bd0",
   "metadata": {},
   "outputs": [
    {
     "data": {
      "text/plain": [
       "97"
      ]
     },
     "execution_count": 33,
     "metadata": {},
     "output_type": "execute_result"
    }
   ],
   "source": [
    "# Compter le nombre d'éléments (=fichiers) dans la liste\n",
    "len(content_list)"
   ]
  },
  {
   "cell_type": "code",
   "execution_count": 34,
   "id": "53e4600f-995c-4b7e-8944-1f41b57cc750",
   "metadata": {},
   "outputs": [
    {
     "data": {
      "text/plain": [
       "'VILLE DE\\n\\nBULLETIN\\nANNÉE\\n\\nP R E M I E R\\n\\n1854.\\n\\nS E M E S T R E\\n\\n\\x0c\\x0c\\x0ch\\n\\ntombola\\nhospice;\\nentrées\\nh Lay,:\\nTixidenji\\nà la « I\\n\\nUsé\\n\\nlu\\n\\n\\x0cVILLE\\n\\nDE BRUXELLES.\\n\\nBULLETIN COMMUNAL\\nA N N E E\\n\\nNUMÉRO\\n\\n1884.\\n\\n'"
      ]
     },
     "execution_count": 34,
     "metadata": {},
     "output_type": "execute_result"
    }
   ],
   "source": [
    "# Imprimer les 200 premiers caractères du contenu du premier fichier\n",
    "content_list[0][:200]"
   ]
  },
  {
   "cell_type": "code",
   "execution_count": 36,
   "id": "e11cfb01-d585-466e-a6c4-8d5d1fff024b",
   "metadata": {},
   "outputs": [],
   "source": [
    "# Ecrire tout le contenu dans un fichier temporaire\n",
    "temp_path = '../data/tmp_tp4'\n",
    "if not os.path.exists(temp_path):\n",
    "    os.mkdir(temp_path)\n",
    "with open(os.path.join(temp_path, f'{\"1850s\"}.txt'), 'w') as f:\n",
    "    f.write(' '.join(content_list))"
   ]
  },
  {
   "cell_type": "code",
   "execution_count": 38,
   "id": "48e7b912-814e-4a5f-a348-40e1e807af0a",
   "metadata": {},
   "outputs": [
    {
     "data": {
      "text/plain": [
       "\"VILLE DE\\n\\nBULLETIN\\nANNÉE\\n\\nP R E M I E R\\n\\n1854.\\n\\nS E M E S T R E\\n\\n\\x0c\\x0c\\x0ch\\n\\ntombola\\nhospice;\\nentrées\\nh Lay,:\\nTixidenji\\nà la « I\\n\\nUsé\\n\\nlu\\n\\n\\x0cVILLE\\n\\nDE BRUXELLES.\\n\\nBULLETIN COMMUNAL\\nA N N E E\\n\\nNUMÉRO\\n\\n1884.\\n\\n1.\\n\\nMARDI\\n\\nSéance du 7 Janvier\\n\\n1 0\\n\\nJANVIER.\\n\\n1854.\\n\\nPrésidence de 3 1 . C H A U L E S D E B R O U C K E R E ,\\n\\nBourgmestre.\\n\\n— Communication de pièces adressées au Conseil. — Ouverture d'une\\ntombola au profit des pauvres. — Approbation d'actes de l'administration des\\nhospices. - Modification au rè\""
      ]
     },
     "execution_count": 38,
     "metadata": {},
     "output_type": "execute_result"
    }
   ],
   "source": [
    "# Imprimer le contenu du fichier et constater les \"déchets\"\n",
    "with open(os.path.join(temp_path, f'{\"1850s\"}.txt'), 'r') as f:\n",
    "    before = f.read()\n",
    "\n",
    "before[:500]"
   ]
  },
  {
   "cell_type": "markdown",
   "id": "1dffa04b-fa3d-4e31-8c8f-97c30d5368c3",
   "metadata": {
    "tags": []
   },
   "source": [
    "## Charger tous les  fichiers de la décennie `1860` et créer un fichier de texts"
   ]
  },
  {
   "cell_type": "code",
   "execution_count": 40,
   "id": "ecea291e-7f57-41cf-8bda-ec1c13d68a60",
   "metadata": {},
   "outputs": [
    {
     "data": {
      "text/plain": [
       "['Bxl_1861_Tome_II1_Part_5.txt',\n",
       " 'Bxl_1869_Tome_II1_Part_2.txt',\n",
       " 'Bxl_1866_Tome_II1_Part_1.txt',\n",
       " 'Bxl_1865_Tome_I1_Part_1.txt',\n",
       " 'Bxl_1869_Tome_I2_Part_3.txt',\n",
       " 'Bxl_1868_Tome_II1_Part_1.txt',\n",
       " 'Bxl_1867_Tome_II1_Part_1.txt',\n",
       " 'Bxl_1866_Tome_I1_Part_1.txt',\n",
       " 'Bxl_1860_Tome_II1_Part_2.txt',\n",
       " 'Bxl_1860_Tome_II1_Part_6.txt',\n",
       " 'Bxl_1860_Tome_I1_Part_1.txt',\n",
       " 'Bxl_1862_Tome_I1_Part_3.txt',\n",
       " 'Bxl_1862_Tome_I1_Part_4.txt',\n",
       " 'Bxl_1869_Tome_I1_Part_1.txt',\n",
       " 'Bxl_1868_Tome_I1_Part_2.txt',\n",
       " 'Bxl_1868_Tome_II1_Part_6.txt',\n",
       " 'Bxl_1869_Tome_I1_Part_4.txt',\n",
       " 'Bxl_1863_Tome_II1_Part_2.txt',\n",
       " 'Bxl_1866_Tome_I1_Part_4.txt',\n",
       " 'Bxl_1869_Tome_I1_Part_2.txt']"
      ]
     },
     "execution_count": 40,
     "metadata": {},
     "output_type": "execute_result"
    }
   ],
   "source": [
    "# Lister les fichiers de bulletins qui correspondent à Bruxelles\n",
    "data_path = '../data'\n",
    "txt_path = '../data/txt'\n",
    "txts2 = [f for f in os.listdir(txt_path) if os.path.isfile(os.path.join(txt_path, f)) if f.startswith('Bxl_186')]\n",
    "txts2 [:20]"
   ]
  },
  {
   "cell_type": "code",
   "execution_count": 41,
   "id": "4d856084-3b45-4a35-958f-68440edc6346",
   "metadata": {
    "tags": []
   },
   "outputs": [],
   "source": [
    "# Stocker le contenu de ces fichiers dans une liste\n",
    "content_list = []\n",
    "for txt in txts2:\n",
    "    with open(os.path.join(txt_path, txt), 'r') as f:\n",
    "        content_list.append(f.read())"
   ]
  },
  {
   "cell_type": "code",
   "execution_count": 42,
   "id": "b731f552-c5f9-4136-abc3-53f669da2ed1",
   "metadata": {},
   "outputs": [
    {
     "data": {
      "text/plain": [
       "94"
      ]
     },
     "execution_count": 42,
     "metadata": {},
     "output_type": "execute_result"
    }
   ],
   "source": [
    "# Compter le nombre d'éléments (=fichiers) dans la liste\n",
    "len(content_list)"
   ]
  },
  {
   "cell_type": "code",
   "execution_count": 44,
   "id": "55f646a7-faf6-4329-ab8e-6819d8d6659f",
   "metadata": {},
   "outputs": [
    {
     "data": {
      "text/plain": [
       "'—\\n\\nVILLE\\n\\n31)0\\n\\nDE\\n\\n—\\n\\nBRUXELLES.\\n\\nBULLETIN COMMUNAL.\\nANNÉE\\n\\nNUMÉRO 3 0 .\\n\\n1861.\\n\\nSAMEDI 14 DÉCEMBRE.\\n\\nCONSEIL COMMUNAL.\\nSéance du 14 décembre 1861.\\nP r é s i d e n c e de 3 1 . FONTAINAS,\\n\\nBourgmestr'"
      ]
     },
     "execution_count": 44,
     "metadata": {},
     "output_type": "execute_result"
    }
   ],
   "source": [
    "# Imprimer les 200 premiers caractères du contenu du premier fichier\n",
    "content_list[0][:200]"
   ]
  },
  {
   "cell_type": "code",
   "execution_count": 45,
   "id": "6f2b691b-74ec-427e-adf0-ae5b65026426",
   "metadata": {},
   "outputs": [],
   "source": [
    "# Ecrire tout le contenu dans un fichier temporaire\n",
    "temp_path = '../data/tmp_tp4'\n",
    "if not os.path.exists(temp_path):\n",
    "    os.mkdir(temp_path)\n",
    "with open(os.path.join(temp_path, f'{\"1860s\"}.txt'), 'w') as f:\n",
    "    f.write(' '.join(content_list))"
   ]
  },
  {
   "cell_type": "code",
   "execution_count": 46,
   "id": "17c75cc4-3291-4c05-838d-cdecb735c136",
   "metadata": {},
   "outputs": [
    {
     "data": {
      "text/plain": [
       "\"—\\n\\nVILLE\\n\\n31)0\\n\\nDE\\n\\n—\\n\\nBRUXELLES.\\n\\nBULLETIN COMMUNAL.\\nANNÉE\\n\\nNUMÉRO 3 0 .\\n\\n1861.\\n\\nSAMEDI 14 DÉCEMBRE.\\n\\nCONSEIL COMMUNAL.\\nSéance du 14 décembre 1861.\\nP r é s i d e n c e de 3 1 . FONTAINAS,\\n\\nBourgmestre.\\n\\nSOMMAIRE. — Décision relative au déplacement du marché aux légumes, établi au\\nPont-d'Or, et du marché aux fourrages. — Autorisation donnée au Collège de\\nfaire l'acquisition d'un terrain pour l'agrandissement du cimetière de la ville.\\n— Rapport fait par M . De Meure, au sujet de la fixation des p\""
      ]
     },
     "execution_count": 46,
     "metadata": {},
     "output_type": "execute_result"
    }
   ],
   "source": [
    "# Imprimer le contenu du fichier et constater les \"déchets\"\n",
    "with open(os.path.join(temp_path, f'{\"1860s\"}.txt'), 'r') as f:\n",
    "    before = f.read()\n",
    "\n",
    "before[:500]"
   ]
  },
  {
   "cell_type": "markdown",
   "id": "056e240a-7a36-4929-97fb-8d744c518190",
   "metadata": {
    "tags": []
   },
   "source": [
    "## Charger tous les  fichiers de la décennie `1870` et créer un fichier de texts"
   ]
  },
  {
   "cell_type": "code",
   "execution_count": 47,
   "id": "58cb680c-6008-4e5d-bba5-3ed8cb4336c2",
   "metadata": {},
   "outputs": [
    {
     "data": {
      "text/plain": [
       "['Bxl_1871_Tome_I1_Part_3.txt',\n",
       " 'Bxl_1877_Tome_II1_Part_6.txt',\n",
       " 'Bxl_1879_Tome_II1_Part_1.txt',\n",
       " 'Bxl_1871_Tome_II1_Part_1.txt',\n",
       " 'Bxl_1870_Tome_I1_Part_1.txt',\n",
       " 'Bxl_1876_Tome_I1_Part_1.txt',\n",
       " 'Bxl_1870_Tome_I1_Part_2.txt',\n",
       " 'Bxl_1878_Tome_II1_Part_1.txt',\n",
       " 'Bxl_1871_Tome_I1_Part_2.txt',\n",
       " 'Bxl_1878_Tome_II1_Part_3.txt',\n",
       " 'Bxl_1876_Tome_I1_Part_4.txt',\n",
       " 'Bxl_1879_Tome_II1_Part_9.txt',\n",
       " 'Bxl_1870_Tome_II1_Part_4.txt',\n",
       " 'Bxl_1872_Tome_II1_Part_3.txt',\n",
       " 'Bxl_1878_Tome_II1_Part_5.txt',\n",
       " 'Bxl_1871_Tome_I1_Part_1.txt',\n",
       " 'Bxl_1870_Tome_II1_Part_6.txt',\n",
       " 'Bxl_1871_Tome_II1_Part_6.txt',\n",
       " 'Bxl_1877_Tome_II1_Part_7.txt',\n",
       " 'Bxl_1876_Tome_II1_Part_5.txt']"
      ]
     },
     "execution_count": 47,
     "metadata": {},
     "output_type": "execute_result"
    }
   ],
   "source": [
    "# Lister les fichiers de bulletins qui correspondent à Bruxelles\n",
    "data_path = '../data'\n",
    "txt_path = '../data/txt'\n",
    "txts3 = [f for f in os.listdir(txt_path) if os.path.isfile(os.path.join(txt_path, f)) if f.startswith('Bxl_187')]\n",
    "txts3 [:20]"
   ]
  },
  {
   "cell_type": "code",
   "execution_count": 48,
   "id": "a822084e-b17a-4b24-978a-53afda5ace0f",
   "metadata": {
    "tags": []
   },
   "outputs": [],
   "source": [
    "# Stocker le contenu de ces fichiers dans une liste\n",
    "content_list = []\n",
    "for txt in txts3:\n",
    "    with open(os.path.join(txt_path, txt), 'r') as f:\n",
    "        content_list.append(f.read())"
   ]
  },
  {
   "cell_type": "code",
   "execution_count": 49,
   "id": "8057af79-6bf1-446e-9011-78fe4515c65f",
   "metadata": {},
   "outputs": [
    {
     "data": {
      "text/plain": [
       "95"
      ]
     },
     "execution_count": 49,
     "metadata": {},
     "output_type": "execute_result"
    }
   ],
   "source": [
    "# Compter le nombre d'éléments (=fichiers) dans la liste\n",
    "len(content_list)"
   ]
  },
  {
   "cell_type": "code",
   "execution_count": 50,
   "id": "62bb083f-9f76-412b-b1f0-1869d5ee2164",
   "metadata": {},
   "outputs": [
    {
     "data": {
      "text/plain": [
       "'—\\n\\nVILLE\\n\\nD E\\n\\nBULLETIN\\n\\n201 —\\n\\nB R U X E L L E S .\\n\\nCOMMUNAL.\\n\\nANNÉE\\n\\n1871.\\n\\nN U M É R O 4.\\n\\nLUNDI 17\\n\\nCONSEIL\\n\\nAVRIL.\\n\\nCOMMUNAL.\\n\\nCOMITÉ SECRET DU 6 MARS 1 8 7 1 .\\n\\nLe Conseil a nommé M . Emile Lhoe'"
      ]
     },
     "execution_count": 50,
     "metadata": {},
     "output_type": "execute_result"
    }
   ],
   "source": [
    "# Imprimer les 200 premiers caractères du contenu du premier fichier\n",
    "content_list[0][:200]"
   ]
  },
  {
   "cell_type": "code",
   "execution_count": 51,
   "id": "4fe9e9d2-617d-4bed-85f9-b981550c1abc",
   "metadata": {},
   "outputs": [],
   "source": [
    "# Ecrire tout le contenu dans un fichier temporaire\n",
    "temp_path = '../data/tmp_tp4'\n",
    "if not os.path.exists(temp_path):\n",
    "    os.mkdir(temp_path)\n",
    "with open(os.path.join(temp_path, f'{\"1870s\"}.txt'), 'w') as f:\n",
    "    f.write(' '.join(content_list))"
   ]
  },
  {
   "cell_type": "code",
   "execution_count": 52,
   "id": "0e7bcedf-11a2-4a92-bf7f-09ad4d4da5fe",
   "metadata": {},
   "outputs": [
    {
     "data": {
      "text/plain": [
       "\"—\\n\\nVILLE\\n\\nD E\\n\\nBULLETIN\\n\\n201 —\\n\\nB R U X E L L E S .\\n\\nCOMMUNAL.\\n\\nANNÉE\\n\\n1871.\\n\\nN U M É R O 4.\\n\\nLUNDI 17\\n\\nCONSEIL\\n\\nAVRIL.\\n\\nCOMMUNAL.\\n\\nCOMITÉ SECRET DU 6 MARS 1 8 7 1 .\\n\\nLe Conseil a nommé M . Emile Lhoest sténographe de la Ville.\\nIl a délégué M . l'Echevin Couteaux pour représenter la Ville auprès de\\nla Société royale de Zoologie.\\nIl a nommé administrateurs des Hospices et de la Bienfaisance :\\nM M . Charles Thiéfry et Jean de Bongé.\\nIl a adopté les modifications proposées au règlement organique du\""
      ]
     },
     "execution_count": 52,
     "metadata": {},
     "output_type": "execute_result"
    }
   ],
   "source": [
    "# Imprimer le contenu du fichier et constater les \"déchets\"\n",
    "with open(os.path.join(temp_path, f'{\"1870s\"}.txt'), 'r') as f:\n",
    "    before = f.read()\n",
    "\n",
    "before[:500]"
   ]
  },
  {
   "cell_type": "markdown",
   "id": "313173b4-08eb-46e1-b099-efdccf8d312e",
   "metadata": {
    "tags": []
   },
   "source": [
    "## Charger tous les  fichiers de la décennie `1880` et créer un fichier de texts"
   ]
  },
  {
   "cell_type": "code",
   "execution_count": 53,
   "id": "80410ee6-1693-4ac4-b562-ef50083309b6",
   "metadata": {},
   "outputs": [
    {
     "data": {
      "text/plain": [
       "['Bxl_1882_Tome_I2_Part_12.txt',\n",
       " 'Bxl_1889_Tome_I2_Part_3.txt',\n",
       " 'Bxl_1880_Tome_I1_Part_8.txt',\n",
       " 'Bxl_1881_Tome_I2_Part_9.txt',\n",
       " 'Bxl_1883_Tome_I1_Part_6.txt',\n",
       " 'Bxl_1885_Tome_I2_Part_4.txt',\n",
       " 'Bxl_1881_Tome_I2_Part_11.txt',\n",
       " 'Bxl_1885_Tome_I2_Part_12.txt',\n",
       " 'Bxl_1885_Tome_I1_Part_3.txt',\n",
       " 'Bxl_1887_Tome_I1_Part_6.txt',\n",
       " 'Bxl_1883_Tome_I2_Part_7.txt',\n",
       " 'Bxl_1886_Tome_I1_Part_6.txt',\n",
       " 'Bxl_1886_Tome_I2_Part_6.txt',\n",
       " 'Bxl_1886_Tome_I2_Part_1.txt',\n",
       " 'Bxl_1889_Tome_I1_Part_2.txt',\n",
       " 'Bxl_1882_Tome_I1_Part_1.txt',\n",
       " 'Bxl_1882_Tome_I2_Part_5.txt',\n",
       " 'Bxl_1889_Tome_I2_Part_4.txt',\n",
       " 'Bxl_1881_Tome_I1_Part_4.txt',\n",
       " 'Bxl_1881_Tome_I1_Part_8.txt']"
      ]
     },
     "execution_count": 53,
     "metadata": {},
     "output_type": "execute_result"
    }
   ],
   "source": [
    "# Lister les fichiers de bulletins qui correspondent à Bruxelles\n",
    "data_path = '../data'\n",
    "txt_path = '../data/txt'\n",
    "txts4 = [f for f in os.listdir(txt_path) if os.path.isfile(os.path.join(txt_path, f)) if f.startswith('Bxl_188')]\n",
    "txts4 [:20]"
   ]
  },
  {
   "cell_type": "code",
   "execution_count": 54,
   "id": "f05b035e-c697-4b7b-91df-556579d5f62b",
   "metadata": {
    "tags": []
   },
   "outputs": [],
   "source": [
    "# Stocker le contenu de ces fichiers dans une liste\n",
    "content_list = []\n",
    "for txt in txts4:\n",
    "    with open(os.path.join(txt_path, txt), 'r') as f:\n",
    "        content_list.append(f.read())"
   ]
  },
  {
   "cell_type": "code",
   "execution_count": 55,
   "id": "1acfe0d4-5b2c-47c2-ad60-5cd57729ff75",
   "metadata": {},
   "outputs": [
    {
     "data": {
      "text/plain": [
       "190"
      ]
     },
     "execution_count": 55,
     "metadata": {},
     "output_type": "execute_result"
    }
   ],
   "source": [
    "# Compter le nombre d'éléments (=fichiers) dans la liste\n",
    "len(content_list)"
   ]
  },
  {
   "cell_type": "code",
   "execution_count": 56,
   "id": "bb2d5e2e-125a-4808-8e6b-d994ac2c036e",
   "metadata": {},
   "outputs": [
    {
     "data": {
      "text/plain": [
       "'Art. 74. — Subside à VAthénée royal : 82,000 francs.\\nCette somme représente la part incombant à ia Ville dans\\nle traitement des professeurs, ainsi que le montant des\\nmenues dépenses.\\nLe budget présent'"
      ]
     },
     "execution_count": 56,
     "metadata": {},
     "output_type": "execute_result"
    }
   ],
   "source": [
    "# Imprimer les 200 premiers caractères du contenu du premier fichier\n",
    "content_list[0][:200]"
   ]
  },
  {
   "cell_type": "code",
   "execution_count": 57,
   "id": "6e8d4fce-603f-42ec-ba56-04d6a5f2c80c",
   "metadata": {},
   "outputs": [],
   "source": [
    "# Ecrire tout le contenu dans un fichier temporaire\n",
    "temp_path = '../data/tmp_tp4'\n",
    "if not os.path.exists(temp_path):\n",
    "    os.mkdir(temp_path)\n",
    "with open(os.path.join(temp_path, f'{\"1880s\"}.txt'), 'w') as f:\n",
    "    f.write(' '.join(content_list))"
   ]
  },
  {
   "cell_type": "code",
   "execution_count": 58,
   "id": "959407e0-1ae0-4625-ba3f-155a6d42b83d",
   "metadata": {},
   "outputs": [
    {
     "data": {
      "text/plain": [
       "\"Art. 74. — Subside à VAthénée royal : 82,000 francs.\\nCette somme représente la part incombant à ia Ville dans\\nle traitement des professeurs, ainsi que le montant des\\nmenues dépenses.\\nLe budget présenté par la Commission administrative\\nainsi que le compte justifiant l'emploi de ces fonds, sont\\nannuellement soumis à l'approbation du Conseil communal.\\nArt. 75. — loyer de locaux, entretien, contributions et assurance :\\n29,750 francs.\\nLoyer des locaux de la section professionnelle de 1 Athénée, rue d\""
      ]
     },
     "execution_count": 58,
     "metadata": {},
     "output_type": "execute_result"
    }
   ],
   "source": [
    "# Imprimer le contenu du fichier et constater les \"déchets\"\n",
    "with open(os.path.join(temp_path, f'{\"1880s\"}.txt'), 'r') as f:\n",
    "    before = f.read()\n",
    "\n",
    "before[:500]"
   ]
  },
  {
   "cell_type": "markdown",
   "id": "8fb2d9db-92aa-46a1-9450-2acb232007eb",
   "metadata": {
    "tags": []
   },
   "source": [
    "## Charger tous les  fichiers de la décennie `1890` et créer un fichier de texts"
   ]
  },
  {
   "cell_type": "code",
   "execution_count": 59,
   "id": "b902e590-3cab-4ceb-a6e9-88776b41bbd7",
   "metadata": {},
   "outputs": [
    {
     "data": {
      "text/plain": [
       "['Bxl_1891_Tome_I1_Part_1.txt',\n",
       " 'Bxl_1896_Tome_I2_1_Part_1.txt',\n",
       " 'Bxl_1899_Tome_I1_Part_3.txt',\n",
       " 'Bxl_1891_Tome_I1_Part_6.txt',\n",
       " 'Bxl_1890_Tome_I2_Part_4.txt',\n",
       " 'Bxl_1896_Tome_I1_2_Part_5.txt',\n",
       " 'Bxl_1891_Tome_I1_Part_5.txt',\n",
       " 'Bxl_1898_Tome_I1_Part_12.txt',\n",
       " 'Bxl_1891_Tome_I2_Part_4.txt',\n",
       " 'Bxl_1892_Tome_I2_Part_1.txt',\n",
       " 'Bxl_1895_Tome_I1_Part_1.txt',\n",
       " 'Bxl_1899_Tome_I2_Part_12.txt',\n",
       " 'Bxl_1896_Tome_I1_2_Part_6.txt',\n",
       " 'Bxl_1898_Tome_I1_Part_3.txt',\n",
       " 'Bxl_1892_Tome_I2_Part_8.txt',\n",
       " 'Bxl_1890_Tome_I1_Part_3.txt',\n",
       " 'Bxl_1892_Tome_I1_Part_6.txt',\n",
       " 'Bxl_1893_Tome_I1_Part_7.txt',\n",
       " 'Bxl_1894_Tome_I1_Part_4.txt',\n",
       " 'Bxl_1890_Tome_I1_Part_8.txt']"
      ]
     },
     "execution_count": 59,
     "metadata": {},
     "output_type": "execute_result"
    }
   ],
   "source": [
    "# Lister les fichiers de bulletins qui correspondent à Bruxelles\n",
    "data_path = '../data'\n",
    "txt_path = '../data/txt'\n",
    "txts5 = [f for f in os.listdir(txt_path) if os.path.isfile(os.path.join(txt_path, f)) if f.startswith('Bxl_189')]\n",
    "txts5 [:20]"
   ]
  },
  {
   "cell_type": "code",
   "execution_count": 60,
   "id": "05f96b36-fd09-4eea-83ad-70dace3b85ff",
   "metadata": {
    "tags": []
   },
   "outputs": [],
   "source": [
    "# Stocker le contenu de ces fichiers dans une liste\n",
    "content_list = []\n",
    "for txt in txts5:\n",
    "    with open(os.path.join(txt_path, txt), 'r') as f:\n",
    "        content_list.append(f.read())"
   ]
  },
  {
   "cell_type": "code",
   "execution_count": 61,
   "id": "84be45dc-cb85-4fda-beea-d53295d2943e",
   "metadata": {},
   "outputs": [
    {
     "data": {
      "text/plain": [
       "200"
      ]
     },
     "execution_count": 61,
     "metadata": {},
     "output_type": "execute_result"
    }
   ],
   "source": [
    "# Compter le nombre d'éléments (=fichiers) dans la liste\n",
    "len(content_list)"
   ]
  },
  {
   "cell_type": "code",
   "execution_count": 62,
   "id": "935e85fb-766d-4f2b-b5a1-75cc6b0cf5bf",
   "metadata": {},
   "outputs": [
    {
     "data": {
      "text/plain": [
       "'VILLE\\n\\nDE\\n\\nJLLETIN\\n\\nBRUXELLES.\\n\\nCOMMUNAL\\n\\nANNÉE\\n\\nPREMIERE\\n\\n1891.\\n\\nPARTIE.\\n\\nTOME I .\\n\\nCOMPTE\\n\\nRENDU\\n\\nDES\\n\\nSÉANCES.\\n\\nBRUXELLES,\\n1MPR1MEH1E D E V\\n\\nV E\\n\\nJULIEN\\n\\nBAE&TSOE, S U C .\\n\\n1891\\n\\nDE\\n\\nBOLS-WITTOUCK.'"
      ]
     },
     "execution_count": 62,
     "metadata": {},
     "output_type": "execute_result"
    }
   ],
   "source": [
    "# Imprimer les 200 premiers caractères du contenu du premier fichier\n",
    "content_list[0][:200]"
   ]
  },
  {
   "cell_type": "code",
   "execution_count": 63,
   "id": "cad11595-a296-4258-a431-5e9e3be86f9a",
   "metadata": {},
   "outputs": [],
   "source": [
    "# Ecrire tout le contenu dans un fichier temporaire\n",
    "temp_path = '../data/tmp_tp4'\n",
    "if not os.path.exists(temp_path):\n",
    "    os.mkdir(temp_path)\n",
    "with open(os.path.join(temp_path, f'{\"1890s\"}.txt'), 'w') as f:\n",
    "    f.write(' '.join(content_list))"
   ]
  },
  {
   "cell_type": "code",
   "execution_count": 64,
   "id": "1e6e5b7c-2823-4a35-a01c-c116aba4643d",
   "metadata": {},
   "outputs": [
    {
     "data": {
      "text/plain": [
       "'VILLE\\n\\nDE\\n\\nJLLETIN\\n\\nBRUXELLES.\\n\\nCOMMUNAL\\n\\nANNÉE\\n\\nPREMIERE\\n\\n1891.\\n\\nPARTIE.\\n\\nTOME I .\\n\\nCOMPTE\\n\\nRENDU\\n\\nDES\\n\\nSÉANCES.\\n\\nBRUXELLES,\\n1MPR1MEH1E D E V\\n\\nV E\\n\\nJULIEN\\n\\nBAE&TSOE, S U C .\\n\\n1891\\n\\nDE\\n\\nBOLS-WITTOUCK.\\n\\n\\x0c\\x0cN°\\n\\n1.\\n\\nCOMPTE R E N D U D E L A S É A N C E\\n\\nD U 1\" J A N V I E R\\n\\n4891.\\n\\nVILLE DE B R U X E L L E S .\\n\\nBULLETIN\\n\\nCOMMUNAL\\n\\nA N N É E\\n\\nCONSEIL\\n\\nCOMMUNAL.\\n\\nSéance du 1\\nPrésidence\\n\\n1891.\\n\\ne r\\n\\nJanvier 1 8 9 1 .\\n\\nde M . B U L S ,\\n\\nBourgmestre.\\n\\nSOMMAIEB :\\n\\n1.\\n2.\\n3.\\n4.\\n5.\\n\\nPrestation de serment des'"
      ]
     },
     "execution_count": 64,
     "metadata": {},
     "output_type": "execute_result"
    }
   ],
   "source": [
    "# Imprimer le contenu du fichier et constater les \"déchets\"\n",
    "with open(os.path.join(temp_path, f'{\"1890s\"}.txt'), 'r') as f:\n",
    "    before = f.read()\n",
    "\n",
    "before[:500]"
   ]
  },
  {
   "cell_type": "markdown",
   "id": "d841f9fe-39df-4d8b-9dce-e01c35f68cd6",
   "metadata": {
    "tags": []
   },
   "source": [
    "## Charger tous les  fichiers de la décennie `1900` et créer un fichier de texts"
   ]
  },
  {
   "cell_type": "code",
   "execution_count": 65,
   "id": "33557eb9-3e63-435f-be66-1e1ccc7c5818",
   "metadata": {},
   "outputs": [
    {
     "data": {
      "text/plain": [
       "['Bxl_1909_Tome_I2_1_Part_5.txt',\n",
       " 'Bxl_1903_Tome_I2_2_Part_2.txt',\n",
       " 'Bxl_1904_Tome_I2_Part_1.txt',\n",
       " 'Bxl_1900_Tome_I2_Part_8.txt',\n",
       " 'Bxl_1906_Tome_II1_Part_1.txt',\n",
       " 'Bxl_1903_Tome_I2_1_Part_9.txt',\n",
       " 'Bxl_1904_Tome_I2_Part_17.txt',\n",
       " 'Bxl_1904_Tome_I2_Part_2.txt',\n",
       " 'Bxl_1902_Tome_I2_2_Part_8.txt',\n",
       " 'Bxl_1900_Tome_I2_Part_3.txt',\n",
       " 'Bxl_1903_Tome_I1_Part_3.txt',\n",
       " 'Bxl_1902_Tome_I1_Part_6.txt',\n",
       " 'Bxl_1906_Tome_I1_Part_13.txt',\n",
       " 'Bxl_1902_Tome_I2_2_Part_5.txt',\n",
       " 'Bxl_1905_Tome_I2_Part_13.txt',\n",
       " 'Bxl_1908_Tome_I1_Part_1.txt',\n",
       " 'Bxl_1902_Tome_I1_Part_5.txt',\n",
       " 'Bxl_1907_Tome_II1_Part_1.txt',\n",
       " 'Bxl_1902_Tome_II1_Part_2.txt',\n",
       " 'Bxl_1909_Tome_I2_2_Part_3.txt']"
      ]
     },
     "execution_count": 65,
     "metadata": {},
     "output_type": "execute_result"
    }
   ],
   "source": [
    "# Lister les fichiers de bulletins qui correspondent à Bruxelles\n",
    "data_path = '../data'\n",
    "txt_path = '../data/txt'\n",
    "txts6 = [f for f in os.listdir(txt_path) if os.path.isfile(os.path.join(txt_path, f)) if f.startswith('Bxl_190')]\n",
    "txts6 [:20]"
   ]
  },
  {
   "cell_type": "code",
   "execution_count": 66,
   "id": "1194428d-1b55-45b2-bc3b-d9353658f2c6",
   "metadata": {
    "tags": []
   },
   "outputs": [],
   "source": [
    "# Stocker le contenu de ces fichiers dans une liste\n",
    "content_list = []\n",
    "for txt in txts6:\n",
    "    with open(os.path.join(txt_path, txt), 'r') as f:\n",
    "        content_list.append(f.read())"
   ]
  },
  {
   "cell_type": "code",
   "execution_count": 67,
   "id": "17d67b73-2549-4c3f-8c3d-6dda2429dce5",
   "metadata": {},
   "outputs": [
    {
     "data": {
      "text/plain": [
       "223"
      ]
     },
     "execution_count": 67,
     "metadata": {},
     "output_type": "execute_result"
    }
   ],
   "source": [
    "# Compter le nombre d'éléments (=fichiers) dans la liste\n",
    "len(content_list)"
   ]
  },
  {
   "cell_type": "code",
   "execution_count": 68,
   "id": "accca0a5-4de9-43e0-8c23-a1fc7ec4f4ff",
   "metadata": {},
   "outputs": [
    {
     "data": {
      "text/plain": [
       "\"Produit du droit de fréquent\\nPUBLICS\\n\\n142\\n\\n4869\\n\\nP u p i t r e s de l i q u i d a t i o n\\n\\n»\\n\\nNOMBF\\n\\ndes\\nredevances\\n\\nNombre\\n\\nMONTANT\\nTOTAL\\n\\nde porteurs\\nde dépêches\\n\\nde\\ndélégués\\n\\nd'agents\\nde change\\n\\n18\""
      ]
     },
     "execution_count": 68,
     "metadata": {},
     "output_type": "execute_result"
    }
   ],
   "source": [
    "# Imprimer les 200 premiers caractères du contenu du premier fichier\n",
    "content_list[0][:200]"
   ]
  },
  {
   "cell_type": "code",
   "execution_count": 69,
   "id": "bb0489de-462f-47d6-9dc6-0d2234b4cbdb",
   "metadata": {},
   "outputs": [],
   "source": [
    "# Ecrire tout le contenu dans un fichier temporaire\n",
    "temp_path = '../data/tmp_tp4'\n",
    "if not os.path.exists(temp_path):\n",
    "    os.mkdir(temp_path)\n",
    "with open(os.path.join(temp_path, f'{\"1900s\"}.txt'), 'w') as f:\n",
    "    f.write(' '.join(content_list))"
   ]
  },
  {
   "cell_type": "code",
   "execution_count": 70,
   "id": "b3b48c2c-1205-419b-a14d-c2c033f04d56",
   "metadata": {},
   "outputs": [
    {
     "data": {
      "text/plain": [
       "'Produit du droit de fréquent\\nPUBLICS\\n\\n142\\n\\n4869\\n\\nP u p i t r e s de l i q u i d a t i o n\\n\\n»\\n\\nNOMBF\\n\\ndes\\nredevances\\n\\nNombre\\n\\nMONTANT\\nTOTAL\\n\\nde porteurs\\nde dépêches\\n\\nde\\ndélégués\\n\\nd\\'agents\\nde change\\n\\n1868\\n\\nB O U R S E At\\n\\nC ai\\nC \"\\n\\nMONTANT\\n\\nsg\\na S\\n\\nd\\'entrées\\n?n m o y e n n e\\n(par jour)\\n\\nD E SFONDS\\n\\nNOMBRE\\nde\\nbanquiers\\n\\nANNÉES\\n\\nBOURSE\\n\\n142\\n\\n5,600\\n\\n»\\n\\n428\\n\\n128\\n\\n6,400\\n\\n»\\n\\n>\\n\\n*\\n\\n4870\\n\\n445\\n\\n445\\n\\n7,250\\n\\n»\\n\\n•\\n\\n»\\n\\n»\\n\\n4874\\n\\n4 66\\n\\n466\\n\\n8,300\\n\\n»\\n\\n»\\n\\nS\\n\\n»\\n\\n»\\n\\n202\\n\\n40,400\\n\\n»\\n\\n>\\n\\n>\\n\\n»\\n\\n»\\n\\n245\\n\\n55,350\\n\\n>•\\n\\n370\\n\\n'"
      ]
     },
     "execution_count": 70,
     "metadata": {},
     "output_type": "execute_result"
    }
   ],
   "source": [
    "# Imprimer le contenu du fichier et constater les \"déchets\"\n",
    "with open(os.path.join(temp_path, f'{\"1900s\"}.txt'), 'r') as f:\n",
    "    before = f.read()\n",
    "\n",
    "before[:500]"
   ]
  },
  {
   "cell_type": "markdown",
   "id": "c2fd8138-dc57-4ec2-818a-4c2816dd30a7",
   "metadata": {
    "tags": []
   },
   "source": [
    "## Charger tous les  fichiers de la décennie `1910` et créer un fichier de texts"
   ]
  },
  {
   "cell_type": "code",
   "execution_count": 71,
   "id": "9ed23a6f-ef97-442e-8989-85091167e790",
   "metadata": {},
   "outputs": [
    {
     "data": {
      "text/plain": [
       "['Bxl_1910_Tome_I1_Part_2.txt',\n",
       " 'Bxl_1911_Tome_I2_2_Part_9.txt',\n",
       " 'Bxl_1910_Tome_I1_Part_1.txt',\n",
       " 'Bxl_1911_Tome_I2_1_Part_5.txt',\n",
       " 'Bxl_1910_Tome_I2_1_Part_12.txt',\n",
       " 'Bxl_1919_Tome_I2_2_Part_5.txt',\n",
       " 'Bxl_1910_Tome_I2_1_Part_5.txt',\n",
       " 'Bxl_1911_Tome_I2_2_Part_11.txt',\n",
       " 'Bxl_1912_Tome_I2_1_Part_7.txt',\n",
       " 'Bxl_1913_Tome_I2_2_Part_1.txt',\n",
       " 'Bxl_1911_Tome_I2_1_Part_10.txt',\n",
       " 'Bxl_1915_Tome_II1_Part_3.txt',\n",
       " 'Bxl_1912_Tome_I1_2_Part_7.txt',\n",
       " 'Bxl_1913_Tome_I2_1_Part_7.txt',\n",
       " 'Bxl_1911_Tome_I1_Part_2.txt',\n",
       " 'Bxl_1910_Tome_I2_1_Part_4.txt',\n",
       " 'Bxl_1919_Tome_I2_2_Part_3.txt',\n",
       " 'Bxl_1913_Tome_I2_2_Part_7.txt',\n",
       " 'Bxl_1911_Tome_I1_Part_10.txt',\n",
       " 'Bxl_1912_Tome_I2_2_Part_5.txt']"
      ]
     },
     "execution_count": 71,
     "metadata": {},
     "output_type": "execute_result"
    }
   ],
   "source": [
    "# Lister les fichiers de bulletins qui correspondent à Bruxelles\n",
    "data_path = '../data'\n",
    "txt_path = '../data/txt'\n",
    "txts7 = [f for f in os.listdir(txt_path) if os.path.isfile(os.path.join(txt_path, f)) if f.startswith('Bxl_191')]\n",
    "txts7 [:20]"
   ]
  },
  {
   "cell_type": "code",
   "execution_count": 72,
   "id": "3af5ebcd-09ec-41ca-af81-a37681cc6990",
   "metadata": {
    "tags": []
   },
   "outputs": [],
   "source": [
    "# Stocker le contenu de ces fichiers dans une liste\n",
    "content_list = []\n",
    "for txt in txts7:\n",
    "    with open(os.path.join(txt_path, txt), 'r') as f:\n",
    "        content_list.append(f.read())"
   ]
  },
  {
   "cell_type": "code",
   "execution_count": 73,
   "id": "3422b956-c311-453f-b64f-326793ae4f3a",
   "metadata": {},
   "outputs": [
    {
     "data": {
      "text/plain": [
       "170"
      ]
     },
     "execution_count": 73,
     "metadata": {},
     "output_type": "execute_result"
    }
   ],
   "source": [
    "# Compter le nombre d'éléments (=fichiers) dans la liste\n",
    "len(content_list)"
   ]
  },
  {
   "cell_type": "code",
   "execution_count": 74,
   "id": "2f5bd9ff-6b16-4d92-9375-34046de17de3",
   "metadata": {},
   "outputs": [
    {
     "data": {
      "text/plain": [
       "\"(31\\n\\nJanvier\\n\\n1910)\\n\\n—\\n\\n100\\n\\n—\\n\\nCes comptes soldent par un déficit de. . . fr.\\nalors que la somme prévue au bu iget de la Ville\\nn'est que de\\nDifférence.\\n\\n626.568 90\\n532,970 37\\n\\n. fr.\\n\\n93,598 53\\n\\nEn vu\""
      ]
     },
     "execution_count": 74,
     "metadata": {},
     "output_type": "execute_result"
    }
   ],
   "source": [
    "# Imprimer les 200 premiers caractères du contenu du premier fichier\n",
    "content_list[0][:200]"
   ]
  },
  {
   "cell_type": "code",
   "execution_count": 75,
   "id": "6e6ac3fd-8dcc-486d-8623-585186a8af53",
   "metadata": {},
   "outputs": [],
   "source": [
    "# Ecrire tout le contenu dans un fichier temporaire\n",
    "temp_path = '../data/tmp_tp4'\n",
    "if not os.path.exists(temp_path):\n",
    "    os.mkdir(temp_path)\n",
    "with open(os.path.join(temp_path, f'{\"1910s\"}.txt'), 'w') as f:\n",
    "    f.write(' '.join(content_list))"
   ]
  },
  {
   "cell_type": "code",
   "execution_count": 76,
   "id": "5f496006-7601-4eae-8918-f3afd4267e87",
   "metadata": {},
   "outputs": [
    {
     "data": {
      "text/plain": [
       "\"(31\\n\\nJanvier\\n\\n1910)\\n\\n—\\n\\n100\\n\\n—\\n\\nCes comptes soldent par un déficit de. . . fr.\\nalors que la somme prévue au bu iget de la Ville\\nn'est que de\\nDifférence.\\n\\n626.568 90\\n532,970 37\\n\\n. fr.\\n\\n93,598 53\\n\\nEn vue de permettre de liquider le montant de ce déficit, le\\nCollège vous propose, Messieurs, le vote d'un crédit supplémentaire defr. 9;5,598-ô3 à l'art. 131 des dépenses ordinaires\\ndu budget de 1901) : « Subside éventuel à\\nl'Administration\\ndes hospices et secours ».\\n\\nLes ressources ordinaires de l'exer\""
      ]
     },
     "execution_count": 76,
     "metadata": {},
     "output_type": "execute_result"
    }
   ],
   "source": [
    "# Imprimer le contenu du fichier et constater les \"déchets\"\n",
    "with open(os.path.join(temp_path, f'{\"1910s\"}.txt'), 'r') as f:\n",
    "    before = f.read()\n",
    "\n",
    "before[:500]"
   ]
  },
  {
   "cell_type": "markdown",
   "id": "f009cdef-8bad-4d7a-b674-bee815691591",
   "metadata": {
    "tags": []
   },
   "source": [
    "## Charger tous les  fichiers de la décennie `1920` et créer un fichier de texts"
   ]
  },
  {
   "cell_type": "code",
   "execution_count": 77,
   "id": "70ab3693-fb1a-495f-8590-dee74320f9bf",
   "metadata": {},
   "outputs": [
    {
     "data": {
      "text/plain": [
       "['Bxl_1929_Tome_I_Part_9.txt',\n",
       " 'Bxl_1925_Tome_II1_1_Part_6.txt',\n",
       " 'Bxl_1920_Tome_I2_Part_4.txt',\n",
       " 'Bxl_1925_Tome_II1_1_Part_5.txt',\n",
       " 'Bxl_1926_Tome_I1_Part_2.txt',\n",
       " 'Bxl_1920_Tome_I2_Part_16.txt',\n",
       " 'Bxl_1925_Tome_II1_1_Part_7.txt',\n",
       " 'Bxl_1928_Tome_II1_Part_6.txt',\n",
       " 'Bxl_1926_Tome_II1_Part_10.txt',\n",
       " 'Bxl_1925_Tome_II1_2_Part_2.txt',\n",
       " 'Bxl_1928_Tome_II1_Part_12.txt',\n",
       " 'Bxl_1926_Tome_I2_Part_8.txt',\n",
       " 'Bxl_1927_Tome_I_Part_5.txt',\n",
       " 'Bxl_1929_Tome_I_Part_4.txt',\n",
       " 'Bxl_1924_Tome_I1_Part_7.txt',\n",
       " 'Bxl_1926_Tome_I2_Part_6.txt',\n",
       " 'Bxl_1923_Tome_I1_Part_5.txt',\n",
       " 'Bxl_1928_Tome_II1_Part_2.txt',\n",
       " 'Bxl_1929_Tome_II2_Part_2.txt',\n",
       " 'Bxl_1926_Tome_I1_Part_8.txt']"
      ]
     },
     "execution_count": 77,
     "metadata": {},
     "output_type": "execute_result"
    }
   ],
   "source": [
    "# Lister les fichiers de bulletins qui correspondent à Bruxelles\n",
    "data_path = '../data'\n",
    "txt_path = '../data/txt'\n",
    "txts8 = [f for f in os.listdir(txt_path) if os.path.isfile(os.path.join(txt_path, f)) if f.startswith('Bxl_192')]\n",
    "txts8 [:20]"
   ]
  },
  {
   "cell_type": "code",
   "execution_count": 72,
   "id": "cce2771b-ff7d-4291-9c44-5987e4685d85",
   "metadata": {
    "tags": []
   },
   "outputs": [],
   "source": [
    "# Stocker le contenu de ces fichiers dans une liste\n",
    "content_list = []\n",
    "for txt in txts:\n",
    "    with open(os.path.join(txt_path, txt), 'r') as f:\n",
    "        content_list.append(f.read())"
   ]
  },
  {
   "cell_type": "code",
   "execution_count": 73,
   "id": "aac10f4f-7b16-44b9-b28f-a67619348df2",
   "metadata": {},
   "outputs": [
    {
     "data": {
      "text/plain": [
       "170"
      ]
     },
     "execution_count": 73,
     "metadata": {},
     "output_type": "execute_result"
    }
   ],
   "source": [
    "# Compter le nombre d'éléments (=fichiers) dans la liste\n",
    "len(content_list)"
   ]
  },
  {
   "cell_type": "code",
   "execution_count": 74,
   "id": "805233f7-19a3-462d-aee3-64e2be0d8069",
   "metadata": {},
   "outputs": [
    {
     "data": {
      "text/plain": [
       "\"(31\\n\\nJanvier\\n\\n1910)\\n\\n—\\n\\n100\\n\\n—\\n\\nCes comptes soldent par un déficit de. . . fr.\\nalors que la somme prévue au bu iget de la Ville\\nn'est que de\\nDifférence.\\n\\n626.568 90\\n532,970 37\\n\\n. fr.\\n\\n93,598 53\\n\\nEn vu\""
      ]
     },
     "execution_count": 74,
     "metadata": {},
     "output_type": "execute_result"
    }
   ],
   "source": [
    "# Imprimer les 200 premiers caractères du contenu du premier fichier\n",
    "content_list[0][:200]"
   ]
  },
  {
   "cell_type": "code",
   "execution_count": 78,
   "id": "1d855600-349d-452a-a81a-a292499bd484",
   "metadata": {},
   "outputs": [],
   "source": [
    "# Ecrire tout le contenu dans un fichier temporaire\n",
    "temp_path = '../data/tmp_tp4'\n",
    "if not os.path.exists(temp_path):\n",
    "    os.mkdir(temp_path)\n",
    "with open(os.path.join(temp_path, f'{\"1920s\"}.txt'), 'w') as f:\n",
    "    f.write(' '.join(content_list))"
   ]
  },
  {
   "cell_type": "code",
   "execution_count": 79,
   "id": "c8edf093-b575-46f0-881b-315ef2227728",
   "metadata": {},
   "outputs": [
    {
     "data": {
      "text/plain": [
       "\"(31\\n\\nJanvier\\n\\n1910)\\n\\n—\\n\\n100\\n\\n—\\n\\nCes comptes soldent par un déficit de. . . fr.\\nalors que la somme prévue au bu iget de la Ville\\nn'est que de\\nDifférence.\\n\\n626.568 90\\n532,970 37\\n\\n. fr.\\n\\n93,598 53\\n\\nEn vue de permettre de liquider le montant de ce déficit, le\\nCollège vous propose, Messieurs, le vote d'un crédit supplémentaire defr. 9;5,598-ô3 à l'art. 131 des dépenses ordinaires\\ndu budget de 1901) : « Subside éventuel à\\nl'Administration\\ndes hospices et secours ».\\n\\nLes ressources ordinaires de l'exer\""
      ]
     },
     "execution_count": 79,
     "metadata": {},
     "output_type": "execute_result"
    }
   ],
   "source": [
    "# Imprimer le contenu du fichier et constater les \"déchets\"\n",
    "with open(os.path.join(temp_path, f'{\"1920s\"}.txt'), 'r') as f:\n",
    "    before = f.read()\n",
    "\n",
    "before[:500]"
   ]
  },
  {
   "cell_type": "markdown",
   "id": "f872eaf8-f2a3-41f4-accd-4c04245d997f",
   "metadata": {
    "tags": []
   },
   "source": [
    "## Charger tous les  fichiers de la décennie `1930` et créer un fichier de texts"
   ]
  },
  {
   "cell_type": "code",
   "execution_count": 86,
   "id": "0516d854-4cb8-4a7d-b7c9-b4927b2ebffe",
   "metadata": {},
   "outputs": [
    {
     "data": {
      "text/plain": [
       "['Bxl_1935_Tome_II_Part_6.txt',\n",
       " 'Bxl_1930_Tome_II2_Part_4.txt',\n",
       " 'Bxl_1930_Tome_I_Part_7.txt',\n",
       " 'Bxl_1935_Tome_II_Part_8.txt',\n",
       " 'Bxl_1931_Tome_I_Part_3.txt',\n",
       " 'Bxl_1935_Tome_I_Part_4.txt',\n",
       " 'Bxl_1932_Tome_II2_Part_9.txt',\n",
       " 'Bxl_1936_Tome_I2_Part_3.txt',\n",
       " 'Bxl_1936_Tome_I_Part_4.txt',\n",
       " 'Bxl_1937_Tome_II2_Part_2.txt',\n",
       " 'Bxl_1938_Tome_II_Part_6.txt',\n",
       " 'Bxl_1932_Tome_I_Part_5.txt',\n",
       " 'Bxl_1932_Tome_II2_Part_6.txt',\n",
       " 'Bxl_1938_Tome_II_Part_8.txt',\n",
       " 'Bxl_1932_Tome_I_Part_9.txt',\n",
       " 'Bxl_1932_Tome_II2_Part_7.txt',\n",
       " 'Bxl_1939_Tome_III_Part_4.txt',\n",
       " 'Bxl_1931_Tome_II2_Part_1.txt',\n",
       " 'Bxl_1937_Tome_I_Part_6.txt',\n",
       " 'Bxl_1932_Tome_II2_Part_8.txt']"
      ]
     },
     "execution_count": 86,
     "metadata": {},
     "output_type": "execute_result"
    }
   ],
   "source": [
    "# Lister les fichiers de bulletins qui correspondent à Bruxelles\n",
    "data_path = '../data'\n",
    "txt_path = '../data/txt'\n",
    "txts9 = [f for f in os.listdir(txt_path) if os.path.isfile(os.path.join(txt_path, f)) if f.startswith('Bxl_193')]\n",
    "txts9 [:20]"
   ]
  },
  {
   "cell_type": "code",
   "execution_count": 81,
   "id": "0d17295e-f3e5-4b54-a8c7-d47dc0d6182a",
   "metadata": {
    "tags": []
   },
   "outputs": [],
   "source": [
    "# Stocker le contenu de ces fichiers dans une liste\n",
    "content_list = []\n",
    "for txt in txts9:\n",
    "    with open(os.path.join(txt_path, txt), 'r') as f:\n",
    "        content_list.append(f.read())"
   ]
  },
  {
   "cell_type": "code",
   "execution_count": 82,
   "id": "09389265-ce38-4854-a14e-25e1b48694b0",
   "metadata": {},
   "outputs": [
    {
     "data": {
      "text/plain": [
       "206"
      ]
     },
     "execution_count": 82,
     "metadata": {},
     "output_type": "execute_result"
    }
   ],
   "source": [
    "# Compter le nombre d'éléments (=fichiers) dans la liste\n",
    "len(content_list)"
   ]
  },
  {
   "cell_type": "code",
   "execution_count": 83,
   "id": "684d756a-e168-4a77-ab78-ae32c9c942db",
   "metadata": {},
   "outputs": [
    {
     "data": {
      "text/plain": [
       "\"d'après\\n\\ndes feux par\\n\\nles postes arrivés\\n\\na\\n\\ncatégories\\n\\nd'étages,\\n\\nles premiers sur\\nliTAGES\\n\\nKl)\\n\\n<D\\n\\nin\\n\\nX\\n\\nS\\n\\no\\n\\nM\\n\\ned\\n\\nlieux.\\n\\n(D\\n\\n09\\n\\nPOSTES\\n\\nles\\n\\ngroupé,\\n\\na\\n\\nO\\n\\no\\n\\n(73\\n0Í\\nSW\\n\\n- I-H\\n\\nw\\nEH\\n\\nVoies\""
      ]
     },
     "execution_count": 83,
     "metadata": {},
     "output_type": "execute_result"
    }
   ],
   "source": [
    "# Imprimer les 200 premiers caractères du contenu du premier fichier\n",
    "content_list[0][:200]"
   ]
  },
  {
   "cell_type": "code",
   "execution_count": 84,
   "id": "66b461a4-dbec-47b9-bf67-2c64d5b5e755",
   "metadata": {},
   "outputs": [],
   "source": [
    "# Ecrire tout le contenu dans un fichier temporaire\n",
    "temp_path = '../data/tmp_tp4'\n",
    "if not os.path.exists(temp_path):\n",
    "    os.mkdir(temp_path)\n",
    "with open(os.path.join(temp_path, f'{\"1930s\"}.txt'), 'w') as f:\n",
    "    f.write(' '.join(content_list))"
   ]
  },
  {
   "cell_type": "code",
   "execution_count": 85,
   "id": "64f6b215-c4e5-43ba-801f-c70b4794d0c9",
   "metadata": {},
   "outputs": [
    {
     "data": {
      "text/plain": [
       "'d\\'après\\n\\ndes feux par\\n\\nles postes arrivés\\n\\na\\n\\ncatégories\\n\\nd\\'étages,\\n\\nles premiers sur\\nliTAGES\\n\\nKl)\\n\\n<D\\n\\nin\\n\\nX\\n\\nS\\n\\no\\n\\nM\\n\\ned\\n\\nlieux.\\n\\n(D\\n\\n09\\n\\nPOSTES\\n\\nles\\n\\ngroupé,\\n\\na\\n\\nO\\n\\no\\n\\n(73\\n0Í\\nSW\\n\\n- I-H\\n\\nw\\nEH\\n\\nVoies pul\\nang\\n\\nnumérique\\n\\noitu\\n\\nÉTAT\\n\\nX\\n\\nC\\n\\nO\\n\"-(.\\n\\n33\\n\\nH\\n\\nri\\n-—H\\n\\nEn\\n\\n36\\n\\n9 6\\n\\n»\\n\\n9\\n\\n13 28\\n\\n5 26\\n\\n»\\n\\n15\\n\\n25\\n\\n14\\n\\n» 6\\n\\n»\\n\\n9\\n\\n1\\n\\n156\\n\\n5* Division\\n\\n.\\n\\n.\\n\\n.\\n\\n.\\n\\n2 4 » 3\\n14\\n\\n3 » » 2 5 3\\n\\n4\\n\\n»\\n\\n»\\n\\n»\\n\\n2\\n\\n6\\'\\n\\nid.\\n\\n22\\n\\n3\\n\\n7\\n\\n#\\n\\nid\\n\\n49\\n\\n5 6 9\\n\\n1 6 1 5 1 1 »\\n\\na\\n\\nid\\n\\n14\\n\\n2 1 3\\n\\n» 4\\n\\nid\\n\\n»\\n\\n1\\n\\n»\\n\\n32\\n\\n9\\n\\n1 5\\n\\n»\\n\\n2\\n\\n1'"
      ]
     },
     "execution_count": 85,
     "metadata": {},
     "output_type": "execute_result"
    }
   ],
   "source": [
    "# Imprimer le contenu du fichier et constater les \"déchets\"\n",
    "with open(os.path.join(temp_path, f'{\"1930s\"}.txt'), 'r') as f:\n",
    "    before = f.read()\n",
    "\n",
    "before[:500]"
   ]
  },
  {
   "cell_type": "markdown",
   "id": "30fa2ff6-5669-444b-8433-442b276bc0e7",
   "metadata": {
    "tags": []
   },
   "source": [
    "## Charger tous les  fichiers de la décennie `1940` et créer un fichier de texts"
   ]
  },
  {
   "cell_type": "code",
   "execution_count": 87,
   "id": "026eb00c-5976-4377-b348-2409216ac9ab",
   "metadata": {},
   "outputs": [
    {
     "data": {
      "text/plain": [
       "['Bxl_1948_Tome_II_Part_9.txt',\n",
       " 'Bxl_1949_Tome_II_Part_12.txt',\n",
       " 'Bxl_1946_Tome_II_Part_12.txt',\n",
       " 'Bxl_1946_Tome_II_Part_7.txt',\n",
       " 'Bxl_1946_Tome_I_Part_1.txt',\n",
       " 'Bxl_1949_Tome_II_Part_5.txt',\n",
       " 'Bxl_1948_Tome_II_Part_3.txt',\n",
       " 'Bxl_1946_Tome_I_Part_7.txt',\n",
       " 'Bxl_1946_Tome_I_Part_3.txt',\n",
       " 'Bxl_1948_Tome_I_Part_9.txt',\n",
       " 'Bxl_1949_Tome_II_Part_13.txt',\n",
       " 'Bxl_1949_Tome_I_Part_5.txt',\n",
       " 'Bxl_1945_Tome_II2_Part_2.txt',\n",
       " 'Bxl_1949_Tome_II_Part_2.txt',\n",
       " 'Bxl_1949_Tome_I_Part_1.txt',\n",
       " 'Bxl_1947_Tome_II_Part_1.txt',\n",
       " 'Bxl_1945_Tome_II1_Part_1.txt',\n",
       " 'Bxl_1948_Tome_II_Part_6.txt',\n",
       " 'Bxl_1947_Tome_I_Part_4.txt',\n",
       " 'Bxl_1945_Tome_II1_Part_9.txt']"
      ]
     },
     "execution_count": 87,
     "metadata": {},
     "output_type": "execute_result"
    }
   ],
   "source": [
    "# Lister les fichiers de bulletins qui correspondent à Bruxelles\n",
    "data_path = '../data'\n",
    "txt_path = '../data/txt'\n",
    "txts10 = [f for f in os.listdir(txt_path) if os.path.isfile(os.path.join(txt_path, f)) if f.startswith('Bxl_194')]\n",
    "txts10 [:20]"
   ]
  },
  {
   "cell_type": "code",
   "execution_count": 88,
   "id": "6c244924-ae79-4cc0-9e26-515f841e8109",
   "metadata": {
    "tags": []
   },
   "outputs": [],
   "source": [
    "# Stocker le contenu de ces fichiers dans une liste\n",
    "content_list = []\n",
    "for txt in txts10:\n",
    "    with open(os.path.join(txt_path, txt), 'r') as f:\n",
    "        content_list.append(f.read())"
   ]
  },
  {
   "cell_type": "code",
   "execution_count": 89,
   "id": "8512916f-c8f9-4cbd-ada2-d5a525cf937d",
   "metadata": {},
   "outputs": [
    {
     "data": {
      "text/plain": [
       "102"
      ]
     },
     "execution_count": 89,
     "metadata": {},
     "output_type": "execute_result"
    }
   ],
   "source": [
    "# Compter le nombre d'éléments (=fichiers) dans la liste\n",
    "len(content_list)"
   ]
  },
  {
   "cell_type": "code",
   "execution_count": 90,
   "id": "87f4e5f1-dfa4-4476-9b35-3abe6d3f7823",
   "metadata": {},
   "outputs": [
    {
     "data": {
      "text/plain": [
       "\"—\\n\\n1527 —\\n\\n(22 novembre\\n\\n19$)\\n\\n1\\nSapeurs-Pompiers. — Convention avec la commune\\nWaterloo pour les secours en cas d'accidents\\nd'incendie.\\n\\nde\\net\\n\\n. M . le Bourgmestre propose, a u n o m d u C o l l è g\""
      ]
     },
     "execution_count": 90,
     "metadata": {},
     "output_type": "execute_result"
    }
   ],
   "source": [
    "# Imprimer les 200 premiers caractères du contenu du premier fichier\n",
    "content_list[0][:200]"
   ]
  },
  {
   "cell_type": "code",
   "execution_count": 91,
   "id": "812c9bca-653e-4d57-9df4-3d685b59890a",
   "metadata": {},
   "outputs": [],
   "source": [
    "# Ecrire tout le contenu dans un fichier temporaire\n",
    "temp_path = '../data/tmp_tp4'\n",
    "if not os.path.exists(temp_path):\n",
    "    os.mkdir(temp_path)\n",
    "with open(os.path.join(temp_path, f'{\"1940s\"}.txt'), 'w') as f:\n",
    "    f.write(' '.join(content_list))"
   ]
  },
  {
   "cell_type": "code",
   "execution_count": 92,
   "id": "685e6dee-eeb3-47b6-8687-e742573e25d7",
   "metadata": {},
   "outputs": [
    {
     "data": {
      "text/plain": [
       "\"—\\n\\n1527 —\\n\\n(22 novembre\\n\\n19$)\\n\\n1\\nSapeurs-Pompiers. — Convention avec la commune\\nWaterloo pour les secours en cas d'accidents\\nd'incendie.\\n\\nde\\net\\n\\n. M . le Bourgmestre propose, a u n o m d u C o l l è g e , d'approuver u n e c o n v e n t i o n à c o n c l u r e avec l a C o m m u n e de\\nW a t e r l o o p o u r l ' o r g a n i s a t i o n des secours e n cas d ' a c c i dent et d'incendie sur le territoire de cette d e r n i è r e c o m mune. (1)\\n— Il est p r o c é d é a u vote p a r appel n o m i\""
      ]
     },
     "execution_count": 92,
     "metadata": {},
     "output_type": "execute_result"
    }
   ],
   "source": [
    "# Imprimer le contenu du fichier et constater les \"déchets\"\n",
    "with open(os.path.join(temp_path, f'{\"1940s\"}.txt'), 'r') as f:\n",
    "    before = f.read()\n",
    "\n",
    "before[:500]"
   ]
  },
  {
   "cell_type": "markdown",
   "id": "c22190c6-8f9f-4f9b-8f7d-d8d5a280f277",
   "metadata": {
    "tags": []
   },
   "source": [
    "## Charger tous les  fichiers de la décennie `1950` et créer un fichier de texts"
   ]
  },
  {
   "cell_type": "code",
   "execution_count": 93,
   "id": "9db684dc-f7b0-408e-9b0d-c13c581d7980",
   "metadata": {},
   "outputs": [
    {
     "data": {
      "text/plain": [
       "['Bxl_1955_Tome_II1_Part_8.txt',\n",
       " 'Bxl_1950_Tome_II_Part_2.txt',\n",
       " 'Bxl_1955_Tome_II2_Part_7.txt',\n",
       " 'Bxl_1958_Tome_II_Part_12.txt',\n",
       " 'Bxl_1958_Tome_II_Part_15.txt',\n",
       " 'Bxl_1951_Tome_I_Part_5.txt',\n",
       " 'Bxl_1952_Tome_II_Part_6.txt',\n",
       " 'Bxl_1958_Tome_I_Part_7.txt',\n",
       " 'Bxl_1955_Tome_I_Part_8.txt',\n",
       " 'Bxl_1951_Tome_II_Part_13.txt',\n",
       " 'Bxl_1957_Tome_II2_Part_5.txt',\n",
       " 'Bxl_1955_Tome_II2_Part_3.txt',\n",
       " 'Bxl_1958_Tome_I_Part_6.txt',\n",
       " 'Bxl_1959_Tome_II1_Part_1.txt',\n",
       " 'Bxl_1956_Tome_I_Part_5.txt',\n",
       " 'Bxl_1951_Tome_II_Part_15.txt',\n",
       " 'Bxl_1951_Tome_II_Part_5.txt',\n",
       " 'Bxl_1956_Tome_II1_Part_11.txt',\n",
       " 'Bxl_1954_Tome_III_Part_7.txt',\n",
       " 'Bxl_1953_Tome_III_Part_8.txt']"
      ]
     },
     "execution_count": 93,
     "metadata": {},
     "output_type": "execute_result"
    }
   ],
   "source": [
    "# Lister les fichiers de bulletins qui correspondent à Bruxelles\n",
    "data_path = '../data'\n",
    "txt_path = '../data/txt'\n",
    "txts11 = [f for f in os.listdir(txt_path) if os.path.isfile(os.path.join(txt_path, f)) if f.startswith('Bxl_195')]\n",
    "txts11 [:20]"
   ]
  },
  {
   "cell_type": "code",
   "execution_count": 94,
   "id": "d1518d01-d38e-4942-bbf0-bf172e8c2236",
   "metadata": {
    "tags": []
   },
   "outputs": [],
   "source": [
    "# Stocker le contenu de ces fichiers dans une liste\n",
    "content_list = []\n",
    "for txt in txts11:\n",
    "    with open(os.path.join(txt_path, txt), 'r') as f:\n",
    "        content_list.append(f.read())"
   ]
  },
  {
   "cell_type": "code",
   "execution_count": 95,
   "id": "f7adfe45-db79-438a-a492-c9b28788762c",
   "metadata": {},
   "outputs": [
    {
     "data": {
      "text/plain": [
       "312"
      ]
     },
     "execution_count": 95,
     "metadata": {},
     "output_type": "execute_result"
    }
   ],
   "source": [
    "# Compter le nombre d'éléments (=fichiers) dans la liste\n",
    "len(content_list)"
   ]
  },
  {
   "cell_type": "code",
   "execution_count": 96,
   "id": "6c19118d-39ed-4527-8235-b209e54e10b7",
   "metadata": {},
   "outputs": [
    {
     "data": {
      "text/plain": [
       "'—\\n\\n691\\n\\n—\\n\\n(3\\n\\noctobre\\n\\n1955)\\n\\nReport : 153.887.574,77\\n\\nDirection —\\n\\nAdministration —\\n\\nTraitements\\nSalaires\\nEntretien\\nFrais généraux\\nAmortissements\\nIntérêts s u r e m p r u n t s\\n\\nMagasins g é n é r a'"
      ]
     },
     "execution_count": 96,
     "metadata": {},
     "output_type": "execute_result"
    }
   ],
   "source": [
    "# Imprimer les 200 premiers caractères du contenu du premier fichier\n",
    "content_list[0][:200]"
   ]
  },
  {
   "cell_type": "code",
   "execution_count": 97,
   "id": "5b7c8fe0-bacf-4f8c-bae1-a3090cb50093",
   "metadata": {},
   "outputs": [],
   "source": [
    "# Ecrire tout le contenu dans un fichier temporaire\n",
    "temp_path = '../data/tmp_tp4'\n",
    "if not os.path.exists(temp_path):\n",
    "    os.mkdir(temp_path)\n",
    "with open(os.path.join(temp_path, f'{\"1950s\"}.txt'), 'w') as f:\n",
    "    f.write(' '.join(content_list))"
   ]
  },
  {
   "cell_type": "code",
   "execution_count": 98,
   "id": "e802fd51-f4fd-4af0-93d2-015054685212",
   "metadata": {},
   "outputs": [
    {
     "data": {
      "text/plain": [
       "\"—\\n\\n691\\n\\n—\\n\\n(3\\n\\noctobre\\n\\n1955)\\n\\nReport : 153.887.574,77\\n\\nDirection —\\n\\nAdministration —\\n\\nTraitements\\nSalaires\\nEntretien\\nFrais généraux\\nAmortissements\\nIntérêts s u r e m p r u n t s\\n\\nMagasins g é n é r a u x .\\n2.213.316,—\\n2.807.067,82\\n324.499,24\\n1.289.179,78\\n\\n.\\n\\n.\\n\\n.\\n\\n431.446,67\\n25.314,58\\n\\n456.761,25\\n7.090.824,09\\n\\nD é p e n s e s hors exploitation.\\nP e n s i o n s c o m m u n a l e s et ouvrières d u S e r v i c e\\nT r a v a u x et f o u r n i t u r e s p o u r d'autres s e r v i c e s\\nInspection d \""
      ]
     },
     "execution_count": 98,
     "metadata": {},
     "output_type": "execute_result"
    }
   ],
   "source": [
    "# Imprimer le contenu du fichier et constater les \"déchets\"\n",
    "with open(os.path.join(temp_path, f'{\"1950s\"}.txt'), 'r') as f:\n",
    "    before = f.read()\n",
    "\n",
    "before[:500]"
   ]
  },
  {
   "cell_type": "markdown",
   "id": "4ef7330c-65ab-4505-bdcd-d2825243147a",
   "metadata": {
    "tags": []
   },
   "source": [
    "## Charger tous les  fichiers de la décennie `1960` et créer un fichier de texts"
   ]
  },
  {
   "cell_type": "code",
   "execution_count": 99,
   "id": "6428bb6a-9c8c-4b93-9700-d1d4a60f2c76",
   "metadata": {},
   "outputs": [
    {
     "data": {
      "text/plain": [
       "['Bxl_1961_Tome_RptAn_Part_4.txt',\n",
       " 'Bxl_1963_Tome_RptAn_Part_5.txt',\n",
       " 'Bxl_1966_Tome_I2_Part_5.txt',\n",
       " 'Bxl_1967_Tome_II2_Part_10.txt',\n",
       " 'Bxl_1965_Tome_I_Part_8.txt',\n",
       " 'Bxl_1966_Tome_II2_Part_11.txt',\n",
       " 'Bxl_1963_Tome_II1_Part_6.txt',\n",
       " 'Bxl_1967_Tome_I1_Part_7.txt',\n",
       " 'Bxl_1966_Tome_I2_Part_7.txt',\n",
       " 'Bxl_1961_Tome_I_Part_4.txt',\n",
       " 'Bxl_1965_Tome_II2_Part_10.txt',\n",
       " 'Bxl_1962_Tome_II2_Part_5.txt',\n",
       " 'Bxl_1968_Tome_II2_Part_8.txt',\n",
       " 'Bxl_1965_Tome_I_Part_4.txt',\n",
       " 'Bxl_1964_Tome_II2_Part_9.txt',\n",
       " 'Bxl_1965_Tome_II1_Part_2.txt',\n",
       " 'Bxl_1964_Tome_II2_Part_4.txt',\n",
       " 'Bxl_1969_Tome_I1_Part_7.txt',\n",
       " 'Bxl_1969_Tome_I1_Part_8.txt',\n",
       " 'Bxl_1969_Tome_I2_Part_3.txt']"
      ]
     },
     "execution_count": 99,
     "metadata": {},
     "output_type": "execute_result"
    }
   ],
   "source": [
    "# Lister les fichiers de bulletins qui correspondent à Bruxelles\n",
    "data_path = '../data'\n",
    "txt_path = '../data/txt'\n",
    "txts12 = [f for f in os.listdir(txt_path) if os.path.isfile(os.path.join(txt_path, f)) if f.startswith('Bxl_196')]\n",
    "txts12 [:20]"
   ]
  },
  {
   "cell_type": "code",
   "execution_count": 100,
   "id": "4c22ab68-158f-4993-8a51-b27a5d35e19e",
   "metadata": {
    "tags": []
   },
   "outputs": [],
   "source": [
    "# Stocker le contenu de ces fichiers dans une liste\n",
    "content_list = []\n",
    "for txt in txts12:\n",
    "    with open(os.path.join(txt_path, txt), 'r') as f:\n",
    "        content_list.append(f.read())"
   ]
  },
  {
   "cell_type": "code",
   "execution_count": 101,
   "id": "8fe910e5-7866-49ea-a151-7ce6debdce48",
   "metadata": {},
   "outputs": [
    {
     "data": {
      "text/plain": [
       "420"
      ]
     },
     "execution_count": 101,
     "metadata": {},
     "output_type": "execute_result"
    }
   ],
   "source": [
    "# Compter le nombre d'éléments (=fichiers) dans la liste\n",
    "len(content_list)"
   ]
  },
  {
   "cell_type": "code",
   "execution_count": 102,
   "id": "a39adac3-ec28-4e33-8bf3-7294439ab83e",
   "metadata": {},
   "outputs": [
    {
     "data": {
      "text/plain": [
       "\"—\\n\\n301\\n\\n—\\n\\n5. — S e r v i c e a d m i n i s t r a t i f\\n51. —\\n\\nADMINISTRATION.\\n\\nD u r a n t l'année 1960, i l a été procédé\\n1 3 . 3 9 9 pièces à l ' i n d i c a t e u r .\\n\\nà l'inscription de\\n\\ni l a ét\""
      ]
     },
     "execution_count": 102,
     "metadata": {},
     "output_type": "execute_result"
    }
   ],
   "source": [
    "# Imprimer les 200 premiers caractères du contenu du premier fichier\n",
    "content_list[0][:200]"
   ]
  },
  {
   "cell_type": "code",
   "execution_count": 103,
   "id": "4d9281a6-23e9-4859-bc3d-7d278be18732",
   "metadata": {},
   "outputs": [],
   "source": [
    "# Ecrire tout le contenu dans un fichier temporaire\n",
    "temp_path = '../data/tmp_tp4'\n",
    "if not os.path.exists(temp_path):\n",
    "    os.mkdir(temp_path)\n",
    "with open(os.path.join(temp_path, f'{\"1960s\"}.txt'), 'w') as f:\n",
    "    f.write(' '.join(content_list))"
   ]
  },
  {
   "cell_type": "code",
   "execution_count": 104,
   "id": "e4eea1da-51a8-4895-9e9c-9252044b6f93",
   "metadata": {},
   "outputs": [
    {
     "data": {
      "text/plain": [
       "\"—\\n\\n301\\n\\n—\\n\\n5. — S e r v i c e a d m i n i s t r a t i f\\n51. —\\n\\nADMINISTRATION.\\n\\nD u r a n t l'année 1960, i l a été procédé\\n1 3 . 3 9 9 pièces à l ' i n d i c a t e u r .\\n\\nà l'inscription de\\n\\ni l a été procédé à 3 3 adjudications publiques, 107 adjudications restreintes, ainsi q u ' à 531 demandes de prix.\\nD ' a u t r e part, i l a été émis 1.551 bons de commande au secteur privé et 197 bons de s e r v i c e .\\nIl a é t é o u v e r t 134 dossiers relatifs à des accidents intéressant le S e r v i \""
      ]
     },
     "execution_count": 104,
     "metadata": {},
     "output_type": "execute_result"
    }
   ],
   "source": [
    "# Imprimer le contenu du fichier et constater les \"déchets\"\n",
    "with open(os.path.join(temp_path, f'{\"1960s\"}.txt'), 'r') as f:\n",
    "    before = f.read()\n",
    "\n",
    "before[:500]"
   ]
  },
  {
   "cell_type": "markdown",
   "id": "e7ef0fa0-0efe-4a5b-9104-df7623cb8cfe",
   "metadata": {
    "tags": []
   },
   "source": [
    "## Charger tous les  fichiers de la décennie `1970` et créer un fichier de texts"
   ]
  },
  {
   "cell_type": "code",
   "execution_count": 105,
   "id": "cbf29cc6-be0e-438c-8806-2f873771d8df",
   "metadata": {},
   "outputs": [
    {
     "data": {
      "text/plain": [
       "['Bxl_1972_Tome_I2_Part_7.txt',\n",
       " 'Bxl_1975_Tome_II2_Part_3.txt',\n",
       " 'Bxl_1976_Tome_RptAn_Part_3.txt',\n",
       " 'Bxl_1970_Tome_II1_Part_10.txt',\n",
       " 'Bxl_1975_Tome_II2_Part_7.txt',\n",
       " 'Bxl_1971_Tome_I_Part_8.txt',\n",
       " 'Bxl_1978_Tome_I2_Part_9.txt',\n",
       " 'Bxl_1975_Tome_II2_Part_4.txt',\n",
       " 'Bxl_1973_Tome_II1_Part_3.txt',\n",
       " 'Bxl_1970_Tome_II2_Part_2.txt',\n",
       " 'Bxl_1976_Tome_II1_Part_1.txt',\n",
       " 'Bxl_1972_Tome_RptAn_Part_4.txt',\n",
       " 'Bxl_1972_Tome_I1_Part_9.txt',\n",
       " 'Bxl_1974_Tome_I_Part_9.txt',\n",
       " 'Bxl_1976_Tome_I1_Part_5.txt',\n",
       " 'Bxl_1977_Tome_II1_Part_7.txt',\n",
       " 'Bxl_1970_Tome_II2_Part_3.txt',\n",
       " 'Bxl_1970_Tome_RptAn_Part_1.txt',\n",
       " 'Bxl_1973_Tome_RptAn_Part_3.txt',\n",
       " 'Bxl_1974_Tome_II2_Part_7.txt']"
      ]
     },
     "execution_count": 105,
     "metadata": {},
     "output_type": "execute_result"
    }
   ],
   "source": [
    "# Lister les fichiers de bulletins qui correspondent à Bruxelles\n",
    "data_path = '../data'\n",
    "txt_path = '../data/txt'\n",
    "txts13 = [f for f in os.listdir(txt_path) if os.path.isfile(os.path.join(txt_path, f)) if f.startswith('Bxl_197')]\n",
    "txts13 [:20]"
   ]
  },
  {
   "cell_type": "code",
   "execution_count": 106,
   "id": "e857c648-d5be-469f-a9c6-9a9d87123aa0",
   "metadata": {
    "tags": []
   },
   "outputs": [],
   "source": [
    "# Stocker le contenu de ces fichiers dans une liste\n",
    "content_list = []\n",
    "for txt in txts13:\n",
    "    with open(os.path.join(txt_path, txt), 'r') as f:\n",
    "        content_list.append(f.read())"
   ]
  },
  {
   "cell_type": "code",
   "execution_count": 107,
   "id": "c570fb52-e496-4ecb-93a9-c10b2b18ee4e",
   "metadata": {},
   "outputs": [
    {
     "data": {
      "text/plain": [
       "370"
      ]
     },
     "execution_count": 107,
     "metadata": {},
     "output_type": "execute_result"
    }
   ],
   "source": [
    "# Compter le nombre d'éléments (=fichiers) dans la liste\n",
    "len(content_list)"
   ]
  },
  {
   "cell_type": "code",
   "execution_count": 108,
   "id": "acfaa316-a375-4f9e-980a-07409fae3635",
   "metadata": {},
   "outputs": [
    {
     "data": {
      "text/plain": [
       "'Evaluation\\ndu budget\\n\\n32.\\n\\n— Apports de ventes\\n\\n33.\\n\\n— Taxe fiscale\\n\\n34.\\n\\n— Droits de p o i n ç o n n a g e\\n\\nSommes\\nirrécouvrables\\n\\nDroits\\nconstatés\\n\\nRecouvrements\\neffectués\\n\\nDroits\\nréels\\n\\n—\\n\\n5.000.00'"
      ]
     },
     "execution_count": 108,
     "metadata": {},
     "output_type": "execute_result"
    }
   ],
   "source": [
    "# Imprimer les 200 premiers caractères du contenu du premier fichier\n",
    "content_list[0][:200]"
   ]
  },
  {
   "cell_type": "code",
   "execution_count": 109,
   "id": "dba4a0f3-23f4-42a8-9202-edc05a810628",
   "metadata": {},
   "outputs": [],
   "source": [
    "# Ecrire tout le contenu dans un fichier temporaire\n",
    "temp_path = '../data/tmp_tp4'\n",
    "if not os.path.exists(temp_path):\n",
    "    os.mkdir(temp_path)\n",
    "with open(os.path.join(temp_path, f'{\"1970s\"}.txt'), 'w') as f:\n",
    "    f.write(' '.join(content_list))"
   ]
  },
  {
   "cell_type": "code",
   "execution_count": 110,
   "id": "85e5e5cf-76e8-4938-9081-ffd2085b64af",
   "metadata": {},
   "outputs": [
    {
     "data": {
      "text/plain": [
       "'Evaluation\\ndu budget\\n\\n32.\\n\\n— Apports de ventes\\n\\n33.\\n\\n— Taxe fiscale\\n\\n34.\\n\\n— Droits de p o i n ç o n n a g e\\n\\nSommes\\nirrécouvrables\\n\\nDroits\\nconstatés\\n\\nRecouvrements\\neffectués\\n\\nDroits\\nréels\\n\\n—\\n\\n5.000.000\\n\\n5.000.000\\n\\n360.000\\n\\n387.538\\n\\n70.000\\n\\n76.299\\n\\n—\\n\\n76.299\\n\\n76.299\\n\\n5.430.000\\n\\n5.4(o.K37\\n\\n—\\n\\n5.463.837\\n\\n5.463.837\\n\\n5.000.000\\n\\nN i\\n\\n5.000.000\\n\\n387.538 1\\n\\n387.538\\n\\n0\\\\\\n\\nQ\\n\\nDépenses\\n\\nAllocations\\nbudgétaires\\n\\n32.\\n\\n—\\n\\nApports\\n\\n33.\\n\\n—\\n\\nT a x e\\n\\n34.\\n\\n—\\n\\nDroits\\n\\nde\\n\\nventes\\n\\n5 . 0 0 0 . 0 0 0\\n\\nfiscale\\nde\\n\\npoin'"
      ]
     },
     "execution_count": 110,
     "metadata": {},
     "output_type": "execute_result"
    }
   ],
   "source": [
    "# Imprimer le contenu du fichier et constater les \"déchets\"\n",
    "with open(os.path.join(temp_path, f'{\"1970s\"}.txt'), 'r') as f:\n",
    "    before = f.read()\n",
    "\n",
    "before[:500]"
   ]
  },
  {
   "cell_type": "code",
   "execution_count": null,
   "id": "a9f574b7-622e-4f79-b353-134e2087c810",
   "metadata": {},
   "outputs": [],
   "source": []
  },
  {
   "cell_type": "markdown",
   "id": "bc38165b-e2bd-4b27-982e-907fda874daf",
   "metadata": {},
   "source": [
    "# Créer des plots par décennie avec les 15 mots les plus fréquents"
   ]
  },
  {
   "cell_type": "markdown",
   "id": "a48ee4d5-5b99-4ce9-8c89-cece0b38ecdc",
   "metadata": {},
   "source": [
    "## Les 15 mots les plus fréquents de la décennie 1850"
   ]
  },
  {
   "cell_type": "code",
   "execution_count": 10,
   "id": "2dc0404b-955d-4e0b-bbff-05dbfe438afa",
   "metadata": {
    "tags": []
   },
   "outputs": [
    {
     "name": "stderr",
     "output_type": "stream",
     "text": [
      "[nltk_data] Downloading package stopwords to /root/nltk_data...\n",
      "[nltk_data]   Package stopwords is already up-to-date!\n"
     ]
    }
   ],
   "source": [
    "import nltk\n",
    "nltk.download('stopwords')\n",
    "from nltk.corpus import stopwords"
   ]
  },
  {
   "cell_type": "markdown",
   "id": "d77d74ba-0832-47cf-b73e-447fd89ad990",
   "metadata": {},
   "source": [
    "## Créer une une liste de stopwords"
   ]
  },
  {
   "cell_type": "code",
   "execution_count": 11,
   "id": "f4c0713d-b9a6-4f6b-bf03-73aae54ccf1b",
   "metadata": {
    "tags": []
   },
   "outputs": [],
   "source": [
    "sw = stopwords.words(\"french\")\n",
    "sw += [\"les\", \"plus\", \"cette\", \"fait\", \"faire\", \"être\", \"deux\", \"comme\", \"dont\", \"tout\", \n",
    "       \"ils\", \"bien\", \"sans\", \"peut\", \"tous\", \"après\", \"ainsi\", \"donc\", \"cet\", \"sous\",\n",
    "       \"celle\", \"entre\", \"encore\", \"toutes\", \"pendant\", \"moins\", \"dire\", \"cela\", \"non\",\n",
    "       \"faut\", \"trois\", \"aussi\", \"dit\", \"avoir\", \"doit\", \"contre\", \"depuis\", \"autres\",\n",
    "       \"van\", \"het\", \"autre\", \"jusqu\"]\n",
    "sw = set(sw)"
   ]
  },
  {
   "cell_type": "code",
   "execution_count": 3,
   "id": "2d8fe63e-85d8-4376-aef8-ce455b9746b7",
   "metadata": {},
   "outputs": [
    {
     "name": "stdout",
     "output_type": "stream",
     "text": [
      "197 stopwords:\n",
      " ['ai', 'aie', 'aient', 'aies', 'ainsi', 'ait', 'après', 'as', 'au', 'aura', 'aurai', 'auraient', 'aurais', 'aurait', 'auras', 'aurez', 'auriez', 'aurions', 'aurons', 'auront', 'aussi', 'autre', 'autres', 'aux', 'avaient', 'avais', 'avait', 'avec', 'avez', 'aviez', 'avions', 'avoir', 'avons', 'ayant', 'ayante', 'ayantes', 'ayants', 'ayez', 'ayons', 'bien', 'c', 'ce', 'cela', 'celle', 'ces', 'cet', 'cette', 'comme', 'contre', 'd', 'dans', 'de', 'depuis', 'des', 'deux', 'dire', 'dit', 'doit', 'donc', 'dont', 'du', 'elle', 'en', 'encore', 'entre', 'es', 'est', 'et', 'eu', 'eue', 'eues', 'eurent', 'eus', 'eusse', 'eussent', 'eusses', 'eussiez', 'eussions', 'eut', 'eux', 'eûmes', 'eût', 'eûtes', 'faire', 'fait', 'faut', 'furent', 'fus', 'fusse', 'fussent', 'fusses', 'fussiez', 'fussions', 'fut', 'fûmes', 'fût', 'fûtes', 'het', 'il', 'ils', 'j', 'je', 'jusqu', 'l', 'la', 'le', 'les', 'leur', 'lui', 'm', 'ma', 'mais', 'me', 'mes', 'moi', 'moins', 'mon', 'même', 'n', 'ne', 'non', 'nos', 'notre', 'nous', 'on', 'ont', 'ou', 'par', 'pas', 'pendant', 'peut', 'plus', 'pour', 'qu', 'que', 'qui', 's', 'sa', 'sans', 'se', 'sera', 'serai', 'seraient', 'serais', 'serait', 'seras', 'serez', 'seriez', 'serions', 'serons', 'seront', 'ses', 'soient', 'sois', 'soit', 'sommes', 'son', 'sont', 'sous', 'soyez', 'soyons', 'suis', 'sur', 't', 'ta', 'te', 'tes', 'toi', 'ton', 'tous', 'tout', 'toutes', 'trois', 'tu', 'un', 'une', 'van', 'vos', 'votre', 'vous', 'y', 'à', 'étaient', 'étais', 'était', 'étant', 'étante', 'étantes', 'étants', 'étiez', 'étions', 'été', 'étée', 'étées', 'étés', 'êtes', 'être']\n"
     ]
    }
   ],
   "source": [
    "print(f\"{len(sw)} stopwords:\\n {sorted(sw)}\")"
   ]
  },
  {
   "cell_type": "markdown",
   "id": "c5e877ab-47aa-42ce-8941-b7f776c8d84a",
   "metadata": {},
   "source": [
    "## Tokeniser"
   ]
  },
  {
   "cell_type": "code",
   "execution_count": 193,
   "id": "af37617a-0a58-4de1-a418-c8e70fe7e6b2",
   "metadata": {
    "tags": []
   },
   "outputs": [],
   "source": [
    "# Récupération du contenu du fichier\n",
    "path = \"../data/tmp_tp4/1850s.txt\"\n",
    "\n",
    "with open(path) as f:\n",
    "    text = f.read()"
   ]
  },
  {
   "cell_type": "code",
   "execution_count": 194,
   "id": "954e816e-8503-41e4-a207-7296a8483a65",
   "metadata": {},
   "outputs": [
    {
     "name": "stdout",
     "output_type": "stream",
     "text": [
      "5420177 words found\n"
     ]
    }
   ],
   "source": [
    "# Tokenization\n",
    "words = nltk.wordpunct_tokenize(text)\n",
    "print(f\"{len(words)} words found\")"
   ]
  },
  {
   "cell_type": "code",
   "execution_count": 195,
   "id": "4d981b24-1bf8-4698-a2f8-4e06a18a1ed0",
   "metadata": {},
   "outputs": [
    {
     "data": {
      "text/plain": [
       "['VILLE',\n",
       " 'DE',\n",
       " 'BULLETIN',\n",
       " 'ANNÉE',\n",
       " 'P',\n",
       " 'R',\n",
       " 'E',\n",
       " 'M',\n",
       " 'I',\n",
       " 'E',\n",
       " 'R',\n",
       " '1854',\n",
       " '.',\n",
       " 'S',\n",
       " 'E']"
      ]
     },
     "execution_count": 195,
     "metadata": {},
     "output_type": "execute_result"
    }
   ],
   "source": [
    "words[:15]"
   ]
  },
  {
   "cell_type": "markdown",
   "id": "6d61589c-e235-4872-b1e2-a910ebb0debd",
   "metadata": {},
   "source": [
    "## Calculer la taille du vocabulaire"
   ]
  },
  {
   "cell_type": "code",
   "execution_count": 196,
   "id": "1bb41c4b-f512-4742-98fc-6848d6e7a50f",
   "metadata": {},
   "outputs": [
    {
     "name": "stdout",
     "output_type": "stream",
     "text": [
      "1196584 words kept (61142 different word forms)\n"
     ]
    }
   ],
   "source": [
    "# Eliminer les stopwords et les termes non alphabétiques\n",
    "kept = [w.lower() for w in words if len(w) > 2 and w.isalpha() and w.lower() not in sw]\n",
    "voc = set(kept)\n",
    "print(f\"{len(kept)} words kept ({len(voc)} different word forms)\")"
   ]
  },
  {
   "cell_type": "markdown",
   "id": "98919440-bc49-4a5c-aee8-a3cd6d63aa39",
   "metadata": {},
   "source": [
    "## Récupérer les mots les plus fréquents et en faire un plot"
   ]
  },
  {
   "cell_type": "code",
   "execution_count": 197,
   "id": "85c9d30f-4db2-4b9f-8f7f-a939fe8a1d17",
   "metadata": {},
   "outputs": [
    {
     "data": {
      "text/plain": [
       "[('rue', 20636),\n",
       " ('conseil', 8484),\n",
       " ('section', 7174),\n",
       " ('ville', 6960),\n",
       " ('francs', 6949),\n",
       " ('collège', 6325),\n",
       " ('bruxelles', 5238),\n",
       " ('travaux', 4870),\n",
       " ('rapport', 4241),\n",
       " ('administration', 4186),\n",
       " ('bourgmestre', 4078),\n",
       " ('hospices', 3673),\n",
       " ('art', 3528),\n",
       " ('place', 3337),\n",
       " ('projet', 2986)]"
      ]
     },
     "execution_count": 197,
     "metadata": {},
     "output_type": "execute_result"
    }
   ],
   "source": [
    "fdist = nltk.FreqDist(kept)\n",
    "fdist.most_common(15)"
   ]
  },
  {
   "cell_type": "code",
   "execution_count": 198,
   "id": "926976d0-0186-42af-b48e-b74d2a78952b",
   "metadata": {
    "tags": []
   },
   "outputs": [
    {
     "data": {
      "image/png": "[encoded data removed]",
      "text/plain": [
       "<Figure size 432x288 with 1 Axes>"
      ]
     },
     "metadata": {
      "needs_background": "light"
     },
     "output_type": "display_data"
    },
    {
     "data": {
      "text/plain": [
       "<AxesSubplot:xlabel='Samples', ylabel='Cumulative Counts'>"
      ]
     },
     "execution_count": 198,
     "metadata": {},
     "output_type": "execute_result"
    }
   ],
   "source": [
    "# Plot: les n mots les plus fréquents\n",
    "n = 15\n",
    "fdist.plot(n, cumulative=True)"
   ]
  },
  {
   "cell_type": "code",
   "execution_count": null,
   "id": "aad5df5e-8e42-4cb2-8676-40d7040d8e9f",
   "metadata": {},
   "outputs": [],
   "source": []
  },
  {
   "cell_type": "markdown",
   "id": "086c4c54-e3b0-4a19-9578-c7da11c7af0c",
   "metadata": {
    "tags": []
   },
   "source": [
    "## Les 15 mots les plus fréquents de la décennie 1860"
   ]
  },
  {
   "cell_type": "code",
   "execution_count": null,
   "id": "92856038-e393-4ff1-827c-76f7cf1592b1",
   "metadata": {},
   "outputs": [],
   "source": []
  },
  {
   "cell_type": "code",
   "execution_count": 6,
   "id": "90c95c22-81c0-4496-aa09-05d2e92d3d4d",
   "metadata": {
    "tags": []
   },
   "outputs": [],
   "source": [
    "# Récupération du contenu du fichier\n",
    "path = \"../data/tmp_tp4/1860s.txt\"\n",
    "\n",
    "with open(path) as f:\n",
    "    text = f.read()"
   ]
  },
  {
   "cell_type": "code",
   "execution_count": 7,
   "id": "9c0a3d61-9305-4386-8669-19f6954b37d1",
   "metadata": {},
   "outputs": [
    {
     "name": "stdout",
     "output_type": "stream",
     "text": [
      "4351569 words found\n"
     ]
    }
   ],
   "source": [
    "# Tokenization\n",
    "words = nltk.wordpunct_tokenize(text)\n",
    "print(f\"{len(words)} words found\")"
   ]
  },
  {
   "cell_type": "code",
   "execution_count": 201,
   "id": "5ec3784b-6264-4919-b446-8033ee43def7",
   "metadata": {},
   "outputs": [
    {
     "data": {
      "text/plain": [
       "['—', 'VILLE', '31', ')', '0', 'DE', '—', 'BRUXELLES', '.', 'BULLETIN']"
      ]
     },
     "execution_count": 201,
     "metadata": {},
     "output_type": "execute_result"
    }
   ],
   "source": [
    "words[:10]"
   ]
  },
  {
   "cell_type": "markdown",
   "id": "5dc6922d-bf22-491c-a8aa-ff2d1072dfbd",
   "metadata": {},
   "source": [
    "## Calculer la taille du vocabulaire"
   ]
  },
  {
   "cell_type": "code",
   "execution_count": 12,
   "id": "e17605b7-931b-4bbb-b8f4-3a56879e4a6f",
   "metadata": {},
   "outputs": [
    {
     "name": "stdout",
     "output_type": "stream",
     "text": [
      "1251185 words kept (50610 different word forms)\n"
     ]
    }
   ],
   "source": [
    "# Eliminer les stopwords et les termes non alphabétiques\n",
    "kept = [w.lower() for w in words if len(w) > 2 and w.isalpha() and w.lower() not in sw]\n",
    "voc = set(kept)\n",
    "print(f\"{len(kept)} words kept ({len(voc)} different word forms)\")"
   ]
  },
  {
   "cell_type": "markdown",
   "id": "7560a814-0246-4c06-8e1b-2655ec6c75dc",
   "metadata": {},
   "source": [
    "## Récupérer les mots les plus fréquents et en faire un plot"
   ]
  },
  {
   "cell_type": "code",
   "execution_count": 13,
   "id": "251f4417-cf70-4103-876c-2a233b4b90f5",
   "metadata": {},
   "outputs": [
    {
     "data": {
      "text/plain": [
       "[('rue', 17095),\n",
       " ('ville', 9071),\n",
       " ('conseil', 8451),\n",
       " ('collège', 7553),\n",
       " ('francs', 6830),\n",
       " ('section', 6683),\n",
       " ('bourgmestre', 6189),\n",
       " ('bruxelles', 5966),\n",
       " ('travaux', 5325),\n",
       " ('rapport', 4942),\n",
       " ('art', 4916),\n",
       " ('administration', 4809),\n",
       " ('prix', 2853),\n",
       " ('hospices', 2764),\n",
       " ('demande', 2731)]"
      ]
     },
     "execution_count": 13,
     "metadata": {},
     "output_type": "execute_result"
    }
   ],
   "source": [
    "fdist = nltk.FreqDist(kept)\n",
    "fdist.most_common(15)"
   ]
  },
  {
   "cell_type": "code",
   "execution_count": 204,
   "id": "025c437e-02d3-4831-a84c-fa4a43b62806",
   "metadata": {
    "tags": []
   },
   "outputs": [
    {
     "data": {
      "image/png": "[encoded data removed]",
      "text/plain": [
       "<Figure size 432x288 with 1 Axes>"
      ]
     },
     "metadata": {
      "needs_background": "light"
     },
     "output_type": "display_data"
    },
    {
     "data": {
      "text/plain": [
       "<AxesSubplot:xlabel='Samples', ylabel='Cumulative Counts'>"
      ]
     },
     "execution_count": 204,
     "metadata": {},
     "output_type": "execute_result"
    }
   ],
   "source": [
    "# Plot: les n mots les plus fréquents\n",
    "n = 15\n",
    "fdist.plot(n, cumulative=True)"
   ]
  },
  {
   "cell_type": "code",
   "execution_count": null,
   "id": "6b5e1480-e03e-4527-80f6-5b630c16ef5f",
   "metadata": {},
   "outputs": [],
   "source": []
  },
  {
   "cell_type": "markdown",
   "id": "6e4ff2ad-368e-458f-b71b-68819536450f",
   "metadata": {},
   "source": [
    "## Les 15 mots les plus fréquents de la décennie 1870"
   ]
  },
  {
   "cell_type": "code",
   "execution_count": null,
   "id": "e4541cb0-e74a-4fae-8e78-e178a15fc8f5",
   "metadata": {},
   "outputs": [],
   "source": []
  },
  {
   "cell_type": "code",
   "execution_count": 15,
   "id": "08aabf43-a207-4d66-838f-c7f4eb4f339c",
   "metadata": {
    "tags": []
   },
   "outputs": [],
   "source": [
    "# Récupération du contenu du fichier\n",
    "path = \"../data/tmp_tp4/1870s.txt\"\n",
    "\n",
    "with open(path) as f:\n",
    "    text = f.read()"
   ]
  },
  {
   "cell_type": "code",
   "execution_count": 16,
   "id": "88b02d10-ac35-4724-9fbc-68c54e22c7fd",
   "metadata": {},
   "outputs": [
    {
     "name": "stdout",
     "output_type": "stream",
     "text": [
      "4398698 words found\n"
     ]
    }
   ],
   "source": [
    "# Tokenization\n",
    "words = nltk.wordpunct_tokenize(text)\n",
    "print(f\"{len(words)} words found\")"
   ]
  },
  {
   "cell_type": "code",
   "execution_count": 17,
   "id": "7b21874d-e59f-4e30-a06c-a47ac9e701f7",
   "metadata": {},
   "outputs": [
    {
     "data": {
      "text/plain": [
       "['—', 'VILLE', 'D', 'E', 'BULLETIN', '201', '—', 'B', 'R', 'U']"
      ]
     },
     "execution_count": 17,
     "metadata": {},
     "output_type": "execute_result"
    }
   ],
   "source": [
    "words[:10]"
   ]
  },
  {
   "cell_type": "markdown",
   "id": "123bf227-bad2-499f-af4e-33bf97a5573b",
   "metadata": {},
   "source": [
    "## Calculer la taille du vocabulaire"
   ]
  },
  {
   "cell_type": "code",
   "execution_count": 18,
   "id": "c0b093e4-96fd-4e54-a328-e3745dda490d",
   "metadata": {},
   "outputs": [
    {
     "name": "stdout",
     "output_type": "stream",
     "text": [
      "1228939 words kept (48671 different word forms)\n"
     ]
    }
   ],
   "source": [
    "# Eliminer les stopwords et les termes non alphabétiques\n",
    "kept = [w.lower() for w in words if len(w) > 2 and w.isalpha() and w.lower() not in sw]\n",
    "voc = set(kept)\n",
    "print(f\"{len(kept)} words kept ({len(voc)} different word forms)\")"
   ]
  },
  {
   "cell_type": "markdown",
   "id": "7546c0ce-6573-4932-a76d-b4c84989854e",
   "metadata": {},
   "source": [
    "## Récupérer les mots les plus fréquents et en faire un plot"
   ]
  },
  {
   "cell_type": "code",
   "execution_count": 19,
   "id": "6c9297f9-a79c-4c72-904a-b4ae128b4ee0",
   "metadata": {},
   "outputs": [
    {
     "data": {
      "text/plain": [
       "[('rue', 11035),\n",
       " ('ville', 10326),\n",
       " ('conseil', 8381),\n",
       " ('francs', 8187),\n",
       " ('bourgmestre', 7067),\n",
       " ('collège', 6773),\n",
       " ('bruxelles', 6402),\n",
       " ('section', 5714),\n",
       " ('art', 5232),\n",
       " ('travaux', 4919),\n",
       " ('administration', 4134),\n",
       " ('rapport', 3637),\n",
       " ('messieurs', 3422),\n",
       " ('echevin', 3338),\n",
       " ('demande', 3224)]"
      ]
     },
     "execution_count": 19,
     "metadata": {},
     "output_type": "execute_result"
    }
   ],
   "source": [
    "fdist = nltk.FreqDist(kept)\n",
    "fdist.most_common(15)"
   ]
  },
  {
   "cell_type": "code",
   "execution_count": 210,
   "id": "1377edbf-4c33-47da-8187-ba27a8b99d0f",
   "metadata": {
    "tags": []
   },
   "outputs": [
    {
     "data": {
      "image/png": "[encoded data removed]",
      "text/plain": [
       "<Figure size 432x288 with 1 Axes>"
      ]
     },
     "metadata": {
      "needs_background": "light"
     },
     "output_type": "display_data"
    },
    {
     "data": {
      "text/plain": [
       "<AxesSubplot:xlabel='Samples', ylabel='Cumulative Counts'>"
      ]
     },
     "execution_count": 210,
     "metadata": {},
     "output_type": "execute_result"
    }
   ],
   "source": [
    "# Plot: les n mots les plus fréquents\n",
    "n = 15\n",
    "fdist.plot(n, cumulative=True)"
   ]
  },
  {
   "cell_type": "code",
   "execution_count": null,
   "id": "5b979d94-7270-4bca-96ed-68c928de7719",
   "metadata": {},
   "outputs": [],
   "source": []
  },
  {
   "cell_type": "markdown",
   "id": "b0a4928b-6846-4b5d-be54-bcbcde4985df",
   "metadata": {},
   "source": [
    "## Les 15 mots les plus fréquents de la décennie 1880"
   ]
  },
  {
   "cell_type": "code",
   "execution_count": null,
   "id": "c253fa9b-d390-4ec2-a4ee-bc091ea12700",
   "metadata": {},
   "outputs": [],
   "source": []
  },
  {
   "cell_type": "code",
   "execution_count": 20,
   "id": "1a2cdd87-4791-4614-ad81-e9a7da56811e",
   "metadata": {
    "tags": []
   },
   "outputs": [],
   "source": [
    "# Récupération du contenu du fichier\n",
    "path = \"../data/tmp_tp4/1880s.txt\"\n",
    "\n",
    "with open(path) as f:\n",
    "    text = f.read()"
   ]
  },
  {
   "cell_type": "code",
   "execution_count": 21,
   "id": "91859de7-edb3-4bcf-8362-4907b527461e",
   "metadata": {},
   "outputs": [
    {
     "name": "stdout",
     "output_type": "stream",
     "text": [
      "9269134 words found\n"
     ]
    }
   ],
   "source": [
    "# Tokenization\n",
    "words = nltk.wordpunct_tokenize(text)\n",
    "print(f\"{len(words)} words found\")"
   ]
  },
  {
   "cell_type": "code",
   "execution_count": 22,
   "id": "3644e525-bb70-4d33-9bdd-325b41e9476d",
   "metadata": {},
   "outputs": [
    {
     "data": {
      "text/plain": [
       "['Art', '.', '74', '.', '—', 'Subside', 'à', 'VAthénée', 'royal', ':']"
      ]
     },
     "execution_count": 22,
     "metadata": {},
     "output_type": "execute_result"
    }
   ],
   "source": [
    "words[:10]"
   ]
  },
  {
   "cell_type": "markdown",
   "id": "dfe73166-414b-41fd-9219-230fd1f55233",
   "metadata": {},
   "source": [
    "## Calculer la taille du vocabulaire"
   ]
  },
  {
   "cell_type": "code",
   "execution_count": 23,
   "id": "7bba1cd5-989a-4d2e-bad6-3903c9975f14",
   "metadata": {},
   "outputs": [
    {
     "name": "stdout",
     "output_type": "stream",
     "text": [
      "2401003 words kept (84177 different word forms)\n"
     ]
    }
   ],
   "source": [
    "# Eliminer les stopwords et les termes non alphabétiques\n",
    "kept = [w.lower() for w in words if len(w) > 2 and w.isalpha() and w.lower() not in sw]\n",
    "voc = set(kept)\n",
    "print(f\"{len(kept)} words kept ({len(voc)} different word forms)\")"
   ]
  },
  {
   "cell_type": "markdown",
   "id": "1dba9237-8732-4e2c-8926-11be0a2913c8",
   "metadata": {},
   "source": [
    "## Récupérer les mots les plus fréquents et en faire un plot"
   ]
  },
  {
   "cell_type": "code",
   "execution_count": 24,
   "id": "fe4df04c-56ec-41c2-b93a-ccef355c3d8f",
   "metadata": {},
   "outputs": [
    {
     "data": {
      "text/plain": [
       "[('francs', 21785),\n",
       " ('conseil', 17509),\n",
       " ('ville', 15843),\n",
       " ('rue', 13621),\n",
       " ('collège', 13460),\n",
       " ('art', 11942),\n",
       " ('echevin', 9376),\n",
       " ('bruxelles', 8702),\n",
       " ('section', 7791),\n",
       " ('messieurs', 7521),\n",
       " ('service', 7459),\n",
       " ('frais', 7379),\n",
       " ('question', 7326),\n",
       " ('administration', 7316),\n",
       " ('travaux', 7278)]"
      ]
     },
     "execution_count": 24,
     "metadata": {},
     "output_type": "execute_result"
    }
   ],
   "source": [
    "fdist = nltk.FreqDist(kept)\n",
    "fdist.most_common(15)"
   ]
  },
  {
   "cell_type": "code",
   "execution_count": 216,
   "id": "dfb5ffef-3511-4e23-8646-332b506a28e3",
   "metadata": {
    "tags": []
   },
   "outputs": [
    {
     "data": {
      "image/png": "[encoded data removed]",
      "text/plain": [
       "<Figure size 432x288 with 1 Axes>"
      ]
     },
     "metadata": {
      "needs_background": "light"
     },
     "output_type": "display_data"
    },
    {
     "data": {
      "text/plain": [
       "<AxesSubplot:xlabel='Samples', ylabel='Cumulative Counts'>"
      ]
     },
     "execution_count": 216,
     "metadata": {},
     "output_type": "execute_result"
    }
   ],
   "source": [
    "# Plot: les n mots les plus fréquents\n",
    "n = 15\n",
    "fdist.plot(n, cumulative=True)"
   ]
  },
  {
   "cell_type": "code",
   "execution_count": null,
   "id": "410fd352-c404-4ac0-8abd-1975b42901f8",
   "metadata": {},
   "outputs": [],
   "source": []
  },
  {
   "cell_type": "markdown",
   "id": "7429e281-7bd6-4786-b873-b33e98a17009",
   "metadata": {},
   "source": [
    "## Les 15 mots les plus fréquents de la décennie 1890"
   ]
  },
  {
   "cell_type": "code",
   "execution_count": null,
   "id": "658e6088-897d-4d11-8a19-daaecb882ede",
   "metadata": {},
   "outputs": [],
   "source": []
  },
  {
   "cell_type": "code",
   "execution_count": 25,
   "id": "ffa3935a-5344-4cec-b46f-8fa53ed0d404",
   "metadata": {
    "tags": []
   },
   "outputs": [],
   "source": [
    "# Récupération du contenu du fichier\n",
    "path = \"../data/tmp_tp4/1890s.txt\"\n",
    "\n",
    "with open(path) as f:\n",
    "    text = f.read()"
   ]
  },
  {
   "cell_type": "code",
   "execution_count": 26,
   "id": "77f0f1c2-b654-4448-a4bb-40447a1c09a1",
   "metadata": {},
   "outputs": [
    {
     "name": "stdout",
     "output_type": "stream",
     "text": [
      "8692989 words found\n"
     ]
    }
   ],
   "source": [
    "# Tokenization\n",
    "words = nltk.wordpunct_tokenize(text)\n",
    "print(f\"{len(words)} words found\")"
   ]
  },
  {
   "cell_type": "code",
   "execution_count": 27,
   "id": "f65f9ac2-a50d-464d-b71c-671aa26e9bd1",
   "metadata": {},
   "outputs": [
    {
     "data": {
      "text/plain": [
       "['VILLE',\n",
       " 'DE',\n",
       " 'JLLETIN',\n",
       " 'BRUXELLES',\n",
       " '.',\n",
       " 'COMMUNAL',\n",
       " 'ANNÉE',\n",
       " 'PREMIERE',\n",
       " '1891',\n",
       " '.']"
      ]
     },
     "execution_count": 27,
     "metadata": {},
     "output_type": "execute_result"
    }
   ],
   "source": [
    "words[:10]"
   ]
  },
  {
   "cell_type": "markdown",
   "id": "99f5496f-c94d-433c-9b92-c13bc2318a8a",
   "metadata": {},
   "source": [
    "## Calculer la taille du vocabulaire"
   ]
  },
  {
   "cell_type": "code",
   "execution_count": 28,
   "id": "faf173ca-6464-404c-baa1-7c3989730040",
   "metadata": {},
   "outputs": [
    {
     "name": "stdout",
     "output_type": "stream",
     "text": [
      "2327175 words kept (70701 different word forms)\n"
     ]
    }
   ],
   "source": [
    "# Eliminer les stopwords et les termes non alphabétiques\n",
    "kept = [w.lower() for w in words if len(w) > 2 and w.isalpha() and w.lower() not in sw]\n",
    "voc = set(kept)\n",
    "print(f\"{len(kept)} words kept ({len(voc)} different word forms)\")"
   ]
  },
  {
   "cell_type": "markdown",
   "id": "8e15436b-7ac3-4f3e-8bf1-91cc83b57620",
   "metadata": {},
   "source": [
    "## Récupérer les mots les plus fréquents et en faire un plot"
   ]
  },
  {
   "cell_type": "code",
   "execution_count": 30,
   "id": "2bf3d2bf-4d87-4387-aeea-5eb8a66e76d6",
   "metadata": {},
   "outputs": [
    {
     "data": {
      "text/plain": [
       "[('francs', 21576),\n",
       " ('rue', 15984),\n",
       " ('conseil', 14814),\n",
       " ('ville', 12696),\n",
       " ('collège', 12421),\n",
       " ('art', 10980),\n",
       " ('bruxelles', 9328),\n",
       " ('frais', 8295),\n",
       " ('echevin', 7833),\n",
       " ('service', 7815),\n",
       " ('dépenses', 7259),\n",
       " ('travaux', 7156),\n",
       " ('section', 6976),\n",
       " ('messieurs', 6610),\n",
       " ('bourgmestre', 6509)]"
      ]
     },
     "execution_count": 30,
     "metadata": {},
     "output_type": "execute_result"
    }
   ],
   "source": [
    "fdist = nltk.FreqDist(kept)\n",
    "fdist.most_common(15)"
   ]
  },
  {
   "cell_type": "code",
   "execution_count": 222,
   "id": "74530948-ca68-4872-b81d-913d9cf1814c",
   "metadata": {
    "tags": []
   },
   "outputs": [
    {
     "data": {
      "image/png": "[encoded data removed]",
      "text/plain": [
       "<Figure size 432x288 with 1 Axes>"
      ]
     },
     "metadata": {
      "needs_background": "light"
     },
     "output_type": "display_data"
    },
    {
     "data": {
      "text/plain": [
       "<AxesSubplot:xlabel='Samples', ylabel='Cumulative Counts'>"
      ]
     },
     "execution_count": 222,
     "metadata": {},
     "output_type": "execute_result"
    }
   ],
   "source": [
    "# Plot: les n mots les plus fréquents\n",
    "n = 15\n",
    "fdist.plot(n, cumulative=True)"
   ]
  },
  {
   "cell_type": "code",
   "execution_count": null,
   "id": "fff61a9d-5500-4b84-a9bb-bc5e41271360",
   "metadata": {},
   "outputs": [],
   "source": []
  },
  {
   "cell_type": "markdown",
   "id": "a991ce6d-efc5-4231-94a6-0622211ea1c6",
   "metadata": {},
   "source": [
    "## Les 15 mots les plus fréquents de la décennie 1900"
   ]
  },
  {
   "cell_type": "code",
   "execution_count": null,
   "id": "c3ca8dc4-b4bf-4a60-bddc-731c8bec2717",
   "metadata": {},
   "outputs": [],
   "source": []
  },
  {
   "cell_type": "code",
   "execution_count": 31,
   "id": "6c3b6430-67f3-4bcf-bd5b-f2a37c01f0b6",
   "metadata": {
    "tags": []
   },
   "outputs": [],
   "source": [
    "# Récupération du contenu du fichier\n",
    "path = \"../data/tmp_tp4/1900s.txt\"\n",
    "\n",
    "with open(path) as f:\n",
    "    text = f.read()"
   ]
  },
  {
   "cell_type": "code",
   "execution_count": 32,
   "id": "5688f0ce-bafc-42a5-8775-66578f4cc25a",
   "metadata": {},
   "outputs": [
    {
     "name": "stdout",
     "output_type": "stream",
     "text": [
      "9979887 words found\n"
     ]
    }
   ],
   "source": [
    "# Tokenization\n",
    "words = nltk.wordpunct_tokenize(text)\n",
    "print(f\"{len(words)} words found\")"
   ]
  },
  {
   "cell_type": "code",
   "execution_count": 33,
   "id": "4687d1ce-061a-484a-bbf5-4046d11e530a",
   "metadata": {},
   "outputs": [
    {
     "data": {
      "text/plain": [
       "['Produit',\n",
       " 'du',\n",
       " 'droit',\n",
       " 'de',\n",
       " 'fréquent',\n",
       " 'PUBLICS',\n",
       " '142',\n",
       " '4869',\n",
       " 'P',\n",
       " 'u']"
      ]
     },
     "execution_count": 33,
     "metadata": {},
     "output_type": "execute_result"
    }
   ],
   "source": [
    "words[:10]"
   ]
  },
  {
   "cell_type": "markdown",
   "id": "88e2726f-36ff-4bba-80f1-3ff54fe2878b",
   "metadata": {},
   "source": [
    "## Calculer la taille du vocabulaire"
   ]
  },
  {
   "cell_type": "code",
   "execution_count": 34,
   "id": "095ce347-215f-45cc-b63b-baa046e0e8dd",
   "metadata": {},
   "outputs": [
    {
     "name": "stdout",
     "output_type": "stream",
     "text": [
      "2090390 words kept (80942 different word forms)\n"
     ]
    }
   ],
   "source": [
    "# Eliminer les stopwords et les termes non alphabétiques\n",
    "kept = [w.lower() for w in words if len(w) > 2 and w.isalpha() and w.lower() not in sw]\n",
    "voc = set(kept)\n",
    "print(f\"{len(kept)} words kept ({len(voc)} different word forms)\")"
   ]
  },
  {
   "cell_type": "markdown",
   "id": "09e14f4f-be60-47df-bb64-ba1ee8234869",
   "metadata": {},
   "source": [
    "## Récupérer les mots les plus fréquents et en faire un plot"
   ]
  },
  {
   "cell_type": "code",
   "execution_count": 35,
   "id": "cb276c7f-4e47-4509-b334-dcd759dfc2bd",
   "metadata": {},
   "outputs": [
    {
     "data": {
      "text/plain": [
       "[('francs', 21410),\n",
       " ('rue', 17588),\n",
       " ('ville', 12314),\n",
       " ('collège', 11043),\n",
       " ('conseil', 10818),\n",
       " ('bruxelles', 9983),\n",
       " ('art', 9336),\n",
       " ('service', 8526),\n",
       " ('frais', 8071),\n",
       " ('dépenses', 7080),\n",
       " ('bourgmestre', 6897),\n",
       " ('travaux', 6509),\n",
       " ('total', 6420),\n",
       " ('recettes', 5930),\n",
       " ('budget', 5850)]"
      ]
     },
     "execution_count": 35,
     "metadata": {},
     "output_type": "execute_result"
    }
   ],
   "source": [
    "fdist = nltk.FreqDist(kept)\n",
    "fdist.most_common(15)"
   ]
  },
  {
   "cell_type": "code",
   "execution_count": 228,
   "id": "145e20a3-b73e-4cd5-a32b-d1b8a78e0969",
   "metadata": {
    "tags": []
   },
   "outputs": [
    {
     "data": {
      "image/png": "[encoded data removed]",
      "text/plain": [
       "<Figure size 432x288 with 1 Axes>"
      ]
     },
     "metadata": {
      "needs_background": "light"
     },
     "output_type": "display_data"
    },
    {
     "data": {
      "text/plain": [
       "<AxesSubplot:xlabel='Samples', ylabel='Cumulative Counts'>"
      ]
     },
     "execution_count": 228,
     "metadata": {},
     "output_type": "execute_result"
    }
   ],
   "source": [
    "# Plot: les n mots les plus fréquents\n",
    "n = 15\n",
    "fdist.plot(n, cumulative=True)"
   ]
  },
  {
   "cell_type": "code",
   "execution_count": null,
   "id": "eef19dd4-a76c-4f47-9be9-852bff5c08dc",
   "metadata": {},
   "outputs": [],
   "source": []
  },
  {
   "cell_type": "markdown",
   "id": "508e2d82-042c-4929-badf-a896ab9ce6d6",
   "metadata": {},
   "source": [
    "## Les 15 mots les plus fréquents de la décennie 1910"
   ]
  },
  {
   "cell_type": "code",
   "execution_count": null,
   "id": "d2ee0df9-552f-460c-8a07-b16dcb1a4edd",
   "metadata": {},
   "outputs": [],
   "source": []
  },
  {
   "cell_type": "code",
   "execution_count": 77,
   "id": "4551eb7d-e3e3-40e8-8435-a4702df61d79",
   "metadata": {
    "tags": []
   },
   "outputs": [],
   "source": [
    "# Récupération du contenu du fichier\n",
    "path = \"../data/tmp_tp4/1910s.txt\"\n",
    "\n",
    "with open(path) as f:\n",
    "    text = f.read()"
   ]
  },
  {
   "cell_type": "code",
   "execution_count": 78,
   "id": "fbaaaa87-29e3-485f-a1e6-93c5e7080267",
   "metadata": {},
   "outputs": [
    {
     "name": "stdout",
     "output_type": "stream",
     "text": [
      "6941433 words found\n"
     ]
    }
   ],
   "source": [
    "# Tokenization\n",
    "words = nltk.wordpunct_tokenize(text)\n",
    "print(f\"{len(words)} words found\")"
   ]
  },
  {
   "cell_type": "code",
   "execution_count": 79,
   "id": "f9d55afc-b0ce-4ce0-9903-349fe2ee7897",
   "metadata": {},
   "outputs": [
    {
     "data": {
      "text/plain": [
       "['(', '31', 'Janvier', '1910', ')', '—', '100', '—', 'Ces', 'comptes']"
      ]
     },
     "execution_count": 79,
     "metadata": {},
     "output_type": "execute_result"
    }
   ],
   "source": [
    "words[:10]"
   ]
  },
  {
   "cell_type": "markdown",
   "id": "e9dd6ff9-4dea-4d36-b6ae-6f9966fe3aae",
   "metadata": {},
   "source": [
    "## Calculer la taille du vocabulaire"
   ]
  },
  {
   "cell_type": "code",
   "execution_count": 80,
   "id": "55347430-5f1d-4ee3-b37d-dbcd426e38a9",
   "metadata": {},
   "outputs": [
    {
     "name": "stdout",
     "output_type": "stream",
     "text": [
      "1582220 words kept (71203 different word forms)\n"
     ]
    }
   ],
   "source": [
    "# Eliminer les stopwords et les termes non alphabétiques\n",
    "kept = [w.lower() for w in words if len(w) > 2 and w.isalpha() and w.lower() not in sw]\n",
    "voc = set(kept)\n",
    "print(f\"{len(kept)} words kept ({len(voc)} different word forms)\")"
   ]
  },
  {
   "cell_type": "markdown",
   "id": "80d6ae16-808f-44e0-9c66-6a6a1e62907e",
   "metadata": {},
   "source": [
    "## Récupérer les mots les plus fréquents et en faire un plot"
   ]
  },
  {
   "cell_type": "code",
   "execution_count": 81,
   "id": "549c6889-cf29-4b70-a31f-039bcc261793",
   "metadata": {},
   "outputs": [
    {
     "data": {
      "text/plain": [
       "[('francs', 14624),\n",
       " ('rue', 12620),\n",
       " ('ville', 9390),\n",
       " ('conseil', 8336),\n",
       " ('bruxelles', 7971),\n",
       " ('collège', 7318),\n",
       " ('service', 6723),\n",
       " ('frais', 5889),\n",
       " ('bourgmestre', 5248),\n",
       " ('cours', 5196),\n",
       " ('travaux', 5074),\n",
       " ('dépenses', 5061),\n",
       " ('total', 4819),\n",
       " ('communal', 4753),\n",
       " ('art', 4521)]"
      ]
     },
     "execution_count": 81,
     "metadata": {},
     "output_type": "execute_result"
    }
   ],
   "source": [
    "fdist = nltk.FreqDist(kept)\n",
    "fdist.most_common(15)"
   ]
  },
  {
   "cell_type": "code",
   "execution_count": 234,
   "id": "591f005f-88a1-4b3e-8efb-499c27b898bf",
   "metadata": {
    "tags": []
   },
   "outputs": [
    {
     "data": {
      "image/png": "[encoded data removed]",
      "text/plain": [
       "<Figure size 432x288 with 1 Axes>"
      ]
     },
     "metadata": {
      "needs_background": "light"
     },
     "output_type": "display_data"
    },
    {
     "data": {
      "text/plain": [
       "<AxesSubplot:xlabel='Samples', ylabel='Cumulative Counts'>"
      ]
     },
     "execution_count": 234,
     "metadata": {},
     "output_type": "execute_result"
    }
   ],
   "source": [
    "# Plot: les n mots les plus fréquents\n",
    "n = 15\n",
    "fdist.plot(n, cumulative=True)"
   ]
  },
  {
   "cell_type": "code",
   "execution_count": null,
   "id": "dae6d15d-01b7-44cb-a5ac-6f39cc16dbf3",
   "metadata": {},
   "outputs": [],
   "source": []
  },
  {
   "cell_type": "markdown",
   "id": "0db2cc15-9bee-4656-93eb-b6b4eee72f70",
   "metadata": {},
   "source": [
    "## Les 15 mots les plus fréquents de la décennie 1920"
   ]
  },
  {
   "cell_type": "code",
   "execution_count": null,
   "id": "391ace7b-5e60-4984-ad40-375ed62aaa5f",
   "metadata": {},
   "outputs": [],
   "source": []
  },
  {
   "cell_type": "code",
   "execution_count": 82,
   "id": "4a3a9926-b7f7-457e-a25f-d105140926e2",
   "metadata": {
    "tags": []
   },
   "outputs": [],
   "source": [
    "# Récupération du contenu du fichier\n",
    "path = \"../data/tmp_tp4/1920s.txt\"\n",
    "\n",
    "with open(path) as f:\n",
    "    text = f.read()"
   ]
  },
  {
   "cell_type": "code",
   "execution_count": 83,
   "id": "7649cec4-c548-4acc-9c12-792466c65380",
   "metadata": {},
   "outputs": [
    {
     "name": "stdout",
     "output_type": "stream",
     "text": [
      "6941433 words found\n"
     ]
    }
   ],
   "source": [
    "# Tokenization\n",
    "words = nltk.wordpunct_tokenize(text)\n",
    "print(f\"{len(words)} words found\")"
   ]
  },
  {
   "cell_type": "code",
   "execution_count": 84,
   "id": "e01242ab-5245-43ac-b2d2-e6264166aaf3",
   "metadata": {},
   "outputs": [
    {
     "data": {
      "text/plain": [
       "['(', '31', 'Janvier', '1910', ')', '—', '100', '—', 'Ces', 'comptes']"
      ]
     },
     "execution_count": 84,
     "metadata": {},
     "output_type": "execute_result"
    }
   ],
   "source": [
    "words[:10]"
   ]
  },
  {
   "cell_type": "markdown",
   "id": "6f6c3004-7f18-4be8-a1ee-39bc64abf853",
   "metadata": {},
   "source": [
    "## Calculer la taille du vocabulaire"
   ]
  },
  {
   "cell_type": "code",
   "execution_count": 85,
   "id": "36fed8c8-9835-47eb-bc33-104aed268d6f",
   "metadata": {},
   "outputs": [
    {
     "name": "stdout",
     "output_type": "stream",
     "text": [
      "1582220 words kept (71203 different word forms)\n"
     ]
    }
   ],
   "source": [
    "# Eliminer les stopwords et les termes non alphabétiques\n",
    "kept = [w.lower() for w in words if len(w) > 2 and w.isalpha() and w.lower() not in sw]\n",
    "voc = set(kept)\n",
    "print(f\"{len(kept)} words kept ({len(voc)} different word forms)\")"
   ]
  },
  {
   "cell_type": "markdown",
   "id": "3532cbaa-0a26-4c1e-9200-b5ea10e3e5c5",
   "metadata": {},
   "source": [
    "## Récupérer les mots les plus fréquents et en faire un plot"
   ]
  },
  {
   "cell_type": "code",
   "execution_count": 86,
   "id": "1aae5372-8b4c-460b-a979-e0125b4b6617",
   "metadata": {},
   "outputs": [
    {
     "data": {
      "text/plain": [
       "[('francs', 14624),\n",
       " ('rue', 12620),\n",
       " ('ville', 9390),\n",
       " ('conseil', 8336),\n",
       " ('bruxelles', 7971),\n",
       " ('collège', 7318),\n",
       " ('service', 6723),\n",
       " ('frais', 5889),\n",
       " ('bourgmestre', 5248),\n",
       " ('cours', 5196),\n",
       " ('travaux', 5074),\n",
       " ('dépenses', 5061),\n",
       " ('total', 4819),\n",
       " ('communal', 4753),\n",
       " ('art', 4521)]"
      ]
     },
     "execution_count": 86,
     "metadata": {},
     "output_type": "execute_result"
    }
   ],
   "source": [
    "fdist = nltk.FreqDist(kept)\n",
    "fdist.most_common(15)"
   ]
  },
  {
   "cell_type": "code",
   "execution_count": 240,
   "id": "beb965a3-2246-4614-8ef7-3d096cee7697",
   "metadata": {
    "tags": []
   },
   "outputs": [
    {
     "data": {
      "image/png": "[encoded data removed]",
      "text/plain": [
       "<Figure size 432x288 with 1 Axes>"
      ]
     },
     "metadata": {
      "needs_background": "light"
     },
     "output_type": "display_data"
    },
    {
     "data": {
      "text/plain": [
       "<AxesSubplot:xlabel='Samples', ylabel='Cumulative Counts'>"
      ]
     },
     "execution_count": 240,
     "metadata": {},
     "output_type": "execute_result"
    }
   ],
   "source": [
    "# Plot: les n mots les plus fréquents\n",
    "n = 15\n",
    "fdist.plot(n, cumulative=True)"
   ]
  },
  {
   "cell_type": "code",
   "execution_count": null,
   "id": "355a8ac1-cb37-4739-bb87-d75d6a2280f8",
   "metadata": {},
   "outputs": [],
   "source": []
  },
  {
   "cell_type": "markdown",
   "id": "ae9a66af-4f39-45e0-b00a-f9b51c0b5b8a",
   "metadata": {},
   "source": [
    "## Les 15 mots les plus fréquents de la décennie 1930"
   ]
  },
  {
   "cell_type": "code",
   "execution_count": 47,
   "id": "a866a13b-4c09-44fa-bb7a-dd59a38a8ac6",
   "metadata": {
    "tags": []
   },
   "outputs": [],
   "source": [
    "# Récupération du contenu du fichier\n",
    "path = \"../data/tmp_tp4/1930s.txt\"\n",
    "\n",
    "with open(path) as f:\n",
    "    text = f.read()"
   ]
  },
  {
   "cell_type": "code",
   "execution_count": 48,
   "id": "b33ace2c-398d-4d84-ad74-b984458f7e49",
   "metadata": {},
   "outputs": [
    {
     "name": "stdout",
     "output_type": "stream",
     "text": [
      "7863499 words found\n"
     ]
    }
   ],
   "source": [
    "# Tokenization\n",
    "words = nltk.wordpunct_tokenize(text)\n",
    "print(f\"{len(words)} words found\")"
   ]
  },
  {
   "cell_type": "code",
   "execution_count": 49,
   "id": "d14bf8e3-201c-4472-8f08-ff58d3ef683c",
   "metadata": {},
   "outputs": [
    {
     "data": {
      "text/plain": [
       "['d', \"'\", 'après', 'des', 'feux', 'par', 'les', 'postes', 'arrivés', 'a']"
      ]
     },
     "execution_count": 49,
     "metadata": {},
     "output_type": "execute_result"
    }
   ],
   "source": [
    "words[:10]"
   ]
  },
  {
   "cell_type": "markdown",
   "id": "5517b0e5-d7f4-4657-8e09-d1da57f2e55f",
   "metadata": {},
   "source": [
    "## Calculer la taille du vocabulaire"
   ]
  },
  {
   "cell_type": "code",
   "execution_count": 50,
   "id": "5444dd27-5ad0-48a7-b3d4-8cf88707bb82",
   "metadata": {},
   "outputs": [
    {
     "name": "stdout",
     "output_type": "stream",
     "text": [
      "1903648 words kept (73814 different word forms)\n"
     ]
    }
   ],
   "source": [
    "# Eliminer les stopwords et les termes non alphabétiques\n",
    "kept = [w.lower() for w in words if len(w) > 2 and w.isalpha() and w.lower() not in sw]\n",
    "voc = set(kept)\n",
    "print(f\"{len(kept)} words kept ({len(voc)} different word forms)\")"
   ]
  },
  {
   "cell_type": "markdown",
   "id": "6446a26b-d2fd-475c-9af7-8bd1ff3bf14d",
   "metadata": {},
   "source": [
    "## Récupérer les mots les plus fréquents et en faire un plot"
   ]
  },
  {
   "cell_type": "code",
   "execution_count": 53,
   "id": "4ff27f7e-e7a2-43fc-a521-ffa74e100bfd",
   "metadata": {},
   "outputs": [
    {
     "data": {
      "text/plain": [
       "[('rue', 14403),\n",
       " ('francs', 13416),\n",
       " ('ville', 9717),\n",
       " ('bruxelles', 9229),\n",
       " ('service', 8853),\n",
       " ('frais', 7143),\n",
       " ('conseil', 6844),\n",
       " ('publique', 6793),\n",
       " ('collège', 6497),\n",
       " ('communal', 6296),\n",
       " ('budget', 6223),\n",
       " ('recettes', 6103),\n",
       " ('travaux', 5789),\n",
       " ('bourgmestre', 5622),\n",
       " ('echevin', 5596),\n",
       " ('entretien', 5591),\n",
       " ('art', 5212),\n",
       " ('personnel', 5156),\n",
       " ('cours', 4982),\n",
       " ('ecole', 4934)]"
      ]
     },
     "execution_count": 53,
     "metadata": {},
     "output_type": "execute_result"
    }
   ],
   "source": [
    "fdist = nltk.FreqDist(kept)\n",
    "fdist.most_common(20)"
   ]
  },
  {
   "cell_type": "code",
   "execution_count": 246,
   "id": "61807777-7375-49ce-bab3-6908b00c5c4f",
   "metadata": {
    "tags": []
   },
   "outputs": [
    {
     "data": {
      "image/png": "[encoded data removed]",
      "text/plain": [
       "<Figure size 432x288 with 1 Axes>"
      ]
     },
     "metadata": {
      "needs_background": "light"
     },
     "output_type": "display_data"
    },
    {
     "data": {
      "text/plain": [
       "<AxesSubplot:xlabel='Samples', ylabel='Cumulative Counts'>"
      ]
     },
     "execution_count": 246,
     "metadata": {},
     "output_type": "execute_result"
    }
   ],
   "source": [
    "# Plot: les n mots les plus fréquents\n",
    "n = 15\n",
    "fdist.plot(n, cumulative=True)"
   ]
  },
  {
   "cell_type": "code",
   "execution_count": null,
   "id": "cd93d31c-44a0-4d21-8e6a-1a92af55c495",
   "metadata": {},
   "outputs": [],
   "source": []
  },
  {
   "cell_type": "markdown",
   "id": "0ccbad32-a024-4cf6-97fa-ad5252d895aa",
   "metadata": {},
   "source": [
    "## Les 15 mots les plus fréquents de la décennie 1940"
   ]
  },
  {
   "cell_type": "code",
   "execution_count": null,
   "id": "8743a6bc-7967-4089-b26b-5518ed2902dc",
   "metadata": {},
   "outputs": [],
   "source": []
  },
  {
   "cell_type": "code",
   "execution_count": 54,
   "id": "62a28d9a-0a86-4f79-b355-45a9e4a9fac8",
   "metadata": {
    "tags": []
   },
   "outputs": [],
   "source": [
    "# Récupération du contenu du fichier\n",
    "path = \"../data/tmp_tp4/1940s.txt\"\n",
    "\n",
    "with open(path) as f:\n",
    "    text = f.read()"
   ]
  },
  {
   "cell_type": "code",
   "execution_count": 55,
   "id": "549617a8-0b3e-4fca-9f75-2637c688190a",
   "metadata": {},
   "outputs": [
    {
     "name": "stdout",
     "output_type": "stream",
     "text": [
      "3552598 words found\n"
     ]
    }
   ],
   "source": [
    "# Tokenization\n",
    "words = nltk.wordpunct_tokenize(text)\n",
    "print(f\"{len(words)} words found\")"
   ]
  },
  {
   "cell_type": "code",
   "execution_count": 56,
   "id": "e43d443a-4ba4-4352-be27-d807a96a5f77",
   "metadata": {},
   "outputs": [
    {
     "data": {
      "text/plain": [
       "['—', '1527', '—', '(', '22', 'novembre', '19', '$)', '1', 'Sapeurs']"
      ]
     },
     "execution_count": 56,
     "metadata": {},
     "output_type": "execute_result"
    }
   ],
   "source": [
    "words[:10]"
   ]
  },
  {
   "cell_type": "markdown",
   "id": "3db25224-8f74-499a-970a-dc3459ffd798",
   "metadata": {},
   "source": [
    "## Calculer la taille du vocabulaire"
   ]
  },
  {
   "cell_type": "code",
   "execution_count": 57,
   "id": "2ad2a0e8-9ff8-439c-a57e-e0830c10682c",
   "metadata": {},
   "outputs": [
    {
     "name": "stdout",
     "output_type": "stream",
     "text": [
      "894212 words kept (48831 different word forms)\n"
     ]
    }
   ],
   "source": [
    "# Eliminer les stopwords et les termes non alphabétiques\n",
    "kept = [w.lower() for w in words if len(w) > 2 and w.isalpha() and w.lower() not in sw]\n",
    "voc = set(kept)\n",
    "print(f\"{len(kept)} words kept ({len(voc)} different word forms)\")"
   ]
  },
  {
   "cell_type": "markdown",
   "id": "1bd3ab7e-fe26-4166-a330-b7a748582459",
   "metadata": {},
   "source": [
    "## Récupérer les mots les plus fréquents et en faire un plot"
   ]
  },
  {
   "cell_type": "code",
   "execution_count": 59,
   "id": "a085cddb-1b97-4670-8b2e-67647df44ff0",
   "metadata": {},
   "outputs": [
    {
     "data": {
      "text/plain": [
       "[('conseil', 4691),\n",
       " ('publique', 4686),\n",
       " ('bruxelles', 4419),\n",
       " ('service', 4121),\n",
       " ('communal', 4079),\n",
       " ('ville', 4015),\n",
       " ('rue', 3958),\n",
       " ('francs', 3891),\n",
       " ('collège', 3539),\n",
       " ('travaux', 3254),\n",
       " ('personnel', 3171),\n",
       " ('bourgmestre', 3104),\n",
       " ('ecole', 3025),\n",
       " ('taxe', 3023),\n",
       " ('budget', 3016),\n",
       " ('cours', 2702),\n",
       " ('octobre', 2647),\n",
       " ('echevin', 2591),\n",
       " ('assistance', 2585),\n",
       " ('commission', 2565),\n",
       " ('membres', 2426),\n",
       " ('art', 2293),\n",
       " ('question', 2284),\n",
       " ('article', 2281),\n",
       " ('avis', 2096),\n",
       " ('compte', 1947),\n",
       " ('messieurs', 1923),\n",
       " ('police', 1906),\n",
       " ('année', 1851),\n",
       " ('administration', 1805)]"
      ]
     },
     "execution_count": 59,
     "metadata": {},
     "output_type": "execute_result"
    }
   ],
   "source": [
    "fdist = nltk.FreqDist(kept)\n",
    "fdist.most_common(30)"
   ]
  },
  {
   "cell_type": "code",
   "execution_count": 261,
   "id": "39287114-f22b-4483-81c2-376b0644f6f9",
   "metadata": {
    "tags": []
   },
   "outputs": [
    {
     "data": {
      "image/png": "[encoded data removed]",
      "text/plain": [
       "<Figure size 432x288 with 1 Axes>"
      ]
     },
     "metadata": {
      "needs_background": "light"
     },
     "output_type": "display_data"
    },
    {
     "data": {
      "text/plain": [
       "<AxesSubplot:xlabel='Samples', ylabel='Cumulative Counts'>"
      ]
     },
     "execution_count": 261,
     "metadata": {},
     "output_type": "execute_result"
    }
   ],
   "source": [
    "# Plot: les n mots les plus fréquents\n",
    "n = 15\n",
    "fdist.plot(n, cumulative=True)"
   ]
  },
  {
   "cell_type": "code",
   "execution_count": null,
   "id": "cfea6ed1-d61d-4a5f-9dde-52889d78c67d",
   "metadata": {},
   "outputs": [],
   "source": []
  },
  {
   "cell_type": "markdown",
   "id": "d2c9130f-6bdb-401c-90b8-571a67daf292",
   "metadata": {},
   "source": [
    "## Les 15 mots les plus fréquents de la décennie 1950"
   ]
  },
  {
   "cell_type": "code",
   "execution_count": null,
   "id": "746c75db-8df5-48d8-af9c-e4b40f9c1011",
   "metadata": {},
   "outputs": [],
   "source": []
  },
  {
   "cell_type": "code",
   "execution_count": 60,
   "id": "727b0078-0d57-4f79-94d9-a73a63db6c72",
   "metadata": {
    "tags": []
   },
   "outputs": [],
   "source": [
    "# Récupération du contenu du fichier\n",
    "path = \"../data/tmp_tp4/1950s.txt\"\n",
    "\n",
    "with open(path) as f:\n",
    "    text = f.read()"
   ]
  },
  {
   "cell_type": "code",
   "execution_count": 61,
   "id": "5ba2db0c-f56f-4e7b-949e-c63c3e872fe7",
   "metadata": {},
   "outputs": [
    {
     "name": "stdout",
     "output_type": "stream",
     "text": [
      "12382289 words found\n"
     ]
    }
   ],
   "source": [
    "# Tokenization\n",
    "words = nltk.wordpunct_tokenize(text)\n",
    "print(f\"{len(words)} words found\")"
   ]
  },
  {
   "cell_type": "code",
   "execution_count": 62,
   "id": "10e94f66-87aa-4c2b-b27c-6a21859c0c3a",
   "metadata": {},
   "outputs": [
    {
     "data": {
      "text/plain": [
       "['—', '691', '—', '(', '3', 'octobre', '1955', ')', 'Report', ':']"
      ]
     },
     "execution_count": 62,
     "metadata": {},
     "output_type": "execute_result"
    }
   ],
   "source": [
    "words[:10]"
   ]
  },
  {
   "cell_type": "markdown",
   "id": "18d20ed4-a09f-4fc0-8b7f-7883b37decfa",
   "metadata": {},
   "source": [
    "## Calculer la taille du vocabulaire"
   ]
  },
  {
   "cell_type": "code",
   "execution_count": 63,
   "id": "208d3af9-c967-4427-a25d-02115c62c74b",
   "metadata": {},
   "outputs": [
    {
     "name": "stdout",
     "output_type": "stream",
     "text": [
      "2804617 words kept (89255 different word forms)\n"
     ]
    }
   ],
   "source": [
    "# Eliminer les stopwords et les termes non alphabétiques\n",
    "kept = [w.lower() for w in words if len(w) > 2 and w.isalpha() and w.lower() not in sw]\n",
    "voc = set(kept)\n",
    "print(f\"{len(kept)} words kept ({len(voc)} different word forms)\")"
   ]
  },
  {
   "cell_type": "markdown",
   "id": "dd015636-e8c7-43f3-a323-34cf286a0596",
   "metadata": {},
   "source": [
    "## Récupérer les mots les plus fréquents et en faire un plot"
   ]
  },
  {
   "cell_type": "code",
   "execution_count": 65,
   "id": "45fded1f-97ef-4c8f-a61f-8bc28dd3f5f5",
   "metadata": {},
   "outputs": [
    {
     "data": {
      "text/plain": [
       "[('francs', 18805),\n",
       " ('rue', 16090),\n",
       " ('publique', 13599),\n",
       " ('bruxelles', 12612),\n",
       " ('ville', 11896),\n",
       " ('travaux', 11718),\n",
       " ('conseil', 11381),\n",
       " ('communal', 10727),\n",
       " ('service', 10726),\n",
       " ('bourgmestre', 10429),\n",
       " ('budget', 9775),\n",
       " ('collège', 9544),\n",
       " ('cours', 8908),\n",
       " ('question', 8730),\n",
       " ('octobre', 8676),\n",
       " ('ecole', 8287),\n",
       " ('intervention', 8249),\n",
       " ('commission', 8122),\n",
       " ('personnel', 7979),\n",
       " ('article', 7767),\n",
       " ('assistance', 7328),\n",
       " ('art', 7152),\n",
       " ('part', 6686),\n",
       " ('membres', 6587),\n",
       " ('echevin', 6146),\n",
       " ('compte', 6081),\n",
       " ('avis', 5988),\n",
       " ('année', 5814),\n",
       " ('mesdames', 5767),\n",
       " ('taxe', 5660)]"
      ]
     },
     "execution_count": 65,
     "metadata": {},
     "output_type": "execute_result"
    }
   ],
   "source": [
    "fdist = nltk.FreqDist(kept)\n",
    "fdist.most_common(30)"
   ]
  },
  {
   "cell_type": "code",
   "execution_count": 267,
   "id": "a2d3fd24-0fbb-4278-8e12-ea231ffc9b04",
   "metadata": {
    "tags": []
   },
   "outputs": [
    {
     "data": {
      "image/png": "[encoded data removed]",
      "text/plain": [
       "<Figure size 432x288 with 1 Axes>"
      ]
     },
     "metadata": {
      "needs_background": "light"
     },
     "output_type": "display_data"
    },
    {
     "data": {
      "text/plain": [
       "<AxesSubplot:xlabel='Samples', ylabel='Cumulative Counts'>"
      ]
     },
     "execution_count": 267,
     "metadata": {},
     "output_type": "execute_result"
    }
   ],
   "source": [
    "# Plot: les n mots les plus fréquents\n",
    "n = 15\n",
    "fdist.plot(n, cumulative=True)"
   ]
  },
  {
   "cell_type": "code",
   "execution_count": null,
   "id": "65b2ef18-8d0f-467d-9942-e4cecffc7270",
   "metadata": {},
   "outputs": [],
   "source": []
  },
  {
   "cell_type": "markdown",
   "id": "a040d2c4-a04f-4846-8c31-16efb2393ef0",
   "metadata": {},
   "source": [
    "## Les 15 mots les plus fréquents de la décennie 1960"
   ]
  },
  {
   "cell_type": "code",
   "execution_count": null,
   "id": "06381721-60e0-428a-a7a7-96af6a3d1360",
   "metadata": {},
   "outputs": [],
   "source": []
  },
  {
   "cell_type": "code",
   "execution_count": 66,
   "id": "93e6a613-8413-43a5-93e6-43b3d2337bb7",
   "metadata": {
    "tags": []
   },
   "outputs": [],
   "source": [
    "# Récupération du contenu du fichier\n",
    "path = \"../data/tmp_tp4/1960s.txt\"\n",
    "\n",
    "with open(path) as f:\n",
    "    text = f.read()"
   ]
  },
  {
   "cell_type": "code",
   "execution_count": 67,
   "id": "83d68e1a-6578-4b0b-a2be-5f49709d08bc",
   "metadata": {},
   "outputs": [
    {
     "name": "stdout",
     "output_type": "stream",
     "text": [
      "14929235 words found\n"
     ]
    }
   ],
   "source": [
    "# Tokenization\n",
    "words = nltk.wordpunct_tokenize(text)\n",
    "print(f\"{len(words)} words found\")"
   ]
  },
  {
   "cell_type": "code",
   "execution_count": 68,
   "id": "5fa89ab9-a9ea-4573-a2a1-7aad8b293a60",
   "metadata": {},
   "outputs": [
    {
     "data": {
      "text/plain": [
       "['—', '301', '—', '5', '.', '—', 'S', 'e', 'r', 'v']"
      ]
     },
     "execution_count": 68,
     "metadata": {},
     "output_type": "execute_result"
    }
   ],
   "source": [
    "words[:10]"
   ]
  },
  {
   "cell_type": "markdown",
   "id": "cdf78c29-661d-4313-8eb9-98b4b69b6c9b",
   "metadata": {},
   "source": [
    "## Calculer la taille du vocabulaire"
   ]
  },
  {
   "cell_type": "code",
   "execution_count": 69,
   "id": "429ff2e0-0df3-4968-8e35-424647ec9deb",
   "metadata": {},
   "outputs": [
    {
     "name": "stdout",
     "output_type": "stream",
     "text": [
      "3942953 words kept (104653 different word forms)\n"
     ]
    }
   ],
   "source": [
    "# Eliminer les stopwords et les termes non alphabétiques\n",
    "kept = [w.lower() for w in words if len(w) > 2 and w.isalpha() and w.lower() not in sw]\n",
    "voc = set(kept)\n",
    "print(f\"{len(kept)} words kept ({len(voc)} different word forms)\")"
   ]
  },
  {
   "cell_type": "markdown",
   "id": "6e58a40e-aec0-4547-82bf-d079619c860e",
   "metadata": {},
   "source": [
    "## Récupérer les mots les plus fréquents et en faire un plot"
   ]
  },
  {
   "cell_type": "code",
   "execution_count": 70,
   "id": "f94d7eb3-e4bf-473c-817e-518c7630893d",
   "metadata": {},
   "outputs": [
    {
     "data": {
      "text/plain": [
       "[('francs', 24736),\n",
       " ('rue', 18506),\n",
       " ('publique', 15980),\n",
       " ('budget', 15863),\n",
       " ('ville', 15499),\n",
       " ('conseil', 14697),\n",
       " ('voor', 14274),\n",
       " ('bruxelles', 13963),\n",
       " ('een', 13946),\n",
       " ('communal', 13301),\n",
       " ('service', 12960),\n",
       " ('article', 12756),\n",
       " ('collège', 12367),\n",
       " ('travaux', 11966),\n",
       " ('art', 11854)]"
      ]
     },
     "execution_count": 70,
     "metadata": {},
     "output_type": "execute_result"
    }
   ],
   "source": [
    "fdist = nltk.FreqDist(kept)\n",
    "fdist.most_common(15)"
   ]
  },
  {
   "cell_type": "code",
   "execution_count": 273,
   "id": "82cfc4b9-ec34-4472-9cd8-0591feffd1f0",
   "metadata": {
    "tags": []
   },
   "outputs": [
    {
     "data": {
      "image/png": "[encoded data removed]",
      "text/plain": [
       "<Figure size 432x288 with 1 Axes>"
      ]
     },
     "metadata": {
      "needs_background": "light"
     },
     "output_type": "display_data"
    },
    {
     "data": {
      "text/plain": [
       "<AxesSubplot:xlabel='Samples', ylabel='Cumulative Counts'>"
      ]
     },
     "execution_count": 273,
     "metadata": {},
     "output_type": "execute_result"
    }
   ],
   "source": [
    "# Plot: les n mots les plus fréquents\n",
    "n = 15\n",
    "fdist.plot(n, cumulative=True)"
   ]
  },
  {
   "cell_type": "code",
   "execution_count": null,
   "id": "05a11018-f044-4e8a-9d67-f23e5fc1cc35",
   "metadata": {},
   "outputs": [],
   "source": []
  },
  {
   "cell_type": "markdown",
   "id": "76c1c01d-fea5-4b67-83ee-e781debec692",
   "metadata": {},
   "source": [
    "## Les 15 mots les plus fréquents de la décennie 1970"
   ]
  },
  {
   "cell_type": "code",
   "execution_count": null,
   "id": "c14e795e-63c7-4af7-af93-15e361c8fa84",
   "metadata": {},
   "outputs": [],
   "source": []
  },
  {
   "cell_type": "code",
   "execution_count": 71,
   "id": "0eb26d49-8144-48c2-a2cb-4a1f0356b732",
   "metadata": {
    "tags": []
   },
   "outputs": [],
   "source": [
    "# Récupération du contenu du fichier\n",
    "path = \"../data/tmp_tp4/1970s.txt\"\n",
    "\n",
    "with open(path) as f:\n",
    "    text = f.read()"
   ]
  },
  {
   "cell_type": "code",
   "execution_count": 72,
   "id": "43041338-76d7-4cfb-94f5-ea34a58bc262",
   "metadata": {},
   "outputs": [
    {
     "name": "stdout",
     "output_type": "stream",
     "text": [
      "11947371 words found\n"
     ]
    }
   ],
   "source": [
    "# Tokenization\n",
    "words = nltk.wordpunct_tokenize(text)\n",
    "print(f\"{len(words)} words found\")"
   ]
  },
  {
   "cell_type": "code",
   "execution_count": 73,
   "id": "b4894b2d-dce3-4be0-a6c1-ec17a0269557",
   "metadata": {},
   "outputs": [
    {
     "data": {
      "text/plain": [
       "['Evaluation', 'du', 'budget', '32', '.', '—', 'Apports', 'de', 'ventes', '33']"
      ]
     },
     "execution_count": 73,
     "metadata": {},
     "output_type": "execute_result"
    }
   ],
   "source": [
    "words[:10]"
   ]
  },
  {
   "cell_type": "markdown",
   "id": "c2994d6c-843a-47bf-93fb-e70ab4b9bf3d",
   "metadata": {},
   "source": [
    "## Calculer la taille du vocabulaire"
   ]
  },
  {
   "cell_type": "code",
   "execution_count": 74,
   "id": "9d130fcd-63a7-455c-aac1-184563f87f8b",
   "metadata": {},
   "outputs": [
    {
     "name": "stdout",
     "output_type": "stream",
     "text": [
      "3659552 words kept (102662 different word forms)\n"
     ]
    }
   ],
   "source": [
    "# Eliminer les stopwords et les termes non alphabétiques\n",
    "kept = [w.lower() for w in words if len(w) > 2 and w.isalpha() and w.lower() not in sw]\n",
    "voc = set(kept)\n",
    "print(f\"{len(kept)} words kept ({len(voc)} different word forms)\")"
   ]
  },
  {
   "cell_type": "markdown",
   "id": "fe84b7d9-bb5a-45bc-8f81-a79f929d1a13",
   "metadata": {},
   "source": [
    "## Récupérer les mots les plus fréquents et en faire un plot"
   ]
  },
  {
   "cell_type": "code",
   "execution_count": 76,
   "id": "b0e81840-5796-4723-ad16-8ee8ad773ad3",
   "metadata": {},
   "outputs": [
    {
     "data": {
      "text/plain": [
       "[('een', 20695),\n",
       " ('voor', 20455),\n",
       " ('conseil', 19086),\n",
       " ('bourgmestre', 14608),\n",
       " ('collège', 14438),\n",
       " ('rue', 14028),\n",
       " ('ville', 13712),\n",
       " ('aan', 13710),\n",
       " ('bruxelles', 13058),\n",
       " ('travaux', 12752),\n",
       " ('article', 12294),\n",
       " ('echevin', 12166),\n",
       " ('communal', 11543),\n",
       " ('budget', 11445),\n",
       " ('publique', 10323),\n",
       " ('die', 10149),\n",
       " ('worden', 10040),\n",
       " ('dat', 9988),\n",
       " ('dépense', 9966),\n",
       " ('met', 9882),\n",
       " ('door', 9565),\n",
       " ('question', 9374),\n",
       " ('francs', 9372),\n",
       " ('art', 9346),\n",
       " ('monsieur', 8702),\n",
       " ('deze', 8234),\n",
       " ('service', 8218),\n",
       " ('compte', 7961),\n",
       " ('zijn', 7826),\n",
       " ('heer', 7707)]"
      ]
     },
     "execution_count": 76,
     "metadata": {},
     "output_type": "execute_result"
    }
   ],
   "source": [
    "fdist = nltk.FreqDist(kept)\n",
    "fdist.most_common(30)"
   ]
  },
  {
   "cell_type": "code",
   "execution_count": 279,
   "id": "95d02f81-bdae-453a-81c5-78d6cc506743",
   "metadata": {
    "tags": []
   },
   "outputs": [
    {
     "data": {
      "image/png": "[encoded data removed]",
      "text/plain": [
       "<Figure size 432x288 with 1 Axes>"
      ]
     },
     "metadata": {
      "needs_background": "light"
     },
     "output_type": "display_data"
    },
    {
     "data": {
      "text/plain": [
       "<AxesSubplot:xlabel='Samples', ylabel='Cumulative Counts'>"
      ]
     },
     "execution_count": 279,
     "metadata": {},
     "output_type": "execute_result"
    }
   ],
   "source": [
    "# Plot: les n mots les plus fréquents\n",
    "n = 15\n",
    "fdist.plot(n, cumulative=True)"
   ]
  },
  {
   "cell_type": "markdown",
   "id": "daac9d0a-3e6e-4a4c-97f7-ed3cc9f9bd5a",
   "metadata": {
    "tags": []
   },
   "source": [
    "# Graphique final comprenant le résultat de fréquence du terme `art` dans le corpus par décennie"
   ]
  },
  {
   "cell_type": "markdown",
   "id": "47a46889-1d3d-4972-9c44-284e5fd439da",
   "metadata": {
    "tags": []
   },
   "source": [
    "## Graphique 1"
   ]
  },
  {
   "cell_type": "code",
   "execution_count": 108,
   "id": "be8c5bab-ee6b-404c-aa43-3c4abdd306a0",
   "metadata": {},
   "outputs": [
    {
     "data": {
      "image/png": "[encoded data removed]",
      "text/plain": [
       "<Figure size 432x288 with 1 Axes>"
      ]
     },
     "metadata": {
      "needs_background": "light"
     },
     "output_type": "display_data"
    }
   ],
   "source": [
    "import matplotlib.pyplot as plt\n",
    "\n",
    "def bar_chart(numbers, labels, pos):\n",
    "    plt.bar(pos, numbers, color='blue')\n",
    "    plt.xticks(ticks=pos, labels=labels)\n",
    "    plt.show()\n",
    "\n",
    "if __name__ == '__main__':\n",
    "    numbers = [3528, 4916, 5232, 11942, 10980, 9336, 4521, 4521, 5212, 2293, 7152, 11854, 9346]\n",
    "    labels = ['1850', '1860', '1870', '1880', '1890', '1900', '1910', '1920', '1930', '1940', '1950', '1960', '1970']\n",
    "    pos = list(range(13))\n",
    "    bar_chart(numbers, labels, pos)"
   ]
  },
  {
   "cell_type": "markdown",
   "id": "170d1da8-2d08-4aa3-be90-802d2414609e",
   "metadata": {
    "tags": []
   },
   "source": [
    "## Graphique 2"
   ]
  },
  {
   "cell_type": "code",
   "execution_count": 93,
   "id": "45fbf7a1-464a-4153-9b30-515e1e4c70c8",
   "metadata": {},
   "outputs": [
    {
     "data": {
      "image/png": "[encoded data removed]",
      "text/plain": [
       "<Figure size 432x288 with 1 Axes>"
      ]
     },
     "metadata": {
      "needs_background": "light"
     },
     "output_type": "display_data"
    }
   ],
   "source": [
    "import matplotlib.pyplot as plt\n",
    "def bar_charth(numbers, labels, pos):\n",
    "    plt.barh(pos, numbers, color='skyblue')\n",
    "    plt.yticks(ticks=pos, labels=labels)\n",
    "    plt.show()\n",
    "if __name__ == '__main__':\n",
    "    numbers = [3528, 4916, 5232, 11942, 10980, 9336, 4521, 4521, 5212, 2293, 7152, 11854, 9346]\n",
    "    labels = ['1850', '1860', '1870', '1880', '1890', '1900', '1910', '1920', '1930', '1940', '1950', '1960', '1970']\n",
    "    pos = list(range(13))\n",
    "    bar_charth(numbers, labels, pos)"
   ]
  },
  {
   "cell_type": "markdown",
   "id": "6143b495-e5d4-4930-8738-9ce413b91a67",
   "metadata": {
    "tags": []
   },
   "source": [
    "# Les années 1880 et 1960 comprennent le résultat de fréquence du terme `art` le plus élevé, ils seront donc comparés"
   ]
  },
  {
   "cell_type": "code",
   "execution_count": null,
   "id": "b2e2ddd9-20d2-4330-aa96-618ce2c5c71d",
   "metadata": {},
   "outputs": [],
   "source": []
  }
 ],
 "metadata": {
  "kernelspec": {
   "display_name": "Python 3 (ipykernel)",
   "language": "python",
   "name": "python3"
  },
  "language_info": {
   "codemirror_mode": {
    "name": "ipython",
    "version": 3
   },
   "file_extension": ".py",
   "mimetype": "text/x-python",
   "name": "python",
   "nbconvert_exporter": "python",
   "pygments_lexer": "ipython3",
   "version": "3.9.7"
  }
 },
 "nbformat": 4,
 "nbformat_minor": 5
}
