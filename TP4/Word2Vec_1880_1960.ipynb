{
 "cells": [
  {
   "cell_type": "markdown",
   "id": "c4d4117b-2bb3-48c0-8575-e464c4cc9e1c",
   "metadata": {},
   "source": [
    "# Word Embeddings : le modèle Word2Vec de la décennie 1880 et 1960"
   ]
  },
  {
   "cell_type": "markdown",
   "id": "a96735cd-e03a-48fc-aba3-f031ab35c1f8",
   "metadata": {},
   "source": [
    "## Imports"
   ]
  },
  {
   "cell_type": "code",
   "execution_count": 23,
   "id": "4f2a3716-fb33-4ed5-ad54-e1780de76597",
   "metadata": {},
   "outputs": [],
   "source": [
    "import sys\n",
    "\n",
    "from gensim.models.phrases import Phrases, Phraser\n",
    "from gensim.models import Word2Vec\n",
    "\n",
    "import nltk\n",
    "from nltk.tokenize import wordpunct_tokenize\n",
    "from unidecode import unidecode"
   ]
  },
  {
   "cell_type": "markdown",
   "id": "624e2d25-7f38-45c2-95f4-7658f5ed2d29",
   "metadata": {},
   "source": [
    "## Chargement et traitement des phrases du corpus"
   ]
  },
  {
   "cell_type": "markdown",
   "id": "e33304e6-be5e-4c1d-8f65-e61b452688b0",
   "metadata": {},
   "source": [
    "### Création d'un objet qui *streame* les lignes d'un fichier pour économiser de la RAM"
   ]
  },
  {
   "cell_type": "code",
   "execution_count": 2,
   "id": "2bc556ac-8ad9-44cc-91dc-405892c89feb",
   "metadata": {},
   "outputs": [],
   "source": [
    "class MySentences(object):\n",
    "    \"\"\"Tokenize and Lemmatize sentences\"\"\"\n",
    "    def __init__(self, filename):\n",
    "        self.filename = filename\n",
    "\n",
    "    def __iter__(self):\n",
    "        for line in open(self.filename, encoding='utf-8', errors=\"backslashreplace\"):\n",
    "            yield [unidecode(w.lower()) for w in wordpunct_tokenize(line)]"
   ]
  },
  {
   "cell_type": "code",
   "execution_count": 3,
   "id": "e405b497-f919-4b2e-896a-15d91c52cb0b",
   "metadata": {},
   "outputs": [],
   "source": [
    "infile = f\"../data/sents2_tp4.txt\"\n",
    "sentences = MySentences(infile)\n",
    "\n",
    "sentences = [sentence for sentence in sentences]"
   ]
  },
  {
   "cell_type": "markdown",
   "id": "311912bf-5b0a-43dc-8789-02af1f9b02d3",
   "metadata": {},
   "source": [
    "### Détection des bigrams"
   ]
  },
  {
   "cell_type": "code",
   "execution_count": 4,
   "id": "30a680a7-8cda-475a-81dd-0f0659ce8747",
   "metadata": {},
   "outputs": [],
   "source": [
    "bigram_phrases = Phrases(sentences)"
   ]
  },
  {
   "cell_type": "code",
   "execution_count": 5,
   "id": "362131ac-73c9-4aaf-8331-6e7cdf278e12",
   "metadata": {},
   "outputs": [
    {
     "data": {
      "text/plain": [
       "dict"
      ]
     },
     "execution_count": 5,
     "metadata": {},
     "output_type": "execute_result"
    }
   ],
   "source": [
    "type(bigram_phrases.vocab)"
   ]
  },
  {
   "cell_type": "markdown",
   "id": "eac85eb5-8154-4594-8b66-50aa747f8b5f",
   "metadata": {},
   "source": [
    "Il contient de nombreuses clés qui sont autant de termes observés dans le corpus"
   ]
  },
  {
   "cell_type": "code",
   "execution_count": 6,
   "id": "8ed42793-ed45-4754-bb86-d8afc6574193",
   "metadata": {},
   "outputs": [
    {
     "data": {
      "text/plain": [
       "607136"
      ]
     },
     "execution_count": 6,
     "metadata": {},
     "output_type": "execute_result"
    }
   ],
   "source": [
    "len(bigram_phrases.vocab.keys())"
   ]
  },
  {
   "cell_type": "markdown",
   "id": "49aa2c9d-5652-4387-b0a4-1c6ac6f49231",
   "metadata": {},
   "source": [
    "Prenons une clé au hasard :"
   ]
  },
  {
   "cell_type": "code",
   "execution_count": 7,
   "id": "1757ad89-5635-47a3-8367-957174ba787a",
   "metadata": {},
   "outputs": [
    {
     "name": "stdout",
     "output_type": "stream",
     "text": [
      "rue\n"
     ]
    }
   ],
   "source": [
    "key_ = list(bigram_phrases.vocab.keys())[144]\n",
    "print(key_)"
   ]
  },
  {
   "cell_type": "markdown",
   "id": "2d40d955-5043-4068-9a76-277fc16711c0",
   "metadata": {},
   "source": [
    "Le dictionnaire indique le score de cette coocurrence :"
   ]
  },
  {
   "cell_type": "code",
   "execution_count": 8,
   "id": "df0d7d11-8004-4562-a3fb-2508c344ceb4",
   "metadata": {},
   "outputs": [
    {
     "data": {
      "text/plain": [
       "7114"
      ]
     },
     "execution_count": 8,
     "metadata": {},
     "output_type": "execute_result"
    }
   ],
   "source": [
    "bigram_phrases.vocab[key_]"
   ]
  },
  {
   "cell_type": "markdown",
   "id": "dd19c2cf-040c-4a2e-a59a-6444970d6b8a",
   "metadata": {},
   "source": [
    "Lorsque l'instance de `Phrases` a été entraînée, elle peut concaténer les bigrams dans les phrases lorsque c'est pertinent."
   ]
  },
  {
   "cell_type": "code",
   "execution_count": 9,
   "id": "a8b0556b-ed86-453e-875e-791f4a9105ed",
   "metadata": {},
   "outputs": [
    {
     "name": "stdout",
     "output_type": "stream",
     "text": [
      "CPU times: user 64 µs, sys: 4 µs, total: 68 µs\n",
      "Wall time: 73.7 µs\n"
     ]
    },
    {
     "data": {
      "text/plain": [
       "['restauration_eventuelle', 'de', 'certaines_parties', 'de', 'facades', 'en']"
      ]
     },
     "execution_count": 9,
     "metadata": {},
     "output_type": "execute_result"
    }
   ],
   "source": [
    "%time bigram_phrases[sentences[78]]"
   ]
  },
  {
   "cell_type": "markdown",
   "id": "b2cb386d-4a17-4d7e-809b-7055e5726bc3",
   "metadata": {},
   "source": [
    "### Conversion des `Phrases` en objet `Phraser`\n",
    "\n",
    "`Phraser` est un alias pour `gensim.models.phrases.FrozenPhrases`, voir ici https://radimrehurek.com/gensim/models/phrases.html.\n",
    "\n",
    "Le `Phraser` est une version *light* du `Phrases`, plus optimale pour transformer les phrases en concaténant les bigrams."
   ]
  },
  {
   "cell_type": "code",
   "execution_count": 10,
   "id": "82bb2678-8bc9-4be0-8fd2-b6564d2ce0a2",
   "metadata": {},
   "outputs": [],
   "source": [
    "bigram_phraser = Phraser(phrases_model=bigram_phrases)"
   ]
  },
  {
   "cell_type": "markdown",
   "id": "5bf754d0-8909-4dcd-af17-db899625b683",
   "metadata": {},
   "source": [
    "Le `Phraser` est un objet qui convertit certains unigrams d'une liste en bigrams lorsqu'ils ont été identifiés comme pertinents."
   ]
  },
  {
   "cell_type": "code",
   "execution_count": 11,
   "id": "e4e9d475-7820-4702-9bfa-37cdad036f2f",
   "metadata": {},
   "outputs": [
    {
     "name": "stdout",
     "output_type": "stream",
     "text": [
      "CPU times: user 33 µs, sys: 2 µs, total: 35 µs\n",
      "Wall time: 39.8 µs\n"
     ]
    },
    {
     "data": {
      "text/plain": [
       "['restauration_eventuelle', 'de', 'certaines_parties', 'de', 'facades', 'en']"
      ]
     },
     "execution_count": 11,
     "metadata": {},
     "output_type": "execute_result"
    }
   ],
   "source": [
    "%time bigram_phraser[sentences[78]]"
   ]
  },
  {
   "cell_type": "markdown",
   "id": "bb5ce356-1c19-48d6-be4f-14593599a487",
   "metadata": {},
   "source": [
    "### Extraction des trigrams"
   ]
  },
  {
   "cell_type": "markdown",
   "id": "dc8ad133-4b4e-46ac-a27e-8688dc0ccce5",
   "metadata": {},
   "source": [
    "Nous répétons l'opération en envoyant cette fois la liste de bigrams afin d'extraire les trigrams."
   ]
  },
  {
   "cell_type": "code",
   "execution_count": 12,
   "id": "0862825f-6257-4c26-bf65-52e923a8a37a",
   "metadata": {},
   "outputs": [],
   "source": [
    "trigram_phrases = Phrases(bigram_phraser[sentences])"
   ]
  },
  {
   "cell_type": "code",
   "execution_count": 13,
   "id": "eb583601-dde4-4854-b51e-086808c21b47",
   "metadata": {},
   "outputs": [],
   "source": [
    "trigram_phraser = Phraser(phrases_model=trigram_phrases)"
   ]
  },
  {
   "cell_type": "markdown",
   "id": "891bc922-76d2-42b9-93c1-ca4bfc9babae",
   "metadata": {},
   "source": [
    "### Création d'un corpus d'unigrams, bigrams, trigrams"
   ]
  },
  {
   "cell_type": "code",
   "execution_count": 14,
   "id": "71484138-1a9f-404c-861c-90e30c262c9c",
   "metadata": {},
   "outputs": [],
   "source": [
    "corpus = list(trigram_phraser[bigram_phraser[sentences]])"
   ]
  },
  {
   "cell_type": "code",
   "execution_count": 15,
   "id": "4e5241b0-5f33-4b3d-94cf-105992d23631",
   "metadata": {},
   "outputs": [
    {
     "name": "stdout",
     "output_type": "stream",
     "text": [
      "[['art', '.'], ['74', '.'], ['--', 'subside', 'a', 'vathenee', 'royal', ':', '82', ',', '000_francs', '.'], ['cette_somme', 'represente', 'la', 'part', 'incombant', 'a', 'ia', 'ville', 'dans'], ['le', 'traitement', 'des', 'professeurs', ',', 'ainsi', 'que', 'le', 'montant', 'des'], ['menues', 'depenses', '.'], ['le', 'budget', 'presente', 'par', 'la', 'commission_administrative'], ['ainsi', 'que', 'le', 'compte', 'justifiant', 'l', \"'\", 'emploi', 'de', 'ces', 'fonds', ',', 'sont'], ['annuellement', 'soumis', 'a', 'l', \"'\", 'approbation', 'du', 'conseil_communal', '.'], ['art', '.'], ['75', '.'], ['--', 'loyer', 'de', 'locaux', ',', 'entretien', ',', 'contributions', 'et', 'assurance', ':'], ['29', ',', '750', 'francs', '.'], ['loyer', 'des', 'locaux', 'de', 'la', 'section_professionnelle', 'de', '1', 'athenee', ',', 'rue', 'du'], ['fr', '.'], ['19', ',', '700'], ['grand', '-', 'hospice'], ['.'], ['.'], ['.'], ['.'], ['.'], ['1', ',', '050'], ['contributions', 'et', 'assurance', '.'], ['.'], ['.'], ['.'], ['4', ',', '500'], ['loyer', 'de', 'la', 'maison_rue', 'des', 'grands', '-_carmes', ',', '18'], ['300'], ['loyer', 'des', 'caves', ',', 'rue', 'des', 'grands', '-_carmes'], ['175'], ['contributions', '.'], ['.'], ['.'], ['.'], ['1', ',', '500'], ['entretien', 'des', 'batiments', 'rue', 'du', 'grand', '-', 'hospice'], ['2', ',', '500'], ['entretien', 'rue', 'du', 'chene', 'et', 'rue', 'des', 'grands', '-_carmes'], ['total', ',', 'fr', '.'], ['29', ',', '725'], ['art', '.'], ['70', '.'], ['--', 'bourses', 'affectees', 'a', 'l', \"'\", 'athenee_royal', '(_legs_diricq', ')', ':'], ['600_francs', '.'], ['*', 'voir', 'art', '.'], ['25', 'des', 'recettes_ordinaires', '.'], ['art', '.'], ['77', '.'], ['--', 'indemnite', 'de', 'logement', 'a', 'mm', '.'], ['les', 'cures', ':', '6', ',', '000_francs', '.'], ['une', 'indemnite', 'de', 'logement', 'de', '1', ',', '200_francs', 'est', 'payee'], ['annuellement', 'aux_cures', 'des', 'paroisses', 'suivantes_:', 'bon', '-', 'secours', ',', 'riches_-_claires', ',', 'minimes', ',', 'caudenberg', 'et', 'saintecatherine', '.'], ['art', '.'], ['78', '.'], ['--', 'indemnite', 'de', 'logement', 'au', 'desservant', 'de', 'l', \"'\", 'eglise', 'de'], ['saint_-_josse', '-', 'ten', '-_noode', ':', '700_francs', '.'], ['cette', 'depense', 'a', 'ete', 'mise', 'a', 'charge', 'de', 'la', 'ville', 'par', 'une'], ['decision', 'de', 'la', 'deputation_permanente', ',', 'et', 'ce', 'par', 'le', 'motif'], ['qu', \"'\", 'une_partie', 'du', 'quartier_leopold', 'est', 'comprise_dans', 'la'], ['circonscription', 'de', 'cette', 'paroisse', '.'], ['art', '.'], ['79', '.'], ['--', 'indemnite', 'de', 'logement', 'aux', 'pasteurs', 'du', 'culte_protestant'], ['et', 'au', 'grand', '-', 'rabbin', ':', '4', ',', '800_francs', '.'], ['le', 'chiffre', 'de', '1882', 'est', 'maintenu', '.'], ['l', \"'\", 'indemnite', 'de', '1', ',', '200_francs', 'payee', 'a', 'm', '.', 'le', 'grand', '-', 'rabbin'], ['est', 'portee', 'en', 'recette', 'au', 'budget', 'de', 'la', 'synagogue', 'comme', 'loyer'], ['du', 'premier_etage', 'de', 'la', 'maison', 'consistoriale', '.'], ['--', '1102', '--'], ['art', '.'], ['80', '.'], ['--', 'subside', 'pour', 'l', \"'\", 'entretien', 'et', 'la', 'restauration', 'des', 'eglim'], ['et', 'des', 'temples', '57', ',', '500_francs', '.'], ['projet', 'de', 'repartition', 'du', 'credit', ':'], ['eglise', 'des', 'ss_.-', 'micliel', '-', 'el_-_gudule', '.'], ['construction', 'du', 'porche', 'vers', 'la', 'rue', 'du', 'bois', '-', 'sauvage', ',', 'fr', '.'], ['restauration_eventuelle', 'de', 'certaines_parties', 'de', 'facades', 'en'], ['mauvais_etat'], ['.'], ['.'], ['.'], ['.'], ['.'], ['.'], ['.'], ['entretien', 'de', 'l', \"'\", 'escalier', 'exterieur', '.'], ['.'], ['.'], ['.'], ['.'], ['restauration_eventuelle', 'des', 'cheneaux', 'et', 'de', 'la', 'couverture'], ['en', 'ardoises'], ['10', ',', '000'], ['2', ',', '000'], ['1', ',', '000'], ['3', ',', '000'], ['eglise', 'de', 'notre_-_dame', 'de', 'la', 'chapelle', '.'], ['restauration', 'du', 'transept', 'vers', 'la', 'rue', 'du', 'saint_-_esprit']]\n"
     ]
    }
   ],
   "source": [
    "print(corpus[:100])"
   ]
  },
  {
   "cell_type": "markdown",
   "id": "45807d42-fa89-4cf1-85e2-e72c85b12ee5",
   "metadata": {},
   "source": [
    "## Entraînement d'un modèle Word2Vec sur ce corpus"
   ]
  },
  {
   "cell_type": "code",
   "execution_count": 16,
   "id": "403512eb-ef24-4380-a727-c3757c447df7",
   "metadata": {},
   "outputs": [
    {
     "name": "stdout",
     "output_type": "stream",
     "text": [
      "CPU times: user 31.9 s, sys: 158 ms, total: 32.1 s\n",
      "Wall time: 17 s\n"
     ]
    }
   ],
   "source": [
    "%%time\n",
    "model = Word2Vec(\n",
    "    corpus, # On passe le corpus de ngrams que nous venons de créer\n",
    "    vector_size=32, # Le nombre de dimensions dans lesquelles le contexte des mots devra être réduit, aka. vector_size\n",
    "    window=5, # La taille du \"contexte\", ici 5 mots avant et après le mot observé\n",
    "    min_count=5, # On ignore les mots qui n'apparaissent pas au moins 5 fois dans le corpus\n",
    "    workers=4, # Permet de paralléliser l'entraînement du modèle en 4 threads\n",
    "    epochs=5 # Nombre d'itérations du réseau de neurones sur le jeu de données pour ajuster les paramètres avec la descende de gradient, aka. epochs.\n",
    ")"
   ]
  },
  {
   "cell_type": "markdown",
   "id": "7aaaf84b-8b3c-4980-bdb4-352475acbfd2",
   "metadata": {},
   "source": [
    "### Sauvegarder le modèle dans un fichier"
   ]
  },
  {
   "cell_type": "code",
   "execution_count": 17,
   "id": "9da088f3-62cc-414c-83f2-83c3c4cbe7c0",
   "metadata": {},
   "outputs": [],
   "source": [
    "outfile = f\"../data/bulletins_tp4.model\"\n",
    "model.save(outfile)"
   ]
  },
  {
   "cell_type": "markdown",
   "id": "536b4221-d5c8-41b8-9fb8-daefd5c40102",
   "metadata": {},
   "source": [
    "## Explorer le modèle"
   ]
  },
  {
   "cell_type": "markdown",
   "id": "bf8e34d7-1407-428d-9f0a-78f94dddd32d",
   "metadata": {},
   "source": [
    "### Charger le modèle en mémoire"
   ]
  },
  {
   "cell_type": "code",
   "execution_count": 18,
   "id": "9769e895-1baf-457a-8b65-5944540e8a8d",
   "metadata": {},
   "outputs": [],
   "source": [
    "model = Word2Vec.load(\"../data/bulletins_tp4.model\")"
   ]
  },
  {
   "cell_type": "markdown",
   "id": "20fc58fb-684c-4caa-b4ff-70481f8dab19",
   "metadata": {},
   "source": [
    "### Imprimer le vecteur d'un terme"
   ]
  },
  {
   "cell_type": "code",
   "execution_count": 20,
   "id": "a464d081-f944-4bec-85e5-ac67d8da2981",
   "metadata": {},
   "outputs": [
    {
     "data": {
      "text/plain": [
       "array([-0.7086632 , -0.33289444,  2.1562    ,  0.5013727 , -0.73077095,\n",
       "       -0.76644933, -2.7560346 ,  0.38221553,  1.2058228 ,  0.86362714,\n",
       "       -3.3544064 , -2.294019  , -2.6045032 , -0.53698164,  1.1983888 ,\n",
       "        0.51813453,  0.5891617 ,  1.3009491 ,  0.37372476, -0.35540214,\n",
       "        2.1480296 ,  0.31965113, -2.4387014 , -2.556127  ,  0.4505468 ,\n",
       "        0.7742366 , -1.3374887 , -0.7420905 , -1.2654073 ,  2.577202  ,\n",
       "        0.41294035, -1.2392157 ], dtype=float32)"
      ]
     },
     "execution_count": 20,
     "metadata": {},
     "output_type": "execute_result"
    }
   ],
   "source": [
    "model.wv[\"art\"]"
   ]
  },
  {
   "cell_type": "markdown",
   "id": "f2f06652-92ba-4b1a-8173-273d65bcd2b0",
   "metadata": {},
   "source": [
    "### Calculer la similarité entre deux termes"
   ]
  },
  {
   "cell_type": "code",
   "execution_count": 21,
   "id": "5cf6433c-588e-4d75-8628-6074c1274f22",
   "metadata": {},
   "outputs": [
    {
     "data": {
      "text/plain": [
       "0.016951732"
      ]
     },
     "execution_count": 21,
     "metadata": {},
     "output_type": "execute_result"
    }
   ],
   "source": [
    "model.wv.similarity(\"art\", \"moderne\")"
   ]
  },
  {
   "cell_type": "markdown",
   "id": "8aa85119-608b-451e-a4ff-f19bc62506cb",
   "metadata": {},
   "source": [
    "### Chercher les mots les plus proches d'un terme donné"
   ]
  },
  {
   "cell_type": "code",
   "execution_count": 22,
   "id": "79ff215a-f46d-432e-987a-1a0d6ec4733c",
   "metadata": {},
   "outputs": [
    {
     "data": {
      "text/plain": [
       "[('article_premier', 0.7752205729484558),\n",
       " ('autorite_superieure', 0.715242862701416),\n",
       " ('exercice', 0.6989240050315857),\n",
       " ('administration_charitable', 0.6899999380111694),\n",
       " ('article', 0.6881192922592163),\n",
       " ('exercice_1888', 0.6836838722229004),\n",
       " ('exercice_1961', 0.6719928979873657),\n",
       " ('extraordinaire', 0.6692975759506226),\n",
       " ('hopital_brugmann', 0.6494511961936951),\n",
       " ('etranger', 0.6475836038589478)]"
      ]
     },
     "execution_count": 22,
     "metadata": {},
     "output_type": "execute_result"
    }
   ],
   "source": [
    "model.wv.most_similar(\"art\", topn=10)"
   ]
  },
  {
   "cell_type": "markdown",
   "id": "ab758c8e-b65c-49c1-8e8c-d9258e88bcc1",
   "metadata": {},
   "source": [
    "### Faire des recherches complexes à travers l'espace vectoriel"
   ]
  },
  {
   "cell_type": "code",
   "execution_count": 25,
   "id": "6a829de4-43f3-486f-9163-d868e06c803a",
   "metadata": {},
   "outputs": [
    {
     "name": "stdout",
     "output_type": "stream",
     "text": [
      "[('echevin_vanden_boeynants', 0.7327759861946106), ('echevin_piron', 0.7135235071182251), ('echevin_morelle', 0.7042292356491089), ('honorable_membre', 0.6943852305412292), ('unanimite', 0.6939157247543335), ('administration_charitable', 0.6901442408561707), ('heure_actuelle', 0.6817639470100403), ('echevin_andre', 0.6673774719238281), ('honorable', 0.6552387475967407), ('annee_derniere', 0.6543301939964294)]\n"
     ]
    }
   ],
   "source": [
    "print(model.wv.most_similar(positive=['art', 'etranger'], negative=['belgique']))"
   ]
  },
  {
   "cell_type": "code",
   "execution_count": null,
   "id": "d4968168-e8fb-44a7-8e0e-976449a15ca8",
   "metadata": {},
   "outputs": [],
   "source": []
  },
  {
   "cell_type": "markdown",
   "id": "ab407bde-9038-4964-93e1-a00fb04bce6e",
   "metadata": {},
   "source": [
    "# Word Embeddings : le modèle Word2Vec de la décennie 1880"
   ]
  },
  {
   "cell_type": "markdown",
   "id": "07893760-a86e-4393-a97b-c56763fa7589",
   "metadata": {},
   "source": [
    "## Chargement et traitement des phrases du corpus"
   ]
  },
  {
   "cell_type": "markdown",
   "id": "d0b5c4c3-e331-419d-98fa-8d768fefb5f8",
   "metadata": {},
   "source": [
    "### Création d'un objet qui *streame* les lignes d'un fichier pour économiser de la RAM"
   ]
  },
  {
   "cell_type": "code",
   "execution_count": 2,
   "id": "c9080762-9039-4686-9298-95b8c4d2c2b5",
   "metadata": {},
   "outputs": [],
   "source": [
    "class MySentences(object):\n",
    "    \"\"\"Tokenize and Lemmatize sentences\"\"\"\n",
    "    def __init__(self, filename):\n",
    "        self.filename = filename\n",
    "\n",
    "    def __iter__(self):\n",
    "        for line in open(self.filename, encoding='utf-8', errors=\"backslashreplace\"):\n",
    "            yield [unidecode(w.lower()) for w in wordpunct_tokenize(line)]"
   ]
  },
  {
   "cell_type": "code",
   "execution_count": 3,
   "id": "16ebdfaf-3baa-453d-a18e-74e33b558cf8",
   "metadata": {},
   "outputs": [],
   "source": [
    "infile = f\"../data/sents_1880_tp4.txt\"\n",
    "sentences = MySentences(infile)\n",
    "\n",
    "sentences = [sentence for sentence in sentences]"
   ]
  },
  {
   "cell_type": "markdown",
   "id": "a721faea-9fe7-41ef-a940-c6cf585310a8",
   "metadata": {},
   "source": [
    "### Détection des bigrams"
   ]
  },
  {
   "cell_type": "code",
   "execution_count": 4,
   "id": "50db6564-5266-4487-93dd-4ac975ca93e5",
   "metadata": {},
   "outputs": [],
   "source": [
    "bigram_phrases = Phrases(sentences)"
   ]
  },
  {
   "cell_type": "code",
   "execution_count": 5,
   "id": "f4e8a802-eb63-4d3f-ad7f-8dafecd79fec",
   "metadata": {},
   "outputs": [
    {
     "data": {
      "text/plain": [
       "dict"
      ]
     },
     "execution_count": 5,
     "metadata": {},
     "output_type": "execute_result"
    }
   ],
   "source": [
    "type(bigram_phrases.vocab)"
   ]
  },
  {
   "cell_type": "markdown",
   "id": "2795c8ec-35ef-4693-9ecb-b8fe6cd933ae",
   "metadata": {},
   "source": [
    "Il contient de nombreuses clés qui sont autant de termes observés dans le corpus"
   ]
  },
  {
   "cell_type": "code",
   "execution_count": 6,
   "id": "5ccd4bc0-15d3-4008-8746-15584a3c7980",
   "metadata": {},
   "outputs": [
    {
     "data": {
      "text/plain": [
       "650328"
      ]
     },
     "execution_count": 6,
     "metadata": {},
     "output_type": "execute_result"
    }
   ],
   "source": [
    "len(bigram_phrases.vocab.keys())"
   ]
  },
  {
   "cell_type": "markdown",
   "id": "28428dbf-9fe3-4060-9eab-98dabb43fe11",
   "metadata": {},
   "source": [
    "Prenons une clé au hasard :"
   ]
  },
  {
   "cell_type": "code",
   "execution_count": 7,
   "id": "e3309f81-ab13-4b1d-9284-95a9ad14ac7e",
   "metadata": {},
   "outputs": [
    {
     "name": "stdout",
     "output_type": "stream",
     "text": [
      "rue\n"
     ]
    }
   ],
   "source": [
    "key_ = list(bigram_phrases.vocab.keys())[144]\n",
    "print(key_)"
   ]
  },
  {
   "cell_type": "markdown",
   "id": "2b15c9d1-0ba4-4d7b-b6f0-6900b610fd30",
   "metadata": {},
   "source": [
    "Le dictionnaire indique le score de cette coocurrence :"
   ]
  },
  {
   "cell_type": "code",
   "execution_count": 8,
   "id": "7e8b70b6-01df-4148-85f9-50f8405f0dcb",
   "metadata": {},
   "outputs": [
    {
     "data": {
      "text/plain": [
       "8679"
      ]
     },
     "execution_count": 8,
     "metadata": {},
     "output_type": "execute_result"
    }
   ],
   "source": [
    "bigram_phrases.vocab[key_]"
   ]
  },
  {
   "cell_type": "markdown",
   "id": "eedd755c-6e9c-4428-a958-5d9356856f77",
   "metadata": {},
   "source": [
    "Lorsque l'instance de `Phrases` a été entraînée, elle peut concaténer les bigrams dans les phrases lorsque c'est pertinent."
   ]
  },
  {
   "cell_type": "code",
   "execution_count": 9,
   "id": "d2d712f3-73cb-4152-9db0-6801d04cdbcf",
   "metadata": {},
   "outputs": [
    {
     "name": "stdout",
     "output_type": "stream",
     "text": [
      "CPU times: user 94 µs, sys: 6 µs, total: 100 µs\n",
      "Wall time: 110 µs\n"
     ]
    },
    {
     "data": {
      "text/plain": [
       "['restauration_eventuelle', 'de', 'certaines_parties', 'de', 'facades', 'en']"
      ]
     },
     "execution_count": 9,
     "metadata": {},
     "output_type": "execute_result"
    }
   ],
   "source": [
    "%time bigram_phrases[sentences[78]]"
   ]
  },
  {
   "cell_type": "markdown",
   "id": "973e030b-0ad7-4be0-a949-313eaa74d4c6",
   "metadata": {},
   "source": [
    "### Conversion des `Phrases` en objet `Phraser`\n",
    "\n",
    "`Phraser` est un alias pour `gensim.models.phrases.FrozenPhrases`, voir ici https://radimrehurek.com/gensim/models/phrases.html.\n",
    "\n",
    "Le `Phraser` est une version *light* du `Phrases`, plus optimale pour transformer les phrases en concaténant les bigrams."
   ]
  },
  {
   "cell_type": "code",
   "execution_count": 10,
   "id": "92008b3f-16a2-4c96-a4ab-b6bc5733c076",
   "metadata": {},
   "outputs": [],
   "source": [
    "bigram_phraser = Phraser(phrases_model=bigram_phrases)"
   ]
  },
  {
   "cell_type": "markdown",
   "id": "32609293-b7fa-43ea-9fc0-9b004403c25d",
   "metadata": {},
   "source": [
    "Le `Phraser` est un objet qui convertit certains unigrams d'une liste en bigrams lorsqu'ils ont été identifiés comme pertinents."
   ]
  },
  {
   "cell_type": "code",
   "execution_count": 11,
   "id": "5f65f184-d831-4667-810f-bfb1c1719017",
   "metadata": {},
   "outputs": [
    {
     "name": "stdout",
     "output_type": "stream",
     "text": [
      "CPU times: user 37 µs, sys: 0 ns, total: 37 µs\n",
      "Wall time: 40.8 µs\n"
     ]
    },
    {
     "data": {
      "text/plain": [
       "['restauration_eventuelle', 'de', 'certaines_parties', 'de', 'facades', 'en']"
      ]
     },
     "execution_count": 11,
     "metadata": {},
     "output_type": "execute_result"
    }
   ],
   "source": [
    "%time bigram_phraser[sentences[78]]"
   ]
  },
  {
   "cell_type": "markdown",
   "id": "3e3e8412-962f-47f2-89cf-d02833978219",
   "metadata": {},
   "source": [
    "### Extraction des trigrams"
   ]
  },
  {
   "cell_type": "markdown",
   "id": "73b5f7e7-7262-4e51-b4af-c416f48b1fdf",
   "metadata": {},
   "source": [
    "Nous répétons l'opération en envoyant cette fois la liste de bigrams afin d'extraire les trigrams."
   ]
  },
  {
   "cell_type": "code",
   "execution_count": 12,
   "id": "fc4f9c26-27e5-4105-8ec5-7b0cbd6133c1",
   "metadata": {},
   "outputs": [],
   "source": [
    "trigram_phrases = Phrases(bigram_phraser[sentences])"
   ]
  },
  {
   "cell_type": "code",
   "execution_count": 13,
   "id": "d3d64f74-1b2a-4bd9-a82d-da29347d1252",
   "metadata": {},
   "outputs": [],
   "source": [
    "trigram_phraser = Phraser(phrases_model=trigram_phrases)"
   ]
  },
  {
   "cell_type": "markdown",
   "id": "a840927f-e794-40a0-9ddb-657811013f80",
   "metadata": {},
   "source": [
    "### Création d'un corpus d'unigrams, bigrams, trigrams"
   ]
  },
  {
   "cell_type": "code",
   "execution_count": 14,
   "id": "572d9cfb-7d02-4bee-95fe-46f455814023",
   "metadata": {},
   "outputs": [],
   "source": [
    "corpus = list(trigram_phraser[bigram_phraser[sentences]])"
   ]
  },
  {
   "cell_type": "code",
   "execution_count": 15,
   "id": "f69daaa2-d847-40cd-afc7-0cdaf5f86b39",
   "metadata": {},
   "outputs": [
    {
     "name": "stdout",
     "output_type": "stream",
     "text": [
      "[['art', '.'], ['74', '.'], ['--', 'subside', 'a', 'vathenee', 'royal', ':', '82', ',', '000_francs', '.'], ['cette', 'somme_represente', 'la', 'part_incombant', 'a', 'ia', 'ville', 'dans'], ['le', 'traitement', 'des', 'professeurs', ',', 'ainsi', 'que', 'le', 'montant', 'des'], ['menues_depenses', '.'], ['le', 'budget', 'presente', 'par', 'la', 'commission_administrative'], ['ainsi', 'que', 'le', 'compte', 'justifiant', 'l', \"'\", 'emploi', 'de', 'ces', 'fonds', ',', 'sont'], ['annuellement', 'soumis', 'a', 'l', \"'\", 'approbation', 'du', 'conseil_communal', '.'], ['art', '.'], ['75', '.'], ['--', 'loyer', 'de', 'locaux', ',', 'entretien', ',', 'contributions', 'et', 'assurance', ':'], ['29', ',', '750', 'francs', '.'], ['loyer', 'des', 'locaux', 'de', 'la', 'section_professionnelle', 'de', '1', 'athenee', ',', 'rue', 'du'], ['fr', '.'], ['19', ',', '700'], ['grand', '-', 'hospice'], ['.'], ['.'], ['.'], ['.'], ['.'], ['1', ',', '050'], ['contributions', 'et', 'assurance', '.'], ['.'], ['.'], ['.'], ['4', ',', '500'], ['loyer', 'de', 'la', 'maison_rue', 'des', 'grands_-_carmes', ',', '18'], ['300'], ['loyer', 'des', 'caves', ',', 'rue', 'des', 'grands_-_carmes'], ['175'], ['contributions', '.'], ['.'], ['.'], ['.'], ['1', ',', '500'], ['entretien', 'des', 'batiments', 'rue', 'du', 'grand', '-', 'hospice'], ['2', ',', '500'], ['entretien', 'rue', 'du', 'chene', 'et', 'rue', 'des', 'grands_-_carmes'], ['total', ',', 'fr', '.'], ['29', ',', '725'], ['art', '.'], ['70', '.'], ['--', 'bourses_affectees', 'a', 'l', \"'\", 'athenee_royal', '(_legs_diricq', ')', ':'], ['600', 'francs', '.'], ['*', 'voir', 'art', '.'], ['25', 'des', 'recettes_ordinaires', '.'], ['art', '.'], ['77', '.'], ['--', 'indemnite', 'de', 'logement', 'a', 'mm', '.'], ['les', 'cures', ':', '6', ',', '000_francs', '.'], ['une', 'indemnite', 'de', 'logement', 'de', '1', ',', '200', 'francs', 'est', 'payee'], ['annuellement', 'aux_cures', 'des', 'paroisses', 'suivantes_:', 'bon', '-', 'secours', ',', 'riches_-_claires', ',', 'minimes', ',', 'caudenberg', 'et', 'saintecatherine', '.'], ['art', '.'], ['78', '.'], ['--', 'indemnite', 'de', 'logement', 'au_desservant', 'de', 'l', \"'\", 'eglise', 'de'], ['saint_-_josse', '-_ten_-_noode', ':', '700', 'francs', '.'], ['cette', 'depense', 'a', 'ete', 'mise', 'a', 'charge', 'de', 'la', 'ville', 'par', 'une'], ['decision', 'de', 'la', 'deputation_permanente', ',', 'et', 'ce', 'par', 'le', 'motif'], ['qu', \"'\", 'une', 'partie', 'du_quartier_leopold', 'est', 'comprise', 'dans', 'la'], ['circonscription', 'de', 'cette', 'paroisse', '.'], ['art', '.'], ['79', '.'], ['--', 'indemnite', 'de', 'logement_aux_pasteurs', 'du_culte_protestant'], ['et', 'au', 'grand', '-_rabbin', ':', '4', ',', '800', 'francs', '.'], ['le', 'chiffre', 'de', '1882', 'est', 'maintenu', '.'], ['l', \"'\", 'indemnite', 'de', '1', ',', '200', 'francs', 'payee', 'a', 'm', '.', 'le', 'grand', '-_rabbin'], ['est', 'portee', 'en', 'recette', 'au', 'budget', 'de', 'la', 'synagogue', 'comme', 'loyer'], ['du', 'premier_etage', 'de', 'la', 'maison', 'consistoriale', '.'], ['--', '1102', '--'], ['art', '.'], ['80', '.'], ['--', 'subside', 'pour', 'l', \"'\", 'entretien', 'et', 'la', 'restauration', 'des', 'eglim'], ['et', 'des', 'temples', '57', ',', '500_francs', '.'], ['projet', 'de', 'repartition', 'du', 'credit', ':'], ['eglise', 'des', 'ss_.-', 'micliel', '-', 'el_-_gudule', '.'], ['construction', 'du', 'porche_vers', 'la', 'rue', 'du', 'bois_-_sauvage', ',', 'fr', '.'], ['restauration_eventuelle', 'de', 'certaines_parties', 'de', 'facades', 'en'], ['mauvais_etat'], ['.'], ['.'], ['.'], ['.'], ['.'], ['.'], ['.'], ['entretien', 'de', 'l', \"'\", 'escalier_exterieur', '.'], ['.'], ['.'], ['.'], ['.'], ['restauration_eventuelle', 'des', 'cheneaux', 'et', 'de', 'la', 'couverture'], ['en', 'ardoises'], ['10', ',', '000'], ['2', ',', '000'], ['1', ',', '000'], ['3', ',', '000'], ['eglise', 'de', 'notre_-_dame', 'de', 'la', 'chapelle', '.'], ['restauration', 'du', 'transept', 'vers', 'la', 'rue', 'du', 'saint_-_esprit']]\n"
     ]
    }
   ],
   "source": [
    "print(corpus[:100])"
   ]
  },
  {
   "cell_type": "markdown",
   "id": "0c003d11-c4dd-4269-9907-ce1fd39de61a",
   "metadata": {},
   "source": [
    "## Entraînement d'un modèle Word2Vec sur ce corpus"
   ]
  },
  {
   "cell_type": "code",
   "execution_count": 16,
   "id": "4f91c469-38b6-49d2-b2fd-a954d6904ebe",
   "metadata": {},
   "outputs": [
    {
     "name": "stdout",
     "output_type": "stream",
     "text": [
      "CPU times: user 41.3 s, sys: 215 ms, total: 41.5 s\n",
      "Wall time: 21.2 s\n"
     ]
    }
   ],
   "source": [
    "%%time\n",
    "model = Word2Vec(\n",
    "    corpus, # On passe le corpus de ngrams que nous venons de créer\n",
    "    vector_size=32, # Le nombre de dimensions dans lesquelles le contexte des mots devra être réduit, aka. vector_size\n",
    "    window=5, # La taille du \"contexte\", ici 5 mots avant et après le mot observé\n",
    "    min_count=5, # On ignore les mots qui n'apparaissent pas au moins 5 fois dans le corpus\n",
    "    workers=4, # Permet de paralléliser l'entraînement du modèle en 4 threads\n",
    "    epochs=5 # Nombre d'itérations du réseau de neurones sur le jeu de données pour ajuster les paramètres avec la descende de gradient, aka. epochs.\n",
    ")"
   ]
  },
  {
   "cell_type": "markdown",
   "id": "a9ab7b16-c7a1-4ba7-9c10-97a29f947fe7",
   "metadata": {},
   "source": [
    "### Sauvegarder le modèle dans un fichier"
   ]
  },
  {
   "cell_type": "code",
   "execution_count": 17,
   "id": "fcc5f1b3-c21b-4eb2-ad6e-25ed4062c755",
   "metadata": {},
   "outputs": [],
   "source": [
    "outfile = f\"../data/bulletins_1880_tp4.model\"\n",
    "model.save(outfile)"
   ]
  },
  {
   "cell_type": "markdown",
   "id": "043189f0-298c-4f6b-9f17-bfe1470c18e7",
   "metadata": {},
   "source": [
    "## Explorer le modèle"
   ]
  },
  {
   "cell_type": "markdown",
   "id": "18d7c5cd-82c1-4d22-bc19-83b589b44dcd",
   "metadata": {},
   "source": [
    "### Charger le modèle en mémoire"
   ]
  },
  {
   "cell_type": "code",
   "execution_count": 18,
   "id": "59bfd22f-1aae-4fe9-b345-2142b9af14ac",
   "metadata": {},
   "outputs": [],
   "source": [
    "model = Word2Vec.load(\"../data/bulletins_1880_tp4.model\")"
   ]
  },
  {
   "cell_type": "markdown",
   "id": "2cfb2231-006f-4d64-8be7-2677fe12c9ef",
   "metadata": {},
   "source": [
    "### Imprimer le vecteur d'un terme"
   ]
  },
  {
   "cell_type": "code",
   "execution_count": 19,
   "id": "b2f65ded-5aaa-4e4f-ab79-f4e29180ff54",
   "metadata": {},
   "outputs": [
    {
     "data": {
      "text/plain": [
       "array([ 0.17087047, -2.551908  ,  0.78166103,  0.9206635 ,  1.7238601 ,\n",
       "        0.85198015,  2.439297  , -1.1999629 ,  1.1384604 , -0.35282376,\n",
       "        0.47259858, -0.18319729, -0.19545233,  3.3343716 ,  0.634813  ,\n",
       "       -0.04328004, -4.195551  , -1.7860304 , -2.7397084 ,  0.59589237,\n",
       "       -3.7685313 ,  0.23774858,  1.3128002 ,  1.6910052 ,  3.8838584 ,\n",
       "       -3.397279  , -2.2818036 ,  2.9174223 , -0.15669665,  0.49481836,\n",
       "       -1.9808458 ,  2.1420782 ], dtype=float32)"
      ]
     },
     "execution_count": 19,
     "metadata": {},
     "output_type": "execute_result"
    }
   ],
   "source": [
    "model.wv[\"art\"]"
   ]
  },
  {
   "cell_type": "markdown",
   "id": "34f4172d-96a0-48c3-98aa-87ac6cd5ab40",
   "metadata": {},
   "source": [
    "### Calculer la similarité entre deux termes"
   ]
  },
  {
   "cell_type": "code",
   "execution_count": 20,
   "id": "e21f4701-cc94-4ae6-906c-be7492acdffe",
   "metadata": {},
   "outputs": [
    {
     "data": {
      "text/plain": [
       "0.017246462"
      ]
     },
     "execution_count": 20,
     "metadata": {},
     "output_type": "execute_result"
    }
   ],
   "source": [
    "model.wv.similarity(\"art\", \"moderne\")"
   ]
  },
  {
   "cell_type": "markdown",
   "id": "1ea0977a-76f7-4372-8a6a-869bbd420336",
   "metadata": {},
   "source": [
    "### Chercher les mots les plus proches d'un terme donné"
   ]
  },
  {
   "cell_type": "code",
   "execution_count": 21,
   "id": "9e7ba25f-fefc-4795-801b-985ac9bc3c8f",
   "metadata": {},
   "outputs": [
    {
     "data": {
      "text/plain": [
       "[('article', 0.7527716159820557),\n",
       " ('arrete_organique', 0.6500847339630127),\n",
       " ('annee_derniere', 0.6386935114860535),\n",
       " ('incident_est_clos', 0.6297671794891357),\n",
       " ('autorite_superieure', 0.62404465675354),\n",
       " ('exercice', 0.6240027546882629),\n",
       " ('exercice_1888', 0.6220220327377319),\n",
       " ('exercice_1887', 0.6206351518630981),\n",
       " ('enseignement_primaire', 0.6098679304122925),\n",
       " ('honorable_echevin_du_contentieux', 0.604128360748291)]"
      ]
     },
     "execution_count": 21,
     "metadata": {},
     "output_type": "execute_result"
    }
   ],
   "source": [
    "model.wv.most_similar(\"art\", topn=10)"
   ]
  },
  {
   "cell_type": "markdown",
   "id": "08df8e76-42b6-4962-b32a-4cf703f98b18",
   "metadata": {},
   "source": [
    "### Faire des recherches complexes à travers l'espace vectoriel"
   ]
  },
  {
   "cell_type": "code",
   "execution_count": 22,
   "id": "93400d98-9b8f-4efc-a123-4536d8e58f54",
   "metadata": {},
   "outputs": [
    {
     "name": "stdout",
     "output_type": "stream",
     "text": [
      "[('echevin_andre', 0.6900877952575684), ('octroi', 0.6778690814971924), ('echevin_delecosse', 0.6682404279708862), ('allocation_budgetaire', 0.6629053354263306), ('echevin_janssen', 0.6605156660079956), ('enseignement_moyen', 0.6584456562995911), ('article', 0.6581102609634399), ('echevin_buis', 0.6506021022796631), ('orphelinat', 0.6486164331436157), ('administration_centrale', 0.6438518166542053)]\n"
     ]
    }
   ],
   "source": [
    "print(model.wv.most_similar(positive=['art', 'etranger'], negative=['belgique']))"
   ]
  },
  {
   "cell_type": "code",
   "execution_count": null,
   "id": "cad51363-23f0-469b-abb9-99d5d1875be8",
   "metadata": {},
   "outputs": [],
   "source": []
  },
  {
   "cell_type": "markdown",
   "id": "c5266b67-ba42-407b-bba6-2144e686ef4d",
   "metadata": {},
   "source": [
    "# Word Embeddings : le modèle Word2Vec de la décennie 1960"
   ]
  },
  {
   "cell_type": "markdown",
   "id": "5a47df74-0f98-4724-8a91-96f69993c574",
   "metadata": {},
   "source": [
    "## Chargement et traitement des phrases du corpus"
   ]
  },
  {
   "cell_type": "markdown",
   "id": "23dc0e99-9f57-471e-b353-6f5a27bd8190",
   "metadata": {},
   "source": [
    "### Création d'un objet qui *streame* les lignes d'un fichier pour économiser de la RAM"
   ]
  },
  {
   "cell_type": "code",
   "execution_count": 24,
   "id": "63720875-3a84-48e7-9fff-a247e549cf6d",
   "metadata": {},
   "outputs": [],
   "source": [
    "class MySentences(object):\n",
    "    \"\"\"Tokenize and Lemmatize sentences\"\"\"\n",
    "    def __init__(self, filename):\n",
    "        self.filename = filename\n",
    "\n",
    "    def __iter__(self):\n",
    "        for line in open(self.filename, encoding='utf-8', errors=\"backslashreplace\"):\n",
    "            yield [unidecode(w.lower()) for w in wordpunct_tokenize(line)]"
   ]
  },
  {
   "cell_type": "code",
   "execution_count": 25,
   "id": "75051949-43af-4bdb-838e-07c1092c20d2",
   "metadata": {},
   "outputs": [],
   "source": [
    "infile = f\"../data/sents_1960_tp4.txt\"\n",
    "sentences = MySentences(infile)\n",
    "\n",
    "sentences = [sentence for sentence in sentences]"
   ]
  },
  {
   "cell_type": "markdown",
   "id": "d3d4c6ea-732b-4047-877b-ddc6048cb4dd",
   "metadata": {},
   "source": [
    "### Détection des bigrams"
   ]
  },
  {
   "cell_type": "code",
   "execution_count": 26,
   "id": "59fb3cad-c933-40b0-aa66-4cbf46c73848",
   "metadata": {},
   "outputs": [],
   "source": [
    "bigram_phrases = Phrases(sentences)"
   ]
  },
  {
   "cell_type": "code",
   "execution_count": 27,
   "id": "b1a8d9a7-4a15-47fd-b886-0c3ca854a0c6",
   "metadata": {},
   "outputs": [
    {
     "data": {
      "text/plain": [
       "dict"
      ]
     },
     "execution_count": 27,
     "metadata": {},
     "output_type": "execute_result"
    }
   ],
   "source": [
    "type(bigram_phrases.vocab)"
   ]
  },
  {
   "cell_type": "markdown",
   "id": "e03ac565-2798-4762-8909-c984818faa35",
   "metadata": {},
   "source": [
    "Il contient de nombreuses clés qui sont autant de termes observés dans le corpus"
   ]
  },
  {
   "cell_type": "code",
   "execution_count": 28,
   "id": "b2d097d4-4410-4e0d-a906-4eabb7c04173",
   "metadata": {},
   "outputs": [
    {
     "data": {
      "text/plain": [
       "544882"
      ]
     },
     "execution_count": 28,
     "metadata": {},
     "output_type": "execute_result"
    }
   ],
   "source": [
    "len(bigram_phrases.vocab.keys())"
   ]
  },
  {
   "cell_type": "markdown",
   "id": "ee8265c0-4eec-4b76-8341-af6015f9fd09",
   "metadata": {},
   "source": [
    "Prenons une clé au hasard :"
   ]
  },
  {
   "cell_type": "code",
   "execution_count": 29,
   "id": "2a1a345d-4d5f-4561-945c-9104c9b9897f",
   "metadata": {},
   "outputs": [
    {
     "name": "stdout",
     "output_type": "stream",
     "text": [
      "e_.\n"
     ]
    }
   ],
   "source": [
    "key_ = list(bigram_phrases.vocab.keys())[144]\n",
    "print(key_)"
   ]
  },
  {
   "cell_type": "markdown",
   "id": "f98d576a-1a59-43f4-87ee-723a0068b648",
   "metadata": {},
   "source": [
    "Le dictionnaire indique le score de cette coocurrence :"
   ]
  },
  {
   "cell_type": "code",
   "execution_count": 30,
   "id": "6f2ec3b2-4b08-4036-ad33-e9603c2a5f12",
   "metadata": {},
   "outputs": [
    {
     "data": {
      "text/plain": [
       "4627"
      ]
     },
     "execution_count": 30,
     "metadata": {},
     "output_type": "execute_result"
    }
   ],
   "source": [
    "bigram_phrases.vocab[key_]"
   ]
  },
  {
   "cell_type": "markdown",
   "id": "d24395af-6d06-445a-8b6b-bd95d0f43e67",
   "metadata": {},
   "source": [
    "Lorsque l'instance de `Phrases` a été entraînée, elle peut concaténer les bigrams dans les phrases lorsque c'est pertinent."
   ]
  },
  {
   "cell_type": "code",
   "execution_count": 31,
   "id": "21d77f1b-8ac2-49ef-9e39-1834f3f710f8",
   "metadata": {},
   "outputs": [
    {
     "name": "stdout",
     "output_type": "stream",
     "text": [
      "CPU times: user 45 µs, sys: 1 µs, total: 46 µs\n",
      "Wall time: 50.8 µs\n"
     ]
    },
    {
     "data": {
      "text/plain": [
       "['molenbeek', ',', 'rue_blaes', ',']"
      ]
     },
     "execution_count": 31,
     "metadata": {},
     "output_type": "execute_result"
    }
   ],
   "source": [
    "%time bigram_phrases[sentences[78]]"
   ]
  },
  {
   "cell_type": "markdown",
   "id": "63c40b36-fbc5-4820-951a-1f6a642f748c",
   "metadata": {},
   "source": [
    "### Conversion des `Phrases` en objet `Phraser`\n",
    "\n",
    "`Phraser` est un alias pour `gensim.models.phrases.FrozenPhrases`, voir ici https://radimrehurek.com/gensim/models/phrases.html.\n",
    "\n",
    "Le `Phraser` est une version *light* du `Phrases`, plus optimale pour transformer les phrases en concaténant les bigrams."
   ]
  },
  {
   "cell_type": "code",
   "execution_count": 32,
   "id": "55f49741-04eb-49f2-a187-3f2e092e034a",
   "metadata": {},
   "outputs": [],
   "source": [
    "bigram_phraser = Phraser(phrases_model=bigram_phrases)"
   ]
  },
  {
   "cell_type": "markdown",
   "id": "24387aca-0717-4c17-9a43-c31dc60157fb",
   "metadata": {},
   "source": [
    "Le `Phraser` est un objet qui convertit certains unigrams d'une liste en bigrams lorsqu'ils ont été identifiés comme pertinents."
   ]
  },
  {
   "cell_type": "code",
   "execution_count": 33,
   "id": "fdf7a77d-1cfc-42e9-ae46-497704c7dfba",
   "metadata": {},
   "outputs": [
    {
     "name": "stdout",
     "output_type": "stream",
     "text": [
      "CPU times: user 28 µs, sys: 0 ns, total: 28 µs\n",
      "Wall time: 31.9 µs\n"
     ]
    },
    {
     "data": {
      "text/plain": [
       "['molenbeek', ',', 'rue_blaes', ',']"
      ]
     },
     "execution_count": 33,
     "metadata": {},
     "output_type": "execute_result"
    }
   ],
   "source": [
    "%time bigram_phraser[sentences[78]]"
   ]
  },
  {
   "cell_type": "markdown",
   "id": "b31d4d0c-65b8-415c-ab33-1dd0484b369b",
   "metadata": {},
   "source": [
    "### Extraction des trigrams"
   ]
  },
  {
   "cell_type": "markdown",
   "id": "5a7415bf-0c23-4408-b6b5-45ad70870451",
   "metadata": {},
   "source": [
    "Nous répétons l'opération en envoyant cette fois la liste de bigrams afin d'extraire les trigrams."
   ]
  },
  {
   "cell_type": "code",
   "execution_count": 34,
   "id": "012b82ab-2e54-4004-ab12-bea7a1e4bff5",
   "metadata": {},
   "outputs": [],
   "source": [
    "trigram_phrases = Phrases(bigram_phraser[sentences])"
   ]
  },
  {
   "cell_type": "code",
   "execution_count": 35,
   "id": "456d6789-14c7-4f93-b00e-81133eb2d42d",
   "metadata": {},
   "outputs": [],
   "source": [
    "trigram_phraser = Phraser(phrases_model=trigram_phrases)"
   ]
  },
  {
   "cell_type": "markdown",
   "id": "3ca6a786-d422-4248-ade7-d8a111f4b9ea",
   "metadata": {},
   "source": [
    "### Création d'un corpus d'unigrams, bigrams, trigrams"
   ]
  },
  {
   "cell_type": "code",
   "execution_count": 36,
   "id": "717953c0-2c23-456a-b311-eea4689e7c2c",
   "metadata": {},
   "outputs": [],
   "source": [
    "corpus = list(trigram_phraser[bigram_phraser[sentences]])"
   ]
  },
  {
   "cell_type": "code",
   "execution_count": 37,
   "id": "9691240e-f033-4de1-8655-836202c3dc66",
   "metadata": {},
   "outputs": [
    {
     "name": "stdout",
     "output_type": "stream",
     "text": [
      "[['--'], ['301'], ['--'], ['5', '.'], ['--', 's', 'e', 'r', 'v', 'i', 'c', 'e', 'a', 'd', 'm', 'i', 'n', 'i', 's', 't', 'r', 'a', 't', 'i', 'f'], ['51', '.'], ['--'], ['administration', '.'], ['d', 'u', 'r', 'a', 'n', 't', 'l', \"'\", 'annee', '1960', ',', 'i', 'l', 'a', 'ete_procede'], ['1', '3', '.'], ['3', '9', '9', 'pieces', 'a', 'l', \"'\", 'i', 'n', 'd', 'i', 'c', 'a', 't', 'e', 'u', 'r', '.'], ['a', 'l', \"'\", 'inscription', 'de'], ['i', 'l', 'a', 'ete_procede', 'a', '3', '3', 'adjudications_publiques', ',', '107', 'adjudications_restreintes', ',', 'ainsi', 'q_u', \"'\", 'a', '531', 'demandes', 'de', 'prix', '.'], ['d', \"'\", 'a', 'u', 't', 'r', 'e', 'part', ',', 'i', 'l', 'a', 'ete_emis', '1', '.', '551', 'bons', 'de', 'commande', 'au', 'secteur_prive', 'et', '197', 'bons', 'de', 's', 'e', 'r', 'v', 'i', 'c', 'e', '.'], ['il', 'a', 'e', 't', 'e', 'o', 'u', 'v', 'e', 'r', 't', '134', 'dossiers', 'relatifs', 'a', 'des', 'accidents', 'interessant', 'le', 's', 'e', 'r', 'v', 'i', 'c', 'e', ',', 'dont', '113', 'pour', 'accidents', 'de', 'roulage', 'qui', 'ont', 'occasionne', 'des', 'degats', 'au', 'materiel', 'd', \"'\", 'eclairage_public', ',', 'pour', 'une'], ['s', 'o', 'm', 'm', 'e', 'totale', 'de', '3', '6', '5', '.'], ['4', '2', '1', 'francs', ',', 'sur', 'laquelle', 'un', 'montant', 'de'], ['2', '6', '5', '.'], ['3', '4', '9', 'francs', 'a', 'pu_etre', 'recouvre', 'a', 'titre', 'd', \"'\", 'indemnisation', '.'], ['e', 'n'], ['outre', ',', '9', 'accidents', 'consistent', 'en', 'degats', 'a', 'des', 'canalisations', 'ou', 'a'], ['du', 'materiel_roulant', 'et', 'autre', ',', 'pour', 'une_somme', 'totale', 'de'], ['2', '0', '.'], ['9', '4', '0_francs', ',', 'sur', 'laquelle', 'un', 'montant', 'de', '6', '.', '244', 'francs', 'a', 'ete'], ['recouvre', '.'], ['l', 'e', 's', '12', 'autres', 'accidents', 'sont', 'de', 'natures', 'diverses', '(', 'dommage', 'a'], ['un', 'tiers', ',', 'accident', 's', 'u', 'r', 'v', 'e', 'n', 'u', 'a', 'un', 'membre', 'du', 'personnel', ',', 'etc', '.'], [').'], ['toutes', 'les', 'questions_relatives', 'au', 'personnel', 'sont', 'centralisees'], ['et', 'confiees', 'a', 'un', 'bureau', 'u', 'n', 'i', 'q_u', 'e', '.'], ['l', 'e', 's', 'accidents', 'de', 'travail', 'ont_ete', 'au', 'nombre', 'de', '65', ',', 'dont', '13'], ['ont', 'entraine', 'une', 'incapacite', 'temporaire', '.'], ['e', 'n', 'outre', ',', '32', 'ouvriers'], ['ont_recu', 'des', 'soins', 'au', 'local', 'de', 'secours', '.'], ['52', '.'], ['--'], ['comptabilite', '.'], ['a', 'u', 'c', 'u', 'n', 'fait', 'nouveau', 'n', \"'\", 'est_apparu', 'dans', 'la', 'gestion', 'de', 'la', 'comptabilite', 'de', 'la', 'regie', ',', 'depuis', 'l', \"'\", 'instauration', 'de', 'la', 'mecanisation'], ['et', 'la', 'mise_en_vigueur', 'du', 'nouveau', 'plan', 'comptable', 'etabli', 'conformement_aux_instructions', 'du', 'ministere', 'de', 'l', \"'\", 'interieur', '.'], ['l', \"'\", 'activite', 'de', 'la', 'comptabilite', 'a', 'comporte', ',', 'pour', 'l', \"'\", 'exercice', '1960', ','], ['outre', 'la', 'tenue', 'des', 'ecritures', 'comptables', 'et', 'la', 'presentation', 'des'], ['comptes', 'et', 'budgets', ',', 'la', 'liquidation', 'de', '2', '.'], ['9', '9', '2', 'factures', 'ou', 'dossiers', ','], ['le', 'calcul', 'de', '8', '7', '6', 'devis', 'ainsi_que', 'tous_les', 'travaux', 'relevant', 'de'], ['--'], ['302'], ['--'], ['cette', 'activite', 'tels', 'q_u', 'e', 'l', \"'\", 'e', 't', 'a', 'b', 'l', 'i', 's', 's', 'e', 'm', 'e', 'n', 't', 'd', 'e', 's', 'e', 't', 'a', 't', 's', 'de', 's', 'a', 'l', 'a', 'i', 'r', 'e', 's', ',', 'des'], ['r', 'e', 'l', 'e', 'v', 'e', 's', 'de', 'c', 'o', 'm', 'p', 't', 'e', ',', 'o', 'r', 'd', 'o', 'n', 'n', 'a', 'n', 'c', 'e', 's', 'de', 'r', 'e', 'c', 'o', 'u', 'v', 'r', 'e', 'm', 'e', 'n', 't', ','], ['statistiques', ','], ['p', 'r', 'i', 'x', 'de', 'r', 'e', 'v', 'i', 'e', 'n', 't', ',', 'e', 't', 'c', '.'], ['6', '.'], ['--', 'e', 'c', 'l', 'a', 'i', 'r', 'a', 'g', 'e', 'p', 'u', 'b', 'l', 'i', 'c'], ['les'], ['installations', 'd', \"'\", 'eclairage'], ['public'], ['comportent'], ['une'], ['puis', '-'], ['s', 'a', 'n', 'c', 'e', 'i', 'n', 's', 't', 'a', 'l', 'l', 'e', 'e', 'de', '2', '.'], ['3', '2', '5', 'k', 'w', '.'], ['e', 'c', 'l', 'a', 'i', 'r', 'a', 'n', 't', '1', '4', '2', '.'], ['9', '8', '7', 'm', 'e', 't', 'r', 'e', 's', 'd', 'e', 'v', 'o', 'i', 'e', 's'], ['p', 'u', 'b', 'l', 'i', 'q_u', 'e', 's', 'et', 'c', 'o', 'n', 's', 'o', 'm', 'm', 'a', 'n', 't', '7', '.'], ['1', '0', '9', '.'], ['8', '9', '1'], ['k', 'w', 'h', ',', 'pour', '9', '.'], ['3', '8', '0'], ['points'], ['lumineux', '.'], ['au'], ['c', 'o', 'u', 'r', 's', 'de', 'l', \"'\", 'a', 'n', 'n', 'e', 'e'], ['s', \"'\", 'est', 'consacree'], ['1', '9_6', '0', ',', 'l', 'a', 's', 'e', 'c', 't', 'i', 'o', 'n', 'de', 'l', \"'\", 'e', 'c', 'l', 'a', 'i', 'r', 'a', 'g', 'e', 'p', 'u', 'b', 'l', 'i', 'c'], ['a', 'remplacer', 'd', \"'\", 'anciennes'], ['installations', 'a', 'incan', '-'], ['d', 'e', 's', 'c', 'e', 'n', 'c', 'e', 'p', 'a', 'r', 'des', 'i', 'n', 's', 't', 'a', 'l', 'l', 'a', 't', 'i', 'o', 'n', 's', 'a', 'b', 'a', 'l', 'l', 'o', 'n', 's', 'o', 'u', 'a', 't', 'u', 'b', 'e', 's', 'f', 'l', 'u', 'o', 'r', 'e', 's', 'c', 'e', 'n', 't', 's', ','], ['n', 'o', 't', 'a', 'm', 'm', 'e', 'n', 't', 'l', 'a', 'p', 'l', 'a', 'c', 'e', 'd', 'e', 's', 'p', 'a', 'l', 'a', 'i', 's', 'et', 'e', 'n', 'v', 'i', 'r', 'o', 'n', 's', ',', 'l', 'e', 'q_u', 'a', 'r', 't', 'i', 'e', 'r', 'd', 'u', 'p', 'e', 't', 'i', 't'], ['molenbeek', ',', 'rue_blaes', ','], ['les'], ['1', ')'], ['nouveau', 'marche', 'aux', 'g', 'r', 'a', 'i', 'n', 's', ','], ['installations', 'suivantes', 'ont_ete', 'm', 'o', 'n', 't', 'e', 'e', 's'], ['installations'], ['nouvelles'], ['ou'], ['etc_..'], ['remaniees', ':'], ['i960', ':'], ['a', ')', 'a', 'v', 'e', 'n', 'u', 'e', 'de', 'w', 'a', 't', 'e', 'r', 'm', 'a', 'e', 'l', '--', 'a', 'v', 'e', 'n', 'u', 'e', 'de', 'l', 'a', 's', 'a', 'p', 'i', 'n', 'i', 'e', 'r', 'e', '--', 'r', 'u', 'e', 'de'], ['l', 'a', 'e', 'k', 'e', 'n', '--', 'q_u', 'a', 'i', 'au', 'f', 'o', 'i', 'n', '--', 'q_u', 'a', 'i', 'au', 'b', 'o', 'i', 's', 'a', 'b', 'r', 'u', 'l', 'e', 'r', '--', 'r', 'u', 'e', 'b', 'l', 'a', 'e', 's'], ['--', 'r', 'u', 'e', 'd', \"'\", 'e', 'g', 'm', 'o', 'n', 't', '--', 'r', 'u', 'e', 'de', 'l', 'a', 'l', 'o', 'i', '--', 'r', 'u', 'e', 's', 'a', 'i', 'n', 't', 'e', '-', 'c', 'a', 't', 'h', 'e', 'r', 'i', 'n', 'e', '--'], ['r', 'u', 'e', 'de', 'l', 'a', 'r', 'e', 'g', 'e', 'n', 'c', 'e', '--', 'a', 'v', 'e', 'n', 'u', 'e', 'de', 'd', 'i', 'a', 'n', 'e', '--', 'a', 'v', 'e', 'n', 'u', 'e', 'd', 'u', 'p', 'a', 'n', 'o', 'rama', '--', 'place', 'des', 'a', 'r', 'm', 'a', 't', 'e', 'u', 'r', 's', '--', 'r', 'u', 'e', 'b', 'e', 'y', 'a', 'e', 'r', 't', '--', 'c', 'o', 'u', 'd', 'e', 'n', 'b', 'e', 'r', 'g', '--'], ['place', 'du', 'n', 'o', 'u', 'v', 'e', 'a', 'u', 'm', 'a', 'r', 'c', 'h', 'e', 'aux', 'g', 'r', 'a', 'i', 'n', 's', ';'], ['b', ')', 'illumination', 'monument', 'c', 'a', 'r', 'd', 'i', 'n', 'a', 'l', 'm', 'e', 'r', 'c', 'i', 'e', 'r', 'a', 'l', \"'\", 'eglise', 'saintegudule', '.'], ['i', 'l', 'l', 'u', 'm', 'i', 'n', 'a', 't', 'i', 'o', 'n', 'statuettes', 's', 'q_u', 'a', 'r', 'e', 'd', 'u', 'p', 'e', 't', 'i', 't', 's', 'a', 'b', 'l', 'o', 'n', '.'], ['2', ')', 'renforcements'], [':'], ['c', 'a', 'r', 'r', 'e', 'f', 'o', 'u', 'r', 'rzvenstein', '--', 'cantersteen', '--', 'c', 'o', 'l', 'o', 'n', 'i', 'e', 's', '--', 'rue', 'des'], ['q_u', 'a', 't', 'r', 'e', '-', 'b', 'r', 'a', 's', '--', 'rue', 'du', 'g', 'r', 'a', 'n', 'd', 'c', 'e', 'r', 'f', '--', 'rue', 'aux', 'l', 'a', 'i', 'n', 'e', 's', '--', 'rue']]\n"
     ]
    }
   ],
   "source": [
    "print(corpus[:100])"
   ]
  },
  {
   "cell_type": "markdown",
   "id": "566d96ce-4a46-4b8d-b029-8a76b1ad0a07",
   "metadata": {},
   "source": [
    "## Entrainement d'un modèle Word2Vec sur ce corpus"
   ]
  },
  {
   "cell_type": "code",
   "execution_count": 38,
   "id": "6465c490-4a95-4512-a8ad-1a7800ab126c",
   "metadata": {},
   "outputs": [
    {
     "name": "stdout",
     "output_type": "stream",
     "text": [
      "CPU times: user 31.7 s, sys: 180 ms, total: 31.9 s\n",
      "Wall time: 17.2 s\n"
     ]
    }
   ],
   "source": [
    "%%time\n",
    "model = Word2Vec(\n",
    "    corpus, # On passe le corpus de ngrams que nous venons de créer\n",
    "    vector_size=32, # Le nombre de dimensions dans lesquelles le contexte des mots devra être réduit, aka. vector_size\n",
    "    window=5, # La taille du \"contexte\", ici 5 mots avant et après le mot observé\n",
    "    min_count=5, # On ignore les mots qui n'apparaissent pas au moins 5 fois dans le corpus\n",
    "    workers=4, # Permet de paralléliser l'entraînement du modèle en 4 threads\n",
    "    epochs=5 # Nombre d'itérations du réseau de neurones sur le jeu de données pour ajuster les paramètres avec la descende de gradient, aka. epochs.\n",
    ")"
   ]
  },
  {
   "cell_type": "markdown",
   "id": "87ae69ab-5842-47ee-94ba-98d2402241cc",
   "metadata": {},
   "source": [
    "### Sauvegarder le modèle dans un fichier"
   ]
  },
  {
   "cell_type": "code",
   "execution_count": 39,
   "id": "c7c94631-427e-4ec0-90cb-4a0ac3ca6d33",
   "metadata": {},
   "outputs": [],
   "source": [
    "outfile = f\"../data/bulletins_1960_tp4.model\"\n",
    "model.save(outfile)"
   ]
  },
  {
   "cell_type": "markdown",
   "id": "19b312d6-0e8c-41c5-a85c-51bbb32deee3",
   "metadata": {},
   "source": [
    "## Explorer le modèle"
   ]
  },
  {
   "cell_type": "markdown",
   "id": "a4274014-78de-46b9-9cac-9c95d2a9ac3c",
   "metadata": {},
   "source": [
    "### Charger le modèle en mémoire"
   ]
  },
  {
   "cell_type": "code",
   "execution_count": 40,
   "id": "e11bcda0-c967-42ea-ac4c-51b4cb4db9c8",
   "metadata": {},
   "outputs": [],
   "source": [
    "model = Word2Vec.load(\"../data/bulletins_1960_tp4.model\")"
   ]
  },
  {
   "cell_type": "markdown",
   "id": "adaeb6c3-6740-4fde-b0f8-5f7d04049996",
   "metadata": {},
   "source": [
    "### Imprimer le vecteur d'un terme"
   ]
  },
  {
   "cell_type": "code",
   "execution_count": 41,
   "id": "ec77d67b-daf3-43b0-991c-11c2d0eee5b8",
   "metadata": {},
   "outputs": [
    {
     "data": {
      "text/plain": [
       "array([-2.6597617 , -1.241102  , -0.27512133,  0.69093704, -0.30084085,\n",
       "        0.26886144, -1.3192028 , -0.5619176 ,  0.59281737, -0.48175868,\n",
       "       -2.026145  , -1.114153  , -1.3347768 ,  0.28322062,  0.28051662,\n",
       "       -0.27948004,  0.6806517 , -0.54023886, -0.93341136,  2.771631  ,\n",
       "       -0.11169828,  1.3298135 , -0.931539  , -0.77403677,  1.2504743 ,\n",
       "        0.21471673, -4.509209  , -0.71215755,  0.62367254, -0.2478028 ,\n",
       "       -0.2937888 ,  0.96747744], dtype=float32)"
      ]
     },
     "execution_count": 41,
     "metadata": {},
     "output_type": "execute_result"
    }
   ],
   "source": [
    "model.wv[\"art\"]"
   ]
  },
  {
   "cell_type": "markdown",
   "id": "8b01c610-da05-49d9-bba8-2215ed937895",
   "metadata": {},
   "source": [
    "### Calculer la similarité entre deux termes"
   ]
  },
  {
   "cell_type": "code",
   "execution_count": 42,
   "id": "145aff1d-f770-488c-8b5c-80a31fd9261c",
   "metadata": {},
   "outputs": [
    {
     "data": {
      "text/plain": [
       "0.010911413"
      ]
     },
     "execution_count": 42,
     "metadata": {},
     "output_type": "execute_result"
    }
   ],
   "source": [
    "model.wv.similarity(\"art\", \"moderne\")"
   ]
  },
  {
   "cell_type": "markdown",
   "id": "3a0d9024-e1ed-43b8-9623-583686f1c0c6",
   "metadata": {},
   "source": [
    "### Chercher les mots les plus proches d'un terme donné"
   ]
  },
  {
   "cell_type": "code",
   "execution_count": 43,
   "id": "3433d5a2-5620-4d49-bba5-fc450db6d06c",
   "metadata": {},
   "outputs": [
    {
     "data": {
      "text/plain": [
       "[('etabli_selon', 0.6753695011138916),\n",
       " ('auteur_.)', 0.6619933843612671),\n",
       " ('autori', 0.6449148058891296),\n",
       " ('in_miljoene', 0.6109183430671692),\n",
       " ('institut_bordet', 0.6031122803688049),\n",
       " ('paulette', 0.6023857593536377),\n",
       " ('equilibre_normal', 0.6007688641548157),\n",
       " ('(tm)),_professeur', 0.593051016330719),\n",
       " ('hopital_brugmann', 0.5928184986114502),\n",
       " ('soir_).', 0.5882861018180847)]"
      ]
     },
     "execution_count": 43,
     "metadata": {},
     "output_type": "execute_result"
    }
   ],
   "source": [
    "model.wv.most_similar(\"art\", topn=10)"
   ]
  },
  {
   "cell_type": "markdown",
   "id": "a0f9ee2a-d9c1-4261-a755-72b4e99c86fa",
   "metadata": {},
   "source": [
    "### Faire des recherches complexes à travers l'espace vectoriel"
   ]
  },
  {
   "cell_type": "code",
   "execution_count": 44,
   "id": "48647b4f-95aa-416d-bf99-f181bf1ab4cc",
   "metadata": {},
   "outputs": [
    {
     "name": "stdout",
     "output_type": "stream",
     "text": [
      "[('echevin_vanden_boeynants', 0.667678952217102), ('athenee', 0.6507083177566528), ('echevin_van_leynseele', 0.647958517074585), ('exterieur', 0.6436848044395447), ('auteur_.)', 0.6366246342658997), ('echevin_van_halteren', 0.6340541243553162), ('autori', 0.6335548162460327), ('echevin_morelle', 0.6251212358474731), ('etabli_selon', 0.614898681640625), ('institut_bordet', 0.6016395092010498)]\n"
     ]
    }
   ],
   "source": [
    "print(model.wv.most_similar(positive=['art', 'etranger'], negative=['belgique']))"
   ]
  }
 ],
 "metadata": {
  "kernelspec": {
   "display_name": "Python 3 (ipykernel)",
   "language": "python",
   "name": "python3"
  },
  "language_info": {
   "codemirror_mode": {
    "name": "ipython",
    "version": 3
   },
   "file_extension": ".py",
   "mimetype": "text/x-python",
   "name": "python",
   "nbconvert_exporter": "python",
   "pygments_lexer": "ipython3",
   "version": "3.9.7"
  }
 },
 "nbformat": 4,
 "nbformat_minor": 5
}
