{
 "cells": [
  {
   "cell_type": "markdown",
   "id": "ad25d79a-5fac-4671-9c4e-f6ea8ea2bdae",
   "metadata": {},
   "source": [
    "# TP4 Choix de Thématique - Sofia Valma-Rantisits"
   ]
  },
  {
   "cell_type": "markdown",
   "id": "a2ce055c-2a42-4fd6-9ef6-9496cadd18a4",
   "metadata": {},
   "source": [
    "## Imports"
   ]
  },
  {
   "cell_type": "code",
   "execution_count": 152,
   "id": "6e4971a5-85a7-4153-9b59-1a38154f08d6",
   "metadata": {},
   "outputs": [],
   "source": [
    "import os\n",
    "import textract"
   ]
  },
  {
   "cell_type": "markdown",
   "id": "54056d2e-1df4-4260-8282-80ee003cb7d6",
   "metadata": {},
   "source": [
    "### Compter le nombre de mots dans l'ensemble du corpus"
   ]
  },
  {
   "cell_type": "code",
   "execution_count": 153,
   "id": "53177414-7fdd-42e2-a396-fd22e7344f85",
   "metadata": {
    "tags": []
   },
   "outputs": [
    {
     "name": "stdout",
     "output_type": "stream",
     "text": [
      " 20129954  93166932 460921664 ../data/all.txt\n"
     ]
    }
   ],
   "source": [
    "# Dans l'ordre : le nombre de lignes, de mots, d'octets.\n",
    "!wc ../data/all.txt"
   ]
  },
  {
   "cell_type": "markdown",
   "id": "8d961227-03d3-4d20-a73e-c04be08a7593",
   "metadata": {
    "tags": []
   },
   "source": [
    "## Choix d'une thématique traitée lors de conseils communaux de la Ville de Bruxelles avec rapports annuels _RptAn_ + Mots freq"
   ]
  },
  {
   "cell_type": "code",
   "execution_count": 157,
   "id": "bfb8eb7e-4354-4d5e-bf81-b8530ea3cde8",
   "metadata": {},
   "outputs": [
    {
     "name": "stdout",
     "output_type": "stream",
     "text": [
      "2690 documents sont des bulletins et 138 documents sont des rapports annuels\n"
     ]
    }
   ],
   "source": [
    "nb_rap = count_tomes['RptAn']\n",
    "print(f\"{len(files)-nb_rap-1} documents sont des bulletins et {nb_rap} documents sont des rapports annuels\")"
   ]
  },
  {
   "cell_type": "code",
   "execution_count": 158,
   "id": "fba00f36-1736-468b-9cfa-4830630c8d59",
   "metadata": {},
   "outputs": [],
   "source": [
    "# Lister les Fichiers\n",
    "data_path = \"../data/txt/\"\n",
    "files = os.listdir(data_path)"
   ]
  },
  {
   "cell_type": "code",
   "execution_count": 159,
   "id": "5e55f788-f408-4d4e-b78d-35fe8a9d65e8",
   "metadata": {},
   "outputs": [],
   "source": [
    "ext = [\"RptAn_Part_1.txt\", \"RptAn_Part_2.txt\", \"RptAn_Part_3.txt\", \"RptAn_Part_4.txt\", \"RptAn_Part_5.txt\"\n",
    "       \"RptAn_Part_6.txt\", \"RptAn_Part_7.txt\", \"RptAn_Part_8.txt\", \"RptAn_Part_9.txt\"]"
   ]
  },
  {
   "cell_type": "code",
   "execution_count": 160,
   "id": "4f087ed7-796d-4288-a436-b79fe1bcea68",
   "metadata": {},
   "outputs": [
    {
     "data": {
      "text/plain": [
       "138"
      ]
     },
     "execution_count": 160,
     "metadata": {},
     "output_type": "execute_result"
    }
   ],
   "source": [
    "# Enlever les fichiers qui ne contiennent pas RptAn\n",
    "bxl_files = [f for f in files if f.endswith(tuple(ext))]\n",
    "len(bxl_files)"
   ]
  },
  {
   "cell_type": "code",
   "execution_count": 161,
   "id": "c433b1ff-3e85-4544-b10d-3effebeeea3c",
   "metadata": {},
   "outputs": [
    {
     "data": {
      "text/plain": [
       "['Bxl_1961_Tome_RptAn_Part_4.txt',\n",
       " 'Bxl_1976_Tome_RptAn_Part_3.txt',\n",
       " 'Bxl_1972_Tome_RptAn_Part_4.txt',\n",
       " 'Bxl_1970_Tome_RptAn_Part_1.txt',\n",
       " 'Bxl_1973_Tome_RptAn_Part_3.txt',\n",
       " 'Bxl_1969_Tome_RptAn_Part_1.txt',\n",
       " 'Lkn_1882_Tome_RptAn_Part_1.txt',\n",
       " 'Lkn_1899_Tome_RptAn_Part_2.txt',\n",
       " 'Lkn_1874_Tome_RptAn_Part_9.txt',\n",
       " 'Lkn_1894_Tome_RptAn_Part_1.txt',\n",
       " 'Bxl_1962_Tome_RptAn_Part_8.txt',\n",
       " 'Lkn_1901_Tome_RptAn_Part_3.txt',\n",
       " 'Bxl_1961_Tome_RptAn_Part_8.txt',\n",
       " 'Lkn_1882_Tome_RptAn_Part_7.txt',\n",
       " 'Lkn_1874_Tome_RptAn_Part_3.txt',\n",
       " 'Bxl_1965_Tome_RptAn_Part_2.txt',\n",
       " 'Bxl_1962_Tome_RptAn_Part_2.txt',\n",
       " 'Bxl_1975_Tome_RptAn_Part_2.txt',\n",
       " 'Lkn_1894_Tome_RptAn_Part_3.txt',\n",
       " 'Bxl_1963_Tome_RptAn_Part_8.txt',\n",
       " 'Bxl_1975_Tome_RptAn_Part_3.txt',\n",
       " 'Bxl_1964_Tome_RptAn_Part_2.txt',\n",
       " 'Bxl_1959_Tome_RptAn_Part_3.txt',\n",
       " 'Lkn_1901_Tome_RptAn_Part_4.txt',\n",
       " 'Lkn_1880_Tome_RptAn_Part_8.txt',\n",
       " 'Bxl_1963_Tome_RptAn_Part_1.txt',\n",
       " 'Bxl_1978_Tome_RptAn_Part_3.txt',\n",
       " 'Lkn_1901_Tome_RptAn_Part_7.txt',\n",
       " 'Lkn_1874_Tome_RptAn_Part_8.txt',\n",
       " 'Bxl_1963_Tome_RptAn_Part_7.txt',\n",
       " 'Lkn_1882_Tome_RptAn_Part_8.txt',\n",
       " 'Bxl_1972_Tome_RptAn_Part_2.txt',\n",
       " 'Bxl_1958_Tome_RptAn_Part_8.txt',\n",
       " 'Bxl_1966_Tome_RptAn_Part_4.txt',\n",
       " 'Bxl_1960_Tome_RptAn_Part_3.txt',\n",
       " 'Bxl_1978_Tome_RptAn_Part_2.txt',\n",
       " 'Bxl_1972_Tome_RptAn_Part_3.txt',\n",
       " 'Bxl_1970_Tome_RptAn_Part_3.txt',\n",
       " 'Lkn_1880_Tome_RptAn_Part_2.txt',\n",
       " 'Bxl_1960_Tome_RptAn_Part_7.txt',\n",
       " 'Bxl_1976_Tome_RptAn_Part_1.txt',\n",
       " 'Lkn_1901_Tome_RptAn_Part_9.txt',\n",
       " 'Bxl_1960_Tome_RptAn_Part_8.txt',\n",
       " 'Lkn_1885_Tome_RptAn_Part_3.txt',\n",
       " 'Bxl_1966_Tome_RptAn_Part_1.txt',\n",
       " 'Bxl_1977_Tome_RptAn_Part_3.txt',\n",
       " 'Bxl_1969_Tome_RptAn_Part_4.txt',\n",
       " 'Bxl_1965_Tome_RptAn_Part_3.txt',\n",
       " 'Bxl_1969_Tome_RptAn_Part_7.txt',\n",
       " 'Lkn_1890_Tome_RptAn_Part_2.txt',\n",
       " 'Lkn_1880_Tome_RptAn_Part_4.txt',\n",
       " 'Lkn_1899_Tome_RptAn_Part_4.txt',\n",
       " 'Lkn_1874_Tome_RptAn_Part_4.txt',\n",
       " 'Bxl_1965_Tome_RptAn_Part_4.txt',\n",
       " 'Bxl_1962_Tome_RptAn_Part_3.txt',\n",
       " 'Bxl_1959_Tome_RptAn_Part_8.txt',\n",
       " 'Bxl_1976_Tome_RptAn_Part_2.txt',\n",
       " 'Bxl_1971_Tome_RptAn_Part_4.txt',\n",
       " 'Bxl_1966_Tome_RptAn_Part_2.txt',\n",
       " 'Bxl_1958_Tome_RptAn_Part_3.txt',\n",
       " 'Bxl_1977_Tome_RptAn_Part_4.txt',\n",
       " 'Lkn_1882_Tome_RptAn_Part_2.txt',\n",
       " 'Bxl_1969_Tome_RptAn_Part_2.txt',\n",
       " 'Bxl_1970_Tome_RptAn_Part_7.txt',\n",
       " 'Bxl_1971_Tome_RptAn_Part_1.txt',\n",
       " 'Bxl_1976_Tome_RptAn_Part_4.txt',\n",
       " 'Lkn_1883_Tome_RptAn_Part_3.txt',\n",
       " 'Bxl_1963_Tome_RptAn_Part_4.txt',\n",
       " 'Bxl_1970_Tome_RptAn_Part_4.txt',\n",
       " 'Lkn_1885_Tome_RptAn_Part_4.txt',\n",
       " 'Bxl_1972_Tome_RptAn_Part_7.txt',\n",
       " 'Bxl_1958_Tome_RptAn_Part_1.txt',\n",
       " 'Bxl_1965_Tome_RptAn_Part_7.txt',\n",
       " 'Lkn_1901_Tome_RptAn_Part_8.txt',\n",
       " 'Bxl_1975_Tome_RptAn_Part_1.txt',\n",
       " 'Bxl_1973_Tome_RptAn_Part_4.txt',\n",
       " 'Lkn_1874_Tome_RptAn_Part_2.txt',\n",
       " 'Lkn_1882_Tome_RptAn_Part_3.txt',\n",
       " 'Lkn_1874_Tome_RptAn_Part_7.txt',\n",
       " 'Lkn_1899_Tome_RptAn_Part_3.txt',\n",
       " 'Lkn_1882_Tome_RptAn_Part_4.txt',\n",
       " 'Bxl_1960_Tome_RptAn_Part_1.txt',\n",
       " 'Bxl_1959_Tome_RptAn_Part_7.txt',\n",
       " 'Bxl_1974_Tome_RptAn_Part_3.txt',\n",
       " 'Bxl_1978_Tome_RptAn_Part_1.txt',\n",
       " 'Lkn_1874_Tome_RptAn_Part_1.txt',\n",
       " 'Bxl_1959_Tome_RptAn_Part_1.txt',\n",
       " 'Lkn_1899_Tome_RptAn_Part_1.txt',\n",
       " 'Bxl_1958_Tome_RptAn_Part_2.txt',\n",
       " 'Bxl_1964_Tome_RptAn_Part_3.txt',\n",
       " 'Bxl_1973_Tome_RptAn_Part_2.txt',\n",
       " 'Bxl_1958_Tome_RptAn_Part_4.txt',\n",
       " 'Bxl_1962_Tome_RptAn_Part_7.txt',\n",
       " 'Bxl_1958_Tome_RptAn_Part_9.txt',\n",
       " 'Bxl_1977_Tome_RptAn_Part_2.txt',\n",
       " 'Bxl_1969_Tome_RptAn_Part_3.txt',\n",
       " 'Bxl_1962_Tome_RptAn_Part_1.txt',\n",
       " 'Lkn_1885_Tome_RptAn_Part_1.txt',\n",
       " 'Lkn_1901_Tome_RptAn_Part_1.txt',\n",
       " 'Bxl_1958_Tome_RptAn_Part_7.txt',\n",
       " 'Bxl_1971_Tome_RptAn_Part_7.txt',\n",
       " 'Bxl_1977_Tome_RptAn_Part_1.txt',\n",
       " 'Lkn_1890_Tome_RptAn_Part_3.txt',\n",
       " 'Bxl_1978_Tome_RptAn_Part_4.txt',\n",
       " 'Lkn_1883_Tome_RptAn_Part_4.txt',\n",
       " 'Bxl_1963_Tome_RptAn_Part_3.txt',\n",
       " 'Bxl_1966_Tome_RptAn_Part_3.txt',\n",
       " 'Bxl_1974_Tome_RptAn_Part_2.txt',\n",
       " 'Lkn_1894_Tome_RptAn_Part_4.txt',\n",
       " 'Lkn_1885_Tome_RptAn_Part_2.txt',\n",
       " 'Lkn_1880_Tome_RptAn_Part_3.txt',\n",
       " 'Lkn_1901_Tome_RptAn_Part_2.txt',\n",
       " 'Bxl_1973_Tome_RptAn_Part_1.txt',\n",
       " 'Lkn_1883_Tome_RptAn_Part_2.txt',\n",
       " 'Bxl_1961_Tome_RptAn_Part_7.txt',\n",
       " 'Lkn_1880_Tome_RptAn_Part_7.txt',\n",
       " 'Bxl_1970_Tome_RptAn_Part_2.txt',\n",
       " 'Bxl_1974_Tome_RptAn_Part_4.txt',\n",
       " 'Bxl_1964_Tome_RptAn_Part_4.txt',\n",
       " 'Bxl_1963_Tome_RptAn_Part_2.txt',\n",
       " 'Bxl_1960_Tome_RptAn_Part_9.txt',\n",
       " 'Lkn_1890_Tome_RptAn_Part_4.txt',\n",
       " 'Bxl_1974_Tome_RptAn_Part_1.txt',\n",
       " 'Bxl_1961_Tome_RptAn_Part_1.txt',\n",
       " 'Bxl_1975_Tome_RptAn_Part_4.txt',\n",
       " 'Bxl_1959_Tome_RptAn_Part_9.txt',\n",
       " 'Bxl_1964_Tome_RptAn_Part_1.txt',\n",
       " 'Bxl_1971_Tome_RptAn_Part_3.txt',\n",
       " 'Bxl_1960_Tome_RptAn_Part_4.txt',\n",
       " 'Lkn_1894_Tome_RptAn_Part_2.txt',\n",
       " 'Lkn_1880_Tome_RptAn_Part_1.txt',\n",
       " 'Bxl_1965_Tome_RptAn_Part_1.txt',\n",
       " 'Bxl_1971_Tome_RptAn_Part_2.txt',\n",
       " 'Lkn_1883_Tome_RptAn_Part_1.txt',\n",
       " 'Lkn_1890_Tome_RptAn_Part_1.txt',\n",
       " 'Bxl_1972_Tome_RptAn_Part_1.txt',\n",
       " 'Bxl_1960_Tome_RptAn_Part_2.txt',\n",
       " 'Bxl_1962_Tome_RptAn_Part_4.txt']"
      ]
     },
     "execution_count": 161,
     "metadata": {},
     "output_type": "execute_result"
    }
   ],
   "source": [
    "# Lister les fichiers RptAn\n",
    "bxl_files"
   ]
  },
  {
   "cell_type": "code",
   "execution_count": 162,
   "id": "c1c4f4b1-b72f-49a1-86d0-ed14df401eaa",
   "metadata": {},
   "outputs": [],
   "source": [
    "from collections import defaultdict\n",
    "count_decade = defaultdict(int)\n",
    "count_cities = defaultdict(int)\n",
    "count_tomes = defaultdict(int)\n",
    "covered_years = set()\n",
    "\n",
    "for f in files:\n",
    "    if \"_\" in f and f.endswith(tuple(ext)):\n",
    "        elems = f.split(\"_\")\n",
    "        city = elems[0]\n",
    "        year = elems[1]\n",
    "        tome = elems[3]\n",
    "        covered_years.add(year)\n",
    "        decade = year[:3] + \"0s\"\n",
    "        count_decade[decade] += 1\n",
    "        count_cities[city] += 1\n",
    "        count_tomes[tome] += 1"
   ]
  },
  {
   "cell_type": "code",
   "execution_count": 163,
   "id": "0073f3cc-61c7-43b1-97bb-21a2831a142a",
   "metadata": {},
   "outputs": [
    {
     "name": "stdout",
     "output_type": "stream",
     "text": [
      "Il y a 92 bulletins de Bruxelles and 46 de Laeken\n"
     ]
    }
   ],
   "source": [
    "print(f\"Il y a {count_cities['Bxl']} bulletins de Bruxelles and {count_cities['Lkn']} de Laeken\")"
   ]
  },
  {
   "cell_type": "code",
   "execution_count": 164,
   "id": "a60c3631-7f7a-4d70-abd7-29a03ec61233",
   "metadata": {},
   "outputs": [
    {
     "data": {
      "text/plain": [
       "['Bxl_1961_Tome_RptAn_Part_4.txt',\n",
       " 'Bxl_1976_Tome_RptAn_Part_3.txt',\n",
       " 'Bxl_1972_Tome_RptAn_Part_4.txt',\n",
       " 'Bxl_1970_Tome_RptAn_Part_1.txt',\n",
       " 'Bxl_1973_Tome_RptAn_Part_3.txt',\n",
       " 'Bxl_1969_Tome_RptAn_Part_1.txt',\n",
       " 'Bxl_1962_Tome_RptAn_Part_8.txt',\n",
       " 'Bxl_1961_Tome_RptAn_Part_8.txt',\n",
       " 'Bxl_1965_Tome_RptAn_Part_2.txt',\n",
       " 'Bxl_1962_Tome_RptAn_Part_2.txt',\n",
       " 'Bxl_1975_Tome_RptAn_Part_2.txt',\n",
       " 'Bxl_1963_Tome_RptAn_Part_8.txt',\n",
       " 'Bxl_1975_Tome_RptAn_Part_3.txt',\n",
       " 'Bxl_1964_Tome_RptAn_Part_2.txt',\n",
       " 'Bxl_1959_Tome_RptAn_Part_3.txt',\n",
       " 'Bxl_1963_Tome_RptAn_Part_1.txt',\n",
       " 'Bxl_1978_Tome_RptAn_Part_3.txt',\n",
       " 'Bxl_1963_Tome_RptAn_Part_7.txt',\n",
       " 'Bxl_1972_Tome_RptAn_Part_2.txt',\n",
       " 'Bxl_1958_Tome_RptAn_Part_8.txt',\n",
       " 'Bxl_1966_Tome_RptAn_Part_4.txt',\n",
       " 'Bxl_1960_Tome_RptAn_Part_3.txt',\n",
       " 'Bxl_1978_Tome_RptAn_Part_2.txt',\n",
       " 'Bxl_1972_Tome_RptAn_Part_3.txt',\n",
       " 'Bxl_1970_Tome_RptAn_Part_3.txt',\n",
       " 'Bxl_1960_Tome_RptAn_Part_7.txt',\n",
       " 'Bxl_1976_Tome_RptAn_Part_1.txt',\n",
       " 'Bxl_1960_Tome_RptAn_Part_8.txt',\n",
       " 'Bxl_1966_Tome_RptAn_Part_1.txt',\n",
       " 'Bxl_1977_Tome_RptAn_Part_3.txt',\n",
       " 'Bxl_1969_Tome_RptAn_Part_4.txt',\n",
       " 'Bxl_1965_Tome_RptAn_Part_3.txt',\n",
       " 'Bxl_1969_Tome_RptAn_Part_7.txt',\n",
       " 'Bxl_1965_Tome_RptAn_Part_4.txt',\n",
       " 'Bxl_1962_Tome_RptAn_Part_3.txt',\n",
       " 'Bxl_1959_Tome_RptAn_Part_8.txt',\n",
       " 'Bxl_1976_Tome_RptAn_Part_2.txt',\n",
       " 'Bxl_1971_Tome_RptAn_Part_4.txt',\n",
       " 'Bxl_1966_Tome_RptAn_Part_2.txt',\n",
       " 'Bxl_1958_Tome_RptAn_Part_3.txt',\n",
       " 'Bxl_1977_Tome_RptAn_Part_4.txt',\n",
       " 'Bxl_1969_Tome_RptAn_Part_2.txt',\n",
       " 'Bxl_1970_Tome_RptAn_Part_7.txt',\n",
       " 'Bxl_1971_Tome_RptAn_Part_1.txt',\n",
       " 'Bxl_1976_Tome_RptAn_Part_4.txt',\n",
       " 'Bxl_1963_Tome_RptAn_Part_4.txt',\n",
       " 'Bxl_1970_Tome_RptAn_Part_4.txt',\n",
       " 'Bxl_1972_Tome_RptAn_Part_7.txt',\n",
       " 'Bxl_1958_Tome_RptAn_Part_1.txt',\n",
       " 'Bxl_1965_Tome_RptAn_Part_7.txt',\n",
       " 'Bxl_1975_Tome_RptAn_Part_1.txt',\n",
       " 'Bxl_1973_Tome_RptAn_Part_4.txt',\n",
       " 'Bxl_1960_Tome_RptAn_Part_1.txt',\n",
       " 'Bxl_1959_Tome_RptAn_Part_7.txt',\n",
       " 'Bxl_1974_Tome_RptAn_Part_3.txt',\n",
       " 'Bxl_1978_Tome_RptAn_Part_1.txt',\n",
       " 'Bxl_1959_Tome_RptAn_Part_1.txt',\n",
       " 'Bxl_1958_Tome_RptAn_Part_2.txt',\n",
       " 'Bxl_1964_Tome_RptAn_Part_3.txt',\n",
       " 'Bxl_1973_Tome_RptAn_Part_2.txt',\n",
       " 'Bxl_1958_Tome_RptAn_Part_4.txt',\n",
       " 'Bxl_1962_Tome_RptAn_Part_7.txt',\n",
       " 'Bxl_1958_Tome_RptAn_Part_9.txt',\n",
       " 'Bxl_1977_Tome_RptAn_Part_2.txt',\n",
       " 'Bxl_1969_Tome_RptAn_Part_3.txt',\n",
       " 'Bxl_1962_Tome_RptAn_Part_1.txt',\n",
       " 'Bxl_1958_Tome_RptAn_Part_7.txt',\n",
       " 'Bxl_1971_Tome_RptAn_Part_7.txt',\n",
       " 'Bxl_1977_Tome_RptAn_Part_1.txt',\n",
       " 'Bxl_1978_Tome_RptAn_Part_4.txt',\n",
       " 'Bxl_1963_Tome_RptAn_Part_3.txt',\n",
       " 'Bxl_1966_Tome_RptAn_Part_3.txt',\n",
       " 'Bxl_1974_Tome_RptAn_Part_2.txt',\n",
       " 'Bxl_1973_Tome_RptAn_Part_1.txt',\n",
       " 'Bxl_1961_Tome_RptAn_Part_7.txt',\n",
       " 'Bxl_1970_Tome_RptAn_Part_2.txt',\n",
       " 'Bxl_1974_Tome_RptAn_Part_4.txt',\n",
       " 'Bxl_1964_Tome_RptAn_Part_4.txt',\n",
       " 'Bxl_1963_Tome_RptAn_Part_2.txt',\n",
       " 'Bxl_1960_Tome_RptAn_Part_9.txt',\n",
       " 'Bxl_1974_Tome_RptAn_Part_1.txt',\n",
       " 'Bxl_1961_Tome_RptAn_Part_1.txt',\n",
       " 'Bxl_1975_Tome_RptAn_Part_4.txt',\n",
       " 'Bxl_1959_Tome_RptAn_Part_9.txt',\n",
       " 'Bxl_1964_Tome_RptAn_Part_1.txt',\n",
       " 'Bxl_1971_Tome_RptAn_Part_3.txt',\n",
       " 'Bxl_1960_Tome_RptAn_Part_4.txt',\n",
       " 'Bxl_1965_Tome_RptAn_Part_1.txt',\n",
       " 'Bxl_1971_Tome_RptAn_Part_2.txt',\n",
       " 'Bxl_1972_Tome_RptAn_Part_1.txt',\n",
       " 'Bxl_1960_Tome_RptAn_Part_2.txt',\n",
       " 'Bxl_1962_Tome_RptAn_Part_4.txt']"
      ]
     },
     "execution_count": 164,
     "metadata": {},
     "output_type": "execute_result"
    }
   ],
   "source": [
    "# Lister les fichiers de bulletins qui correspondent à Bruxelles\n",
    "data_path = '../data'\n",
    "txt_path = '../data/txt'\n",
    "txts = [f for f in os.listdir(txt_path) if os.path.isfile(os.path.join(txt_path, f)) if f.endswith(tuple(ext)) if f.startswith('Bxl')]\n",
    "txts"
   ]
  },
  {
   "cell_type": "code",
   "execution_count": 165,
   "id": "cf75b1fe-31e8-4c59-8700-fb86b3fc7455",
   "metadata": {},
   "outputs": [],
   "source": [
    "# Stocker le contenu de ces fichiers dans une liste\n",
    "content_list = []\n",
    "for txt in txts:\n",
    "    with open(os.path.join(txt_path, txt), 'r') as f:\n",
    "        content_list.append(f.read())"
   ]
  },
  {
   "cell_type": "code",
   "execution_count": 166,
   "id": "1cc7d61e-02c8-47a4-8b80-2d20e83826b0",
   "metadata": {},
   "outputs": [
    {
     "data": {
      "text/plain": [
       "92"
      ]
     },
     "execution_count": 166,
     "metadata": {},
     "output_type": "execute_result"
    }
   ],
   "source": [
    "# Compter le nombre d'éléments (=fichiers) dans la liste\n",
    "len(content_list)"
   ]
  },
  {
   "cell_type": "code",
   "execution_count": 171,
   "id": "2381f1e7-7713-4054-ba15-ac42d3c676a2",
   "metadata": {},
   "outputs": [],
   "source": [
    "# Ecrire tout le contenu dans un fichier temporaire\n",
    "temp_path = '../data/tmp_tp4'\n",
    "if not os.path.exists(temp_path):\n",
    "    os.mkdir(temp_path)\n",
    "with open(os.path.join(temp_path, f'{ext}.txt'), 'w') as f:\n",
    "    f.write(' '.join(content_list))"
   ]
  },
  {
   "cell_type": "code",
   "execution_count": 183,
   "id": "8289ae31-dea7-4a1a-9841-9357a80fdd4e",
   "metadata": {},
   "outputs": [],
   "source": [
    "# Imprimer le contenu du fichier et constater les \"déchets\"\n",
    "with open(os.path.join(temp_path, f'{ext}.txt'), 'r') as f:\n",
    "    before = f.read()"
   ]
  },
  {
   "cell_type": "code",
   "execution_count": 1,
   "id": "60608f5d-7c56-4214-9ffc-3e61f5ba287f",
   "metadata": {
    "tags": []
   },
   "outputs": [
    {
     "name": "stderr",
     "output_type": "stream",
     "text": [
      "[nltk_data] Downloading package stopwords to /root/nltk_data...\n",
      "[nltk_data]   Unzipping corpora/stopwords.zip.\n"
     ]
    }
   ],
   "source": [
    "import nltk\n",
    "nltk.download('stopwords')\n",
    "from nltk.corpus import stopwords"
   ]
  },
  {
   "cell_type": "markdown",
   "id": "fe83af04-abd6-46fb-ae2a-de99c34d7f0f",
   "metadata": {},
   "source": [
    "## Créer une une liste de stopwords"
   ]
  },
  {
   "cell_type": "code",
   "execution_count": 9,
   "id": "0454c08f-2695-433f-9aae-d7252a9349f0",
   "metadata": {
    "tags": []
   },
   "outputs": [],
   "source": [
    "sw = stopwords.words(\"french\")\n",
    "sw += [\"les\", \"plus\", \"cette\", \"fait\", \"faire\", \"être\", \"deux\", \"comme\", \"dont\", \"tout\", \n",
    "       \"ils\", \"bien\", \"sans\", \"peut\", \"tous\", \"après\", \"ainsi\", \"donc\", \"cet\", \"sous\",\n",
    "       \"celle\", \"entre\", \"encore\", \"toutes\", \"pendant\", \"moins\", \"dire\", \"cela\", \"non\",\n",
    "       \"faut\", \"trois\", \"aussi\", \"dit\", \"avoir\", \"doit\", \"contre\", \"depuis\", \"autres\",\n",
    "       \"van\", \"het\", \"autre\", \"jusqu\", \"Bruxelles\", \"bruxelles\", \"brussel\", \"Brussel\",\n",
    "      \"rue\", \"Rue\", \"ville\", \"voor\", \"door\", \"een\", \"total\"]\n",
    "sw = set(sw)"
   ]
  },
  {
   "cell_type": "code",
   "execution_count": 10,
   "id": "31a15cc8-98c8-4ec3-8a85-2aec2ec6aa22",
   "metadata": {},
   "outputs": [
    {
     "name": "stdout",
     "output_type": "stream",
     "text": [
      "208 stopwords:\n",
      " ['Brussel', 'Bruxelles', 'Rue', 'ai', 'aie', 'aient', 'aies', 'ainsi', 'ait', 'après', 'as', 'au', 'aura', 'aurai', 'auraient', 'aurais', 'aurait', 'auras', 'aurez', 'auriez', 'aurions', 'aurons', 'auront', 'aussi', 'autre', 'autres', 'aux', 'avaient', 'avais', 'avait', 'avec', 'avez', 'aviez', 'avions', 'avoir', 'avons', 'ayant', 'ayante', 'ayantes', 'ayants', 'ayez', 'ayons', 'bien', 'brussel', 'bruxelles', 'c', 'ce', 'cela', 'celle', 'ces', 'cet', 'cette', 'comme', 'contre', 'd', 'dans', 'de', 'depuis', 'des', 'deux', 'dire', 'dit', 'doit', 'donc', 'dont', 'door', 'du', 'een', 'elle', 'en', 'encore', 'entre', 'es', 'est', 'et', 'eu', 'eue', 'eues', 'eurent', 'eus', 'eusse', 'eussent', 'eusses', 'eussiez', 'eussions', 'eut', 'eux', 'eûmes', 'eût', 'eûtes', 'faire', 'fait', 'faut', 'furent', 'fus', 'fusse', 'fussent', 'fusses', 'fussiez', 'fussions', 'fut', 'fûmes', 'fût', 'fûtes', 'het', 'il', 'ils', 'j', 'je', 'jusqu', 'l', 'la', 'le', 'les', 'leur', 'lui', 'm', 'ma', 'mais', 'me', 'mes', 'moi', 'moins', 'mon', 'même', 'n', 'ne', 'non', 'nos', 'notre', 'nous', 'on', 'ont', 'ou', 'par', 'pas', 'pendant', 'peut', 'plus', 'pour', 'qu', 'que', 'qui', 'rue', 's', 'sa', 'sans', 'se', 'sera', 'serai', 'seraient', 'serais', 'serait', 'seras', 'serez', 'seriez', 'serions', 'serons', 'seront', 'ses', 'soient', 'sois', 'soit', 'sommes', 'son', 'sont', 'sous', 'soyez', 'soyons', 'suis', 'sur', 't', 'ta', 'te', 'tes', 'toi', 'ton', 'total', 'tous', 'tout', 'toutes', 'trois', 'tu', 'un', 'une', 'van', 'ville', 'voor', 'vos', 'votre', 'vous', 'y', 'à', 'étaient', 'étais', 'était', 'étant', 'étante', 'étantes', 'étants', 'étiez', 'étions', 'été', 'étée', 'étées', 'étés', 'êtes', 'être']\n"
     ]
    }
   ],
   "source": [
    "print(f\"{len(sw)} stopwords:\\n {sorted(sw)}\")"
   ]
  },
  {
   "cell_type": "markdown",
   "id": "d180ea83-7bbc-4306-8d5a-3c61f9e514e4",
   "metadata": {},
   "source": [
    "## Tokeniser"
   ]
  },
  {
   "cell_type": "code",
   "execution_count": 11,
   "id": "13ba465e-c775-4bc2-b65a-49a653eaaee8",
   "metadata": {
    "tags": []
   },
   "outputs": [],
   "source": [
    "# Récupération du contenu du fichier\n",
    "path = \"../data/tmp_tp4/RptAn_Bxl.txt\"\n",
    "limit = 10**8\n",
    "\n",
    "with open(path) as f:\n",
    "    text = f.read()[:limit]"
   ]
  },
  {
   "cell_type": "code",
   "execution_count": 12,
   "id": "1d31fd60-17bd-4951-bc50-e28deb24c8d1",
   "metadata": {},
   "outputs": [
    {
     "name": "stdout",
     "output_type": "stream",
     "text": [
      "2089587 words found\n"
     ]
    }
   ],
   "source": [
    "# Tokenization\n",
    "words = nltk.wordpunct_tokenize(text)\n",
    "print(f\"{len(words)} words found\")"
   ]
  },
  {
   "cell_type": "code",
   "execution_count": 13,
   "id": "8b8222e4-6cae-4b94-b93b-eec8915aa494",
   "metadata": {},
   "outputs": [
    {
     "name": "stdout",
     "output_type": "stream",
     "text": [
      "549541 words kept (45754 different word forms)\n"
     ]
    }
   ],
   "source": [
    "# Eliminer les stopwords et les termes non alphabétiques\n",
    "kept = [w.lower() for w in words if len(w) > 2 and w.isalpha() and w.lower() not in sw]\n",
    "voc = set(kept)\n",
    "print(f\"{len(kept)} words kept ({len(voc)} different word forms)\")"
   ]
  },
  {
   "cell_type": "code",
   "execution_count": 15,
   "id": "3797ae17-532c-4793-bd10-a83b3988696b",
   "metadata": {},
   "outputs": [
    {
     "data": {
      "text/plain": [
       "[('service', 2227),\n",
       " ('travaux', 2162),\n",
       " ('nombre', 1817),\n",
       " ('cours', 1719),\n",
       " ('aan', 1642),\n",
       " ('tôt', 1634),\n",
       " ('district', 1541),\n",
       " ('der', 1539),\n",
       " ('enfants', 1534),\n",
       " ('ecole', 1480),\n",
       " ('werden', 1458),\n",
       " ('don', 1411),\n",
       " ('année', 1406),\n",
       " ('met', 1367),\n",
       " ('personnel', 1290),\n",
       " ('inv', 1284),\n",
       " ('publique', 1209),\n",
       " ('divers', 1176),\n",
       " ('francs', 1151),\n",
       " ('population', 1096)]"
      ]
     },
     "execution_count": 15,
     "metadata": {},
     "output_type": "execute_result"
    }
   ],
   "source": [
    "fdist = nltk.FreqDist(kept)\n",
    "fdist.most_common(20)"
   ]
  },
  {
   "cell_type": "markdown",
   "id": "458cc199-7bdc-4ed9-a4ae-5754a90eb965",
   "metadata": {},
   "source": [
    "## La thématique choisi se base sur les mots fréquants : `travaux` et `ecole` : Les travaux dans les écoles à Bruxelles de 1847 à 1901"
   ]
  },
  {
   "cell_type": "code",
   "execution_count": null,
   "id": "7c9748ef-dd75-4526-8f0b-547e37e97cb7",
   "metadata": {},
   "outputs": [],
   "source": []
  }
 ],
 "metadata": {
  "kernelspec": {
   "display_name": "Python 3 (ipykernel)",
   "language": "python",
   "name": "python3"
  },
  "language_info": {
   "codemirror_mode": {
    "name": "ipython",
    "version": 3
   },
   "file_extension": ".py",
   "mimetype": "text/x-python",
   "name": "python",
   "nbconvert_exporter": "python",
   "pygments_lexer": "ipython3",
   "version": "3.9.7"
  }
 },
 "nbformat": 4,
 "nbformat_minor": 5
}
